{
  "nbformat": 4,
  "nbformat_minor": 0,
  "metadata": {
    "colab": {
      "name": "covid19.ipynb",
      "provenance": [],
      "collapsed_sections": []
    },
    "kernelspec": {
      "name": "python3",
      "display_name": "Python 3"
    }
  },
  "cells": [
    {
      "cell_type": "code",
      "metadata": {
        "id": "VtOPo43dPQrB",
        "colab_type": "code",
        "colab": {
          "base_uri": "https://localhost:8080/",
          "height": 84
        },
        "outputId": "466fc560-8240-403f-bb9b-23bae55ac660"
      },
      "source": [
        "!gdown https://drive.google.com/uc?id=1coM7x3378f-Ou2l6Pg2wldaOI7Dntu1a"
      ],
      "execution_count": null,
      "outputs": [
        {
          "output_type": "stream",
          "text": [
            "Downloading...\n",
            "From: https://drive.google.com/uc?id=1coM7x3378f-Ou2l6Pg2wldaOI7Dntu1a\n",
            "To: /content/Covid_Data_GradientCrescent.zip\n",
            "154MB [00:01, 108MB/s] \n"
          ],
          "name": "stdout"
        }
      ]
    },
    {
      "cell_type": "code",
      "metadata": {
        "id": "hVUPr8QLm6Y-",
        "colab_type": "code",
        "colab": {
          "base_uri": "https://localhost:8080/",
          "height": 34
        },
        "outputId": "795f4b15-1946-46c2-93fb-f26e5ae93aa5"
      },
      "source": [
        "%tensorflow_version 1.x"
      ],
      "execution_count": null,
      "outputs": [
        {
          "output_type": "stream",
          "text": [
            "TensorFlow 1.x selected.\n"
          ],
          "name": "stdout"
        }
      ]
    },
    {
      "cell_type": "code",
      "metadata": {
        "id": "RfCU19xALtih",
        "colab_type": "code",
        "colab": {
          "base_uri": "https://localhost:8080/",
          "height": 34
        },
        "outputId": "bc077b2e-ae7a-406d-b905-fa633a5793f0"
      },
      "source": [
        "import tensorflow\n",
        "print(tensorflow.__version__)"
      ],
      "execution_count": null,
      "outputs": [
        {
          "output_type": "stream",
          "text": [
            "1.15.2\n"
          ],
          "name": "stdout"
        }
      ]
    },
    {
      "cell_type": "code",
      "metadata": {
        "id": "FusnXpNyS1_B",
        "colab_type": "code",
        "colab": {
          "base_uri": "https://localhost:8080/",
          "height": 34
        },
        "outputId": "08ef4ed1-2c01-422b-879a-26b62b2721e7"
      },
      "source": [
        "#Other data including normal, other viral infections and bacterial infections\n",
        "from google.colab import drive\n",
        "drive.mount('/content/drive')\n"
      ],
      "execution_count": null,
      "outputs": [
        {
          "output_type": "stream",
          "text": [
            "Mounted at /content/drive\n"
          ],
          "name": "stdout"
        }
      ]
    },
    {
      "cell_type": "code",
      "metadata": {
        "id": "rjXMBNrCSD6f",
        "colab_type": "code",
        "colab": {
          "base_uri": "https://localhost:8080/",
          "height": 153
        },
        "outputId": "e4f9646b-c93a-46f6-8bfe-b92f20dccef3"
      },
      "source": [
        "#covid-19 chest X-ray data\n",
        "!git clone https://github.com/ieee8023/covid-chestxray-dataset.git"
      ],
      "execution_count": null,
      "outputs": [
        {
          "output_type": "stream",
          "text": [
            "Cloning into 'covid-chestxray-dataset'...\n",
            "remote: Enumerating objects: 70, done.\u001b[K\n",
            "remote: Counting objects:   1% (1/70)\u001b[K\rremote: Counting objects:   2% (2/70)\u001b[K\rremote: Counting objects:   4% (3/70)\u001b[K\rremote: Counting objects:   5% (4/70)\u001b[K\rremote: Counting objects:   7% (5/70)\u001b[K\rremote: Counting objects:   8% (6/70)\u001b[K\rremote: Counting objects:  10% (7/70)\u001b[K\rremote: Counting objects:  11% (8/70)\u001b[K\rremote: Counting objects:  12% (9/70)\u001b[K\rremote: Counting objects:  14% (10/70)\u001b[K\rremote: Counting objects:  15% (11/70)\u001b[K\rremote: Counting objects:  17% (12/70)\u001b[K\rremote: Counting objects:  18% (13/70)\u001b[K\rremote: Counting objects:  20% (14/70)\u001b[K\rremote: Counting objects:  21% (15/70)\u001b[K\rremote: Counting objects:  22% (16/70)\u001b[K\rremote: Counting objects:  24% (17/70)\u001b[K\rremote: Counting objects:  25% (18/70)\u001b[K\rremote: Counting objects:  27% (19/70)\u001b[K\rremote: Counting objects:  28% (20/70)\u001b[K\rremote: Counting objects:  30% (21/70)\u001b[K\rremote: Counting objects:  31% (22/70)\u001b[K\rremote: Counting objects:  32% (23/70)\u001b[K\rremote: Counting objects:  34% (24/70)\u001b[K\rremote: Counting objects:  35% (25/70)\u001b[K\rremote: Counting objects:  37% (26/70)\u001b[K\rremote: Counting objects:  38% (27/70)\u001b[K\rremote: Counting objects:  40% (28/70)\u001b[K\rremote: Counting objects:  41% (29/70)\u001b[K\rremote: Counting objects:  42% (30/70)\u001b[K\rremote: Counting objects:  44% (31/70)\u001b[K\rremote: Counting objects:  45% (32/70)\u001b[K\rremote: Counting objects:  47% (33/70)\u001b[K\rremote: Counting objects:  48% (34/70)\u001b[K\rremote: Counting objects:  50% (35/70)\u001b[K\rremote: Counting objects:  51% (36/70)\u001b[K\rremote: Counting objects:  52% (37/70)\u001b[K\rremote: Counting objects:  54% (38/70)\u001b[K\rremote: Counting objects:  55% (39/70)\u001b[K\rremote: Counting objects:  57% (40/70)\u001b[K\rremote: Counting objects:  58% (41/70)\u001b[K\rremote: Counting objects:  60% (42/70)\u001b[K\rremote: Counting objects:  61% (43/70)\u001b[K\rremote: Counting objects:  62% (44/70)\u001b[K\rremote: Counting objects:  64% (45/70)\u001b[K\rremote: Counting objects:  65% (46/70)\u001b[K\rremote: Counting objects:  67% (47/70)\u001b[K\rremote: Counting objects:  68% (48/70)\u001b[K\rremote: Counting objects:  70% (49/70)\u001b[K\rremote: Counting objects:  71% (50/70)\u001b[K\rremote: Counting objects:  72% (51/70)\u001b[K\rremote: Counting objects:  74% (52/70)\u001b[K\rremote: Counting objects:  75% (53/70)\u001b[K\rremote: Counting objects:  77% (54/70)\u001b[K\rremote: Counting objects:  78% (55/70)\u001b[K\rremote: Counting objects:  80% (56/70)\u001b[K\rremote: Counting objects:  81% (57/70)\u001b[K\rremote: Counting objects:  82% (58/70)\u001b[K\rremote: Counting objects:  84% (59/70)\u001b[K\rremote: Counting objects:  85% (60/70)\u001b[K\rremote: Counting objects:  87% (61/70)\u001b[K\rremote: Counting objects:  88% (62/70)\u001b[K\rremote: Counting objects:  90% (63/70)\u001b[K\rremote: Counting objects:  91% (64/70)\u001b[K\rremote: Counting objects:  92% (65/70)\u001b[K\rremote: Counting objects:  94% (66/70)\u001b[K\rremote: Counting objects:  95% (67/70)\u001b[K\rremote: Counting objects:  97% (68/70)\u001b[K\rremote: Counting objects:  98% (69/70)\u001b[K\rremote: Counting objects: 100% (70/70)\u001b[K\rremote: Counting objects: 100% (70/70), done.\u001b[K\n",
            "remote: Compressing objects: 100% (59/59), done.\u001b[K\n",
            "remote: Total 3569 (delta 35), reused 28 (delta 11), pack-reused 3499\u001b[K\n",
            "Receiving objects: 100% (3569/3569), 710.16 MiB | 39.30 MiB/s, done.\n",
            "Resolving deltas: 100% (1426/1426), done.\n",
            "Checking out files: 100% (1105/1105), done.\n"
          ],
          "name": "stdout"
        }
      ]
    },
    {
      "cell_type": "code",
      "metadata": {
        "id": "2q1_klZpGjoE",
        "colab_type": "code",
        "colab": {}
      },
      "source": [
        "import os\n",
        "import glob\n",
        "import pandas as pd\n",
        "import csv\n",
        "import re\n",
        "import numpy as np\n",
        "df_covid=pd.read_csv('/content/covid-chestxray-dataset/metadata.csv')"
      ],
      "execution_count": null,
      "outputs": []
    },
    {
      "cell_type": "code",
      "metadata": {
        "id": "S7upg4J466bx",
        "colab_type": "code",
        "colab": {}
      },
      "source": [
        ""
      ],
      "execution_count": null,
      "outputs": []
    },
    {
      "cell_type": "code",
      "metadata": {
        "id": "WFfSVKIA6hhG",
        "colab_type": "code",
        "colab": {}
      },
      "source": [
        "covid_files_XRay=[]\n",
        "clinical_notes=[]\n",
        "for i in range(len(df_covid)):\n",
        "  if ('COVID-19' in df_covid['finding'].iloc[i]) and ('X-ray' in df_covid['modality'].iloc[i]):\n",
        "    covid_files_XRay.append(df_covid.iloc[i])\n",
        "    "
      ],
      "execution_count": null,
      "outputs": []
    },
    {
      "cell_type": "code",
      "metadata": {
        "id": "DigcyU5N9bRb",
        "colab_type": "code",
        "colab": {}
      },
      "source": [
        "df_covid['sex']"
      ],
      "execution_count": null,
      "outputs": []
    },
    {
      "cell_type": "code",
      "metadata": {
        "id": "sjJ4ppY76rnH",
        "colab_type": "code",
        "colab": {}
      },
      "source": [
        "F=[]\n",
        "M=[]\n",
        "sex=[]\n",
        "age=[]\n",
        "for i in range(len(df_covid)):\n",
        "  if ('COVID-19' in df_covid['finding'].iloc[i]):\n",
        "    sex.append(df_covid['sex'].iloc[i])\n",
        "    age.append(df_covid['age'].iloc[i])\n",
        "    \n"
      ],
      "execution_count": null,
      "outputs": []
    },
    {
      "cell_type": "code",
      "metadata": {
        "id": "Ef5nlHgmGZb_",
        "colab_type": "code",
        "colab": {}
      },
      "source": [
        "age=np.array(age)"
      ],
      "execution_count": null,
      "outputs": []
    },
    {
      "cell_type": "code",
      "metadata": {
        "id": "u-gvSIstHoy8",
        "colab_type": "code",
        "colab": {}
      },
      "source": [
        ""
      ],
      "execution_count": null,
      "outputs": []
    },
    {
      "cell_type": "code",
      "metadata": {
        "id": "gB8h1rKpE8Dr",
        "colab_type": "code",
        "colab": {
          "base_uri": "https://localhost:8080/",
          "height": 34
        },
        "outputId": "354ac6fe-2c7b-41d0-8e61-2b8ef9b78d6a"
      },
      "source": [
        "import numpy as np, scipy.stats as st\n",
        "import pandas as pd\n",
        "a= age[~pd.isnull(age)]\n",
        "st.t.interval(0.95, len(a)-1, loc=np.mean(a), scale=st.sem(a))"
      ],
      "execution_count": null,
      "outputs": [
        {
          "output_type": "execute_result",
          "data": {
            "text/plain": [
              "(55.09249345885294, 58.18955782319834)"
            ]
          },
          "metadata": {
            "tags": []
          },
          "execution_count": 51
        }
      ]
    },
    {
      "cell_type": "code",
      "metadata": {
        "id": "3fk7GV5n-qOs",
        "colab_type": "code",
        "colab": {
          "base_uri": "https://localhost:8080/",
          "height": 34
        },
        "outputId": "1104bbd5-0085-44f5-c941-7cf12c1601cd"
      },
      "source": [
        "import statsmodels.stats.api as sms\n",
        "\n",
        "sms.DescrStatsW(a).tconfint_mean()"
      ],
      "execution_count": null,
      "outputs": [
        {
          "output_type": "execute_result",
          "data": {
            "text/plain": [
              "(-2.50785196657475e+18, -1.8576586416163e+18)"
            ]
          },
          "metadata": {
            "tags": []
          },
          "execution_count": 42
        }
      ]
    },
    {
      "cell_type": "code",
      "metadata": {
        "id": "DLR5FrCDHD2h",
        "colab_type": "code",
        "colab": {
          "base_uri": "https://localhost:8080/",
          "height": 34
        },
        "outputId": "caa1f452-6fc7-4286-9165-7bf138891d35"
      },
      "source": [
        "np.mean(a)"
      ],
      "execution_count": null,
      "outputs": [
        {
          "output_type": "execute_result",
          "data": {
            "text/plain": [
              "56.64102564102564"
            ]
          },
          "metadata": {
            "tags": []
          },
          "execution_count": 53
        }
      ]
    },
    {
      "cell_type": "code",
      "metadata": {
        "id": "z9r70RwJ-EsE",
        "colab_type": "code",
        "colab": {
          "base_uri": "https://localhost:8080/",
          "height": 34
        },
        "outputId": "9e05cb3f-aa22-405e-d469-423e7ce97a7f"
      },
      "source": [
        "sex.count('M')"
      ],
      "execution_count": null,
      "outputs": [
        {
          "output_type": "execute_result",
          "data": {
            "text/plain": [
              "326"
            ]
          },
          "metadata": {
            "tags": []
          },
          "execution_count": 23
        }
      ]
    },
    {
      "cell_type": "code",
      "metadata": {
        "id": "5hFd_MlM-Yb6",
        "colab_type": "code",
        "colab": {
          "base_uri": "https://localhost:8080/",
          "height": 34
        },
        "outputId": "730bddac-1248-47a8-d116-ccd7c826165c"
      },
      "source": [
        "sex.count('F')"
      ],
      "execution_count": null,
      "outputs": [
        {
          "output_type": "execute_result",
          "data": {
            "text/plain": [
              "174"
            ]
          },
          "metadata": {
            "tags": []
          },
          "execution_count": 24
        }
      ]
    },
    {
      "cell_type": "code",
      "metadata": {
        "id": "qk6eKw4LpguI",
        "colab_type": "code",
        "colab": {}
      },
      "source": [
        "covid_files_XRay=[]\n",
        "clinical_notes=[]\n",
        "for i in range(len(df_covid)):\n",
        "  if ('COVID-19' in df_covid['finding'].iloc[i]) and ('X-ray' in df_covid['modality'].iloc[i]):\n",
        "    covid_files_XRay.append(df_covid['filename'].iloc[i])\n",
        "    clinical_notes.append(df_covid['clinical_notes'].iloc[i])\n",
        "    covidXRay_df=pd.DataFrame(({'covid_files':covid_files_XRay, 'clinical_notes':clinical_notes}))"
      ],
      "execution_count": null,
      "outputs": []
    },
    {
      "cell_type": "code",
      "metadata": {
        "id": "_x9xoJuH2Bxy",
        "colab_type": "code",
        "colab": {}
      },
      "source": [
        "df_covid"
      ],
      "execution_count": null,
      "outputs": []
    },
    {
      "cell_type": "code",
      "metadata": {
        "id": "WwcIZt-R2Z_r",
        "colab_type": "code",
        "colab": {}
      },
      "source": [
        "Augmented=glob.glob(\"/content/drive/My Drive/covid-19/Data/covi-augmented/*\")"
      ],
      "execution_count": null,
      "outputs": []
    },
    {
      "cell_type": "code",
      "metadata": {
        "id": "xGpNsPiW20y-",
        "colab_type": "code",
        "colab": {
          "base_uri": "https://localhost:8080/",
          "height": 34
        },
        "outputId": "a8090508-aacd-42dd-fd66-69098d06fb11"
      },
      "source": [
        "len(Augmented)"
      ],
      "execution_count": null,
      "outputs": [
        {
          "output_type": "execute_result",
          "data": {
            "text/plain": [
              "6839"
            ]
          },
          "metadata": {
            "tags": []
          },
          "execution_count": 65
        }
      ]
    },
    {
      "cell_type": "code",
      "metadata": {
        "id": "xBsB2KhJHBy3",
        "colab_type": "code",
        "colab": {}
      },
      "source": [
        "covid_files_XRay=[]\n",
        "clinical_notes=[]\n",
        "for i in range(len(df_covid)):\n",
        "  if ('COVID-19' in df_covid['finding'].iloc[i]) and ('X-ray' in df_covid['modality'].iloc[i]):\n",
        "    covid_files_XRay.append(df_covid['filename'].iloc[i])\n",
        "    clinical_notes.append(df_covid['clinical_notes'].iloc[i])\n",
        "covidXRay_df=pd.DataFrame(({'covid_files':covid_files_XRay, 'clinical_notes':clinical_notes}))"
      ],
      "execution_count": null,
      "outputs": []
    },
    {
      "cell_type": "code",
      "metadata": {
        "id": "uQgg0FUk9kq9",
        "colab_type": "code",
        "colab": {}
      },
      "source": [
        "covid_files_CT=[]\n",
        "clinical_notes_CT=[]\n",
        "for i in range(len(df_covid)):\n",
        "  if ('COVID-19' in df_covid['finding'].iloc[i]) and ('CT' in df_covid['modality'].iloc[i]):\n",
        "    covid_files_CT.append(df_covid['filename'].iloc[i])\n",
        "    clinical_notes_CT.append(df_covid['clinical_notes'].iloc[i])\n",
        "covidCT_df=pd.DataFrame(({'covid_files':covid_files_CT, 'clinical_notes':clinical_notes_CT}))"
      ],
      "execution_count": null,
      "outputs": []
    },
    {
      "cell_type": "code",
      "metadata": {
        "id": "0TPWAzbg22pT",
        "colab_type": "code",
        "colab": {
          "base_uri": "https://localhost:8080/",
          "height": 34
        },
        "outputId": "31bcc110-7b1c-4acd-c870-eaf13fa0e746"
      },
      "source": [
        "len(covid_files_CT)"
      ],
      "execution_count": null,
      "outputs": [
        {
          "output_type": "execute_result",
          "data": {
            "text/plain": [
              "80"
            ]
          },
          "metadata": {
            "tags": []
          },
          "execution_count": 10
        }
      ]
    },
    {
      "cell_type": "code",
      "metadata": {
        "id": "zk_MwdjlJk2m",
        "colab_type": "code",
        "colab": {}
      },
      "source": [
        "covidXRay_images=[]\n",
        "clinicalXRay_notes=[]\n",
        "for i in glob.glob('/content/covid-chestxray-dataset/images/*'):\n",
        "  for j in range(len(covidXRay_df)):\n",
        "    if os.path.basename(i)==covidXRay_df['covid_files'].iloc[j]:\n",
        "      covidXRay_images.append(i)\n",
        "      clinicalXRay_notes.append(covidXRay_df['clinical_notes'].iloc[j])\n",
        "  #if os.path.basename(i) in covid_df['covid_files']:\n",
        "    #covid_images.append(i)\n",
        "\n"
      ],
      "execution_count": null,
      "outputs": []
    },
    {
      "cell_type": "code",
      "metadata": {
        "id": "x5gJ3s4d-J1l",
        "colab_type": "code",
        "colab": {}
      },
      "source": [
        "covidCT_images=[]\n",
        "clinicalCT_notes=[]\n",
        "for i in glob.glob('/content/covid-chestxray-dataset/images/*'):\n",
        "  for j in range(len(covidCT_df)):\n",
        "    if os.path.basename(i)==covidCT_df['covid_files'].iloc[j]:\n",
        "      covidCT_images.append(i)\n",
        "      clinicalCT_notes.append(covidCT_df['clinical_notes'].iloc[j])\n",
        "  #if os.path.basename(i) in covid_df['covid_files']:\n",
        "    #covid_images.append(i)\n",
        "\n"
      ],
      "execution_count": null,
      "outputs": []
    },
    {
      "cell_type": "code",
      "metadata": {
        "id": "ubX9lb9-S7dS",
        "colab_type": "code",
        "colab": {}
      },
      "source": [
        "covid_dataframe=pd.DataFrame(({'covid_images':covidXRay_images, 'clinical_notes':clinicalXRay_notes}))\n",
        "covid_dataframe.to_csv('/content/drive/My Drive/covid-19/covidXRay_images_clinical_notes.csv')"
      ],
      "execution_count": null,
      "outputs": []
    },
    {
      "cell_type": "code",
      "metadata": {
        "id": "GBJawb_qT8C8",
        "colab_type": "code",
        "colab": {
          "base_uri": "https://localhost:8080/",
          "height": 34
        },
        "outputId": "9f2014c2-49cc-4d8e-a6fa-6c49bf299ad3"
      },
      "source": [
        "len(covidXRay_images)"
      ],
      "execution_count": null,
      "outputs": [
        {
          "output_type": "execute_result",
          "data": {
            "text/plain": [
              "475"
            ]
          },
          "metadata": {
            "tags": []
          },
          "execution_count": 21
        }
      ]
    },
    {
      "cell_type": "code",
      "metadata": {
        "id": "w1voL1Z_VrB1",
        "colab_type": "code",
        "colab": {
          "base_uri": "https://localhost:8080/",
          "height": 34
        },
        "outputId": "6f37c1e7-7948-455c-91cb-beb376019890"
      },
      "source": [
        "covid_dataframe['covid_images'][2]"
      ],
      "execution_count": null,
      "outputs": [
        {
          "output_type": "execute_result",
          "data": {
            "text/plain": [
              "'/content/covid-chestxray-dataset/images/covid-19-pneumonia-12.jpg'"
            ]
          },
          "metadata": {
            "tags": []
          },
          "execution_count": 12
        }
      ]
    },
    {
      "cell_type": "code",
      "metadata": {
        "id": "rhI3Nc8YREqZ",
        "colab_type": "code",
        "colab": {
          "base_uri": "https://localhost:8080/",
          "height": 34
        },
        "outputId": "aaac4362-d1ca-437a-a314-6f67ccb2f92b"
      },
      "source": [
        "glob.glob('/content/covid-chestxray-dataset/images/*')[0]"
      ],
      "execution_count": null,
      "outputs": [
        {
          "output_type": "execute_result",
          "data": {
            "text/plain": [
              "'/content/covid-chestxray-dataset/images/kjr-21-e24-g002-l-b.jpg'"
            ]
          },
          "metadata": {
            "tags": []
          },
          "execution_count": 57
        }
      ]
    },
    {
      "cell_type": "code",
      "metadata": {
        "id": "kCfsbklCLDFl",
        "colab_type": "code",
        "colab": {
          "base_uri": "https://localhost:8080/",
          "height": 34
        },
        "outputId": "7ab844d9-325b-4f80-8827-369fe150dda0"
      },
      "source": [
        "len(covid_images)"
      ],
      "execution_count": null,
      "outputs": [
        {
          "output_type": "execute_result",
          "data": {
            "text/plain": [
              "269"
            ]
          },
          "metadata": {
            "tags": []
          },
          "execution_count": 6
        }
      ]
    },
    {
      "cell_type": "code",
      "metadata": {
        "id": "03AArKSxUHNx",
        "colab_type": "code",
        "colab": {}
      },
      "source": [
        "import os\n",
        "import glob\n",
        "import pandas as pd\n",
        "import csv\n",
        "import re\n",
        "import numpy as np\n",
        "\n",
        "Covid=glob.glob('/content/covid-chestxray-dataset/images/*')"
      ],
      "execution_count": null,
      "outputs": []
    },
    {
      "cell_type": "code",
      "metadata": {
        "id": "z9_e93v_UVkb",
        "colab_type": "code",
        "colab": {
          "base_uri": "https://localhost:8080/",
          "height": 34
        },
        "outputId": "490de259-b01a-43ac-f2b0-2c126330ba16"
      },
      "source": [
        "len(Covid)"
      ],
      "execution_count": null,
      "outputs": [
        {
          "output_type": "execute_result",
          "data": {
            "text/plain": [
              "857"
            ]
          },
          "metadata": {
            "tags": []
          },
          "execution_count": 18
        }
      ]
    },
    {
      "cell_type": "code",
      "metadata": {
        "id": "ysoZDKNEUmtb",
        "colab_type": "code",
        "colab": {}
      },
      "source": [
        "!unzip '/content/drive/My Drive/covid-19/chest-xray-pneumonia.zip'"
      ],
      "execution_count": null,
      "outputs": []
    },
    {
      "cell_type": "code",
      "metadata": {
        "id": "drnoQglbPcg3",
        "colab_type": "code",
        "colab": {}
      },
      "source": [
        "!unzip Covid_Data_GradientCrescent.zip"
      ],
      "execution_count": null,
      "outputs": []
    },
    {
      "cell_type": "code",
      "metadata": {
        "id": "0_Q1vysLYUV5",
        "colab_type": "code",
        "colab": {}
      },
      "source": [
        "import os\n",
        "import glob\n",
        "import pandas as pd\n",
        "import csv\n",
        "import re\n",
        "import numpy as np\n",
        "\n",
        "\n",
        "#path_covid=\"/content/covid-chestxray-dataset/images/\"\n",
        "#file_covid=glob.glob(path_covid+\"*\")\n",
        "\n",
        "path_other1_1=\"/content/chest_xray/val/NORMAL/\"\n",
        "file_other1_1=glob.glob(path_other1_1+\"*\")\n",
        "\n",
        "path_other1_2=\"/content/chest_xray/val/PNEUMONIA/\"\n",
        "file_other1_2=glob.glob(path_other1_2+\"*\")\n",
        "\n",
        "path_other2_1=\"/content/chest_xray/train/NORMAL/\"\n",
        "file_other2_1=glob.glob(path_other2_1+\"*\")\n",
        "\n",
        "path_other2_2=\"/content/chest_xray/train/PNEUMONIA/\"\n",
        "file_other2_2=glob.glob(path_other2_2+\"*\")\n",
        "\n",
        "path_other3_1=\"/content/chest_xray/test/NORMAL/\"\n",
        "file_other3_1=glob.glob(path_other3_1+\"*\")\n",
        "\n",
        "path_other3_2=\"/content/chest_xray/test/PNEUMONIA/\"\n",
        "file_other3_2=glob.glob(path_other3_2+\"*\")\n"
      ],
      "execution_count": null,
      "outputs": []
    },
    {
      "cell_type": "code",
      "metadata": {
        "id": "9zJc1Tr6kXsa",
        "colab_type": "code",
        "colab": {}
      },
      "source": [
        "Normal=glob.glob(\"/content/drive/My Drive/covid-19/Data/Normal/*\")"
      ],
      "execution_count": null,
      "outputs": []
    },
    {
      "cell_type": "code",
      "metadata": {
        "id": "isUe_2qxlTji",
        "colab_type": "code",
        "colab": {}
      },
      "source": [
        "Other_Pneumonia=glob.glob(\"/content/drive/My Drive/covid-19/Data/Other_PNEUMONIA/*\")"
      ],
      "execution_count": null,
      "outputs": []
    },
    {
      "cell_type": "code",
      "metadata": {
        "id": "mGEIptlWl5-e",
        "colab_type": "code",
        "colab": {}
      },
      "source": [
        "Total=Normal+Other_Pneumonia"
      ],
      "execution_count": null,
      "outputs": []
    },
    {
      "cell_type": "code",
      "metadata": {
        "id": "lrOs5LU7mDeb",
        "colab_type": "code",
        "colab": {
          "base_uri": "https://localhost:8080/",
          "height": 34
        },
        "outputId": "a96faff9-48ba-4aa4-871a-397cfbccb037"
      },
      "source": [
        "len(Normal)"
      ],
      "execution_count": null,
      "outputs": [
        {
          "output_type": "execute_result",
          "data": {
            "text/plain": [
              "1583"
            ]
          },
          "metadata": {
            "tags": []
          },
          "execution_count": 5
        }
      ]
    },
    {
      "cell_type": "code",
      "metadata": {
        "id": "x8-5oJipvUSI",
        "colab_type": "code",
        "colab": {}
      },
      "source": [
        "import shutil\n",
        "for f in file_covid[:130]:\n",
        "  shutil.move(f, \"/content/New/train/covid\")"
      ],
      "execution_count": null,
      "outputs": []
    },
    {
      "cell_type": "code",
      "metadata": {
        "id": "yK043buCLsIM",
        "colab_type": "code",
        "colab": {}
      },
      "source": [
        "for f in file_covid[130:]:\n",
        "  shutil.move(f, \"/content/New/test/covid\")"
      ],
      "execution_count": null,
      "outputs": []
    },
    {
      "cell_type": "code",
      "metadata": {
        "id": "gomMhh1hMOsR",
        "colab_type": "code",
        "colab": {}
      },
      "source": [
        "for f in file_other2_2[130:162]:\n",
        "  shutil.move(f, \"/content/New/test/other\")"
      ],
      "execution_count": null,
      "outputs": []
    },
    {
      "cell_type": "code",
      "metadata": {
        "id": "nD5mbyDjM940",
        "colab_type": "code",
        "colab": {}
      },
      "source": [
        "for f in file_other2_2[:130]:\n",
        "  shutil.move(f, \"/content/New/train/other\")"
      ],
      "execution_count": null,
      "outputs": []
    },
    {
      "cell_type": "code",
      "metadata": {
        "id": "7hh5jeSs0v-u",
        "colab_type": "code",
        "colab": {
          "base_uri": "https://localhost:8080/",
          "height": 34
        },
        "outputId": "846170cf-8301-4a13-e6ab-fca3a6ca5720"
      },
      "source": [
        "!cp file_covid \"/content/New/train/covid/\""
      ],
      "execution_count": null,
      "outputs": [
        {
          "output_type": "stream",
          "text": [
            "cp: cannot stat 'file_covid': No such file or directory\n"
          ],
          "name": "stdout"
        }
      ]
    },
    {
      "cell_type": "code",
      "metadata": {
        "id": "H9BNExEia-iN",
        "colab_type": "code",
        "colab": {
          "base_uri": "https://localhost:8080/",
          "height": 34
        },
        "outputId": "5460e96b-c6bc-4b86-89fa-ba8ff1e23cc3"
      },
      "source": [
        "len(file_covid)"
      ],
      "execution_count": null,
      "outputs": [
        {
          "output_type": "execute_result",
          "data": {
            "text/plain": [
              "162"
            ]
          },
          "metadata": {
            "tags": []
          },
          "execution_count": 12
        }
      ]
    },
    {
      "cell_type": "code",
      "metadata": {
        "id": "2Y1pRDbbat70",
        "colab_type": "code",
        "colab": {}
      },
      "source": [
        "file_other=file_other1_1+file_other1_2+file_other2_1+file_other2_2+file_other3_1+file_other3_2"
      ],
      "execution_count": null,
      "outputs": []
    },
    {
      "cell_type": "code",
      "metadata": {
        "id": "ixUrSRvnbIHe",
        "colab_type": "code",
        "colab": {}
      },
      "source": [
        "file_other_pheumonia=file_other1_2+file_other2_2+file_other3_2"
      ],
      "execution_count": null,
      "outputs": []
    },
    {
      "cell_type": "code",
      "metadata": {
        "id": "iTJt3F4bbWVC",
        "colab_type": "code",
        "colab": {
          "base_uri": "https://localhost:8080/",
          "height": 34
        },
        "outputId": "4838927e-3bbd-48ae-e7e6-0d79162dd894"
      },
      "source": [
        "len(file_other)"
      ],
      "execution_count": null,
      "outputs": [
        {
          "output_type": "execute_result",
          "data": {
            "text/plain": [
              "0"
            ]
          },
          "metadata": {
            "tags": []
          },
          "execution_count": 9
        }
      ]
    },
    {
      "cell_type": "code",
      "metadata": {
        "id": "Ux-8JoqFoOsI",
        "colab_type": "code",
        "colab": {}
      },
      "source": [
        "train=file_covid[:130]+file_other_pheumonia[:130]"
      ],
      "execution_count": null,
      "outputs": []
    },
    {
      "cell_type": "code",
      "metadata": {
        "id": "UCXB9X4dof64",
        "colab_type": "code",
        "colab": {}
      },
      "source": [
        ""
      ],
      "execution_count": null,
      "outputs": []
    },
    {
      "cell_type": "code",
      "metadata": {
        "id": "Eq7fRWQ-Phis",
        "colab_type": "code",
        "colab": {}
      },
      "source": [
        "#Binary\n",
        "\n",
        "import numpy as np\n",
        "import tensorflow as tf\n",
        "DATASET_PATH = '/content/New/train'\n",
        "test_dir = '/content/New/test'\n",
        "IMAGE_SIZE = (150, 150)\n",
        "#NUM_CLASSES = len(data_list)\n",
        "NUM_CLASSES=2\n",
        "BATCH_SIZE = 10 # try reducing batch size or freeze more layers if your GPU runs out of memory\n",
        "NUM_EPOCHS = 20\n",
        "LEARNING_RATE =0.0005 "
      ],
      "execution_count": null,
      "outputs": []
    },
    {
      "cell_type": "code",
      "metadata": {
        "id": "KWrFSelAPxEa",
        "colab_type": "code",
        "colab": {
          "base_uri": "https://localhost:8080/",
          "height": 34
        },
        "outputId": "7a3e3470-70b7-4ef2-fc59-c4d2abb53983"
      },
      "source": [
        "from keras.preprocessing.image import ImageDataGenerator"
      ],
      "execution_count": null,
      "outputs": [
        {
          "output_type": "stream",
          "text": [
            "Using TensorFlow backend.\n"
          ],
          "name": "stderr"
        }
      ]
    },
    {
      "cell_type": "code",
      "metadata": {
        "id": "kd72wLAKP0MY",
        "colab_type": "code",
        "colab": {
          "base_uri": "https://localhost:8080/",
          "height": 105
        },
        "outputId": "8579dea6-8314-4b34-8efe-40dd2f7cb2bb"
      },
      "source": [
        "#Train datagen here is a preprocessor\n",
        "train_datagen = ImageDataGenerator(rescale=1./255,\n",
        " rotation_range=50,\n",
        " featurewise_center = True,\n",
        " featurewise_std_normalization = True,\n",
        " width_shift_range=0.2,\n",
        " height_shift_range=0.2,\n",
        " shear_range=0.25,\n",
        " zoom_range=0.1,\n",
        " zca_whitening = True,\n",
        " channel_shift_range = 20,\n",
        " horizontal_flip = True ,\n",
        " vertical_flip = True ,\n",
        " validation_split = 0.2,\n",
        " fill_mode='constant')\n",
        "train_batches = train_datagen.flow_from_directory(DATASET_PATH,\n",
        " target_size=IMAGE_SIZE,\n",
        " shuffle=True,\n",
        " batch_size=BATCH_SIZE,\n",
        " subset = \"training\",\n",
        " seed=42,\n",
        " class_mode=\"binary\",\n",
        " \n",
        " )\n",
        "valid_batches = train_datagen.flow_from_directory(DATASET_PATH,\n",
        " target_size=IMAGE_SIZE,\n",
        " shuffle=True,\n",
        " batch_size=BATCH_SIZE,\n",
        " subset = \"validation\",\n",
        " seed=42,\n",
        " class_mode=\"binary\",\n",
        " \n",
        " \n",
        " )"
      ],
      "execution_count": null,
      "outputs": [
        {
          "output_type": "stream",
          "text": [
            "/usr/local/lib/python3.6/dist-packages/keras_preprocessing/image/image_data_generator.py:341: UserWarning: This ImageDataGenerator specifies `zca_whitening` which overrides setting of`featurewise_std_normalization`.\n",
            "  warnings.warn('This ImageDataGenerator specifies '\n"
          ],
          "name": "stderr"
        },
        {
          "output_type": "stream",
          "text": [
            "Found 208 images belonging to 3 classes.\n",
            "Found 52 images belonging to 3 classes.\n"
          ],
          "name": "stdout"
        }
      ]
    },
    {
      "cell_type": "code",
      "metadata": {
        "id": "A3xc2RNB04_v",
        "colab_type": "code",
        "colab": {
          "base_uri": "https://localhost:8080/",
          "height": 139
        },
        "outputId": "b5d9757e-9bdf-4744-bb1c-fb24f5ec816e"
      },
      "source": [
        "!pip install keras --upgrade"
      ],
      "execution_count": null,
      "outputs": [
        {
          "output_type": "stream",
          "text": [
            "Requirement already up-to-date: keras in /usr/local/lib/python3.6/dist-packages (2.4.3)\n",
            "Requirement already satisfied, skipping upgrade: scipy>=0.14 in /usr/local/lib/python3.6/dist-packages (from keras) (1.4.1)\n",
            "Requirement already satisfied, skipping upgrade: h5py in /usr/local/lib/python3.6/dist-packages (from keras) (2.10.0)\n",
            "Requirement already satisfied, skipping upgrade: pyyaml in /usr/local/lib/python3.6/dist-packages (from keras) (3.13)\n",
            "Requirement already satisfied, skipping upgrade: numpy>=1.9.1 in /usr/local/lib/python3.6/dist-packages (from keras) (1.18.5)\n",
            "Requirement already satisfied, skipping upgrade: six in /usr/local/lib/python3.6/dist-packages (from h5py->keras) (1.15.0)\n"
          ],
          "name": "stdout"
        }
      ]
    },
    {
      "cell_type": "code",
      "metadata": {
        "id": "9unMi__KP5Fl",
        "colab_type": "code",
        "colab": {}
      },
      "source": [
        "import tensorflow as tf\n",
        "from keras import models\n",
        "from keras import layers\n",
        "from keras.applications import VGG16\n",
        "from keras import optimizers\n",
        "from keras.layers.core import Flatten, Dense, Dropout, Lambda\n",
        "conv_base = VGG16(weights='imagenet',\n",
        " include_top=False,\n",
        " input_shape=(150, 150, 3))\n",
        "conv_base.trainable = False\n",
        "model = models.Sequential()\n",
        "model.add(conv_base)\n",
        "model.add(layers.Flatten())\n",
        "model.add(layers.Dense(256, activation='relu'))\n",
        "model.add(layers.Dense(1, activation='sigmoid'))\n",
        "model.compile(loss='binary_crossentropy',\n",
        " \n",
        " optimizer=optimizers.Adam(lr=LEARNING_RATE),\n",
        " metrics=['acc'])"
      ],
      "execution_count": null,
      "outputs": []
    },
    {
      "cell_type": "code",
      "metadata": {
        "id": "VxA2_9wK1VVm",
        "colab_type": "code",
        "colab": {}
      },
      "source": [
        "print(model.summary())"
      ],
      "execution_count": null,
      "outputs": []
    },
    {
      "cell_type": "code",
      "metadata": {
        "id": "fEWKX-eBQGI_",
        "colab_type": "code",
        "colab": {}
      },
      "source": [
        "STEP_SIZE_TRAIN=train_batches.n//train_batches.batch_size\n",
        "STEP_SIZE_VALID=valid_batches.n//valid_batches.batch_size\n",
        "result=model.fit_generator(train_batches,\n",
        " steps_per_epoch =STEP_SIZE_TRAIN,\n",
        " validation_data = valid_batches,\n",
        " validation_steps = STEP_SIZE_VALID,\n",
        " epochs= NUM_EPOCHS,\n",
        " )"
      ],
      "execution_count": null,
      "outputs": []
    },
    {
      "cell_type": "code",
      "metadata": {
        "id": "EBv8j-QlQKkc",
        "colab_type": "code",
        "colab": {}
      },
      "source": [
        "import matplotlib.pyplot as plt\n",
        "def plot_acc_loss(result, epochs):\n",
        " acc = result.history['acc']\n",
        " loss = result.history['loss']\n",
        " val_acc = result.history['val_acc']\n",
        " val_loss = result.history['val_loss']\n",
        " plt.figure(figsize=(15, 5))\n",
        " plt.subplot(121)\n",
        " plt.plot(range(1,epochs), acc[1:], label='Train_acc')\n",
        " plt.plot(range(1,epochs), val_acc[1:], label='Test_acc')\n",
        " plt.title('Accuracy over' + str(epochs) + 'Epochs', size=15)\n",
        " plt.legend()\n",
        " plt.grid(True)\n",
        " plt.subplot(122)\n",
        " plt.plot(range(1,epochs), loss[1:], label='Train_loss')\n",
        " plt.plot(range(1,epochs), val_loss[1:], label='Test_loss')\n",
        " plt.title('Loss over' + str(epochs) + 'Epochs', size=15)\n",
        " plt.legend()\n",
        " plt.grid(True)\n",
        " plt.show()\n",
        " \n",
        "plot_acc_loss(result, 20)"
      ],
      "execution_count": null,
      "outputs": []
    },
    {
      "cell_type": "code",
      "metadata": {
        "id": "zXlY7BQpQOms",
        "colab_type": "code",
        "colab": {}
      },
      "source": [
        "test_datagen = ImageDataGenerator(rescale=1. / 255)\n",
        "\n",
        "eval_generator = test_datagen.flow_from_directory(\n",
        " test_dir,target_size=IMAGE_SIZE,\n",
        " batch_size=1,\n",
        " shuffle=False,\n",
        " seed=42,\n",
        " \n",
        " \n",
        " class_mode=\"categorical\")\n",
        "eval_generator.reset()\n",
        "x = model.evaluate_generator(eval_generator,\n",
        " steps = np.ceil(len(eval_generator) / BATCH_SIZE),\n",
        " use_multiprocessing = False,\n",
        " verbose = 1,\n",
        " workers=1\n",
        " )\n",
        "print('Test loss:' , x[0])\n",
        "print('Test accuracy:',x[1])"
      ],
      "execution_count": null,
      "outputs": []
    },
    {
      "cell_type": "code",
      "metadata": {
        "id": "n7vDcpKzHkoq",
        "colab_type": "code",
        "colab": {}
      },
      "source": [
        "#getting features from VGG16 for splitting the image\n",
        "\n",
        "\n",
        "import os\n",
        "from keras.applications.vgg16 import VGG16\n",
        "from keras.preprocessing import image\n",
        "from keras.applications.vgg16 import preprocess_input\n",
        "from keras.models import Model\n",
        "import numpy as np\n",
        "\n",
        "base_model = VGG16(weights='imagenet',include_top=False,\n",
        " input_shape=(150, 150, 3))\n",
        "model = Model(inputs=base_model.input, outputs=base_model.output)\n",
        "\n",
        "def get_features(img_path):\n",
        "    img = image.load_img(img_path, target_size=(150, 150, 3))\n",
        "    x = image.img_to_array(img)\n",
        "    x = np.expand_dims(x, axis=0)\n",
        "    x = preprocess_input(x)\n",
        "    flatten = model.predict(x)\n",
        "    return list(flatten[0])"
      ],
      "execution_count": null,
      "outputs": []
    },
    {
      "cell_type": "code",
      "metadata": {
        "id": "z1gcdLGsHyEm",
        "colab_type": "code",
        "colab": {
          "base_uri": "https://localhost:8080/",
          "height": 799
        },
        "outputId": "eea92d89-b4f8-4dc4-d6c3-43411b2ddbd5"
      },
      "source": [
        "from keras.preprocessing import image\n",
        "from keras.applications.vgg16 import VGG16\n",
        "from keras.applications.vgg16 import preprocess_input\n",
        "import numpy as np\n",
        "\n",
        "model = VGG16(weights='imagenet', include_top=False,input_shape=(160, 160, 3))\n",
        "model.summary()\n",
        "\n",
        "img_path =glob.glob(\"/content/drive/My Drive/covid-19/COVID-CT/COVID/*\")\n",
        "img = image.load_img(img_path[0], target_size=(128, 160))\n",
        "img_data = image.img_to_array(img)\n",
        "img_data = np.expand_dims(img_data, axis=0)\n",
        "img_data = preprocess_input(img_data)\n",
        "\n",
        "vgg16_feature = model.predict(img_data)\n",
        "\n",
        "#print (vgg16_feature.shape)"
      ],
      "execution_count": null,
      "outputs": [
        {
          "output_type": "stream",
          "text": [
            "Model: \"vgg16\"\n",
            "_________________________________________________________________\n",
            "Layer (type)                 Output Shape              Param #   \n",
            "=================================================================\n",
            "input_6 (InputLayer)         (None, 128, 160, 3)       0         \n",
            "_________________________________________________________________\n",
            "block1_conv1 (Conv2D)        (None, 128, 160, 64)      1792      \n",
            "_________________________________________________________________\n",
            "block1_conv2 (Conv2D)        (None, 128, 160, 64)      36928     \n",
            "_________________________________________________________________\n",
            "block1_pool (MaxPooling2D)   (None, 64, 80, 64)        0         \n",
            "_________________________________________________________________\n",
            "block2_conv1 (Conv2D)        (None, 64, 80, 128)       73856     \n",
            "_________________________________________________________________\n",
            "block2_conv2 (Conv2D)        (None, 64, 80, 128)       147584    \n",
            "_________________________________________________________________\n",
            "block2_pool (MaxPooling2D)   (None, 32, 40, 128)       0         \n",
            "_________________________________________________________________\n",
            "block3_conv1 (Conv2D)        (None, 32, 40, 256)       295168    \n",
            "_________________________________________________________________\n",
            "block3_conv2 (Conv2D)        (None, 32, 40, 256)       590080    \n",
            "_________________________________________________________________\n",
            "block3_conv3 (Conv2D)        (None, 32, 40, 256)       590080    \n",
            "_________________________________________________________________\n",
            "block3_pool (MaxPooling2D)   (None, 16, 20, 256)       0         \n",
            "_________________________________________________________________\n",
            "block4_conv1 (Conv2D)        (None, 16, 20, 512)       1180160   \n",
            "_________________________________________________________________\n",
            "block4_conv2 (Conv2D)        (None, 16, 20, 512)       2359808   \n",
            "_________________________________________________________________\n",
            "block4_conv3 (Conv2D)        (None, 16, 20, 512)       2359808   \n",
            "_________________________________________________________________\n",
            "block4_pool (MaxPooling2D)   (None, 8, 10, 512)        0         \n",
            "_________________________________________________________________\n",
            "block5_conv1 (Conv2D)        (None, 8, 10, 512)        2359808   \n",
            "_________________________________________________________________\n",
            "block5_conv2 (Conv2D)        (None, 8, 10, 512)        2359808   \n",
            "_________________________________________________________________\n",
            "block5_conv3 (Conv2D)        (None, 8, 10, 512)        2359808   \n",
            "_________________________________________________________________\n",
            "block5_pool (MaxPooling2D)   (None, 4, 5, 512)         0         \n",
            "=================================================================\n",
            "Total params: 14,714,688\n",
            "Trainable params: 14,714,688\n",
            "Non-trainable params: 0\n",
            "_________________________________________________________________\n"
          ],
          "name": "stdout"
        }
      ]
    },
    {
      "cell_type": "code",
      "metadata": {
        "id": "TJ5XEPot8Wm_",
        "colab_type": "code",
        "colab": {
          "base_uri": "https://localhost:8080/",
          "height": 34
        },
        "outputId": "6afe4bd6-059e-42ca-a7aa-6453fe10f0c9"
      },
      "source": [
        "vgg16_feature.shape"
      ],
      "execution_count": null,
      "outputs": [
        {
          "output_type": "execute_result",
          "data": {
            "text/plain": [
              "(1, 4, 5, 512)"
            ]
          },
          "metadata": {
            "tags": []
          },
          "execution_count": 38
        }
      ]
    },
    {
      "cell_type": "code",
      "metadata": {
        "id": "D3eZbBg9Ot-k",
        "colab_type": "code",
        "colab": {}
      },
      "source": [
        "filenames=glob.glob(\"/content/drive/My Drive/covid-19/Data/covid/*\")"
      ],
      "execution_count": null,
      "outputs": []
    },
    {
      "cell_type": "code",
      "metadata": {
        "id": "K7-qMuemOvh-",
        "colab_type": "code",
        "colab": {
          "base_uri": "https://localhost:8080/",
          "height": 34
        },
        "outputId": "85495b44-e554-4306-9d36-be2f9aed3c6d"
      },
      "source": [
        "len(filenames)"
      ],
      "execution_count": null,
      "outputs": [
        {
          "output_type": "execute_result",
          "data": {
            "text/plain": [
              "6839"
            ]
          },
          "metadata": {
            "tags": []
          },
          "execution_count": 33
        }
      ]
    },
    {
      "cell_type": "code",
      "metadata": {
        "id": "eM_GsVnnOzuY",
        "colab_type": "code",
        "colab": {}
      },
      "source": [
        "keyword='aug'\n",
        "i=0\n",
        "for f in filenames:\n",
        "  i=i+1\n",
        "  if keyword not in f:\n",
        "        print(f)\n",
        "        print(i)\n",
        "        "
      ],
      "execution_count": null,
      "outputs": []
    },
    {
      "cell_type": "code",
      "metadata": {
        "id": "yE2Ghbu5gml0",
        "colab_type": "code",
        "colab": {}
      },
      "source": [
        "i=0\n",
        "for f in filenames:\n",
        "  if i<60:\n",
        "    print(f)\n",
        "    i=i+1"
      ],
      "execution_count": null,
      "outputs": []
    },
    {
      "cell_type": "code",
      "metadata": {
        "id": "cB216mqZjARG",
        "colab_type": "code",
        "colab": {}
      },
      "source": [
        "filenames=glob.glob(\"/content/drive/My Drive/covid-19/Data/covid/*\")"
      ],
      "execution_count": null,
      "outputs": []
    },
    {
      "cell_type": "code",
      "metadata": {
        "id": "jIIFEu-9U1Ix",
        "colab_type": "code",
        "colab": {}
      },
      "source": [
        "os.remove('/content/drive/My Drive/covid-19/vgg16_feature_list_np_COVID_269.npz')"
      ],
      "execution_count": null,
      "outputs": []
    },
    {
      "cell_type": "code",
      "metadata": {
        "id": "E1Ccm16IBgOW",
        "colab_type": "code",
        "colab": {
          "base_uri": "https://localhost:8080/",
          "height": 34
        },
        "outputId": "9c898422-02a3-46bf-8ac4-7eef24d0a75a"
      },
      "source": [
        "len(covidCT_images)"
      ],
      "execution_count": null,
      "outputs": [
        {
          "output_type": "execute_result",
          "data": {
            "text/plain": [
              "59"
            ]
          },
          "metadata": {
            "tags": []
          },
          "execution_count": 26
        }
      ]
    },
    {
      "cell_type": "code",
      "metadata": {
        "id": "6oavLfcY4-ht",
        "colab_type": "code",
        "colab": {
          "base_uri": "https://localhost:8080/",
          "height": 799
        },
        "outputId": "c9d81c70-14ec-4e27-9a23-57b9be1e4a24"
      },
      "source": [
        "import os\n",
        "import sys\n",
        "import pickle\n",
        "from glob import iglob\n",
        "import glob\n",
        "import re\n",
        "from keras.preprocessing import image\n",
        "from keras.applications.vgg16 import VGG16\n",
        "from keras.applications.vgg16 import preprocess_input\n",
        "import numpy as np\n",
        "\n",
        "model = VGG16(weights='imagenet', include_top=False,input_shape=(160,160, 3))\n",
        "model.summary()\n",
        "\n",
        "vgg16_feature_list_Normal=[]\n",
        "vgg16_feature_list_covid = []\n",
        "vgg16_feature_list_Total = []\n",
        "#img_path=\"/content/drive/My Drive/covid-19/Data/Covid-19/*\"\n",
        "\n",
        "#filenames=glob.glob(\"/content/drive/My Drive/covid-19/Data/Normal/*\")\n",
        "#filenames=Total\n",
        "#filenames=covidCT_images\n",
        "#filenames=glob.glob(\"/content/drive/My Drive/covid-19/COVID-19 Radiography Database/COVID-19/*\")\n",
        "#filenames=glob.glob(\"/content/drive/My Drive/covid-19/COVID-19 Radiography Database/Viral Pneumonia/*\")\n",
        "filenames=glob.glob('/content/drive/My Drive/covid-19/COVID-19 Radiography Database/NORMAL/*')\n",
        "for i, fname in enumerate(filenames):\n",
        "        # process the files under the directory 'dogs' or 'cats'\n",
        "        # ...\n",
        "        \n",
        "        img = image.load_img(fname, target_size=(160, 160))\n",
        "        img_data = image.img_to_array(img)\n",
        "        img_data = np.expand_dims(img_data, axis=0)\n",
        "        img_data = preprocess_input(img_data)\n",
        "\n",
        "        vgg16_feature = model.predict(img_data)\n",
        "        vgg16_feature_np = np.array(vgg16_feature)\n",
        "        vgg16_feature_list_covid.append(vgg16_feature_np)\n",
        "        \n",
        "vgg16_feature_list_np_COVID = np.array(vgg16_feature_list_covid)\n",
        "np.savez('/content/drive/My Drive/covid-19/COVID-19 Radiography Database/vgg16_feature_list_np_Normal_Kaggle.npz',covid=vgg16_feature_list_np_COVID)"
      ],
      "execution_count": null,
      "outputs": [
        {
          "output_type": "stream",
          "text": [
            "Model: \"vgg16\"\n",
            "_________________________________________________________________\n",
            "Layer (type)                 Output Shape              Param #   \n",
            "=================================================================\n",
            "input_3 (InputLayer)         (None, 160, 160, 3)       0         \n",
            "_________________________________________________________________\n",
            "block1_conv1 (Conv2D)        (None, 160, 160, 64)      1792      \n",
            "_________________________________________________________________\n",
            "block1_conv2 (Conv2D)        (None, 160, 160, 64)      36928     \n",
            "_________________________________________________________________\n",
            "block1_pool (MaxPooling2D)   (None, 80, 80, 64)        0         \n",
            "_________________________________________________________________\n",
            "block2_conv1 (Conv2D)        (None, 80, 80, 128)       73856     \n",
            "_________________________________________________________________\n",
            "block2_conv2 (Conv2D)        (None, 80, 80, 128)       147584    \n",
            "_________________________________________________________________\n",
            "block2_pool (MaxPooling2D)   (None, 40, 40, 128)       0         \n",
            "_________________________________________________________________\n",
            "block3_conv1 (Conv2D)        (None, 40, 40, 256)       295168    \n",
            "_________________________________________________________________\n",
            "block3_conv2 (Conv2D)        (None, 40, 40, 256)       590080    \n",
            "_________________________________________________________________\n",
            "block3_conv3 (Conv2D)        (None, 40, 40, 256)       590080    \n",
            "_________________________________________________________________\n",
            "block3_pool (MaxPooling2D)   (None, 20, 20, 256)       0         \n",
            "_________________________________________________________________\n",
            "block4_conv1 (Conv2D)        (None, 20, 20, 512)       1180160   \n",
            "_________________________________________________________________\n",
            "block4_conv2 (Conv2D)        (None, 20, 20, 512)       2359808   \n",
            "_________________________________________________________________\n",
            "block4_conv3 (Conv2D)        (None, 20, 20, 512)       2359808   \n",
            "_________________________________________________________________\n",
            "block4_pool (MaxPooling2D)   (None, 10, 10, 512)       0         \n",
            "_________________________________________________________________\n",
            "block5_conv1 (Conv2D)        (None, 10, 10, 512)       2359808   \n",
            "_________________________________________________________________\n",
            "block5_conv2 (Conv2D)        (None, 10, 10, 512)       2359808   \n",
            "_________________________________________________________________\n",
            "block5_conv3 (Conv2D)        (None, 10, 10, 512)       2359808   \n",
            "_________________________________________________________________\n",
            "block5_pool (MaxPooling2D)   (None, 5, 5, 512)         0         \n",
            "=================================================================\n",
            "Total params: 14,714,688\n",
            "Trainable params: 14,714,688\n",
            "Non-trainable params: 0\n",
            "_________________________________________________________________\n"
          ],
          "name": "stdout"
        }
      ]
    },
    {
      "cell_type": "code",
      "metadata": {
        "id": "XwQIKzswkZRK",
        "colab_type": "code",
        "colab": {
          "base_uri": "https://localhost:8080/",
          "height": 799
        },
        "outputId": "b02a421a-b3d5-468c-c1d8-274047b7030d"
      },
      "source": [
        "# New data CT\n",
        "import os\n",
        "import sys\n",
        "import pickle\n",
        "from glob import iglob\n",
        "import glob\n",
        "import re\n",
        "from keras.preprocessing import image\n",
        "from keras.applications.vgg16 import VGG16\n",
        "from keras.applications.vgg16 import preprocess_input\n",
        "import numpy as np\n",
        "\n",
        "model = VGG16(weights='imagenet', include_top=False,input_shape=(160,160, 3))\n",
        "model.summary()\n",
        "\n",
        "vgg16_feature_list_CT_COVID=[]\n",
        "vgg16_feature_list_CT_non_COVID = []\n",
        "#vgg16_feature_list_Total = []\n",
        "#img_path=\"/content/drive/My Drive/covid-19/Data/Covid-19/*\"\n",
        "\n",
        "\n",
        "filenames=glob.glob(\"/content/drive/My Drive/covid-19/Small_CT_COVID/CT_COVID/*\")\n",
        "#filenames=Total\n",
        "#filenames=covid_images\n",
        "#filenames=glob.glob(\"/content/drive/My Drive/covid-19/Data/covid/*\")\n",
        "#filenames=glob.glob(\"/content/drive/My Drive/covid-19/Data/Other_PNEUMONIA/*\")[:60]\n",
        "#filenames=glob.glob('/content/covid-chestxray-dataset/images/*')\n",
        "for i, fname in enumerate(filenames):\n",
        "        # process the files under the directory 'dogs' or 'cats'\n",
        "        # ...\n",
        "        \n",
        "        img = image.load_img(fname, target_size=(160, 160))\n",
        "        img_data = image.img_to_array(img)\n",
        "        img_data = np.expand_dims(img_data, axis=0)\n",
        "        img_data = preprocess_input(img_data)\n",
        "\n",
        "        vgg16_feature = model.predict(img_data)\n",
        "        vgg16_feature_np = np.array(vgg16_feature)\n",
        "        vgg16_feature_list_CT_COVID.append(vgg16_feature_np)\n",
        "        \n",
        "vgg16_feature_list_np_COVID = np.array(vgg16_feature_list_CT_COVID)\n",
        "np.savez('/content/drive/My Drive/covid-19/Small_CT_COVID/vgg16_feature_list_np_COVID.npz',Normal=vgg16_feature_list_np_COVID)"
      ],
      "execution_count": null,
      "outputs": [
        {
          "output_type": "stream",
          "text": [
            "Model: \"vgg16\"\n",
            "_________________________________________________________________\n",
            "Layer (type)                 Output Shape              Param #   \n",
            "=================================================================\n",
            "input_2 (InputLayer)         (None, 160, 160, 3)       0         \n",
            "_________________________________________________________________\n",
            "block1_conv1 (Conv2D)        (None, 160, 160, 64)      1792      \n",
            "_________________________________________________________________\n",
            "block1_conv2 (Conv2D)        (None, 160, 160, 64)      36928     \n",
            "_________________________________________________________________\n",
            "block1_pool (MaxPooling2D)   (None, 80, 80, 64)        0         \n",
            "_________________________________________________________________\n",
            "block2_conv1 (Conv2D)        (None, 80, 80, 128)       73856     \n",
            "_________________________________________________________________\n",
            "block2_conv2 (Conv2D)        (None, 80, 80, 128)       147584    \n",
            "_________________________________________________________________\n",
            "block2_pool (MaxPooling2D)   (None, 40, 40, 128)       0         \n",
            "_________________________________________________________________\n",
            "block3_conv1 (Conv2D)        (None, 40, 40, 256)       295168    \n",
            "_________________________________________________________________\n",
            "block3_conv2 (Conv2D)        (None, 40, 40, 256)       590080    \n",
            "_________________________________________________________________\n",
            "block3_conv3 (Conv2D)        (None, 40, 40, 256)       590080    \n",
            "_________________________________________________________________\n",
            "block3_pool (MaxPooling2D)   (None, 20, 20, 256)       0         \n",
            "_________________________________________________________________\n",
            "block4_conv1 (Conv2D)        (None, 20, 20, 512)       1180160   \n",
            "_________________________________________________________________\n",
            "block4_conv2 (Conv2D)        (None, 20, 20, 512)       2359808   \n",
            "_________________________________________________________________\n",
            "block4_conv3 (Conv2D)        (None, 20, 20, 512)       2359808   \n",
            "_________________________________________________________________\n",
            "block4_pool (MaxPooling2D)   (None, 10, 10, 512)       0         \n",
            "_________________________________________________________________\n",
            "block5_conv1 (Conv2D)        (None, 10, 10, 512)       2359808   \n",
            "_________________________________________________________________\n",
            "block5_conv2 (Conv2D)        (None, 10, 10, 512)       2359808   \n",
            "_________________________________________________________________\n",
            "block5_conv3 (Conv2D)        (None, 10, 10, 512)       2359808   \n",
            "_________________________________________________________________\n",
            "block5_pool (MaxPooling2D)   (None, 5, 5, 512)         0         \n",
            "=================================================================\n",
            "Total params: 14,714,688\n",
            "Trainable params: 14,714,688\n",
            "Non-trainable params: 0\n",
            "_________________________________________________________________\n"
          ],
          "name": "stdout"
        }
      ]
    },
    {
      "cell_type": "code",
      "metadata": {
        "id": "dlQEXD5SNbrc",
        "colab_type": "code",
        "colab": {}
      },
      "source": [
        "import os\n",
        "import sys\n",
        "import pickle\n",
        "from glob import iglob\n",
        "import glob\n",
        "import re\n",
        "from keras.preprocessing import image\n",
        "from keras.applications.vgg16 import VGG16\n",
        "from keras.applications.vgg16 import preprocess_input\n",
        "import numpy as np\n",
        "\n",
        "\n",
        "imag_data_Normal=[]\n",
        "imag_data_Covid=[]\n",
        "imag_data_Other=[]\n",
        "\n",
        "#filenames=glob.glob(\"/content/drive/My Drive/covid-19/Data/Normal/*\")\n",
        "#filenames=Total\n",
        "#filenames=covid_images\n",
        "filenames=glob.glob(\"/content/drive/My Drive/covid-19/Data/covid/*\")\n",
        "#filenames=glob.glob(\"/content/drive/My Drive/covid-19/Data/Other_PNEUMONIA/*\")[:60]\n",
        "#filenames=glob.glob('/content/covid-chestxray-dataset/images/*')\n",
        "for i, fname in enumerate(filenames):\n",
        "        # process the files under the directory 'dogs' or 'cats'\n",
        "        # ...\n",
        "        \n",
        "        img = image.load_img(fname, target_size=(160, 160))\n",
        "        img_data = image.img_to_array(img)\n",
        "        img_data = np.expand_dims(img_data, axis=0)\n",
        "        img_data = preprocess_input(img_data)\n",
        "        imag_data_Normal.append(img_data)\n",
        "        imag_data_Normal_Final=np.array(imag_data_Normal)\n",
        "        #vgg16_feature = model.predict(img_data)\n",
        "        #vgg16_feature_np = np.array(vgg16_feature)\n",
        "        #vgg16_feature_list_Normal.append(vgg16_feature_np)\n",
        "        \n",
        "#vgg16_feature_list_np_COVID = np.array(vgg16_feature_list_Normal)\n",
        "#np.savez('/content/drive/My Drive/covid-19/vgg16_feature_list_np_Normal.npz',Normal=vgg16_feature_list_np_COVID)"
      ],
      "execution_count": null,
      "outputs": []
    },
    {
      "cell_type": "code",
      "metadata": {
        "id": "6Hu-zqxOrxp-",
        "colab_type": "code",
        "colab": {
          "base_uri": "https://localhost:8080/",
          "height": 34
        },
        "outputId": "f494b4e4-3cfe-4c5b-8933-eb8f4ec7e15d"
      },
      "source": [
        "imag_data_Normal_Final.shape"
      ],
      "execution_count": null,
      "outputs": [
        {
          "output_type": "execute_result",
          "data": {
            "text/plain": [
              "(31, 1, 160, 160, 3)"
            ]
          },
          "metadata": {
            "tags": []
          },
          "execution_count": 26
        }
      ]
    },
    {
      "cell_type": "code",
      "metadata": {
        "id": "zP87amxAxcq2",
        "colab_type": "code",
        "colab": {}
      },
      "source": [
        "np.savez('/content/drive/My Drive/covid-19/vgg16_feature_list_np_Normal.npz',Normal=vgg16_feature_list_np_COVID)"
      ],
      "execution_count": null,
      "outputs": []
    },
    {
      "cell_type": "code",
      "metadata": {
        "id": "UYXRkqRktmk9",
        "colab_type": "code",
        "colab": {}
      },
      "source": [
        "np.savez('/content/drive/My Drive/covid-19/vgg16_feature_list_np_covid_size_227.npz',covid=vgg16_feature_list_np_covid)"
      ],
      "execution_count": null,
      "outputs": []
    },
    {
      "cell_type": "code",
      "metadata": {
        "id": "PXcBhtHJLcG5",
        "colab_type": "code",
        "colab": {}
      },
      "source": [
        "vgg16_feature_list_np_other = np.array(vgg16_feature_list_other)"
      ],
      "execution_count": null,
      "outputs": []
    },
    {
      "cell_type": "code",
      "metadata": {
        "id": "-liqtkJw7kSa",
        "colab_type": "code",
        "colab": {}
      },
      "source": [
        "vgg16_feature_list_np_covid[0]"
      ],
      "execution_count": null,
      "outputs": []
    },
    {
      "cell_type": "code",
      "metadata": {
        "id": "gdzNZ4H3nzfA",
        "colab_type": "code",
        "colab": {}
      },
      "source": [
        "filenames=glob.glob(\"/content/drive/My Drive/covid-19/Data/covid/*\")"
      ],
      "execution_count": null,
      "outputs": []
    },
    {
      "cell_type": "code",
      "metadata": {
        "id": "H5N5SMrfn0xl",
        "colab_type": "code",
        "colab": {
          "base_uri": "https://localhost:8080/",
          "height": 34
        },
        "outputId": "3e67fe31-7e9f-4d48-ed82-1e5baf79bb8e"
      },
      "source": [
        "len(filenames)"
      ],
      "execution_count": null,
      "outputs": [
        {
          "output_type": "execute_result",
          "data": {
            "text/plain": [
              "6839"
            ]
          },
          "metadata": {
            "tags": []
          },
          "execution_count": 4
        }
      ]
    },
    {
      "cell_type": "code",
      "metadata": {
        "id": "eAQWxPxEn646",
        "colab_type": "code",
        "colab": {}
      },
      "source": [
        "filenames[61]"
      ],
      "execution_count": null,
      "outputs": []
    },
    {
      "cell_type": "code",
      "metadata": {
        "id": "XrWYYywzsJQv",
        "colab_type": "code",
        "colab": {}
      },
      "source": [
        "filenames=glob.glob('/content/covid-chestxray-dataset/images/*')"
      ],
      "execution_count": null,
      "outputs": []
    },
    {
      "cell_type": "code",
      "metadata": {
        "id": "tzCdk6560wt_",
        "colab_type": "code",
        "colab": {}
      },
      "source": [
        "filenames"
      ],
      "execution_count": null,
      "outputs": []
    },
    {
      "cell_type": "code",
      "metadata": {
        "id": "-jvdj1zOTgT5",
        "colab_type": "code",
        "colab": {}
      },
      "source": [
        "np.savez('/content/drive/My Drive/covid-19/vgg16_feature_list_np_other_224_correct.npz',covid=vgg16_feature_list_np_other)"
      ],
      "execution_count": null,
      "outputs": []
    },
    {
      "cell_type": "code",
      "metadata": {
        "id": "CPFVjwyOe4A4",
        "colab_type": "code",
        "colab": {}
      },
      "source": [
        "import os\n",
        "import sys\n",
        "import pickle\n",
        "from glob import iglob\n",
        "import glob\n",
        "import re\n",
        "from keras.preprocessing import image\n",
        "from keras.applications.vgg16 import VGG16\n",
        "from keras.applications.vgg16 import preprocess_input\n",
        "import numpy as np\n",
        "\n",
        "fname='/content/drive/My Drive/covid-19/Data/Covid-19/6CB4EFC6-68FA-4CD5-940C-BEFA8DAFE9A7.jpeg'\n",
        "\n",
        "model = VGG16(weights='imagenet', include_top=False,input_shape=(160, 160, 3))\n",
        "\n",
        "img = image.load_img(fname, target_size=(160, 160))\n",
        "img_data = image.img_to_array(img)\n",
        "img_data = np.expand_dims(img_data, axis=0)\n",
        "img_data = preprocess_input(img_data)\n",
        "\n",
        "vgg16_feature = model.predict(img_data)\n",
        "vgg16_feature_np = np.array(vgg16_feature)\n",
        "#vgg16_feature_list.append(vgg16_feature_np.flatten())"
      ],
      "execution_count": null,
      "outputs": []
    },
    {
      "cell_type": "code",
      "metadata": {
        "id": "52c3IdIhwTd1",
        "colab_type": "code",
        "colab": {
          "base_uri": "https://localhost:8080/",
          "height": 34
        },
        "outputId": "1877eebb-70ce-4b2f-b3ef-39a84b2acf7c"
      },
      "source": [
        "vgg16_feature.shape"
      ],
      "execution_count": null,
      "outputs": [
        {
          "output_type": "execute_result",
          "data": {
            "text/plain": [
              "(1, 5, 5, 512)"
            ]
          },
          "metadata": {
            "tags": []
          },
          "execution_count": 20
        }
      ]
    },
    {
      "cell_type": "code",
      "metadata": {
        "id": "42CR2uNVySlc",
        "colab_type": "code",
        "colab": {}
      },
      "source": [
        "square=8\n",
        "for fmap in vgg16_feature:\n",
        "\t# plot all 64 maps in an 8x8 squares\n",
        "\tix = 1\n",
        "\tfor _ in range(square):\n",
        "\t\tplt.figure(figsize=(64,64))\n",
        "\t\tfor _ in range(square):\n",
        "           \n",
        "\n",
        "\t\t\t# specify subplot and turn of axis\n",
        "\t\t\tax = plt.subplot(square, square, ix)\n",
        "\t\t\tax.set_xticks([])\n",
        "\t\t\tax.set_yticks([])\n",
        "\t\t\t\n",
        "\t\t\t# plot filter channel in grayscale\n",
        "\t\t\tplt.imshow(fmap[:, :, ix-1], cmap='viridis')\n",
        "\t\t\tix += 1\n",
        "\t# show the figure\n",
        "\n",
        "        \n",
        "\tplt.show()"
      ],
      "execution_count": null,
      "outputs": []
    },
    {
      "cell_type": "code",
      "metadata": {
        "id": "sGTW2u81sLEr",
        "colab_type": "code",
        "colab": {}
      },
      "source": [
        "from keras.applications.vgg16 import VGG16\n",
        "from keras.applications.vgg16 import preprocess_input\n",
        "from keras.preprocessing.image import load_img\n",
        "from keras.preprocessing.image import img_to_array\n",
        "from keras.models import Model\n",
        "import matplotlib.pyplot as plt\n",
        "from numpy import expand_dims\n",
        "\n",
        "model = VGG16(weights='imagenet', include_top=False,input_shape=(160, 160, 3))\n",
        "#model.summary()\n",
        "\n",
        "\n",
        "# load the model\n",
        "#model = VGG16()\n",
        "# redefine model to output right after the first hidden layer\n",
        "ixs = [18]\n",
        "outputs = [model.layers[i].output for i in ixs]\n",
        "model = Model(inputs=model.inputs, outputs=outputs)\n",
        "# load the image with the required shape\n",
        "# convert the image to an array\n",
        "img = load_img(Covid[2], target_size=(160, 160))\n",
        "# convert the image to an array\n",
        "img = img_to_array(img)\n",
        "# expand dimensions so that it represents a single 'sample'\n",
        "img = expand_dims(img, axis=0)\n",
        "# prepare the image (e.g. scale pixel values for the vgg)\n",
        "img = preprocess_input(img)\n",
        "# get feature map for first hidden layer\n",
        "feature_maps = model.predict(img)\n",
        "# plot the output from each block\n",
        "square = 8\n",
        "for fmap in feature_maps:\n",
        "\t# plot all 64 maps in an 8x8 squares\n",
        "\tix = 1\n",
        "\tfor _ in range(square):\n",
        "\t\tplt.figure(figsize=(64,64))\n",
        "\t\tfor _ in range(square):\n",
        "           \n",
        "\n",
        "\t\t\t# specify subplot and turn of axis\n",
        "\t\t\tax = plt.subplot(square, square, ix)\n",
        "\t\t\tax.set_xticks([])\n",
        "\t\t\tax.set_yticks([])\n",
        "\t\t\t\n",
        "\t\t\t# plot filter channel in grayscale\n",
        "\t\t\tplt.imshow(fmap[ :, :, ix-1], cmap='viridis')\n",
        "\t\t\tix += 1\n",
        "\t# show the figure\n",
        "\n",
        "        \n",
        "\tplt.show()"
      ],
      "execution_count": null,
      "outputs": []
    },
    {
      "cell_type": "code",
      "metadata": {
        "id": "miSwdKNWvqdL",
        "colab_type": "code",
        "colab": {
          "base_uri": "https://localhost:8080/",
          "height": 34
        },
        "outputId": "3a019d72-0315-491b-a57f-6650afe840cf"
      },
      "source": [
        "np.array(feature_maps).shape"
      ],
      "execution_count": null,
      "outputs": [
        {
          "output_type": "execute_result",
          "data": {
            "text/plain": [
              "(1, 20, 20, 512)"
            ]
          },
          "metadata": {
            "tags": []
          },
          "execution_count": 15
        }
      ]
    },
    {
      "cell_type": "code",
      "metadata": {
        "id": "_mJlukk96_ak",
        "colab_type": "code",
        "colab": {
          "base_uri": "https://localhost:8080/",
          "height": 286
        },
        "outputId": "d9605fab-f77d-483f-f77b-cccc06dae060"
      },
      "source": [
        "import cv2\n",
        "import matplotlib.image as mpimg\n",
        "import matplotlib.pyplot as plt\n",
        "import os\n",
        "import glob\n",
        "import pandas as pd\n",
        "import csv\n",
        "import re\n",
        "import numpy as np\n",
        "\n",
        "Covid=glob.glob('/content/drive/My Drive/covid-19/Data/Covid-19/*')\n",
        "other=glob.glob('/content/drive/My Drive/covid-19/Data/Other_PNEUMONIA/*')\n",
        "\n",
        "#img_path = '/content/drive/My Drive/covid-19/Data/Covid-19/01E392EE-69F9-4E33-BFCE-E5C968654078.jpeg'\n",
        "#image_path = test_dir + \"/\" +eval_generator.filenames[index]\n",
        "image = mpimg.imread(covid_images[6])\n",
        "#BGR TO RGB conversion using CV2\n",
        "image = cv2.cvtColor(image, cv2.COLOR_BGR2RGB)\n",
        "pixels = np.array(image)\n",
        "plt.imshow(pixels)"
      ],
      "execution_count": null,
      "outputs": [
        {
          "output_type": "execute_result",
          "data": {
            "text/plain": [
              "<matplotlib.image.AxesImage at 0x7f3c684fceb8>"
            ]
          },
          "metadata": {
            "tags": []
          },
          "execution_count": 49
        },
        {
          "output_type": "display_data",
          "data": {
            "image/png": "[encoded data removed]",
            "text/plain": [
              "<Figure size 432x288 with 1 Axes>"
            ]
          },
          "metadata": {
            "tags": []
          }
        }
      ]
    },
    {
      "cell_type": "code",
      "metadata": {
        "id": "ktJkPCId_NMk",
        "colab_type": "code",
        "colab": {
          "base_uri": "https://localhost:8080/",
          "height": 286
        },
        "outputId": "e2c644b8-80d6-4ed8-db0e-2e16a17df6cf"
      },
      "source": [
        "other=glob.glob('/content/drive/My Drive/covid-19/Data/Other_PNEUMONIA/*')\n",
        "\n",
        "#img_path = '/content/drive/My Drive/covid-19/Data/Covid-19/01E392EE-69F9-4E33-BFCE-E5C968654078.jpeg'\n",
        "#image_path = test_dir + \"/\" +eval_generator.filenames[index]\n",
        "image = mpimg.imread(other[8])\n",
        "#BGR TO RGB conversion using CV2\n",
        "image = cv2.cvtColor(image, cv2.COLOR_BGR2RGB)\n",
        "pixels = np.array(image)\n",
        "plt.imshow(pixels)"
      ],
      "execution_count": null,
      "outputs": [
        {
          "output_type": "execute_result",
          "data": {
            "text/plain": [
              "<matplotlib.image.AxesImage at 0x7f85f8d11240>"
            ]
          },
          "metadata": {
            "tags": []
          },
          "execution_count": 24
        },
        {
          "output_type": "display_data",
          "data": {
            "image/png": "[encoded data removed]",
            "text/plain": [
              "<Figure size 432x288 with 1 Axes>"
            ]
          },
          "metadata": {
            "tags": []
          }
        }
      ]
    },
    {
      "cell_type": "code",
      "metadata": {
        "id": "nJWpZE_qdoXY",
        "colab_type": "code",
        "colab": {
          "base_uri": "https://localhost:8080/",
          "height": 34
        },
        "outputId": "83c66726-02fd-408e-c309-1f31d48527c7"
      },
      "source": [
        "Covid[2]"
      ],
      "execution_count": null,
      "outputs": [
        {
          "output_type": "execute_result",
          "data": {
            "text/plain": [
              "'/content/drive/My Drive/covid-19/Data/Covid-19/6CB4EFC6-68FA-4CD5-940C-BEFA8DAFE9A7.jpeg'"
            ]
          },
          "metadata": {
            "tags": []
          },
          "execution_count": 26
        }
      ]
    },
    {
      "cell_type": "code",
      "metadata": {
        "id": "5QhIIHFfV67O",
        "colab_type": "code",
        "colab": {
          "base_uri": "https://localhost:8080/",
          "height": 34
        },
        "outputId": "bab763d9-daff-4790-ac43-7bf470289f91"
      },
      "source": [
        "covid_images[0]"
      ],
      "execution_count": null,
      "outputs": [
        {
          "output_type": "execute_result",
          "data": {
            "text/plain": [
              "'/content/covid-chestxray-dataset/images/kjr-21-e24-g002-l-b.jpg'"
            ]
          },
          "metadata": {
            "tags": []
          },
          "execution_count": 64
        }
      ]
    },
    {
      "cell_type": "code",
      "metadata": {
        "id": "2mWmY5zHMoX9",
        "colab_type": "code",
        "colab": {
          "base_uri": "https://localhost:8080/",
          "height": 34
        },
        "outputId": "036b8b1c-83e2-4e4c-e19e-b2b336311d3c"
      },
      "source": [
        "covid_images[0]"
      ],
      "execution_count": null,
      "outputs": [
        {
          "output_type": "execute_result",
          "data": {
            "text/plain": [
              "'/content/covid-chestxray-dataset/images/kjr-21-e24-g002-l-b.jpg'"
            ]
          },
          "metadata": {
            "tags": []
          },
          "execution_count": 46
        }
      ]
    },
    {
      "cell_type": "code",
      "metadata": {
        "id": "2UVZDh1Lda7l",
        "colab_type": "code",
        "colab": {}
      },
      "source": [
        "from keras.preprocessing import image\n",
        "img = image.load_img(covid_images[6], target_size=(160, 160))\n",
        "img_data = image.img_to_array(img)\n",
        "image = cv2.cvtColor(img_data/250, cv2.COLOR_BGR2RGB)\n",
        "pixels = np.array(image)\n",
        "plt.imshow(pixels)\n",
        "print(clinical_notes[6])"
      ],
      "execution_count": null,
      "outputs": []
    },
    {
      "cell_type": "code",
      "metadata": {
        "id": "oorHqlVNd0Dp",
        "colab_type": "code",
        "colab": {
          "base_uri": "https://localhost:8080/",
          "height": 323
        },
        "outputId": "29b8215e-218d-401b-9f4d-8a476476232d"
      },
      "source": [
        "from keras.preprocessing import image\n",
        "img = image.load_img(other[8], target_size=(160, 160))\n",
        "img_data = image.img_to_array(img)\n",
        "image = cv2.cvtColor(img_data/250, cv2.COLOR_BGR2RGB)\n",
        "pixels = np.array(image)\n",
        "plt.imshow(pixels)"
      ],
      "execution_count": null,
      "outputs": [
        {
          "output_type": "stream",
          "text": [
            "Clipping input data to the valid range for imshow with RGB data ([0..1] for floats or [0..255] for integers).\n"
          ],
          "name": "stderr"
        },
        {
          "output_type": "execute_result",
          "data": {
            "text/plain": [
              "<matplotlib.image.AxesImage at 0x7f857222bba8>"
            ]
          },
          "metadata": {
            "tags": []
          },
          "execution_count": 30
        },
        {
          "output_type": "display_data",
          "data": {
            "image/png": "[encoded data removed]",
            "text/plain": [
              "<Figure size 432x288 with 1 Axes>"
            ]
          },
          "metadata": {
            "tags": []
          }
        }
      ]
    },
    {
      "cell_type": "code",
      "metadata": {
        "id": "xflrCBzZeA4o",
        "colab_type": "code",
        "colab": {
          "base_uri": "https://localhost:8080/",
          "height": 34
        },
        "outputId": "4d022f76-12dc-4f17-9b6b-f6ce2ca3345a"
      },
      "source": [
        "vgg16_feature_list_np_covid.shape"
      ],
      "execution_count": null,
      "outputs": [
        {
          "output_type": "execute_result",
          "data": {
            "text/plain": [
              "(253, 1, 7, 7, 512)"
            ]
          },
          "metadata": {
            "tags": []
          },
          "execution_count": 14
        }
      ]
    },
    {
      "cell_type": "code",
      "metadata": {
        "id": "TI5u8oPpzTVD",
        "colab_type": "code",
        "colab": {}
      },
      "source": [
        "import numpy as np\n",
        "X_Covid=np.load('/content/drive/My Drive/covid-19/vgg16_feature_list_np_COVID_XRay_475.npz')\n",
        "X_Covid_Augmented=np.load('/content/drive/My Drive/covid-19/vgg16_feature_list_np_covid_augmented.npz')\n",
        "#X_Covid=vgg16_feature_list_np_COVID\n",
        "#X_Other_Pneumonia=vgg16_feature_list_np_other\n",
        "X_Other_Pneumonia=np.load('/content/drive/My Drive/covid-19/vgg16_feature_list_np_other2.npz')\n",
        "X_Other=np.load('/content/drive/My Drive/covid-19/vgg16_feature_list_np_Total.npz')\n",
        "X_Normal=np.load('/content/drive/My Drive/covid-19/vgg16_feature_list_np_Normal.npz')\n",
        "\n"
      ],
      "execution_count": null,
      "outputs": []
    },
    {
      "cell_type": "code",
      "metadata": {
        "id": "KJ2Pw25Ht5G4",
        "colab_type": "code",
        "colab": {}
      },
      "source": [
        "#Small CT DATA\n",
        "import numpy as np\n",
        "X_COVID=np.load('/content/drive/My Drive/covid-19/Small_CT_COVID/vgg16_feature_list_np_COVID.npz')\n",
        "X_non_COVID=np.load('/content/drive/My Drive/covid-19/Small_CT_COVID/vgg16_feature_list_np_non_COVID.npz')\n",
        "\n"
      ],
      "execution_count": null,
      "outputs": []
    },
    {
      "cell_type": "code",
      "metadata": {
        "id": "9tQqVuxgp6Iu",
        "colab_type": "code",
        "colab": {}
      },
      "source": [
        "#Large CT DATA\n",
        "import numpy as np\n",
        "X_COVID=np.load('/content/drive/My Drive/covid-19/COVID-CT/vgg16_feature_list_np_COVID.npz')\n",
        "X_non_COVID=np.load('/content/drive/My Drive/covid-19/COVID-CT/vgg16_feature_list_np_non_COVID.npz')\n",
        "\n"
      ],
      "execution_count": null,
      "outputs": []
    },
    {
      "cell_type": "code",
      "metadata": {
        "id": "QQE-yULFp4A3",
        "colab_type": "code",
        "colab": {}
      },
      "source": [
        "Extra_80CT=vgg16_feature_list_np_COVID"
      ],
      "execution_count": null,
      "outputs": []
    },
    {
      "cell_type": "code",
      "metadata": {
        "id": "GToKUagll425",
        "colab_type": "code",
        "colab": {}
      },
      "source": [
        "#Kaggle-3 classess-\n",
        "import numpy as np\n",
        "X_Normal=np.load('/content/drive/My Drive/covid-19/COVID-19 Radiography Database/vgg16_feature_list_np_Normal_Kaggle.npz')\n",
        "X_Other=np.load('/content/drive/My Drive/covid-19/COVID-19 Radiography Database/vgg16_feature_list_np_Viral_Kaggle.npz')\n",
        "X_Covid=np.load('/content/drive/My Drive/covid-19/COVID-19 Radiography Database/vgg16_feature_list_np_COVID_Kaggle.npz')"
      ],
      "execution_count": null,
      "outputs": []
    },
    {
      "cell_type": "code",
      "metadata": {
        "id": "PVFfI-8pGk8u",
        "colab_type": "code",
        "colab": {}
      },
      "source": [
        "X_Covid_Augmented=np.load('/content/drive/My Drive/covid-19/vgg16_feature_list_np_covid_augmented.npz')"
      ],
      "execution_count": null,
      "outputs": []
    },
    {
      "cell_type": "code",
      "metadata": {
        "id": "mMHfjqS3GoRf",
        "colab_type": "code",
        "colab": {}
      },
      "source": [
        "X_Covid_Augmented=X_Covid_Augmented['covid'].reshape((len(X_Covid_Augmented['covid']), 5, 5, 512))"
      ],
      "execution_count": null,
      "outputs": []
    },
    {
      "cell_type": "code",
      "metadata": {
        "id": "1uL_crAxmh5Y",
        "colab_type": "code",
        "colab": {}
      },
      "source": [
        "X_Normal=X_Normal['covid'].reshape((len(X_Normal['covid']), 5, 5, 512))\n",
        "X_Other=X_Other['covid'].reshape((len(X_Other['covid']), 5, 5, 512))\n",
        "X_Covid=X_Covid['covid'].reshape((len(X_Covid['covid']), 5, 5, 512))\n",
        "\n"
      ],
      "execution_count": null,
      "outputs": []
    },
    {
      "cell_type": "code",
      "metadata": {
        "id": "Os3oj0a-uCBs",
        "colab_type": "code",
        "colab": {
          "base_uri": "https://localhost:8080/",
          "height": 34
        },
        "outputId": "ca9e54c2-800c-44c9-8fcc-c8404cc2f5b0"
      },
      "source": [
        "len(X_Normal)"
      ],
      "execution_count": null,
      "outputs": [
        {
          "output_type": "execute_result",
          "data": {
            "text/plain": [
              "1351"
            ]
          },
          "metadata": {
            "tags": []
          },
          "execution_count": 7
        }
      ]
    },
    {
      "cell_type": "code",
      "metadata": {
        "id": "AdgeeOWFYLgI",
        "colab_type": "code",
        "colab": {
          "base_uri": "https://localhost:8080/",
          "height": 34
        },
        "outputId": "717e477c-d7d6-42be-b2af-5b0b7518ac6a"
      },
      "source": [
        "len(X_Covid)"
      ],
      "execution_count": null,
      "outputs": [
        {
          "output_type": "execute_result",
          "data": {
            "text/plain": [
              "219"
            ]
          },
          "metadata": {
            "tags": []
          },
          "execution_count": 9
        }
      ]
    },
    {
      "cell_type": "code",
      "metadata": {
        "id": "xH0Iwybvnj9F",
        "colab_type": "code",
        "colab": {
          "base_uri": "https://localhost:8080/",
          "height": 34
        },
        "outputId": "12d98056-0867-448e-e530-03a6f31b6420"
      },
      "source": [
        "len(X_Other)"
      ],
      "execution_count": null,
      "outputs": [
        {
          "output_type": "execute_result",
          "data": {
            "text/plain": [
              "1345"
            ]
          },
          "metadata": {
            "tags": []
          },
          "execution_count": 10
        }
      ]
    },
    {
      "cell_type": "code",
      "metadata": {
        "id": "ZeLVXRMPkjwB",
        "colab_type": "code",
        "colab": {}
      },
      "source": [
        "X_Normal=X_Normal['Normal'].reshape((1583, 5, 5, 512))"
      ],
      "execution_count": null,
      "outputs": []
    },
    {
      "cell_type": "code",
      "metadata": {
        "id": "omWdZkw35Hnp",
        "colab_type": "code",
        "colab": {}
      },
      "source": [
        "X_Covid=X_Covid['covid'].reshape((475, 5, 5, 512))\n",
        "X_Covid_Augmented=X_Covid_Augmented['covid'].reshape((6839, 5, 5, 512))\n",
        "#X_Covid=X_Covid.reshape((269, 5, 5, 512))"
      ],
      "execution_count": null,
      "outputs": []
    },
    {
      "cell_type": "code",
      "metadata": {
        "id": "86ntEoIVqtbf",
        "colab_type": "code",
        "colab": {}
      },
      "source": [
        "X_Other_Pneumonia=X_Other_Pneumonia['other'].reshape((3949, 5, 5, 512))\n",
        "X_Other=X_Other['covid'].reshape((5532, 5, 5, 512))\n",
        "                                  "
      ],
      "execution_count": null,
      "outputs": []
    },
    {
      "cell_type": "code",
      "metadata": {
        "id": "fsDkH2vm6lk5",
        "colab_type": "code",
        "colab": {
          "base_uri": "https://localhost:8080/",
          "height": 34
        },
        "outputId": "88e76f3a-8a25-466f-cd26-e9d11379210a"
      },
      "source": [
        "X_Other_Pneumonia.shape"
      ],
      "execution_count": null,
      "outputs": [
        {
          "output_type": "execute_result",
          "data": {
            "text/plain": [
              "(3949, 5, 5, 512)"
            ]
          },
          "metadata": {
            "tags": []
          },
          "execution_count": 7
        }
      ]
    },
    {
      "cell_type": "code",
      "metadata": {
        "id": "akzydhkAEzMM",
        "colab_type": "code",
        "colab": {}
      },
      "source": [
        "####For binary covid vs non-covid classification\n",
        "\n",
        "X_Other=X_Other['covid'].reshape((5532, 5, 5, 512))"
      ],
      "execution_count": null,
      "outputs": []
    },
    {
      "cell_type": "code",
      "metadata": {
        "id": "zne2Ogfo-8Nn",
        "colab_type": "code",
        "colab": {
          "base_uri": "https://localhost:8080/",
          "height": 102
        },
        "outputId": "0941f48b-d4bd-4d23-9bab-f13c310e980a"
      },
      "source": [
        "!git clone https://github.com/charlesdong1991/interpretable-han-for-document-classification-with-keras.git"
      ],
      "execution_count": null,
      "outputs": [
        {
          "output_type": "stream",
          "text": [
            "Cloning into 'interpretable-han-for-document-classification-with-keras'...\n",
            "remote: Enumerating objects: 141, done.\u001b[K\n",
            "Receiving objects:   0% (1/141)   \rReceiving objects:   1% (2/141)   \rReceiving objects:   2% (3/141)   \rReceiving objects:   3% (5/141)   \rReceiving objects:   4% (6/141)   \rReceiving objects:   5% (8/141)   \rReceiving objects:   6% (9/141)   \rReceiving objects:   7% (10/141)   \rReceiving objects:   8% (12/141)   \rReceiving objects:   9% (13/141)   \rReceiving objects:  10% (15/141)   \rReceiving objects:  11% (16/141)   \rReceiving objects:  12% (17/141)   \rReceiving objects:  13% (19/141)   \rReceiving objects:  14% (20/141)   \rReceiving objects:  15% (22/141)   \rReceiving objects:  16% (23/141)   \rReceiving objects:  17% (24/141)   \rReceiving objects:  18% (26/141)   \rReceiving objects:  19% (27/141)   \rReceiving objects:  20% (29/141)   \rReceiving objects:  21% (30/141)   \rReceiving objects:  22% (32/141)   \rReceiving objects:  23% (33/141)   \rReceiving objects:  24% (34/141)   \rReceiving objects:  25% (36/141)   \rReceiving objects:  26% (37/141)   \rReceiving objects:  27% (39/141)   \rReceiving objects:  28% (40/141)   \rReceiving objects:  29% (41/141)   \rReceiving objects:  30% (43/141)   \rReceiving objects:  31% (44/141)   \rReceiving objects:  32% (46/141)   \rReceiving objects:  33% (47/141)   \rReceiving objects:  34% (48/141)   \rReceiving objects:  35% (50/141)   \rReceiving objects:  36% (51/141)   \rReceiving objects:  37% (53/141)   \rReceiving objects:  38% (54/141)   \rReceiving objects:  39% (55/141)   \rReceiving objects:  40% (57/141)   \rReceiving objects:  41% (58/141)   \rReceiving objects:  42% (60/141)   \rReceiving objects:  43% (61/141)   \rReceiving objects:  44% (63/141)   \rReceiving objects:  45% (64/141)   \rReceiving objects:  46% (65/141)   \rremote: Total 141 (delta 0), reused 0 (delta 0), pack-reused 141\u001b[K\n",
            "Receiving objects:  47% (67/141)   \rReceiving objects:  48% (68/141)   \rReceiving objects:  49% (70/141)   \rReceiving objects:  50% (71/141)   \rReceiving objects:  51% (72/141)   \rReceiving objects:  52% (74/141)   \rReceiving objects:  53% (75/141)   \rReceiving objects:  54% (77/141)   \rReceiving objects:  55% (78/141)   \rReceiving objects:  56% (79/141)   \rReceiving objects:  57% (81/141)   \rReceiving objects:  58% (82/141)   \rReceiving objects:  59% (84/141)   \rReceiving objects:  60% (85/141)   \rReceiving objects:  61% (87/141)   \rReceiving objects:  62% (88/141)   \rReceiving objects:  63% (89/141)   \rReceiving objects:  64% (91/141)   \rReceiving objects:  65% (92/141)   \rReceiving objects:  66% (94/141)   \rReceiving objects:  67% (95/141)   \rReceiving objects:  68% (96/141)   \rReceiving objects:  69% (98/141)   \rReceiving objects:  70% (99/141)   \rReceiving objects:  71% (101/141)   \rReceiving objects:  72% (102/141)   \rReceiving objects:  73% (103/141)   \rReceiving objects:  74% (105/141)   \rReceiving objects:  75% (106/141)   \rReceiving objects:  76% (108/141)   \rReceiving objects:  77% (109/141)   \rReceiving objects:  78% (110/141)   \rReceiving objects:  79% (112/141)   \rReceiving objects:  80% (113/141)   \rReceiving objects:  81% (115/141)   \rReceiving objects:  82% (116/141)   \rReceiving objects:  83% (118/141)   \rReceiving objects:  84% (119/141)   \rReceiving objects:  85% (120/141)   \rReceiving objects:  86% (122/141)   \rReceiving objects:  87% (123/141)   \rReceiving objects:  88% (125/141)   \rReceiving objects:  89% (126/141)   \rReceiving objects:  90% (127/141)   \rReceiving objects:  91% (129/141)   \rReceiving objects:  92% (130/141)   \rReceiving objects:  93% (132/141)   \rReceiving objects:  94% (133/141)   \rReceiving objects:  95% (134/141)   \rReceiving objects:  96% (136/141)   \rReceiving objects:  97% (137/141)   \rReceiving objects:  98% (139/141)   \rReceiving objects:  99% (140/141)   \rReceiving objects: 100% (141/141)   \rReceiving objects: 100% (141/141), 119.87 KiB | 6.66 MiB/s, done.\n",
            "Resolving deltas:   0% (0/69)   \rResolving deltas:   7% (5/69)   \rResolving deltas:  26% (18/69)   \rResolving deltas:  34% (24/69)   \rResolving deltas:  49% (34/69)   \rResolving deltas:  53% (37/69)   \rResolving deltas:  60% (42/69)   \rResolving deltas:  79% (55/69)   \rResolving deltas:  81% (56/69)   \rResolving deltas:  86% (60/69)   \rResolving deltas: 100% (69/69)   \rResolving deltas: 100% (69/69), done.\n"
          ],
          "name": "stdout"
        }
      ]
    },
    {
      "cell_type": "code",
      "metadata": {
        "id": "kG0Ork0ZO6Uw",
        "colab_type": "code",
        "colab": {
          "base_uri": "https://localhost:8080/",
          "height": 34
        },
        "outputId": "bde03932-47df-48a7-a92f-f86c0ef6726e"
      },
      "source": [
        "cd /content/interpretable-han-for-document-classification-with-keras"
      ],
      "execution_count": null,
      "outputs": [
        {
          "output_type": "stream",
          "text": [
            "/content/interpretable-han-for-document-classification-with-keras\n"
          ],
          "name": "stdout"
        }
      ]
    },
    {
      "cell_type": "code",
      "metadata": {
        "id": "RkWUgRmvvLSm",
        "colab_type": "code",
        "colab": {
          "base_uri": "https://localhost:8080/",
          "height": 1000
        },
        "outputId": "3a49fa99-f47d-4b65-9e23-0cdb6ea95f16"
      },
      "source": [
        "\n",
        "!python setup.py install"
      ],
      "execution_count": null,
      "outputs": [
        {
          "output_type": "stream",
          "text": [
            "running install\n",
            "running bdist_egg\n",
            "running egg_info\n",
            "creating hierachical_attention_network_for_document_classification.egg-info\n",
            "writing hierachical_attention_network_for_document_classification.egg-info/PKG-INFO\n",
            "writing dependency_links to hierachical_attention_network_for_document_classification.egg-info/dependency_links.txt\n",
            "writing requirements to hierachical_attention_network_for_document_classification.egg-info/requires.txt\n",
            "writing top-level names to hierachical_attention_network_for_document_classification.egg-info/top_level.txt\n",
            "writing manifest file 'hierachical_attention_network_for_document_classification.egg-info/SOURCES.txt'\n",
            "writing manifest file 'hierachical_attention_network_for_document_classification.egg-info/SOURCES.txt'\n",
            "installing library code to build/bdist.linux-x86_64/egg\n",
            "running install_lib\n",
            "running build_py\n",
            "creating build\n",
            "creating build/lib\n",
            "creating build/lib/han\n",
            "copying han/model.py -> build/lib/han\n",
            "copying han/attention.py -> build/lib/han\n",
            "copying han/utils.py -> build/lib/han\n",
            "copying han/__init__.py -> build/lib/han\n",
            "creating build/bdist.linux-x86_64\n",
            "creating build/bdist.linux-x86_64/egg\n",
            "creating build/bdist.linux-x86_64/egg/han\n",
            "copying build/lib/han/model.py -> build/bdist.linux-x86_64/egg/han\n",
            "copying build/lib/han/attention.py -> build/bdist.linux-x86_64/egg/han\n",
            "copying build/lib/han/utils.py -> build/bdist.linux-x86_64/egg/han\n",
            "copying build/lib/han/__init__.py -> build/bdist.linux-x86_64/egg/han\n",
            "byte-compiling build/bdist.linux-x86_64/egg/han/model.py to model.cpython-36.pyc\n",
            "byte-compiling build/bdist.linux-x86_64/egg/han/attention.py to attention.cpython-36.pyc\n",
            "byte-compiling build/bdist.linux-x86_64/egg/han/utils.py to utils.cpython-36.pyc\n",
            "byte-compiling build/bdist.linux-x86_64/egg/han/__init__.py to __init__.cpython-36.pyc\n",
            "creating build/bdist.linux-x86_64/egg/EGG-INFO\n",
            "copying hierachical_attention_network_for_document_classification.egg-info/PKG-INFO -> build/bdist.linux-x86_64/egg/EGG-INFO\n",
            "copying hierachical_attention_network_for_document_classification.egg-info/SOURCES.txt -> build/bdist.linux-x86_64/egg/EGG-INFO\n",
            "copying hierachical_attention_network_for_document_classification.egg-info/dependency_links.txt -> build/bdist.linux-x86_64/egg/EGG-INFO\n",
            "copying hierachical_attention_network_for_document_classification.egg-info/requires.txt -> build/bdist.linux-x86_64/egg/EGG-INFO\n",
            "copying hierachical_attention_network_for_document_classification.egg-info/top_level.txt -> build/bdist.linux-x86_64/egg/EGG-INFO\n",
            "zip_safe flag not set; analyzing archive contents...\n",
            "creating dist\n",
            "creating 'dist/hierachical_attention_network_for_document_classification-0.1.0-py3.6.egg' and adding 'build/bdist.linux-x86_64/egg' to it\n",
            "removing 'build/bdist.linux-x86_64/egg' (and everything under it)\n",
            "Processing hierachical_attention_network_for_document_classification-0.1.0-py3.6.egg\n",
            "Copying hierachical_attention_network_for_document_classification-0.1.0-py3.6.egg to /usr/local/lib/python3.6/dist-packages\n",
            "Adding hierachical-attention-network-for-document-classification 0.1.0 to easy-install.pth file\n",
            "\n",
            "Installed /usr/local/lib/python3.6/dist-packages/hierachical_attention_network_for_document_classification-0.1.0-py3.6.egg\n",
            "Processing dependencies for hierachical-attention-network-for-document-classification==0.1.0\n",
            "Searching for pandas==1.0.5\n",
            "Best match: pandas 1.0.5\n",
            "Adding pandas 1.0.5 to easy-install.pth file\n",
            "\n",
            "Using /usr/local/lib/python3.6/dist-packages\n",
            "Searching for Keras==2.4.3\n",
            "Best match: Keras 2.4.3\n",
            "Adding Keras 2.4.3 to easy-install.pth file\n",
            "\n",
            "Using /usr/local/lib/python3.6/dist-packages\n",
            "Searching for numpy==1.18.5\n",
            "Best match: numpy 1.18.5\n",
            "Adding numpy 1.18.5 to easy-install.pth file\n",
            "Installing f2py script to /usr/local/bin\n",
            "Installing f2py3 script to /usr/local/bin\n",
            "Installing f2py3.6 script to /usr/local/bin\n",
            "\n",
            "Using /usr/local/lib/python3.6/dist-packages\n",
            "Searching for python-dateutil==2.8.1\n",
            "Best match: python-dateutil 2.8.1\n",
            "Adding python-dateutil 2.8.1 to easy-install.pth file\n",
            "\n",
            "Using /usr/local/lib/python3.6/dist-packages\n",
            "Searching for pytz==2018.9\n",
            "Best match: pytz 2018.9\n",
            "Adding pytz 2018.9 to easy-install.pth file\n",
            "\n",
            "Using /usr/local/lib/python3.6/dist-packages\n",
            "Searching for scipy==1.4.1\n",
            "Best match: scipy 1.4.1\n",
            "Adding scipy 1.4.1 to easy-install.pth file\n",
            "\n",
            "Using /usr/local/lib/python3.6/dist-packages\n",
            "Searching for h5py==2.10.0\n",
            "Best match: h5py 2.10.0\n",
            "Adding h5py 2.10.0 to easy-install.pth file\n",
            "\n",
            "Using /usr/local/lib/python3.6/dist-packages\n",
            "Searching for PyYAML==3.13\n",
            "Best match: PyYAML 3.13\n",
            "Adding PyYAML 3.13 to easy-install.pth file\n",
            "\n",
            "Using /usr/local/lib/python3.6/dist-packages\n",
            "Searching for six==1.15.0\n",
            "Best match: six 1.15.0\n",
            "Adding six 1.15.0 to easy-install.pth file\n",
            "\n",
            "Using /usr/local/lib/python3.6/dist-packages\n",
            "Finished processing dependencies for hierachical-attention-network-for-document-classification==0.1.0\n"
          ],
          "name": "stdout"
        }
      ]
    },
    {
      "cell_type": "code",
      "metadata": {
        "id": "fGEw4SwPvQb2",
        "colab_type": "code",
        "colab": {
          "base_uri": "https://localhost:8080/",
          "height": 68
        },
        "outputId": "e7836f85-4bd5-45b8-929d-4e67cfa4a0c4"
      },
      "source": [
        "import sys\n",
        "import re\n",
        "import numpy as np\n",
        "import pandas as pd\n",
        "import logging\n",
        "import sys\n",
        "from keras.preprocessing.text import Tokenizer\n",
        "from keras.preprocessing.sequence import pad_sequences\n",
        "from keras.callbacks import ModelCheckpoint\n",
        "from keras.utils import to_categorical\n",
        "from nltk.tokenize import sent_tokenize\n",
        "from sklearn.model_selection import train_test_split\n",
        "#from han.Covid_Dense_Binary import HAN\n",
        "#from han.Covid_Binary import HAN\n",
        "#from han.covid_vgg16 import HAN\n",
        "from han.covid_multiclass import HAN \n",
        "#from han.covid_multiclass_no_att import HAN\n",
        "#from han.Covid_Dense_Multiclass import HAN \n",
        "#from han.onestage_dense_only import HAN \n",
        "#from han.Dense_onestage_HAN_AUD_Vggish import HAN\n",
        "#from han.NOATT_onestage_HAN_AUD_Vggish import HAN\n",
        "#from han.twostage_CNN_GRU_ATT import HAN\n",
        "\n",
        "import nltk\n",
        "nltk.download('punkt')\n",
        "\n",
        "# Create a logger to provide info on the state of the\n",
        "# script\n",
        "stdout = logging.StreamHandler(sys.stdout)\n",
        "stdout.setFormatter(logging.Formatter(\n",
        "    '%(asctime)s - %(name)s - %(levelname)s - %(message)s'\n",
        "))\n",
        "logger = logging.getLogger('default')\n",
        "logger.setLevel(logging.INFO)\n",
        "logger.addHandler(stdout)\n",
        "\n",
        "\n",
        "max_doc_num = 5\n",
        "max_sent_length = 100\n",
        "max_sent_num = 25\n",
        "MAX_VOC_SIZE = 20000\n",
        "GLOVE_DIM = 100\n",
        "TEST_SPLIT = 0.1\n",
        "\n",
        "Special_value= 0\n",
        "sys.path.insert(0,'content/interpretable-han-for-document-classification-with-keras')"
      ],
      "execution_count": null,
      "outputs": [
        {
          "output_type": "stream",
          "text": [
            "Using TensorFlow backend.\n"
          ],
          "name": "stderr"
        },
        {
          "output_type": "stream",
          "text": [
            "[nltk_data] Downloading package punkt to /root/nltk_data...\n",
            "[nltk_data]   Unzipping tokenizers/punkt.zip.\n"
          ],
          "name": "stdout"
        }
      ]
    },
    {
      "cell_type": "code",
      "metadata": {
        "id": "QNhooBqcvRk_",
        "colab_type": "code",
        "colab": {
          "base_uri": "https://localhost:8080/",
          "height": 88
        },
        "outputId": "a04f55a7-feb5-4e04-a85d-16d6231f3235"
      },
      "source": [
        "han_model = HAN(max_sent_length=5,\n",
        "                 max_sent_num=5, max_doc_num=5, word_embed_dim=100, sent_embed_dim=100, doc_embed_dim=100)\n"
      ],
      "execution_count": null,
      "outputs": [
        {
          "output_type": "stream",
          "text": [
            "WARNING:tensorflow:From /tensorflow-1.15.2/python3.6/tensorflow_core/python/ops/resource_variable_ops.py:1630: calling BaseResourceVariable.__init__ (from tensorflow.python.ops.resource_variable_ops) with constraint is deprecated and will be removed in a future version.\n",
            "Instructions for updating:\n",
            "If using Keras pass *_constraint arguments to layers.\n"
          ],
          "name": "stdout"
        }
      ]
    },
    {
      "cell_type": "code",
      "metadata": {
        "id": "vJjwUCFVy2bK",
        "colab_type": "code",
        "colab": {}
      },
      "source": [
        "del han_model "
      ],
      "execution_count": null,
      "outputs": []
    },
    {
      "cell_type": "code",
      "metadata": {
        "id": "Pq2npiqBvW6k",
        "colab_type": "code",
        "colab": {}
      },
      "source": [
        "han_model.compile(\n",
        "    optimizer='adagrad', loss='categorical_crossentropy',\n",
        "    metrics=['acc']\n",
        ")"
      ],
      "execution_count": null,
      "outputs": []
    },
    {
      "cell_type": "code",
      "metadata": {
        "id": "3k_tSClR4Sg8",
        "colab_type": "code",
        "colab": {}
      },
      "source": [
        "checkpoint_saver = ModelCheckpoint(\n",
        "    filepath='/content/model.{epoch:02d}-{val_loss:.2f}.hdf5',\n",
        "    verbose=1, save_best_only=True\n",
        ")"
      ],
      "execution_count": null,
      "outputs": []
    },
    {
      "cell_type": "code",
      "metadata": {
        "id": "UgTGryTcvaos",
        "colab_type": "code",
        "colab": {}
      },
      "source": [
        "checkpoint_path='/content/model.{epoch:02d}-{val_loss:.2f}.hdf5'"
      ],
      "execution_count": null,
      "outputs": []
    },
    {
      "cell_type": "markdown",
      "metadata": {
        "id": "dsp4coeLYJoc",
        "colab_type": "text"
      },
      "source": [
        ""
      ]
    },
    {
      "cell_type": "code",
      "metadata": {
        "id": "F0b_NibsihSp",
        "colab_type": "code",
        "colab": {
          "base_uri": "https://localhost:8080/",
          "height": 34
        },
        "outputId": "d7579afd-19ce-4517-9e27-1c1f9771c4d4"
      },
      "source": [
        "Extra_80CT.shape"
      ],
      "execution_count": null,
      "outputs": [
        {
          "output_type": "execute_result",
          "data": {
            "text/plain": [
              "(59, 1, 5, 5, 512)"
            ]
          },
          "metadata": {
            "tags": []
          },
          "execution_count": 24
        }
      ]
    },
    {
      "cell_type": "code",
      "metadata": {
        "id": "q3awvPhPyQKx",
        "colab_type": "code",
        "colab": {}
      },
      "source": [
        "X_COVID['Normal'].shape"
      ],
      "execution_count": null,
      "outputs": []
    },
    {
      "cell_type": "code",
      "metadata": {
        "id": "KY73mLGNwTNy",
        "colab_type": "code",
        "colab": {}
      },
      "source": [
        "X_COVID=X_COVID['Normal'].reshape(len(X_COVID['Normal']),5,5,512)\n",
        "X_non_COVID=X_non_COVID['Normal'].reshape(len(X_non_COVID['Normal']),5,5,512)\n",
        "#Extra_80CT=Extra_80CT.reshape(len(Extra_80CT),5,5,512)"
      ],
      "execution_count": null,
      "outputs": []
    },
    {
      "cell_type": "code",
      "metadata": {
        "id": "dw7qvrZjaOVF",
        "colab_type": "code",
        "colab": {
          "base_uri": "https://localhost:8080/",
          "height": 34
        },
        "outputId": "2682f5f7-99b8-47f0-ab38-9cec27464187"
      },
      "source": [
        "len(X_non_COVID)"
      ],
      "execution_count": null,
      "outputs": [
        {
          "output_type": "execute_result",
          "data": {
            "text/plain": [
              "397"
            ]
          },
          "metadata": {
            "tags": []
          },
          "execution_count": 14
        }
      ]
    },
    {
      "cell_type": "code",
      "metadata": {
        "id": "Ls8d3pf_vjNy",
        "colab_type": "code",
        "colab": {}
      },
      "source": [
        "#CT DATA\n",
        "from keras.utils import to_categorical\n",
        "num_classes=2\n",
        "#y_Covid=np.ones((len(X_COVID)+len(Extra_80CT)))\n",
        "y_Covid=np.ones(len(X_COVID[:1229]))\n",
        "#y_AD = to_categorical(y_AD, num_classes=num_classes)\n",
        "y_non_Covid=np.zeros(len(X_non_COVID))\n",
        "#y_Control = to_categorical(y_Control, num_classes=num_classes)   \n",
        "X=np.concatenate((X_COVID[:1229],X_non_COVID))  \n",
        "y=np.concatenate((y_Covid,y_non_Covid))\n",
        "#X=np.concatenate((Extra_80CT,X_COVID,X_non_COVID))  \n",
        "#y=np.concatenate((y_Covid,y_non_Covid))"
      ],
      "execution_count": null,
      "outputs": []
    },
    {
      "cell_type": "code",
      "metadata": {
        "id": "tjJeB8GtI1jp",
        "colab_type": "code",
        "colab": {}
      },
      "source": [
        "#SMALL CT DATA\n",
        "from keras.utils import to_categorical\n",
        "num_classes=2\n",
        "#y_Covid=np.ones((len(X_COVID)+len(Extra_80CT)))\n",
        "y_Covid=np.ones(len(X_COVID))\n",
        "#y_AD = to_categorical(y_AD, num_classes=num_classes)\n",
        "y_non_Covid=np.zeros(len(X_non_COVID))\n",
        "#y_Control = to_categorical(y_Control, num_classes=num_classes)   \n",
        "X=np.concatenate((X_COVID,X_non_COVID))  \n",
        "y=np.concatenate((y_Covid,y_non_Covid))\n",
        "#X=np.concatenate((Extra_80CT,X_COVID,X_non_COVID))  \n",
        "#y=np.concatenate((y_Covid,y_non_Covid))"
      ],
      "execution_count": null,
      "outputs": []
    },
    {
      "cell_type": "code",
      "metadata": {
        "id": "UBwQiv3eNJYL",
        "colab_type": "code",
        "colab": {}
      },
      "source": [
        "from keras.utils import to_categorical\n",
        "num_classes=2\n",
        "y_Covid=np.ones(475)\n",
        "#y_AD = to_categorical(y_AD, num_classes=num_classes)\n",
        "y_Other=np.zeros(len(X_Other))\n",
        "#y_Control = to_categorical(y_Control, num_classes=num_classes)   \n",
        "X=np.concatenate((X_Covid,X_Other))  \n",
        "y=np.concatenate((y_Covid,y_Other))"
      ],
      "execution_count": null,
      "outputs": []
    },
    {
      "cell_type": "code",
      "metadata": {
        "id": "Z7mdpgM_mhG2",
        "colab_type": "code",
        "colab": {
          "base_uri": "https://localhost:8080/",
          "height": 34
        },
        "outputId": "f5f4c2ba-426b-4879-b1e1-8c349e8982f2"
      },
      "source": [
        "X_Covid.shape"
      ],
      "execution_count": null,
      "outputs": [
        {
          "output_type": "execute_result",
          "data": {
            "text/plain": [
              "(269, 5, 5, 512)"
            ]
          },
          "metadata": {
            "tags": []
          },
          "execution_count": 30
        }
      ]
    },
    {
      "cell_type": "code",
      "metadata": {
        "id": "A8R9jUailz1e",
        "colab_type": "code",
        "colab": {}
      },
      "source": [
        "########For multiclass\n",
        "from keras.utils import to_categorical\n",
        "num_classes=3\n",
        "y_Covid=np.ones(len(X_Covid))\n",
        "#y_AD = to_categorical(y_AD, num_classes=num_classes)\n",
        "y_Normal=np.zeros(len(X_Normal))\n",
        "y_Other_Pneumonia=np.full(len(X_Other_Pneumonia),2)\n",
        "#y_Control = to_categorical(y_Control, num_classes=num_classes)   \n",
        "X=np.concatenate((X_Covid,X_Normal,X_Other_Pneumonia))  \n",
        "y=np.concatenate((y_Covid,y_Normal,y_Other_Pneumonia))\n"
      ],
      "execution_count": null,
      "outputs": []
    },
    {
      "cell_type": "code",
      "metadata": {
        "id": "g-QZn1BtooQj",
        "colab_type": "code",
        "colab": {}
      },
      "source": [
        "########For multiclass-Kaggle\n",
        "from keras.utils import to_categorical\n",
        "num_classes=3\n",
        "#y_Covid=np.ones(len(X_Covid))\n",
        "y_Covid=np.ones(len(X_Other))\n",
        "#y_AD = to_categorical(y_AD, num_classes=num_classes)\n",
        "#y_Normal=np.zeros(len(X_Normal[:219]))\n",
        "y_Normal=np.zeros(len(X_Other))\n",
        "y_Other=np.full(len(X_Other),2)\n",
        "#y_Control = to_categorical(y_Control, num_classes=num_classes)   \n",
        "#X=np.concatenate((X_Covid,X_Normal[:219],X_Other[:219]))\n",
        "X=np.concatenate((X_Covid, X_Covid_Augmented[:1126],X_Normal[:1345],X_Other))  \n",
        "y=np.concatenate((y_Covid,y_Normal,y_Other))\n"
      ],
      "execution_count": null,
      "outputs": []
    },
    {
      "cell_type": "code",
      "metadata": {
        "id": "6KmXV-Ws7PYP",
        "colab_type": "code",
        "colab": {}
      },
      "source": [
        "########For multiclass-Balanced\n",
        "from keras.utils import to_categorical\n",
        "num_classes=3\n",
        "y_Covid=np.ones(475)\n",
        "#y_AD = to_categorical(y_AD, num_classes=num_classes)\n",
        "y_Normal=np.zeros(len(X_Normal[:475]))\n",
        "y_Other_Pneumonia=np.full(475,2)\n",
        "#y_Control = to_categorical(y_Control, num_classes=num_classes)   \n",
        "#X=np.concatenate((X_Covid, X_Covid_Augmented[:1108], X_Normal,X_Other_Pneumonia[:1583])) \n",
        "X=np.concatenate((X_Covid, X_Normal[:475],X_Other_Pneumonia[:475]))  \n",
        "y=np.concatenate((y_Covid,y_Normal,y_Other_Pneumonia))\n"
      ],
      "execution_count": null,
      "outputs": []
    },
    {
      "cell_type": "code",
      "metadata": {
        "id": "vUPSKChby7qr",
        "colab_type": "code",
        "colab": {}
      },
      "source": [
        "RR=np.array(scores)\n",
        "sss=pd.DataFrame(RR)\n",
        "#ssss=sss.to_csv('/content/drive/My Drive/covid-19/Small_CT_COVID/Large_CT_covid.csv')\n",
        "ssss=sss.to_csv('/content/drive/My Drive/covid-19/Results/Experimen10.csv')"
      ],
      "execution_count": null,
      "outputs": []
    },
    {
      "cell_type": "code",
      "metadata": {
        "id": "8fAGONGz8cSD",
        "colab_type": "code",
        "colab": {}
      },
      "source": [
        "covid=pd.read_csv('/content/drive/My Drive/covid-19/covid_images_clinical_notes.csv')\n",
        "covid_images=covid['covid_images']\n",
        "clinical_notes=covid['clinical_notes']"
      ],
      "execution_count": null,
      "outputs": []
    },
    {
      "cell_type": "code",
      "metadata": {
        "id": "plkR2MEGivDh",
        "colab_type": "code",
        "colab": {}
      },
      "source": [
        "XX=X.tolist()\n",
        "covid=X_Covid.tolist()"
      ],
      "execution_count": null,
      "outputs": []
    },
    {
      "cell_type": "code",
      "metadata": {
        "id": "W-YPM5BzB6CQ",
        "colab_type": "code",
        "colab": {}
      },
      "source": [
        "V=[]\n",
        "for i in range(len(XX)):\n",
        "  if XX[i] in covid:\n",
        "     V.append(i)\n",
        "\n",
        "    "
      ],
      "execution_count": null,
      "outputs": []
    },
    {
      "cell_type": "code",
      "metadata": {
        "id": "aqMdmcOVXyFK",
        "colab_type": "code",
        "colab": {}
      },
      "source": [
        "%pip install tensorflow==1.13.1"
      ],
      "execution_count": null,
      "outputs": []
    },
    {
      "cell_type": "code",
      "metadata": {
        "id": "aw8yuUk3d6eK",
        "colab_type": "code",
        "colab": {}
      },
      "source": [
        "tensorflow.__version__"
      ],
      "execution_count": null,
      "outputs": []
    },
    {
      "cell_type": "code",
      "metadata": {
        "id": "6b6ZsgnS7qeS",
        "colab_type": "code",
        "colab": {
          "base_uri": "https://localhost:8080/",
          "height": 35
        },
        "outputId": "336ff3a5-f543-4c12-a764-dce746ef8d7e"
      },
      "source": [
        "import tensorflow as tf\n",
        "tf.__version__\n"
      ],
      "execution_count": null,
      "outputs": [
        {
          "output_type": "execute_result",
          "data": {
            "application/vnd.google.colaboratory.intrinsic+json": {
              "type": "string"
            },
            "text/plain": [
              "'2.3.0'"
            ]
          },
          "metadata": {
            "tags": []
          },
          "execution_count": 13
        }
      ]
    },
    {
      "cell_type": "code",
      "metadata": {
        "id": "COzmzZd-PDxE",
        "colab_type": "code",
        "colab": {}
      },
      "source": [
        "!pip uninstall keras"
      ],
      "execution_count": null,
      "outputs": []
    },
    {
      "cell_type": "code",
      "metadata": {
        "id": "OrITWnrYPRd4",
        "colab_type": "code",
        "colab": {}
      },
      "source": [
        "!pip install tensorflow"
      ],
      "execution_count": null,
      "outputs": []
    },
    {
      "cell_type": "code",
      "metadata": {
        "id": "lUS5oFNZoiac",
        "colab_type": "code",
        "colab": {}
      },
      "source": [
        "del han_model"
      ],
      "execution_count": null,
      "outputs": []
    },
    {
      "cell_type": "code",
      "metadata": {
        "id": "XSHngD5b0kMS",
        "colab_type": "code",
        "colab": {
          "base_uri": "https://localhost:8080/",
          "height": 1000
        },
        "outputId": "0fa096b9-67eb-4824-e441-cd4bb6ca11aa"
      },
      "source": [
        "#####K-fold Cross Validation#####\n",
        "from sklearn.model_selection import StratifiedKFold\n",
        "from sklearn.model_selection import KFold\n",
        "from sklearn.utils import shuffle\n",
        "TEST_SPLIT=0.1\n",
        "#x = list(enumerate(XT))\n",
        "#XX, y = shuffle(x, y, random_state=0)\n",
        "#indices, X = zip(*XX)\n",
        "X, y = shuffle(X, y, random_state=0)\n",
        "#X_train, X_test, y_train, y_test= train_test_split(X, y, test_size=TEST_SPLIT, random_state=0, stratify=y)\n",
        "#X=np.array(X)\n",
        "#kFold = StratifiedKFold(n_splits=10)\n",
        "kFold = KFold(n_splits=10)\n",
        "scores = []\n",
        "idx = 0\n",
        "for train, test in kFold.split(X, y):\n",
        "    idx = idx+1\n",
        "  #if idx==1:\n",
        "\n",
        "    print(\"fold:\", idx)\n",
        "    X_tr=X[train]\n",
        "    y_tr=y[train]\n",
        "    X_test=X[test]\n",
        "    y_test=y[test]\n",
        "    X_train, X_val, y_train, y_val= train_test_split(X_tr, y_tr, test_size=TEST_SPLIT, random_state=0, stratify=y_tr)\n",
        "    del X_tr\n",
        "    y_train=to_categorical(y_train, num_classes=3)\n",
        "    y_val=to_categorical(y_val, num_classes=3)\n",
        "    y_test=to_categorical(y_test, num_classes=3)\n",
        "    #han_model = HAN(max_sent_length=5,\n",
        "                 #max_sent_num=5, max_doc_num=5, word_embed_dim=100, sent_embed_dim=100, doc_embed_dim=100)\n",
        "\n",
        "    R=han_model.train_model(checkpoint_path, np.array(X_train), np.array(y_train), np.array(X_val), np.array(y_val), np.array(X_test), np.array(y_test), epochs=20,batch_size=20)\n",
        "    scores.append(R)\n",
        "    del X_train\n",
        "    del X_test\n",
        "    #del han_model\n",
        "print(scores)\n",
        "#print(scores.mean())"
      ],
      "execution_count": null,
      "outputs": [
        {
          "output_type": "stream",
          "text": [
            "fold: 1\n",
            "WARNING:tensorflow:From /tensorflow-1.15.2/python3.6/keras/backend/tensorflow_backend.py:422: The name tf.global_variables is deprecated. Please use tf.compat.v1.global_variables instead.\n",
            "\n",
            "Train on 1153 samples, validate on 129 samples\n",
            "Epoch 1/20\n",
            "1153/1153 [==============================] - 5s 4ms/step - loss: 0.6631 - acc: 0.7459 - val_loss: 0.3252 - val_acc: 0.8682\n",
            "\n",
            "Epoch 00001: saving model to /content/model.01-0.33.hdf5\n",
            "Epoch 2/20\n",
            "1153/1153 [==============================] - 2s 2ms/step - loss: 0.1728 - acc: 0.9306 - val_loss: 0.1645 - val_acc: 0.9457\n",
            "\n",
            "Epoch 00002: saving model to /content/model.02-0.16.hdf5\n",
            "Epoch 3/20\n",
            "1153/1153 [==============================] - 2s 2ms/step - loss: 0.0988 - acc: 0.9601 - val_loss: 0.1404 - val_acc: 0.9380\n",
            "\n",
            "Epoch 00003: saving model to /content/model.03-0.14.hdf5\n",
            "Epoch 4/20\n",
            "1153/1153 [==============================] - 2s 2ms/step - loss: 0.0861 - acc: 0.9688 - val_loss: 0.1168 - val_acc: 0.9612\n",
            "\n",
            "Epoch 00004: saving model to /content/model.04-0.12.hdf5\n",
            "Epoch 5/20\n",
            "1153/1153 [==============================] - 2s 2ms/step - loss: 0.0683 - acc: 0.9801 - val_loss: 0.0907 - val_acc: 0.9690\n",
            "\n",
            "Epoch 00005: saving model to /content/model.05-0.09.hdf5\n",
            "Epoch 6/20\n",
            "1153/1153 [==============================] - 3s 2ms/step - loss: 0.0595 - acc: 0.9775 - val_loss: 0.1288 - val_acc: 0.9612\n",
            "\n",
            "Epoch 00006: saving model to /content/model.06-0.13.hdf5\n",
            "Epoch 7/20\n",
            "1153/1153 [==============================] - 3s 2ms/step - loss: 0.0480 - acc: 0.9870 - val_loss: 0.0785 - val_acc: 0.9690\n",
            "\n",
            "Epoch 00007: saving model to /content/model.07-0.08.hdf5\n",
            "Epoch 8/20\n",
            "1153/1153 [==============================] - 2s 2ms/step - loss: 0.0358 - acc: 0.9905 - val_loss: 0.1043 - val_acc: 0.9690\n",
            "\n",
            "Epoch 00008: saving model to /content/model.08-0.10.hdf5\n",
            "Epoch 9/20\n",
            "1153/1153 [==============================] - 2s 2ms/step - loss: 0.0331 - acc: 0.9887 - val_loss: 0.1251 - val_acc: 0.9690\n",
            "\n",
            "Epoch 00009: saving model to /content/model.09-0.13.hdf5\n",
            "Epoch 10/20\n",
            "1153/1153 [==============================] - 2s 2ms/step - loss: 0.0348 - acc: 0.9861 - val_loss: 0.0816 - val_acc: 0.9767\n",
            "\n",
            "Epoch 00010: saving model to /content/model.10-0.08.hdf5\n",
            "Epoch 11/20\n",
            "1153/1153 [==============================] - 2s 2ms/step - loss: 0.0286 - acc: 0.9887 - val_loss: 0.0844 - val_acc: 0.9767\n",
            "\n",
            "Epoch 00011: saving model to /content/model.11-0.08.hdf5\n",
            "Epoch 12/20\n",
            "1153/1153 [==============================] - 2s 2ms/step - loss: 0.0220 - acc: 0.9887 - val_loss: 0.0637 - val_acc: 0.9690\n",
            "\n",
            "Epoch 00012: saving model to /content/model.12-0.06.hdf5\n",
            "Epoch 13/20\n",
            "1153/1153 [==============================] - 2s 2ms/step - loss: 0.0187 - acc: 0.9939 - val_loss: 0.1049 - val_acc: 0.9690\n",
            "\n",
            "Epoch 00013: saving model to /content/model.13-0.10.hdf5\n",
            "Epoch 14/20\n",
            "1153/1153 [==============================] - 2s 2ms/step - loss: 0.0130 - acc: 0.9965 - val_loss: 0.0689 - val_acc: 0.9690\n",
            "\n",
            "Epoch 00014: saving model to /content/model.14-0.07.hdf5\n",
            "Epoch 15/20\n",
            "1153/1153 [==============================] - 2s 2ms/step - loss: 0.0193 - acc: 0.9913 - val_loss: 0.1401 - val_acc: 0.9612\n",
            "\n",
            "Epoch 00015: saving model to /content/model.15-0.14.hdf5\n",
            "Epoch 16/20\n",
            "1153/1153 [==============================] - 2s 2ms/step - loss: 0.0144 - acc: 0.9939 - val_loss: 0.0640 - val_acc: 0.9767\n",
            "\n",
            "Epoch 00016: saving model to /content/model.16-0.06.hdf5\n",
            "Epoch 17/20\n",
            "1153/1153 [==============================] - 2s 2ms/step - loss: 0.0086 - acc: 0.9965 - val_loss: 0.0613 - val_acc: 0.9845\n",
            "\n",
            "Epoch 00017: saving model to /content/model.17-0.06.hdf5\n",
            "Epoch 18/20\n",
            "1153/1153 [==============================] - 2s 2ms/step - loss: 0.0131 - acc: 0.9957 - val_loss: 0.0628 - val_acc: 0.9690\n",
            "\n",
            "Epoch 00018: saving model to /content/model.18-0.06.hdf5\n",
            "Epoch 19/20\n",
            "1153/1153 [==============================] - 2s 2ms/step - loss: 0.0092 - acc: 0.9983 - val_loss: 0.0641 - val_acc: 0.9767\n",
            "\n",
            "Epoch 00019: saving model to /content/model.19-0.06.hdf5\n",
            "Epoch 20/20\n",
            "1153/1153 [==============================] - 2s 2ms/step - loss: 0.0056 - acc: 1.0000 - val_loss: 0.0647 - val_acc: 0.9767\n",
            "\n",
            "Epoch 00020: saving model to /content/model.20-0.06.hdf5\n",
            "143/143 [==============================] - 0s 1ms/step\n",
            "test loss, test acc: [0.07220392028418113, 0.9720279574394226]\n",
            "fold: 2\n",
            "Train on 1153 samples, validate on 129 samples\n",
            "Epoch 1/20\n",
            "1153/1153 [==============================] - 5s 4ms/step - loss: 0.2497 - acc: 0.9558 - val_loss: 0.0299 - val_acc: 0.9922\n",
            "\n",
            "Epoch 00001: saving model to /content/model.01-0.03.hdf5\n",
            "Epoch 2/20\n",
            "1153/1153 [==============================] - 2s 2ms/step - loss: 0.0388 - acc: 0.9879 - val_loss: 0.0418 - val_acc: 0.9922\n",
            "\n",
            "Epoch 00002: saving model to /content/model.02-0.04.hdf5\n",
            "Epoch 3/20\n",
            "1153/1153 [==============================] - 3s 2ms/step - loss: 0.0356 - acc: 0.9887 - val_loss: 0.0201 - val_acc: 0.9922\n",
            "\n",
            "Epoch 00003: saving model to /content/model.03-0.02.hdf5\n",
            "Epoch 4/20\n",
            "1153/1153 [==============================] - 3s 2ms/step - loss: 0.0334 - acc: 0.9879 - val_loss: 0.0115 - val_acc: 1.0000\n",
            "\n",
            "Epoch 00004: saving model to /content/model.04-0.01.hdf5\n",
            "Epoch 5/20\n",
            "1153/1153 [==============================] - 2s 2ms/step - loss: 0.0160 - acc: 0.9957 - val_loss: 0.0232 - val_acc: 0.9922\n",
            "\n",
            "Epoch 00005: saving model to /content/model.05-0.02.hdf5\n",
            "Epoch 6/20\n",
            "1153/1153 [==============================] - 3s 2ms/step - loss: 0.0219 - acc: 0.9948 - val_loss: 0.0069 - val_acc: 1.0000\n",
            "\n",
            "Epoch 00006: saving model to /content/model.06-0.01.hdf5\n",
            "Epoch 7/20\n",
            "1153/1153 [==============================] - 2s 2ms/step - loss: 0.0141 - acc: 0.9939 - val_loss: 0.0212 - val_acc: 0.9922\n",
            "\n",
            "Epoch 00007: saving model to /content/model.07-0.02.hdf5\n",
            "Epoch 8/20\n",
            "1153/1153 [==============================] - 2s 2ms/step - loss: 0.0230 - acc: 0.9922 - val_loss: 0.0164 - val_acc: 0.9922\n",
            "\n",
            "Epoch 00008: saving model to /content/model.08-0.02.hdf5\n",
            "Epoch 9/20\n",
            "1153/1153 [==============================] - 2s 2ms/step - loss: 0.0155 - acc: 0.9939 - val_loss: 0.0185 - val_acc: 0.9922\n",
            "\n",
            "Epoch 00009: saving model to /content/model.09-0.02.hdf5\n",
            "Epoch 10/20\n",
            "1153/1153 [==============================] - 3s 2ms/step - loss: 0.0203 - acc: 0.9922 - val_loss: 0.0324 - val_acc: 0.9922\n",
            "\n",
            "Epoch 00010: saving model to /content/model.10-0.03.hdf5\n",
            "Epoch 11/20\n",
            "1153/1153 [==============================] - 3s 2ms/step - loss: 0.0178 - acc: 0.9939 - val_loss: 0.0306 - val_acc: 0.9922\n",
            "\n",
            "Epoch 00011: saving model to /content/model.11-0.03.hdf5\n",
            "Epoch 12/20\n",
            "1153/1153 [==============================] - 2s 2ms/step - loss: 0.0198 - acc: 0.9931 - val_loss: 0.0082 - val_acc: 0.9922\n",
            "\n",
            "Epoch 00012: saving model to /content/model.12-0.01.hdf5\n",
            "Epoch 13/20\n",
            "1153/1153 [==============================] - 2s 2ms/step - loss: 0.0112 - acc: 0.9965 - val_loss: 0.0036 - val_acc: 1.0000\n",
            "\n",
            "Epoch 00013: saving model to /content/model.13-0.00.hdf5\n",
            "Epoch 14/20\n",
            "1153/1153 [==============================] - 2s 2ms/step - loss: 0.0098 - acc: 0.9965 - val_loss: 0.0021 - val_acc: 1.0000\n",
            "\n",
            "Epoch 00014: saving model to /content/model.14-0.00.hdf5\n",
            "Epoch 15/20\n",
            "1153/1153 [==============================] - 2s 2ms/step - loss: 0.0054 - acc: 0.9983 - val_loss: 0.0065 - val_acc: 0.9922\n",
            "\n",
            "Epoch 00015: saving model to /content/model.15-0.01.hdf5\n",
            "Epoch 16/20\n",
            "1153/1153 [==============================] - 2s 2ms/step - loss: 0.0103 - acc: 0.9965 - val_loss: 0.0118 - val_acc: 0.9922\n",
            "\n",
            "Epoch 00016: saving model to /content/model.16-0.01.hdf5\n",
            "Epoch 17/20\n",
            "1153/1153 [==============================] - 2s 2ms/step - loss: 0.0063 - acc: 0.9974 - val_loss: 0.0074 - val_acc: 0.9922\n",
            "\n",
            "Epoch 00017: saving model to /content/model.17-0.01.hdf5\n",
            "Epoch 18/20\n",
            "1153/1153 [==============================] - 2s 2ms/step - loss: 0.0051 - acc: 0.9991 - val_loss: 0.0064 - val_acc: 0.9922\n",
            "\n",
            "Epoch 00018: saving model to /content/model.18-0.01.hdf5\n",
            "Epoch 19/20\n",
            "1153/1153 [==============================] - 2s 2ms/step - loss: 0.0022 - acc: 1.0000 - val_loss: 0.0094 - val_acc: 0.9922\n",
            "\n",
            "Epoch 00019: saving model to /content/model.19-0.01.hdf5\n",
            "Epoch 20/20\n",
            "1153/1153 [==============================] - 2s 2ms/step - loss: 0.0061 - acc: 0.9991 - val_loss: 0.0067 - val_acc: 0.9922\n",
            "\n",
            "Epoch 00020: saving model to /content/model.20-0.01.hdf5\n",
            "143/143 [==============================] - 0s 834us/step\n",
            "test loss, test acc: [0.006165143383123313, 0.9930070042610168]\n",
            "fold: 3\n",
            "Train on 1153 samples, validate on 129 samples\n",
            "Epoch 1/20\n",
            "1153/1153 [==============================] - 5s 4ms/step - loss: 0.2126 - acc: 0.9662 - val_loss: 0.0240 - val_acc: 0.9922\n",
            "\n",
            "Epoch 00001: saving model to /content/model.01-0.02.hdf5\n",
            "Epoch 2/20\n",
            "1153/1153 [==============================] - 2s 2ms/step - loss: 0.0261 - acc: 0.9896 - val_loss: 0.0030 - val_acc: 1.0000\n",
            "\n",
            "Epoch 00002: saving model to /content/model.02-0.00.hdf5\n",
            "Epoch 3/20\n",
            "1153/1153 [==============================] - 2s 2ms/step - loss: 0.0176 - acc: 0.9913 - val_loss: 0.0013 - val_acc: 1.0000\n",
            "\n",
            "Epoch 00003: saving model to /content/model.03-0.00.hdf5\n",
            "Epoch 4/20\n",
            "1153/1153 [==============================] - 2s 2ms/step - loss: 0.0143 - acc: 0.9922 - val_loss: 0.0014 - val_acc: 1.0000\n",
            "\n",
            "Epoch 00004: saving model to /content/model.04-0.00.hdf5\n",
            "Epoch 5/20\n",
            "1153/1153 [==============================] - 2s 2ms/step - loss: 0.0081 - acc: 0.9974 - val_loss: 0.0018 - val_acc: 1.0000\n",
            "\n",
            "Epoch 00005: saving model to /content/model.05-0.00.hdf5\n",
            "Epoch 6/20\n",
            "1153/1153 [==============================] - 2s 2ms/step - loss: 0.0152 - acc: 0.9939 - val_loss: 0.0045 - val_acc: 1.0000\n",
            "\n",
            "Epoch 00006: saving model to /content/model.06-0.00.hdf5\n",
            "Epoch 7/20\n",
            "1153/1153 [==============================] - 2s 2ms/step - loss: 0.0094 - acc: 0.9974 - val_loss: 0.0011 - val_acc: 1.0000\n",
            "\n",
            "Epoch 00007: saving model to /content/model.07-0.00.hdf5\n",
            "Epoch 8/20\n",
            "1153/1153 [==============================] - 2s 2ms/step - loss: 0.0053 - acc: 0.9983 - val_loss: 3.6394e-04 - val_acc: 1.0000\n",
            "\n",
            "Epoch 00008: saving model to /content/model.08-0.00.hdf5\n",
            "Epoch 9/20\n",
            "1153/1153 [==============================] - 2s 2ms/step - loss: 0.0073 - acc: 0.9983 - val_loss: 9.2268e-04 - val_acc: 1.0000\n",
            "\n",
            "Epoch 00009: saving model to /content/model.09-0.00.hdf5\n",
            "Epoch 10/20\n",
            "1153/1153 [==============================] - 2s 2ms/step - loss: 0.0047 - acc: 0.9983 - val_loss: 5.6587e-04 - val_acc: 1.0000\n",
            "\n",
            "Epoch 00010: saving model to /content/model.10-0.00.hdf5\n",
            "Epoch 11/20\n",
            "1153/1153 [==============================] - 2s 2ms/step - loss: 0.0040 - acc: 1.0000 - val_loss: 6.2250e-04 - val_acc: 1.0000\n",
            "\n",
            "Epoch 00011: saving model to /content/model.11-0.00.hdf5\n",
            "Epoch 12/20\n",
            "1153/1153 [==============================] - 2s 2ms/step - loss: 0.0068 - acc: 0.9974 - val_loss: 0.0014 - val_acc: 1.0000\n",
            "\n",
            "Epoch 00012: saving model to /content/model.12-0.00.hdf5\n",
            "Epoch 13/20\n",
            "1153/1153 [==============================] - 2s 2ms/step - loss: 0.0029 - acc: 1.0000 - val_loss: 4.8138e-04 - val_acc: 1.0000\n",
            "\n",
            "Epoch 00013: saving model to /content/model.13-0.00.hdf5\n",
            "Epoch 14/20\n",
            "1153/1153 [==============================] - 2s 2ms/step - loss: 0.0072 - acc: 0.9974 - val_loss: 4.3122e-04 - val_acc: 1.0000\n",
            "\n",
            "Epoch 00014: saving model to /content/model.14-0.00.hdf5\n",
            "Epoch 15/20\n",
            "1153/1153 [==============================] - 2s 2ms/step - loss: 0.0050 - acc: 0.9991 - val_loss: 1.9858e-04 - val_acc: 1.0000\n",
            "\n",
            "Epoch 00015: saving model to /content/model.15-0.00.hdf5\n",
            "Epoch 16/20\n",
            "1153/1153 [==============================] - 2s 2ms/step - loss: 0.0017 - acc: 1.0000 - val_loss: 2.4387e-04 - val_acc: 1.0000\n",
            "\n",
            "Epoch 00016: saving model to /content/model.16-0.00.hdf5\n",
            "Epoch 17/20\n",
            "1153/1153 [==============================] - 2s 2ms/step - loss: 0.0018 - acc: 1.0000 - val_loss: 2.4147e-04 - val_acc: 1.0000\n",
            "\n",
            "Epoch 00017: saving model to /content/model.17-0.00.hdf5\n",
            "Epoch 18/20\n",
            "1153/1153 [==============================] - 2s 2ms/step - loss: 0.0024 - acc: 0.9991 - val_loss: 1.9165e-04 - val_acc: 1.0000\n",
            "\n",
            "Epoch 00018: saving model to /content/model.18-0.00.hdf5\n",
            "Epoch 19/20\n",
            "1153/1153 [==============================] - 2s 2ms/step - loss: 0.0018 - acc: 1.0000 - val_loss: 1.8090e-04 - val_acc: 1.0000\n",
            "\n",
            "Epoch 00019: saving model to /content/model.19-0.00.hdf5\n",
            "Epoch 20/20\n",
            "1153/1153 [==============================] - 2s 2ms/step - loss: 0.0035 - acc: 0.9983 - val_loss: 1.5748e-04 - val_acc: 1.0000\n",
            "\n",
            "Epoch 00020: saving model to /content/model.20-0.00.hdf5\n",
            "143/143 [==============================] - 0s 908us/step\n",
            "test loss, test acc: [0.002028089537302835, 1.0]\n",
            "fold: 4\n",
            "Train on 1153 samples, validate on 129 samples\n",
            "Epoch 1/20\n",
            "1153/1153 [==============================] - 5s 5ms/step - loss: 0.1206 - acc: 0.9748 - val_loss: 0.0039 - val_acc: 1.0000\n",
            "\n",
            "Epoch 00001: saving model to /content/model.01-0.00.hdf5\n",
            "Epoch 2/20\n",
            "1153/1153 [==============================] - 2s 2ms/step - loss: 0.0202 - acc: 0.9913 - val_loss: 0.0074 - val_acc: 1.0000\n",
            "\n",
            "Epoch 00002: saving model to /content/model.02-0.01.hdf5\n",
            "Epoch 3/20\n",
            "1153/1153 [==============================] - 2s 2ms/step - loss: 0.0122 - acc: 0.9965 - val_loss: 0.0020 - val_acc: 1.0000\n",
            "\n",
            "Epoch 00003: saving model to /content/model.03-0.00.hdf5\n",
            "Epoch 4/20\n",
            "1153/1153 [==============================] - 2s 2ms/step - loss: 0.0072 - acc: 0.9983 - val_loss: 0.0021 - val_acc: 1.0000\n",
            "\n",
            "Epoch 00004: saving model to /content/model.04-0.00.hdf5\n",
            "Epoch 5/20\n",
            "1153/1153 [==============================] - 2s 2ms/step - loss: 0.0049 - acc: 0.9983 - val_loss: 5.4088e-04 - val_acc: 1.0000\n",
            "\n",
            "Epoch 00005: saving model to /content/model.05-0.00.hdf5\n",
            "Epoch 6/20\n",
            "1153/1153 [==============================] - 2s 2ms/step - loss: 0.0106 - acc: 0.9965 - val_loss: 5.7160e-04 - val_acc: 1.0000\n",
            "\n",
            "Epoch 00006: saving model to /content/model.06-0.00.hdf5\n",
            "Epoch 7/20\n",
            "1153/1153 [==============================] - 2s 2ms/step - loss: 0.0049 - acc: 0.9991 - val_loss: 4.4354e-04 - val_acc: 1.0000\n",
            "\n",
            "Epoch 00007: saving model to /content/model.07-0.00.hdf5\n",
            "Epoch 8/20\n",
            "1153/1153 [==============================] - 2s 2ms/step - loss: 0.0061 - acc: 0.9983 - val_loss: 5.1769e-04 - val_acc: 1.0000\n",
            "\n",
            "Epoch 00008: saving model to /content/model.08-0.00.hdf5\n",
            "Epoch 9/20\n",
            "1153/1153 [==============================] - 2s 2ms/step - loss: 0.0037 - acc: 1.0000 - val_loss: 0.0169 - val_acc: 0.9922\n",
            "\n",
            "Epoch 00009: saving model to /content/model.09-0.02.hdf5\n",
            "Epoch 10/20\n",
            "1153/1153 [==============================] - 2s 2ms/step - loss: 0.0045 - acc: 0.9983 - val_loss: 0.0061 - val_acc: 1.0000\n",
            "\n",
            "Epoch 00010: saving model to /content/model.10-0.01.hdf5\n",
            "Epoch 11/20\n",
            "1153/1153 [==============================] - 2s 2ms/step - loss: 0.0031 - acc: 1.0000 - val_loss: 0.0021 - val_acc: 1.0000\n",
            "\n",
            "Epoch 00011: saving model to /content/model.11-0.00.hdf5\n",
            "Epoch 12/20\n",
            "1153/1153 [==============================] - 2s 2ms/step - loss: 9.3392e-04 - acc: 1.0000 - val_loss: 0.0047 - val_acc: 1.0000\n",
            "\n",
            "Epoch 00012: saving model to /content/model.12-0.00.hdf5\n",
            "Epoch 13/20\n",
            "1153/1153 [==============================] - 2s 2ms/step - loss: 0.0024 - acc: 1.0000 - val_loss: 0.0012 - val_acc: 1.0000\n",
            "\n",
            "Epoch 00013: saving model to /content/model.13-0.00.hdf5\n",
            "Epoch 14/20\n",
            "1153/1153 [==============================] - 2s 2ms/step - loss: 0.0028 - acc: 0.9991 - val_loss: 3.0335e-04 - val_acc: 1.0000\n",
            "\n",
            "Epoch 00014: saving model to /content/model.14-0.00.hdf5\n",
            "Epoch 15/20\n",
            "1153/1153 [==============================] - 2s 2ms/step - loss: 0.0041 - acc: 0.9983 - val_loss: 6.2592e-04 - val_acc: 1.0000\n",
            "\n",
            "Epoch 00015: saving model to /content/model.15-0.00.hdf5\n",
            "Epoch 16/20\n",
            "1153/1153 [==============================] - 2s 2ms/step - loss: 0.0020 - acc: 0.9991 - val_loss: 0.0055 - val_acc: 1.0000\n",
            "\n",
            "Epoch 00016: saving model to /content/model.16-0.01.hdf5\n",
            "Epoch 17/20\n",
            "1153/1153 [==============================] - 2s 2ms/step - loss: 0.0029 - acc: 0.9991 - val_loss: 0.0013 - val_acc: 1.0000\n",
            "\n",
            "Epoch 00017: saving model to /content/model.17-0.00.hdf5\n",
            "Epoch 18/20\n",
            "1153/1153 [==============================] - 2s 2ms/step - loss: 0.0049 - acc: 0.9974 - val_loss: 4.1187e-04 - val_acc: 1.0000\n",
            "\n",
            "Epoch 00018: saving model to /content/model.18-0.00.hdf5\n",
            "Epoch 19/20\n",
            "1153/1153 [==============================] - 2s 2ms/step - loss: 0.0026 - acc: 0.9991 - val_loss: 0.0012 - val_acc: 1.0000\n",
            "\n",
            "Epoch 00019: saving model to /content/model.19-0.00.hdf5\n",
            "Epoch 20/20\n",
            "1153/1153 [==============================] - 2s 2ms/step - loss: 0.0035 - acc: 0.9983 - val_loss: 0.0013 - val_acc: 1.0000\n",
            "\n",
            "Epoch 00020: saving model to /content/model.20-0.00.hdf5\n",
            "143/143 [==============================] - 0s 902us/step\n",
            "test loss, test acc: [0.00948205258521771, 0.9930070042610168]\n",
            "fold: 5\n",
            "Train on 1153 samples, validate on 129 samples\n",
            "Epoch 1/20\n",
            "1153/1153 [==============================] - 6s 5ms/step - loss: 0.2360 - acc: 0.9653 - val_loss: 0.0010 - val_acc: 1.0000\n",
            "\n",
            "Epoch 00001: saving model to /content/model.01-0.00.hdf5\n",
            "Epoch 2/20\n",
            "1153/1153 [==============================] - 2s 2ms/step - loss: 0.0171 - acc: 0.9931 - val_loss: 7.0653e-04 - val_acc: 1.0000\n",
            "\n",
            "Epoch 00002: saving model to /content/model.02-0.00.hdf5\n",
            "Epoch 3/20\n",
            "1153/1153 [==============================] - 2s 2ms/step - loss: 0.0062 - acc: 0.9965 - val_loss: 2.3176e-04 - val_acc: 1.0000\n",
            "\n",
            "Epoch 00003: saving model to /content/model.03-0.00.hdf5\n",
            "Epoch 4/20\n",
            "1153/1153 [==============================] - 2s 2ms/step - loss: 0.0056 - acc: 0.9983 - val_loss: 3.2815e-04 - val_acc: 1.0000\n",
            "\n",
            "Epoch 00004: saving model to /content/model.04-0.00.hdf5\n",
            "Epoch 5/20\n",
            "1153/1153 [==============================] - 2s 2ms/step - loss: 0.0061 - acc: 0.9991 - val_loss: 5.6940e-04 - val_acc: 1.0000\n",
            "\n",
            "Epoch 00005: saving model to /content/model.05-0.00.hdf5\n",
            "Epoch 6/20\n",
            "1153/1153 [==============================] - 2s 2ms/step - loss: 0.0155 - acc: 0.9957 - val_loss: 0.0022 - val_acc: 1.0000\n",
            "\n",
            "Epoch 00006: saving model to /content/model.06-0.00.hdf5\n",
            "Epoch 7/20\n",
            "1153/1153 [==============================] - 2s 2ms/step - loss: 0.0074 - acc: 0.9957 - val_loss: 0.0015 - val_acc: 1.0000\n",
            "\n",
            "Epoch 00007: saving model to /content/model.07-0.00.hdf5\n",
            "Epoch 8/20\n",
            "1153/1153 [==============================] - 2s 2ms/step - loss: 0.0026 - acc: 1.0000 - val_loss: 0.0011 - val_acc: 1.0000\n",
            "\n",
            "Epoch 00008: saving model to /content/model.08-0.00.hdf5\n",
            "Epoch 9/20\n",
            "1153/1153 [==============================] - 2s 2ms/step - loss: 0.0010 - acc: 1.0000 - val_loss: 5.9513e-04 - val_acc: 1.0000\n",
            "\n",
            "Epoch 00009: saving model to /content/model.09-0.00.hdf5\n",
            "Epoch 10/20\n",
            "1153/1153 [==============================] - 3s 2ms/step - loss: 0.0057 - acc: 0.9965 - val_loss: 2.4669e-04 - val_acc: 1.0000\n",
            "\n",
            "Epoch 00010: saving model to /content/model.10-0.00.hdf5\n",
            "Epoch 11/20\n",
            "1153/1153 [==============================] - 2s 2ms/step - loss: 0.0032 - acc: 0.9991 - val_loss: 8.5848e-04 - val_acc: 1.0000\n",
            "\n",
            "Epoch 00011: saving model to /content/model.11-0.00.hdf5\n",
            "Epoch 12/20\n",
            "1153/1153 [==============================] - 2s 2ms/step - loss: 0.0021 - acc: 1.0000 - val_loss: 1.2189e-04 - val_acc: 1.0000\n",
            "\n",
            "Epoch 00012: saving model to /content/model.12-0.00.hdf5\n",
            "Epoch 13/20\n",
            "1153/1153 [==============================] - 2s 2ms/step - loss: 0.0015 - acc: 1.0000 - val_loss: 8.6876e-05 - val_acc: 1.0000\n",
            "\n",
            "Epoch 00013: saving model to /content/model.13-0.00.hdf5\n",
            "Epoch 14/20\n",
            "1153/1153 [==============================] - 2s 2ms/step - loss: 0.0063 - acc: 0.9983 - val_loss: 1.4185e-04 - val_acc: 1.0000\n",
            "\n",
            "Epoch 00014: saving model to /content/model.14-0.00.hdf5\n",
            "Epoch 15/20\n",
            "1153/1153 [==============================] - 2s 2ms/step - loss: 0.0022 - acc: 1.0000 - val_loss: 1.0252e-04 - val_acc: 1.0000\n",
            "\n",
            "Epoch 00015: saving model to /content/model.15-0.00.hdf5\n",
            "Epoch 16/20\n",
            "1153/1153 [==============================] - 2s 2ms/step - loss: 0.0024 - acc: 0.9991 - val_loss: 1.2462e-04 - val_acc: 1.0000\n",
            "\n",
            "Epoch 00016: saving model to /content/model.16-0.00.hdf5\n",
            "Epoch 17/20\n",
            "1153/1153 [==============================] - 2s 2ms/step - loss: 0.0013 - acc: 1.0000 - val_loss: 9.1603e-05 - val_acc: 1.0000\n",
            "\n",
            "Epoch 00017: saving model to /content/model.17-0.00.hdf5\n",
            "Epoch 18/20\n",
            "1153/1153 [==============================] - 2s 2ms/step - loss: 0.0126 - acc: 0.9965 - val_loss: 1.2876e-04 - val_acc: 1.0000\n",
            "\n",
            "Epoch 00018: saving model to /content/model.18-0.00.hdf5\n",
            "Epoch 19/20\n",
            "1153/1153 [==============================] - 2s 2ms/step - loss: 0.0018 - acc: 1.0000 - val_loss: 1.3081e-04 - val_acc: 1.0000\n",
            "\n",
            "Epoch 00019: saving model to /content/model.19-0.00.hdf5\n",
            "Epoch 20/20\n",
            "1153/1153 [==============================] - 2s 2ms/step - loss: 0.0010 - acc: 1.0000 - val_loss: 1.4886e-04 - val_acc: 1.0000\n",
            "\n",
            "Epoch 00020: saving model to /content/model.20-0.00.hdf5\n",
            "143/143 [==============================] - 0s 760us/step\n",
            "test loss, test acc: [0.00037600814980149125, 1.0]\n",
            "fold: 6\n",
            "Train on 1154 samples, validate on 129 samples\n",
            "Epoch 1/20\n",
            "1154/1154 [==============================] - 5s 5ms/step - loss: 0.1941 - acc: 0.9671 - val_loss: 0.0067 - val_acc: 1.0000\n",
            "\n",
            "Epoch 00001: saving model to /content/model.01-0.01.hdf5\n",
            "Epoch 2/20\n",
            "1154/1154 [==============================] - 2s 2ms/step - loss: 0.0085 - acc: 0.9974 - val_loss: 3.9442e-04 - val_acc: 1.0000\n",
            "\n",
            "Epoch 00002: saving model to /content/model.02-0.00.hdf5\n",
            "Epoch 3/20\n",
            "1154/1154 [==============================] - 3s 2ms/step - loss: 0.0074 - acc: 0.9974 - val_loss: 8.3681e-05 - val_acc: 1.0000\n",
            "\n",
            "Epoch 00003: saving model to /content/model.03-0.00.hdf5\n",
            "Epoch 4/20\n",
            "1154/1154 [==============================] - 2s 2ms/step - loss: 0.0098 - acc: 0.9957 - val_loss: 4.4209e-04 - val_acc: 1.0000\n",
            "\n",
            "Epoch 00004: saving model to /content/model.04-0.00.hdf5\n",
            "Epoch 5/20\n",
            "1154/1154 [==============================] - 2s 2ms/step - loss: 0.0033 - acc: 0.9983 - val_loss: 8.2562e-04 - val_acc: 1.0000\n",
            "\n",
            "Epoch 00005: saving model to /content/model.05-0.00.hdf5\n",
            "Epoch 6/20\n",
            "1154/1154 [==============================] - 2s 2ms/step - loss: 0.0076 - acc: 0.9965 - val_loss: 2.1840e-04 - val_acc: 1.0000\n",
            "\n",
            "Epoch 00006: saving model to /content/model.06-0.00.hdf5\n",
            "Epoch 7/20\n",
            "1154/1154 [==============================] - 2s 2ms/step - loss: 0.0013 - acc: 1.0000 - val_loss: 0.0023 - val_acc: 1.0000\n",
            "\n",
            "Epoch 00007: saving model to /content/model.07-0.00.hdf5\n",
            "Epoch 8/20\n",
            "1154/1154 [==============================] - 2s 2ms/step - loss: 0.0046 - acc: 0.9974 - val_loss: 6.8450e-04 - val_acc: 1.0000\n",
            "\n",
            "Epoch 00008: saving model to /content/model.08-0.00.hdf5\n",
            "Epoch 9/20\n",
            "1154/1154 [==============================] - 2s 2ms/step - loss: 0.0012 - acc: 1.0000 - val_loss: 1.4208e-04 - val_acc: 1.0000\n",
            "\n",
            "Epoch 00009: saving model to /content/model.09-0.00.hdf5\n",
            "Epoch 10/20\n",
            "1154/1154 [==============================] - 2s 2ms/step - loss: 9.0126e-04 - acc: 1.0000 - val_loss: 2.7382e-04 - val_acc: 1.0000\n",
            "\n",
            "Epoch 00010: saving model to /content/model.10-0.00.hdf5\n",
            "Epoch 11/20\n",
            "1154/1154 [==============================] - 2s 2ms/step - loss: 6.5345e-04 - acc: 1.0000 - val_loss: 4.9111e-04 - val_acc: 1.0000\n",
            "\n",
            "Epoch 00011: saving model to /content/model.11-0.00.hdf5\n",
            "Epoch 12/20\n",
            "1154/1154 [==============================] - 2s 2ms/step - loss: 8.6741e-04 - acc: 1.0000 - val_loss: 5.2268e-04 - val_acc: 1.0000\n",
            "\n",
            "Epoch 00012: saving model to /content/model.12-0.00.hdf5\n",
            "Epoch 13/20\n",
            "1154/1154 [==============================] - 2s 2ms/step - loss: 5.5159e-04 - acc: 1.0000 - val_loss: 4.9159e-04 - val_acc: 1.0000\n",
            "\n",
            "Epoch 00013: saving model to /content/model.13-0.00.hdf5\n",
            "Epoch 14/20\n",
            "1154/1154 [==============================] - 2s 2ms/step - loss: 0.0015 - acc: 1.0000 - val_loss: 6.3607e-04 - val_acc: 1.0000\n",
            "\n",
            "Epoch 00014: saving model to /content/model.14-0.00.hdf5\n",
            "Epoch 15/20\n",
            "1154/1154 [==============================] - 2s 2ms/step - loss: 0.0010 - acc: 1.0000 - val_loss: 1.3467e-04 - val_acc: 1.0000\n",
            "\n",
            "Epoch 00015: saving model to /content/model.15-0.00.hdf5\n",
            "Epoch 16/20\n",
            "1154/1154 [==============================] - 2s 2ms/step - loss: 8.0207e-04 - acc: 1.0000 - val_loss: 1.1956e-04 - val_acc: 1.0000\n",
            "\n",
            "Epoch 00016: saving model to /content/model.16-0.00.hdf5\n",
            "Epoch 17/20\n",
            "1154/1154 [==============================] - 2s 2ms/step - loss: 0.0043 - acc: 0.9974 - val_loss: 2.8517e-04 - val_acc: 1.0000\n",
            "\n",
            "Epoch 00017: saving model to /content/model.17-0.00.hdf5\n",
            "Epoch 18/20\n",
            "1154/1154 [==============================] - 2s 2ms/step - loss: 0.0016 - acc: 0.9991 - val_loss: 1.3305e-04 - val_acc: 1.0000\n",
            "\n",
            "Epoch 00018: saving model to /content/model.18-0.00.hdf5\n",
            "Epoch 19/20\n",
            "1154/1154 [==============================] - 2s 2ms/step - loss: 7.0817e-04 - acc: 1.0000 - val_loss: 6.8152e-05 - val_acc: 1.0000\n",
            "\n",
            "Epoch 00019: saving model to /content/model.19-0.00.hdf5\n",
            "Epoch 20/20\n",
            "1154/1154 [==============================] - 2s 2ms/step - loss: 9.8453e-04 - acc: 1.0000 - val_loss: 8.9118e-05 - val_acc: 1.0000\n",
            "\n",
            "Epoch 00020: saving model to /content/model.20-0.00.hdf5\n",
            "142/142 [==============================] - 0s 929us/step\n",
            "test loss, test acc: [0.00011009873007254447, 1.0]\n",
            "fold: 7\n",
            "Train on 1154 samples, validate on 129 samples\n",
            "Epoch 1/20\n",
            "1154/1154 [==============================] - 5s 4ms/step - loss: 0.1369 - acc: 0.9861 - val_loss: 0.0103 - val_acc: 1.0000\n",
            "\n",
            "Epoch 00001: saving model to /content/model.01-0.01.hdf5\n",
            "Epoch 2/20\n",
            "1154/1154 [==============================] - 2s 2ms/step - loss: 0.0073 - acc: 0.9974 - val_loss: 0.0190 - val_acc: 0.9922\n",
            "\n",
            "Epoch 00002: saving model to /content/model.02-0.02.hdf5\n",
            "Epoch 3/20\n",
            "1154/1154 [==============================] - 2s 2ms/step - loss: 0.0099 - acc: 0.9974 - val_loss: 0.0088 - val_acc: 0.9922\n",
            "\n",
            "Epoch 00003: saving model to /content/model.03-0.01.hdf5\n",
            "Epoch 4/20\n",
            "1154/1154 [==============================] - 2s 2ms/step - loss: 0.0026 - acc: 1.0000 - val_loss: 0.0114 - val_acc: 0.9922\n",
            "\n",
            "Epoch 00004: saving model to /content/model.04-0.01.hdf5\n",
            "Epoch 5/20\n",
            "1154/1154 [==============================] - 2s 2ms/step - loss: 0.0084 - acc: 0.9974 - val_loss: 0.0213 - val_acc: 0.9922\n",
            "\n",
            "Epoch 00005: saving model to /content/model.05-0.02.hdf5\n",
            "Epoch 6/20\n",
            "1154/1154 [==============================] - 2s 2ms/step - loss: 8.0252e-04 - acc: 1.0000 - val_loss: 0.0135 - val_acc: 0.9922\n",
            "\n",
            "Epoch 00006: saving model to /content/model.06-0.01.hdf5\n",
            "Epoch 7/20\n",
            "1154/1154 [==============================] - 2s 2ms/step - loss: 0.0018 - acc: 0.9991 - val_loss: 0.0117 - val_acc: 0.9922\n",
            "\n",
            "Epoch 00007: saving model to /content/model.07-0.01.hdf5\n",
            "Epoch 8/20\n",
            "1154/1154 [==============================] - 2s 2ms/step - loss: 0.0038 - acc: 0.9991 - val_loss: 0.0136 - val_acc: 0.9922\n",
            "\n",
            "Epoch 00008: saving model to /content/model.08-0.01.hdf5\n",
            "Epoch 9/20\n",
            "1154/1154 [==============================] - 2s 2ms/step - loss: 0.0062 - acc: 0.9983 - val_loss: 0.0232 - val_acc: 0.9922\n",
            "\n",
            "Epoch 00009: saving model to /content/model.09-0.02.hdf5\n",
            "Epoch 10/20\n",
            "1154/1154 [==============================] - 2s 2ms/step - loss: 9.1653e-04 - acc: 1.0000 - val_loss: 0.0161 - val_acc: 0.9922\n",
            "\n",
            "Epoch 00010: saving model to /content/model.10-0.02.hdf5\n",
            "Epoch 11/20\n",
            "1154/1154 [==============================] - 2s 2ms/step - loss: 0.0026 - acc: 0.9991 - val_loss: 0.0267 - val_acc: 0.9922\n",
            "\n",
            "Epoch 00011: saving model to /content/model.11-0.03.hdf5\n",
            "Epoch 12/20\n",
            "1154/1154 [==============================] - 2s 2ms/step - loss: 0.0014 - acc: 0.9991 - val_loss: 0.0037 - val_acc: 1.0000\n",
            "\n",
            "Epoch 00012: saving model to /content/model.12-0.00.hdf5\n",
            "Epoch 13/20\n",
            "1154/1154 [==============================] - 2s 2ms/step - loss: 0.0036 - acc: 0.9983 - val_loss: 0.0025 - val_acc: 1.0000\n",
            "\n",
            "Epoch 00013: saving model to /content/model.13-0.00.hdf5\n",
            "Epoch 14/20\n",
            "1154/1154 [==============================] - 2s 2ms/step - loss: 9.5812e-04 - acc: 1.0000 - val_loss: 0.0047 - val_acc: 1.0000\n",
            "\n",
            "Epoch 00014: saving model to /content/model.14-0.00.hdf5\n",
            "Epoch 15/20\n",
            "1154/1154 [==============================] - 2s 2ms/step - loss: 0.0037 - acc: 0.9991 - val_loss: 0.0138 - val_acc: 0.9922\n",
            "\n",
            "Epoch 00015: saving model to /content/model.15-0.01.hdf5\n",
            "Epoch 16/20\n",
            "1154/1154 [==============================] - 2s 2ms/step - loss: 1.8561e-04 - acc: 1.0000 - val_loss: 0.0122 - val_acc: 0.9922\n",
            "\n",
            "Epoch 00016: saving model to /content/model.16-0.01.hdf5\n",
            "Epoch 17/20\n",
            "1154/1154 [==============================] - 2s 2ms/step - loss: 7.7136e-04 - acc: 1.0000 - val_loss: 0.0140 - val_acc: 0.9922\n",
            "\n",
            "Epoch 00017: saving model to /content/model.17-0.01.hdf5\n",
            "Epoch 18/20\n",
            "1154/1154 [==============================] - 2s 2ms/step - loss: 5.1890e-04 - acc: 1.0000 - val_loss: 0.0121 - val_acc: 0.9922\n",
            "\n",
            "Epoch 00018: saving model to /content/model.18-0.01.hdf5\n",
            "Epoch 19/20\n",
            "1154/1154 [==============================] - 2s 2ms/step - loss: 4.0663e-04 - acc: 1.0000 - val_loss: 0.0093 - val_acc: 0.9922\n",
            "\n",
            "Epoch 00019: saving model to /content/model.19-0.01.hdf5\n",
            "Epoch 20/20\n",
            "1154/1154 [==============================] - 2s 2ms/step - loss: 0.0058 - acc: 0.9983 - val_loss: 0.0117 - val_acc: 0.9922\n",
            "\n",
            "Epoch 00020: saving model to /content/model.20-0.01.hdf5\n",
            "142/142 [==============================] - 0s 720us/step\n",
            "test loss, test acc: [6.740109322423173e-05, 1.0]\n",
            "fold: 8\n",
            "Train on 1154 samples, validate on 129 samples\n",
            "Epoch 1/20\n",
            "1154/1154 [==============================] - 5s 4ms/step - loss: 0.1066 - acc: 0.9809 - val_loss: 0.0147 - val_acc: 0.9922\n",
            "\n",
            "Epoch 00001: saving model to /content/model.01-0.01.hdf5\n",
            "Epoch 2/20\n",
            "1154/1154 [==============================] - 2s 2ms/step - loss: 0.0090 - acc: 0.9974 - val_loss: 0.0103 - val_acc: 0.9922\n",
            "\n",
            "Epoch 00002: saving model to /content/model.02-0.01.hdf5\n",
            "Epoch 3/20\n",
            "1154/1154 [==============================] - 2s 2ms/step - loss: 0.0026 - acc: 0.9991 - val_loss: 0.0129 - val_acc: 0.9922\n",
            "\n",
            "Epoch 00003: saving model to /content/model.03-0.01.hdf5\n",
            "Epoch 4/20\n",
            "1154/1154 [==============================] - 2s 2ms/step - loss: 0.0052 - acc: 0.9983 - val_loss: 0.0084 - val_acc: 0.9922\n",
            "\n",
            "Epoch 00004: saving model to /content/model.04-0.01.hdf5\n",
            "Epoch 5/20\n",
            "  60/1154 [>.............................] - ETA: 1s - loss: 5.8310e-04 - acc: 1.0000fold: 1\n",
            "WARNING:tensorflow:From /tensorflow-1.15.2/python3.6/keras/backend/tensorflow_backend.py:422: The name tf.global_variables is deprecated. Please use tf.compat.v1.global_variables instead.\n",
            "\n",
            "Train on 1153 samples, validate on 129 samples\n",
            "Epoch 1/20\n",
            "1153/1153 [==============================] - 5s 4ms/step - loss: 0.6631 - acc: 0.7459 - val_loss: 0.3252 - val_acc: 0.8682\n",
            "\n",
            "Epoch 00001: saving model to /content/model.01-0.33.hdf5\n",
            "Epoch 2/20\n",
            "1153/1153 [==============================] - 2s 2ms/step - loss: 0.1728 - acc: 0.9306 - val_loss: 0.1645 - val_acc: 0.9457\n",
            "\n",
            "Epoch 00002: saving model to /content/model.02-0.16.hdf5\n",
            "Epoch 3/20\n",
            "1153/1153 [==============================] - 2s 2ms/step - loss: 0.0988 - acc: 0.9601 - val_loss: 0.1404 - val_acc: 0.9380\n",
            "\n",
            "Epoch 00003: saving model to /content/model.03-0.14.hdf5\n",
            "Epoch 4/20\n",
            "1153/1153 [==============================] - 2s 2ms/step - loss: 0.0861 - acc: 0.9688 - val_loss: 0.1168 - val_acc: 0.9612\n",
            "\n",
            "Epoch 00004: saving model to /content/model.04-0.12.hdf5\n",
            "Epoch 5/20\n",
            "1153/1153 [==============================] - 2s 2ms/step - loss: 0.0683 - acc: 0.9801 - val_loss: 0.0907 - val_acc: 0.9690\n",
            "\n",
            "Epoch 00005: saving model to /content/model.05-0.09.hdf5\n",
            "Epoch 6/20\n",
            "1153/1153 [==============================] - 3s 2ms/step - loss: 0.0595 - acc: 0.9775 - val_loss: 0.1288 - val_acc: 0.9612\n",
            "\n",
            "Epoch 00006: saving model to /content/model.06-0.13.hdf5\n",
            "Epoch 7/20\n",
            "1153/1153 [==============================] - 3s 2ms/step - loss: 0.0480 - acc: 0.9870 - val_loss: 0.0785 - val_acc: 0.9690\n",
            "\n",
            "Epoch 00007: saving model to /content/model.07-0.08.hdf5\n",
            "Epoch 8/20\n",
            "1153/1153 [==============================] - 2s 2ms/step - loss: 0.0358 - acc: 0.9905 - val_loss: 0.1043 - val_acc: 0.9690\n",
            "\n",
            "Epoch 00008: saving model to /content/model.08-0.10.hdf5\n",
            "Epoch 9/20\n",
            "1153/1153 [==============================] - 2s 2ms/step - loss: 0.0331 - acc: 0.9887 - val_loss: 0.1251 - val_acc: 0.9690\n",
            "\n",
            "Epoch 00009: saving model to /content/model.09-0.13.hdf5\n",
            "Epoch 10/20\n",
            "1153/1153 [==============================] - 2s 2ms/step - loss: 0.0348 - acc: 0.9861 - val_loss: 0.0816 - val_acc: 0.9767\n",
            "\n",
            "Epoch 00010: saving model to /content/model.10-0.08.hdf5\n",
            "Epoch 11/20\n",
            "1153/1153 [==============================] - 2s 2ms/step - loss: 0.0286 - acc: 0.9887 - val_loss: 0.0844 - val_acc: 0.9767\n",
            "\n",
            "Epoch 00011: saving model to /content/model.11-0.08.hdf5\n",
            "Epoch 12/20\n",
            "1153/1153 [==============================] - 2s 2ms/step - loss: 0.0220 - acc: 0.9887 - val_loss: 0.0637 - val_acc: 0.9690\n",
            "\n",
            "Epoch 00012: saving model to /content/model.12-0.06.hdf5\n",
            "Epoch 13/20\n",
            "1153/1153 [==============================] - 2s 2ms/step - loss: 0.0187 - acc: 0.9939 - val_loss: 0.1049 - val_acc: 0.9690\n",
            "\n",
            "Epoch 00013: saving model to /content/model.13-0.10.hdf5\n",
            "Epoch 14/20\n",
            "1153/1153 [==============================] - 2s 2ms/step - loss: 0.0130 - acc: 0.9965 - val_loss: 0.0689 - val_acc: 0.9690\n",
            "\n",
            "Epoch 00014: saving model to /content/model.14-0.07.hdf5\n",
            "Epoch 15/20\n",
            "1153/1153 [==============================] - 2s 2ms/step - loss: 0.0193 - acc: 0.9913 - val_loss: 0.1401 - val_acc: 0.9612\n",
            "\n",
            "Epoch 00015: saving model to /content/model.15-0.14.hdf5\n",
            "Epoch 16/20\n",
            "1153/1153 [==============================] - 2s 2ms/step - loss: 0.0144 - acc: 0.9939 - val_loss: 0.0640 - val_acc: 0.9767\n",
            "\n",
            "Epoch 00016: saving model to /content/model.16-0.06.hdf5\n",
            "Epoch 17/20\n",
            "1153/1153 [==============================] - 2s 2ms/step - loss: 0.0086 - acc: 0.9965 - val_loss: 0.0613 - val_acc: 0.9845\n",
            "\n",
            "Epoch 00017: saving model to /content/model.17-0.06.hdf5\n",
            "Epoch 18/20\n",
            "1153/1153 [==============================] - 2s 2ms/step - loss: 0.0131 - acc: 0.9957 - val_loss: 0.0628 - val_acc: 0.9690\n",
            "\n",
            "Epoch 00018: saving model to /content/model.18-0.06.hdf5\n",
            "Epoch 19/20\n",
            "1153/1153 [==============================] - 2s 2ms/step - loss: 0.0092 - acc: 0.9983 - val_loss: 0.0641 - val_acc: 0.9767\n",
            "\n",
            "Epoch 00019: saving model to /content/model.19-0.06.hdf5\n",
            "Epoch 20/20\n",
            "1153/1153 [==============================] - 2s 2ms/step - loss: 0.0056 - acc: 1.0000 - val_loss: 0.0647 - val_acc: 0.9767\n",
            "\n",
            "Epoch 00020: saving model to /content/model.20-0.06.hdf5\n",
            "143/143 [==============================] - 0s 1ms/step\n",
            "test loss, test acc: [0.07220392028418113, 0.9720279574394226]\n",
            "fold: 2\n",
            "Train on 1153 samples, validate on 129 samples\n",
            "Epoch 1/20\n",
            "1153/1153 [==============================] - 5s 4ms/step - loss: 0.2497 - acc: 0.9558 - val_loss: 0.0299 - val_acc: 0.9922\n",
            "\n",
            "Epoch 00001: saving model to /content/model.01-0.03.hdf5\n",
            "Epoch 2/20\n",
            "1153/1153 [==============================] - 2s 2ms/step - loss: 0.0388 - acc: 0.9879 - val_loss: 0.0418 - val_acc: 0.9922\n",
            "\n",
            "Epoch 00002: saving model to /content/model.02-0.04.hdf5\n",
            "Epoch 3/20\n",
            "1153/1153 [==============================] - 3s 2ms/step - loss: 0.0356 - acc: 0.9887 - val_loss: 0.0201 - val_acc: 0.9922\n",
            "\n",
            "Epoch 00003: saving model to /content/model.03-0.02.hdf5\n",
            "Epoch 4/20\n",
            "1153/1153 [==============================] - 3s 2ms/step - loss: 0.0334 - acc: 0.9879 - val_loss: 0.0115 - val_acc: 1.0000\n",
            "\n",
            "Epoch 00004: saving model to /content/model.04-0.01.hdf5\n",
            "Epoch 5/20\n",
            "1153/1153 [==============================] - 2s 2ms/step - loss: 0.0160 - acc: 0.9957 - val_loss: 0.0232 - val_acc: 0.9922\n",
            "\n",
            "Epoch 00005: saving model to /content/model.05-0.02.hdf5\n",
            "Epoch 6/20\n",
            "1153/1153 [==============================] - 3s 2ms/step - loss: 0.0219 - acc: 0.9948 - val_loss: 0.0069 - val_acc: 1.0000\n",
            "\n",
            "Epoch 00006: saving model to /content/model.06-0.01.hdf5\n",
            "Epoch 7/20\n",
            "1153/1153 [==============================] - 2s 2ms/step - loss: 0.0141 - acc: 0.9939 - val_loss: 0.0212 - val_acc: 0.9922\n",
            "\n",
            "Epoch 00007: saving model to /content/model.07-0.02.hdf5\n",
            "Epoch 8/20\n",
            "1153/1153 [==============================] - 2s 2ms/step - loss: 0.0230 - acc: 0.9922 - val_loss: 0.0164 - val_acc: 0.9922\n",
            "\n",
            "Epoch 00008: saving model to /content/model.08-0.02.hdf5\n",
            "Epoch 9/20\n",
            "1153/1153 [==============================] - 2s 2ms/step - loss: 0.0155 - acc: 0.9939 - val_loss: 0.0185 - val_acc: 0.9922\n",
            "\n",
            "Epoch 00009: saving model to /content/model.09-0.02.hdf5\n",
            "Epoch 10/20\n",
            "1153/1153 [==============================] - 3s 2ms/step - loss: 0.0203 - acc: 0.9922 - val_loss: 0.0324 - val_acc: 0.9922\n",
            "\n",
            "Epoch 00010: saving model to /content/model.10-0.03.hdf5\n",
            "Epoch 11/20\n",
            "1153/1153 [==============================] - 3s 2ms/step - loss: 0.0178 - acc: 0.9939 - val_loss: 0.0306 - val_acc: 0.9922\n",
            "\n",
            "Epoch 00011: saving model to /content/model.11-0.03.hdf5\n",
            "Epoch 12/20\n",
            "1153/1153 [==============================] - 2s 2ms/step - loss: 0.0198 - acc: 0.9931 - val_loss: 0.0082 - val_acc: 0.9922\n",
            "\n",
            "Epoch 00012: saving model to /content/model.12-0.01.hdf5\n",
            "Epoch 13/20\n",
            "1153/1153 [==============================] - 2s 2ms/step - loss: 0.0112 - acc: 0.9965 - val_loss: 0.0036 - val_acc: 1.0000\n",
            "\n",
            "Epoch 00013: saving model to /content/model.13-0.00.hdf5\n",
            "Epoch 14/20\n",
            "1153/1153 [==============================] - 2s 2ms/step - loss: 0.0098 - acc: 0.9965 - val_loss: 0.0021 - val_acc: 1.0000\n",
            "\n",
            "Epoch 00014: saving model to /content/model.14-0.00.hdf5\n",
            "Epoch 15/20\n",
            "1153/1153 [==============================] - 2s 2ms/step - loss: 0.0054 - acc: 0.9983 - val_loss: 0.0065 - val_acc: 0.9922\n",
            "\n",
            "Epoch 00015: saving model to /content/model.15-0.01.hdf5\n",
            "Epoch 16/20\n",
            "1153/1153 [==============================] - 2s 2ms/step - loss: 0.0103 - acc: 0.9965 - val_loss: 0.0118 - val_acc: 0.9922\n",
            "\n",
            "Epoch 00016: saving model to /content/model.16-0.01.hdf5\n",
            "Epoch 17/20\n",
            "1153/1153 [==============================] - 2s 2ms/step - loss: 0.0063 - acc: 0.9974 - val_loss: 0.0074 - val_acc: 0.9922\n",
            "\n",
            "Epoch 00017: saving model to /content/model.17-0.01.hdf5\n",
            "Epoch 18/20\n",
            "1153/1153 [==============================] - 2s 2ms/step - loss: 0.0051 - acc: 0.9991 - val_loss: 0.0064 - val_acc: 0.9922\n",
            "\n",
            "Epoch 00018: saving model to /content/model.18-0.01.hdf5\n",
            "Epoch 19/20\n",
            "1153/1153 [==============================] - 2s 2ms/step - loss: 0.0022 - acc: 1.0000 - val_loss: 0.0094 - val_acc: 0.9922\n",
            "\n",
            "Epoch 00019: saving model to /content/model.19-0.01.hdf5\n",
            "Epoch 20/20\n",
            "1153/1153 [==============================] - 2s 2ms/step - loss: 0.0061 - acc: 0.9991 - val_loss: 0.0067 - val_acc: 0.9922\n",
            "\n",
            "Epoch 00020: saving model to /content/model.20-0.01.hdf5\n",
            "143/143 [==============================] - 0s 834us/step\n",
            "test loss, test acc: [0.006165143383123313, 0.9930070042610168]\n",
            "fold: 3\n",
            "Train on 1153 samples, validate on 129 samples\n",
            "Epoch 1/20\n",
            "1153/1153 [==============================] - 5s 4ms/step - loss: 0.2126 - acc: 0.9662 - val_loss: 0.0240 - val_acc: 0.9922\n",
            "\n",
            "Epoch 00001: saving model to /content/model.01-0.02.hdf5\n",
            "Epoch 2/20\n",
            "1153/1153 [==============================] - 2s 2ms/step - loss: 0.0261 - acc: 0.9896 - val_loss: 0.0030 - val_acc: 1.0000\n",
            "\n",
            "Epoch 00002: saving model to /content/model.02-0.00.hdf5\n",
            "Epoch 3/20\n",
            "1153/1153 [==============================] - 2s 2ms/step - loss: 0.0176 - acc: 0.9913 - val_loss: 0.0013 - val_acc: 1.0000\n",
            "\n",
            "Epoch 00003: saving model to /content/model.03-0.00.hdf5\n",
            "Epoch 4/20\n",
            "1153/1153 [==============================] - 2s 2ms/step - loss: 0.0143 - acc: 0.9922 - val_loss: 0.0014 - val_acc: 1.0000\n",
            "\n",
            "Epoch 00004: saving model to /content/model.04-0.00.hdf5\n",
            "Epoch 5/20\n",
            "1153/1153 [==============================] - 2s 2ms/step - loss: 0.0081 - acc: 0.9974 - val_loss: 0.0018 - val_acc: 1.0000\n",
            "\n",
            "Epoch 00005: saving model to /content/model.05-0.00.hdf5\n",
            "Epoch 6/20\n",
            "1153/1153 [==============================] - 2s 2ms/step - loss: 0.0152 - acc: 0.9939 - val_loss: 0.0045 - val_acc: 1.0000\n",
            "\n",
            "Epoch 00006: saving model to /content/model.06-0.00.hdf5\n",
            "Epoch 7/20\n",
            "1153/1153 [==============================] - 2s 2ms/step - loss: 0.0094 - acc: 0.9974 - val_loss: 0.0011 - val_acc: 1.0000\n",
            "\n",
            "Epoch 00007: saving model to /content/model.07-0.00.hdf5\n",
            "Epoch 8/20\n",
            "1153/1153 [==============================] - 2s 2ms/step - loss: 0.0053 - acc: 0.9983 - val_loss: 3.6394e-04 - val_acc: 1.0000\n",
            "\n",
            "Epoch 00008: saving model to /content/model.08-0.00.hdf5\n",
            "Epoch 9/20\n",
            "1153/1153 [==============================] - 2s 2ms/step - loss: 0.0073 - acc: 0.9983 - val_loss: 9.2268e-04 - val_acc: 1.0000\n",
            "\n",
            "Epoch 00009: saving model to /content/model.09-0.00.hdf5\n",
            "Epoch 10/20\n",
            "1153/1153 [==============================] - 2s 2ms/step - loss: 0.0047 - acc: 0.9983 - val_loss: 5.6587e-04 - val_acc: 1.0000\n",
            "\n",
            "Epoch 00010: saving model to /content/model.10-0.00.hdf5\n",
            "Epoch 11/20\n",
            "1153/1153 [==============================] - 2s 2ms/step - loss: 0.0040 - acc: 1.0000 - val_loss: 6.2250e-04 - val_acc: 1.0000\n",
            "\n",
            "Epoch 00011: saving model to /content/model.11-0.00.hdf5\n",
            "Epoch 12/20\n",
            "1153/1153 [==============================] - 2s 2ms/step - loss: 0.0068 - acc: 0.9974 - val_loss: 0.0014 - val_acc: 1.0000\n",
            "\n",
            "Epoch 00012: saving model to /content/model.12-0.00.hdf5\n",
            "Epoch 13/20\n",
            "1153/1153 [==============================] - 2s 2ms/step - loss: 0.0029 - acc: 1.0000 - val_loss: 4.8138e-04 - val_acc: 1.0000\n",
            "\n",
            "Epoch 00013: saving model to /content/model.13-0.00.hdf5\n",
            "Epoch 14/20\n",
            "1153/1153 [==============================] - 2s 2ms/step - loss: 0.0072 - acc: 0.9974 - val_loss: 4.3122e-04 - val_acc: 1.0000\n",
            "\n",
            "Epoch 00014: saving model to /content/model.14-0.00.hdf5\n",
            "Epoch 15/20\n",
            "1153/1153 [==============================] - 2s 2ms/step - loss: 0.0050 - acc: 0.9991 - val_loss: 1.9858e-04 - val_acc: 1.0000\n",
            "\n",
            "Epoch 00015: saving model to /content/model.15-0.00.hdf5\n",
            "Epoch 16/20\n",
            "1153/1153 [==============================] - 2s 2ms/step - loss: 0.0017 - acc: 1.0000 - val_loss: 2.4387e-04 - val_acc: 1.0000\n",
            "\n",
            "Epoch 00016: saving model to /content/model.16-0.00.hdf5\n",
            "Epoch 17/20\n",
            "1153/1153 [==============================] - 2s 2ms/step - loss: 0.0018 - acc: 1.0000 - val_loss: 2.4147e-04 - val_acc: 1.0000\n",
            "\n",
            "Epoch 00017: saving model to /content/model.17-0.00.hdf5\n",
            "Epoch 18/20\n",
            "1153/1153 [==============================] - 2s 2ms/step - loss: 0.0024 - acc: 0.9991 - val_loss: 1.9165e-04 - val_acc: 1.0000\n",
            "\n",
            "Epoch 00018: saving model to /content/model.18-0.00.hdf5\n",
            "Epoch 19/20\n",
            "1153/1153 [==============================] - 2s 2ms/step - loss: 0.0018 - acc: 1.0000 - val_loss: 1.8090e-04 - val_acc: 1.0000\n",
            "\n",
            "Epoch 00019: saving model to /content/model.19-0.00.hdf5\n",
            "Epoch 20/20\n",
            "1153/1153 [==============================] - 2s 2ms/step - loss: 0.0035 - acc: 0.9983 - val_loss: 1.5748e-04 - val_acc: 1.0000\n",
            "\n",
            "Epoch 00020: saving model to /content/model.20-0.00.hdf5\n",
            "143/143 [==============================] - 0s 908us/step\n",
            "test loss, test acc: [0.002028089537302835, 1.0]\n",
            "fold: 4\n",
            "Train on 1153 samples, validate on 129 samples\n",
            "Epoch 1/20\n",
            "1153/1153 [==============================] - 5s 5ms/step - loss: 0.1206 - acc: 0.9748 - val_loss: 0.0039 - val_acc: 1.0000\n",
            "\n",
            "Epoch 00001: saving model to /content/model.01-0.00.hdf5\n",
            "Epoch 2/20\n",
            "1153/1153 [==============================] - 2s 2ms/step - loss: 0.0202 - acc: 0.9913 - val_loss: 0.0074 - val_acc: 1.0000\n",
            "\n",
            "Epoch 00002: saving model to /content/model.02-0.01.hdf5\n",
            "Epoch 3/20\n",
            "1153/1153 [==============================] - 2s 2ms/step - loss: 0.0122 - acc: 0.9965 - val_loss: 0.0020 - val_acc: 1.0000\n",
            "\n",
            "Epoch 00003: saving model to /content/model.03-0.00.hdf5\n",
            "Epoch 4/20\n",
            "1153/1153 [==============================] - 2s 2ms/step - loss: 0.0072 - acc: 0.9983 - val_loss: 0.0021 - val_acc: 1.0000\n",
            "\n",
            "Epoch 00004: saving model to /content/model.04-0.00.hdf5\n",
            "Epoch 5/20\n",
            "1153/1153 [==============================] - 2s 2ms/step - loss: 0.0049 - acc: 0.9983 - val_loss: 5.4088e-04 - val_acc: 1.0000\n",
            "\n",
            "Epoch 00005: saving model to /content/model.05-0.00.hdf5\n",
            "Epoch 6/20\n",
            "1153/1153 [==============================] - 2s 2ms/step - loss: 0.0106 - acc: 0.9965 - val_loss: 5.7160e-04 - val_acc: 1.0000\n",
            "\n",
            "Epoch 00006: saving model to /content/model.06-0.00.hdf5\n",
            "Epoch 7/20\n",
            "1153/1153 [==============================] - 2s 2ms/step - loss: 0.0049 - acc: 0.9991 - val_loss: 4.4354e-04 - val_acc: 1.0000\n",
            "\n",
            "Epoch 00007: saving model to /content/model.07-0.00.hdf5\n",
            "Epoch 8/20\n",
            "1153/1153 [==============================] - 2s 2ms/step - loss: 0.0061 - acc: 0.9983 - val_loss: 5.1769e-04 - val_acc: 1.0000\n",
            "\n",
            "Epoch 00008: saving model to /content/model.08-0.00.hdf5\n",
            "Epoch 9/20\n",
            "1153/1153 [==============================] - 2s 2ms/step - loss: 0.0037 - acc: 1.0000 - val_loss: 0.0169 - val_acc: 0.9922\n",
            "\n",
            "Epoch 00009: saving model to /content/model.09-0.02.hdf5\n",
            "Epoch 10/20\n",
            "1153/1153 [==============================] - 2s 2ms/step - loss: 0.0045 - acc: 0.9983 - val_loss: 0.0061 - val_acc: 1.0000\n",
            "\n",
            "Epoch 00010: saving model to /content/model.10-0.01.hdf5\n",
            "Epoch 11/20\n",
            "1153/1153 [==============================] - 2s 2ms/step - loss: 0.0031 - acc: 1.0000 - val_loss: 0.0021 - val_acc: 1.0000\n",
            "\n",
            "Epoch 00011: saving model to /content/model.11-0.00.hdf5\n",
            "Epoch 12/20\n",
            "1153/1153 [==============================] - 2s 2ms/step - loss: 9.3392e-04 - acc: 1.0000 - val_loss: 0.0047 - val_acc: 1.0000\n",
            "\n",
            "Epoch 00012: saving model to /content/model.12-0.00.hdf5\n",
            "Epoch 13/20\n",
            "1153/1153 [==============================] - 2s 2ms/step - loss: 0.0024 - acc: 1.0000 - val_loss: 0.0012 - val_acc: 1.0000\n",
            "\n",
            "Epoch 00013: saving model to /content/model.13-0.00.hdf5\n",
            "Epoch 14/20\n",
            "1153/1153 [==============================] - 2s 2ms/step - loss: 0.0028 - acc: 0.9991 - val_loss: 3.0335e-04 - val_acc: 1.0000\n",
            "\n",
            "Epoch 00014: saving model to /content/model.14-0.00.hdf5\n",
            "Epoch 15/20\n",
            "1153/1153 [==============================] - 2s 2ms/step - loss: 0.0041 - acc: 0.9983 - val_loss: 6.2592e-04 - val_acc: 1.0000\n",
            "\n",
            "Epoch 00015: saving model to /content/model.15-0.00.hdf5\n",
            "Epoch 16/20\n",
            "1153/1153 [==============================] - 2s 2ms/step - loss: 0.0020 - acc: 0.9991 - val_loss: 0.0055 - val_acc: 1.0000\n",
            "\n",
            "Epoch 00016: saving model to /content/model.16-0.01.hdf5\n",
            "Epoch 17/20\n",
            "1153/1153 [==============================] - 2s 2ms/step - loss: 0.0029 - acc: 0.9991 - val_loss: 0.0013 - val_acc: 1.0000\n",
            "\n",
            "Epoch 00017: saving model to /content/model.17-0.00.hdf5\n",
            "Epoch 18/20\n",
            "1153/1153 [==============================] - 2s 2ms/step - loss: 0.0049 - acc: 0.9974 - val_loss: 4.1187e-04 - val_acc: 1.0000\n",
            "\n",
            "Epoch 00018: saving model to /content/model.18-0.00.hdf5\n",
            "Epoch 19/20\n",
            "1153/1153 [==============================] - 2s 2ms/step - loss: 0.0026 - acc: 0.9991 - val_loss: 0.0012 - val_acc: 1.0000\n",
            "\n",
            "Epoch 00019: saving model to /content/model.19-0.00.hdf5\n",
            "Epoch 20/20\n",
            "1153/1153 [==============================] - 2s 2ms/step - loss: 0.0035 - acc: 0.9983 - val_loss: 0.0013 - val_acc: 1.0000\n",
            "\n",
            "Epoch 00020: saving model to /content/model.20-0.00.hdf5\n",
            "143/143 [==============================] - 0s 902us/step\n",
            "test loss, test acc: [0.00948205258521771, 0.9930070042610168]\n",
            "fold: 5\n",
            "Train on 1153 samples, validate on 129 samples\n",
            "Epoch 1/20\n",
            "1153/1153 [==============================] - 6s 5ms/step - loss: 0.2360 - acc: 0.9653 - val_loss: 0.0010 - val_acc: 1.0000\n",
            "\n",
            "Epoch 00001: saving model to /content/model.01-0.00.hdf5\n",
            "Epoch 2/20\n",
            "1153/1153 [==============================] - 2s 2ms/step - loss: 0.0171 - acc: 0.9931 - val_loss: 7.0653e-04 - val_acc: 1.0000\n",
            "\n",
            "Epoch 00002: saving model to /content/model.02-0.00.hdf5\n",
            "Epoch 3/20\n",
            "1153/1153 [==============================] - 2s 2ms/step - loss: 0.0062 - acc: 0.9965 - val_loss: 2.3176e-04 - val_acc: 1.0000\n",
            "\n",
            "Epoch 00003: saving model to /content/model.03-0.00.hdf5\n",
            "Epoch 4/20\n",
            "1153/1153 [==============================] - 2s 2ms/step - loss: 0.0056 - acc: 0.9983 - val_loss: 3.2815e-04 - val_acc: 1.0000\n",
            "\n",
            "Epoch 00004: saving model to /content/model.04-0.00.hdf5\n",
            "Epoch 5/20\n",
            "1153/1153 [==============================] - 2s 2ms/step - loss: 0.0061 - acc: 0.9991 - val_loss: 5.6940e-04 - val_acc: 1.0000\n",
            "\n",
            "Epoch 00005: saving model to /content/model.05-0.00.hdf5\n",
            "Epoch 6/20\n",
            "1153/1153 [==============================] - 2s 2ms/step - loss: 0.0155 - acc: 0.9957 - val_loss: 0.0022 - val_acc: 1.0000\n",
            "\n",
            "Epoch 00006: saving model to /content/model.06-0.00.hdf5\n",
            "Epoch 7/20\n",
            "1153/1153 [==============================] - 2s 2ms/step - loss: 0.0074 - acc: 0.9957 - val_loss: 0.0015 - val_acc: 1.0000\n",
            "\n",
            "Epoch 00007: saving model to /content/model.07-0.00.hdf5\n",
            "Epoch 8/20\n",
            "1153/1153 [==============================] - 2s 2ms/step - loss: 0.0026 - acc: 1.0000 - val_loss: 0.0011 - val_acc: 1.0000\n",
            "\n",
            "Epoch 00008: saving model to /content/model.08-0.00.hdf5\n",
            "Epoch 9/20\n",
            "1153/1153 [==============================] - 2s 2ms/step - loss: 0.0010 - acc: 1.0000 - val_loss: 5.9513e-04 - val_acc: 1.0000\n",
            "\n",
            "Epoch 00009: saving model to /content/model.09-0.00.hdf5\n",
            "Epoch 10/20\n",
            "1153/1153 [==============================] - 3s 2ms/step - loss: 0.0057 - acc: 0.9965 - val_loss: 2.4669e-04 - val_acc: 1.0000\n",
            "\n",
            "Epoch 00010: saving model to /content/model.10-0.00.hdf5\n",
            "Epoch 11/20\n",
            "1153/1153 [==============================] - 2s 2ms/step - loss: 0.0032 - acc: 0.9991 - val_loss: 8.5848e-04 - val_acc: 1.0000\n",
            "\n",
            "Epoch 00011: saving model to /content/model.11-0.00.hdf5\n",
            "Epoch 12/20\n",
            "1153/1153 [==============================] - 2s 2ms/step - loss: 0.0021 - acc: 1.0000 - val_loss: 1.2189e-04 - val_acc: 1.0000\n",
            "\n",
            "Epoch 00012: saving model to /content/model.12-0.00.hdf5\n",
            "Epoch 13/20\n",
            "1153/1153 [==============================] - 2s 2ms/step - loss: 0.0015 - acc: 1.0000 - val_loss: 8.6876e-05 - val_acc: 1.0000\n",
            "\n",
            "Epoch 00013: saving model to /content/model.13-0.00.hdf5\n",
            "Epoch 14/20\n",
            "1153/1153 [==============================] - 2s 2ms/step - loss: 0.0063 - acc: 0.9983 - val_loss: 1.4185e-04 - val_acc: 1.0000\n",
            "\n",
            "Epoch 00014: saving model to /content/model.14-0.00.hdf5\n",
            "Epoch 15/20\n",
            "1153/1153 [==============================] - 2s 2ms/step - loss: 0.0022 - acc: 1.0000 - val_loss: 1.0252e-04 - val_acc: 1.0000\n",
            "\n",
            "Epoch 00015: saving model to /content/model.15-0.00.hdf5\n",
            "Epoch 16/20\n",
            "1153/1153 [==============================] - 2s 2ms/step - loss: 0.0024 - acc: 0.9991 - val_loss: 1.2462e-04 - val_acc: 1.0000\n",
            "\n",
            "Epoch 00016: saving model to /content/model.16-0.00.hdf5\n",
            "Epoch 17/20\n",
            "1153/1153 [==============================] - 2s 2ms/step - loss: 0.0013 - acc: 1.0000 - val_loss: 9.1603e-05 - val_acc: 1.0000\n",
            "\n",
            "Epoch 00017: saving model to /content/model.17-0.00.hdf5\n",
            "Epoch 18/20\n",
            "1153/1153 [==============================] - 2s 2ms/step - loss: 0.0126 - acc: 0.9965 - val_loss: 1.2876e-04 - val_acc: 1.0000\n",
            "\n",
            "Epoch 00018: saving model to /content/model.18-0.00.hdf5\n",
            "Epoch 19/20\n",
            "1153/1153 [==============================] - 2s 2ms/step - loss: 0.0018 - acc: 1.0000 - val_loss: 1.3081e-04 - val_acc: 1.0000\n",
            "\n",
            "Epoch 00019: saving model to /content/model.19-0.00.hdf5\n",
            "Epoch 20/20\n",
            "1153/1153 [==============================] - 2s 2ms/step - loss: 0.0010 - acc: 1.0000 - val_loss: 1.4886e-04 - val_acc: 1.0000\n",
            "\n",
            "Epoch 00020: saving model to /content/model.20-0.00.hdf5\n",
            "143/143 [==============================] - 0s 760us/step\n",
            "test loss, test acc: [0.00037600814980149125, 1.0]\n",
            "fold: 6\n",
            "Train on 1154 samples, validate on 129 samples\n",
            "Epoch 1/20\n",
            "1154/1154 [==============================] - 5s 5ms/step - loss: 0.1941 - acc: 0.9671 - val_loss: 0.0067 - val_acc: 1.0000\n",
            "\n",
            "Epoch 00001: saving model to /content/model.01-0.01.hdf5\n",
            "Epoch 2/20\n",
            "1154/1154 [==============================] - 2s 2ms/step - loss: 0.0085 - acc: 0.9974 - val_loss: 3.9442e-04 - val_acc: 1.0000\n",
            "\n",
            "Epoch 00002: saving model to /content/model.02-0.00.hdf5\n",
            "Epoch 3/20\n",
            "1154/1154 [==============================] - 3s 2ms/step - loss: 0.0074 - acc: 0.9974 - val_loss: 8.3681e-05 - val_acc: 1.0000\n",
            "\n",
            "Epoch 00003: saving model to /content/model.03-0.00.hdf5\n",
            "Epoch 4/20\n",
            "1154/1154 [==============================] - 2s 2ms/step - loss: 0.0098 - acc: 0.9957 - val_loss: 4.4209e-04 - val_acc: 1.0000\n",
            "\n",
            "Epoch 00004: saving model to /content/model.04-0.00.hdf5\n",
            "Epoch 5/20\n",
            "1154/1154 [==============================] - 2s 2ms/step - loss: 0.0033 - acc: 0.9983 - val_loss: 8.2562e-04 - val_acc: 1.0000\n",
            "\n",
            "Epoch 00005: saving model to /content/model.05-0.00.hdf5\n",
            "Epoch 6/20\n",
            "1154/1154 [==============================] - 2s 2ms/step - loss: 0.0076 - acc: 0.9965 - val_loss: 2.1840e-04 - val_acc: 1.0000\n",
            "\n",
            "Epoch 00006: saving model to /content/model.06-0.00.hdf5\n",
            "Epoch 7/20\n",
            "1154/1154 [==============================] - 2s 2ms/step - loss: 0.0013 - acc: 1.0000 - val_loss: 0.0023 - val_acc: 1.0000\n",
            "\n",
            "Epoch 00007: saving model to /content/model.07-0.00.hdf5\n",
            "Epoch 8/20\n",
            "1154/1154 [==============================] - 2s 2ms/step - loss: 0.0046 - acc: 0.9974 - val_loss: 6.8450e-04 - val_acc: 1.0000\n",
            "\n",
            "Epoch 00008: saving model to /content/model.08-0.00.hdf5\n",
            "Epoch 9/20\n",
            "1154/1154 [==============================] - 2s 2ms/step - loss: 0.0012 - acc: 1.0000 - val_loss: 1.4208e-04 - val_acc: 1.0000\n",
            "\n",
            "Epoch 00009: saving model to /content/model.09-0.00.hdf5\n",
            "Epoch 10/20\n",
            "1154/1154 [==============================] - 2s 2ms/step - loss: 9.0126e-04 - acc: 1.0000 - val_loss: 2.7382e-04 - val_acc: 1.0000\n",
            "\n",
            "Epoch 00010: saving model to /content/model.10-0.00.hdf5\n",
            "Epoch 11/20\n",
            "1154/1154 [==============================] - 2s 2ms/step - loss: 6.5345e-04 - acc: 1.0000 - val_loss: 4.9111e-04 - val_acc: 1.0000\n",
            "\n",
            "Epoch 00011: saving model to /content/model.11-0.00.hdf5\n",
            "Epoch 12/20\n",
            "1154/1154 [==============================] - 2s 2ms/step - loss: 8.6741e-04 - acc: 1.0000 - val_loss: 5.2268e-04 - val_acc: 1.0000\n",
            "\n",
            "Epoch 00012: saving model to /content/model.12-0.00.hdf5\n",
            "Epoch 13/20\n",
            "1154/1154 [==============================] - 2s 2ms/step - loss: 5.5159e-04 - acc: 1.0000 - val_loss: 4.9159e-04 - val_acc: 1.0000\n",
            "\n",
            "Epoch 00013: saving model to /content/model.13-0.00.hdf5\n",
            "Epoch 14/20\n",
            "1154/1154 [==============================] - 2s 2ms/step - loss: 0.0015 - acc: 1.0000 - val_loss: 6.3607e-04 - val_acc: 1.0000\n",
            "\n",
            "Epoch 00014: saving model to /content/model.14-0.00.hdf5\n",
            "Epoch 15/20\n",
            "1154/1154 [==============================] - 2s 2ms/step - loss: 0.0010 - acc: 1.0000 - val_loss: 1.3467e-04 - val_acc: 1.0000\n",
            "\n",
            "Epoch 00015: saving model to /content/model.15-0.00.hdf5\n",
            "Epoch 16/20\n",
            "1154/1154 [==============================] - 2s 2ms/step - loss: 8.0207e-04 - acc: 1.0000 - val_loss: 1.1956e-04 - val_acc: 1.0000\n",
            "\n",
            "Epoch 00016: saving model to /content/model.16-0.00.hdf5\n",
            "Epoch 17/20\n",
            "1154/1154 [==============================] - 2s 2ms/step - loss: 0.0043 - acc: 0.9974 - val_loss: 2.8517e-04 - val_acc: 1.0000\n",
            "\n",
            "Epoch 00017: saving model to /content/model.17-0.00.hdf5\n",
            "Epoch 18/20\n",
            "1154/1154 [==============================] - 2s 2ms/step - loss: 0.0016 - acc: 0.9991 - val_loss: 1.3305e-04 - val_acc: 1.0000\n",
            "\n",
            "Epoch 00018: saving model to /content/model.18-0.00.hdf5\n",
            "Epoch 19/20\n",
            "1154/1154 [==============================] - 2s 2ms/step - loss: 7.0817e-04 - acc: 1.0000 - val_loss: 6.8152e-05 - val_acc: 1.0000\n",
            "\n",
            "Epoch 00019: saving model to /content/model.19-0.00.hdf5\n",
            "Epoch 20/20\n",
            "1154/1154 [==============================] - 2s 2ms/step - loss: 9.8453e-04 - acc: 1.0000 - val_loss: 8.9118e-05 - val_acc: 1.0000\n",
            "\n",
            "Epoch 00020: saving model to /content/model.20-0.00.hdf5\n",
            "142/142 [==============================] - 0s 929us/step\n",
            "test loss, test acc: [0.00011009873007254447, 1.0]\n",
            "fold: 7\n",
            "Train on 1154 samples, validate on 129 samples\n",
            "Epoch 1/20\n",
            "1154/1154 [==============================] - 5s 4ms/step - loss: 0.1369 - acc: 0.9861 - val_loss: 0.0103 - val_acc: 1.0000\n",
            "\n",
            "Epoch 00001: saving model to /content/model.01-0.01.hdf5\n",
            "Epoch 2/20\n",
            "1154/1154 [==============================] - 2s 2ms/step - loss: 0.0073 - acc: 0.9974 - val_loss: 0.0190 - val_acc: 0.9922\n",
            "\n",
            "Epoch 00002: saving model to /content/model.02-0.02.hdf5\n",
            "Epoch 3/20\n",
            "1154/1154 [==============================] - 2s 2ms/step - loss: 0.0099 - acc: 0.9974 - val_loss: 0.0088 - val_acc: 0.9922\n",
            "\n",
            "Epoch 00003: saving model to /content/model.03-0.01.hdf5\n",
            "Epoch 4/20\n",
            "1154/1154 [==============================] - 2s 2ms/step - loss: 0.0026 - acc: 1.0000 - val_loss: 0.0114 - val_acc: 0.9922\n",
            "\n",
            "Epoch 00004: saving model to /content/model.04-0.01.hdf5\n",
            "Epoch 5/20\n",
            "1154/1154 [==============================] - 2s 2ms/step - loss: 0.0084 - acc: 0.9974 - val_loss: 0.0213 - val_acc: 0.9922\n",
            "\n",
            "Epoch 00005: saving model to /content/model.05-0.02.hdf5\n",
            "Epoch 6/20\n",
            "1154/1154 [==============================] - 2s 2ms/step - loss: 8.0252e-04 - acc: 1.0000 - val_loss: 0.0135 - val_acc: 0.9922\n",
            "\n",
            "Epoch 00006: saving model to /content/model.06-0.01.hdf5\n",
            "Epoch 7/20\n",
            "1154/1154 [==============================] - 2s 2ms/step - loss: 0.0018 - acc: 0.9991 - val_loss: 0.0117 - val_acc: 0.9922\n",
            "\n",
            "Epoch 00007: saving model to /content/model.07-0.01.hdf5\n",
            "Epoch 8/20\n",
            "1154/1154 [==============================] - 2s 2ms/step - loss: 0.0038 - acc: 0.9991 - val_loss: 0.0136 - val_acc: 0.9922\n",
            "\n",
            "Epoch 00008: saving model to /content/model.08-0.01.hdf5\n",
            "Epoch 9/20\n",
            "1154/1154 [==============================] - 2s 2ms/step - loss: 0.0062 - acc: 0.9983 - val_loss: 0.0232 - val_acc: 0.9922\n",
            "\n",
            "Epoch 00009: saving model to /content/model.09-0.02.hdf5\n",
            "Epoch 10/20\n",
            "1154/1154 [==============================] - 2s 2ms/step - loss: 9.1653e-04 - acc: 1.0000 - val_loss: 0.0161 - val_acc: 0.9922\n",
            "\n",
            "Epoch 00010: saving model to /content/model.10-0.02.hdf5\n",
            "Epoch 11/20\n",
            "1154/1154 [==============================] - 2s 2ms/step - loss: 0.0026 - acc: 0.9991 - val_loss: 0.0267 - val_acc: 0.9922\n",
            "\n",
            "Epoch 00011: saving model to /content/model.11-0.03.hdf5\n",
            "Epoch 12/20\n",
            "1154/1154 [==============================] - 2s 2ms/step - loss: 0.0014 - acc: 0.9991 - val_loss: 0.0037 - val_acc: 1.0000\n",
            "\n",
            "Epoch 00012: saving model to /content/model.12-0.00.hdf5\n",
            "Epoch 13/20\n",
            "1154/1154 [==============================] - 2s 2ms/step - loss: 0.0036 - acc: 0.9983 - val_loss: 0.0025 - val_acc: 1.0000\n",
            "\n",
            "Epoch 00013: saving model to /content/model.13-0.00.hdf5\n",
            "Epoch 14/20\n",
            "1154/1154 [==============================] - 2s 2ms/step - loss: 9.5812e-04 - acc: 1.0000 - val_loss: 0.0047 - val_acc: 1.0000\n",
            "\n",
            "Epoch 00014: saving model to /content/model.14-0.00.hdf5\n",
            "Epoch 15/20\n",
            "1154/1154 [==============================] - 2s 2ms/step - loss: 0.0037 - acc: 0.9991 - val_loss: 0.0138 - val_acc: 0.9922\n",
            "\n",
            "Epoch 00015: saving model to /content/model.15-0.01.hdf5\n",
            "Epoch 16/20\n",
            "1154/1154 [==============================] - 2s 2ms/step - loss: 1.8561e-04 - acc: 1.0000 - val_loss: 0.0122 - val_acc: 0.9922\n",
            "\n",
            "Epoch 00016: saving model to /content/model.16-0.01.hdf5\n",
            "Epoch 17/20\n",
            "1154/1154 [==============================] - 2s 2ms/step - loss: 7.7136e-04 - acc: 1.0000 - val_loss: 0.0140 - val_acc: 0.9922\n",
            "\n",
            "Epoch 00017: saving model to /content/model.17-0.01.hdf5\n",
            "Epoch 18/20\n",
            "1154/1154 [==============================] - 2s 2ms/step - loss: 5.1890e-04 - acc: 1.0000 - val_loss: 0.0121 - val_acc: 0.9922\n",
            "\n",
            "Epoch 00018: saving model to /content/model.18-0.01.hdf5\n",
            "Epoch 19/20\n",
            "1154/1154 [==============================] - 2s 2ms/step - loss: 4.0663e-04 - acc: 1.0000 - val_loss: 0.0093 - val_acc: 0.9922\n",
            "\n",
            "Epoch 00019: saving model to /content/model.19-0.01.hdf5\n",
            "Epoch 20/20\n",
            "1154/1154 [==============================] - 2s 2ms/step - loss: 0.0058 - acc: 0.9983 - val_loss: 0.0117 - val_acc: 0.9922\n",
            "\n",
            "Epoch 00020: saving model to /content/model.20-0.01.hdf5\n",
            "142/142 [==============================] - 0s 720us/step\n",
            "test loss, test acc: [6.740109322423173e-05, 1.0]\n",
            "fold: 8\n",
            "Train on 1154 samples, validate on 129 samples\n",
            "Epoch 1/20\n",
            "1154/1154 [==============================] - 5s 4ms/step - loss: 0.1066 - acc: 0.9809 - val_loss: 0.0147 - val_acc: 0.9922\n",
            "\n",
            "Epoch 00001: saving model to /content/model.01-0.01.hdf5\n",
            "Epoch 2/20\n",
            "1154/1154 [==============================] - 2s 2ms/step - loss: 0.0090 - acc: 0.9974 - val_loss: 0.0103 - val_acc: 0.9922\n",
            "\n",
            "Epoch 00002: saving model to /content/model.02-0.01.hdf5\n",
            "Epoch 3/20\n",
            "1154/1154 [==============================] - 2s 2ms/step - loss: 0.0026 - acc: 0.9991 - val_loss: 0.0129 - val_acc: 0.9922\n",
            "\n",
            "Epoch 00003: saving model to /content/model.03-0.01.hdf5\n",
            "Epoch 4/20\n",
            "1154/1154 [==============================] - 2s 2ms/step - loss: 0.0052 - acc: 0.9983 - val_loss: 0.0084 - val_acc: 0.9922\n",
            "\n",
            "Epoch 00004: saving model to /content/model.04-0.01.hdf5\n",
            "Epoch 5/20\n",
            "1154/1154 [==============================] - 2s 2ms/step - loss: 0.0021 - acc: 0.9991 - val_loss: 0.0087 - val_acc: 1.0000\n",
            "\n",
            "Epoch 00005: saving model to /content/model.05-0.01.hdf5\n",
            "Epoch 6/20\n",
            "1154/1154 [==============================] - 2s 2ms/step - loss: 0.0082 - acc: 0.9974 - val_loss: 0.0106 - val_acc: 0.9922\n",
            "\n",
            "Epoch 00006: saving model to /content/model.06-0.01.hdf5\n",
            "Epoch 7/20\n",
            "1154/1154 [==============================] - 2s 2ms/step - loss: 0.0012 - acc: 1.0000 - val_loss: 0.0128 - val_acc: 0.9922\n",
            "\n",
            "Epoch 00007: saving model to /content/model.07-0.01.hdf5\n",
            "Epoch 8/20\n",
            "1154/1154 [==============================] - 2s 2ms/step - loss: 0.0012 - acc: 1.0000 - val_loss: 0.0151 - val_acc: 0.9922\n",
            "\n",
            "Epoch 00008: saving model to /content/model.08-0.02.hdf5\n",
            "Epoch 9/20\n",
            "1154/1154 [==============================] - 2s 2ms/step - loss: 0.0046 - acc: 0.9974 - val_loss: 0.0107 - val_acc: 0.9922\n",
            "\n",
            "Epoch 00009: saving model to /content/model.09-0.01.hdf5\n",
            "Epoch 10/20\n",
            "1154/1154 [==============================] - 2s 2ms/step - loss: 7.1095e-04 - acc: 1.0000 - val_loss: 0.0125 - val_acc: 0.9922\n",
            "\n",
            "Epoch 00010: saving model to /content/model.10-0.01.hdf5\n",
            "Epoch 11/20\n",
            "1154/1154 [==============================] - 2s 2ms/step - loss: 9.4672e-04 - acc: 1.0000 - val_loss: 0.0205 - val_acc: 0.9922\n",
            "\n",
            "Epoch 00011: saving model to /content/model.11-0.02.hdf5\n",
            "Epoch 12/20\n",
            "1154/1154 [==============================] - 2s 2ms/step - loss: 0.0027 - acc: 1.0000 - val_loss: 0.0053 - val_acc: 1.0000\n",
            "\n",
            "Epoch 00012: saving model to /content/model.12-0.01.hdf5\n",
            "Epoch 13/20\n",
            "1154/1154 [==============================] - 2s 2ms/step - loss: 0.0017 - acc: 1.0000 - val_loss: 0.0154 - val_acc: 0.9922\n",
            "\n",
            "Epoch 00013: saving model to /content/model.13-0.02.hdf5\n",
            "Epoch 14/20\n",
            "1154/1154 [==============================] - 2s 2ms/step - loss: 0.0020 - acc: 0.9991 - val_loss: 0.0319 - val_acc: 0.9922\n",
            "\n",
            "Epoch 00014: saving model to /content/model.14-0.03.hdf5\n",
            "Epoch 15/20\n",
            "1154/1154 [==============================] - 2s 2ms/step - loss: 3.1823e-04 - acc: 1.0000 - val_loss: 0.0247 - val_acc: 0.9922\n",
            "\n",
            "Epoch 00015: saving model to /content/model.15-0.02.hdf5\n",
            "Epoch 16/20\n",
            "1154/1154 [==============================] - 2s 2ms/step - loss: 5.1528e-04 - acc: 1.0000 - val_loss: 0.0199 - val_acc: 0.9922\n",
            "\n",
            "Epoch 00016: saving model to /content/model.16-0.02.hdf5\n",
            "Epoch 17/20\n",
            "1154/1154 [==============================] - 2s 2ms/step - loss: 0.0012 - acc: 1.0000 - val_loss: 0.0135 - val_acc: 0.9922\n",
            "\n",
            "Epoch 00017: saving model to /content/model.17-0.01.hdf5\n",
            "Epoch 18/20\n",
            "1154/1154 [==============================] - 2s 2ms/step - loss: 0.0039 - acc: 0.9983 - val_loss: 0.0011 - val_acc: 1.0000\n",
            "\n",
            "Epoch 00018: saving model to /content/model.18-0.00.hdf5\n",
            "Epoch 19/20\n",
            "1154/1154 [==============================] - 2s 2ms/step - loss: 0.0019 - acc: 0.9991 - val_loss: 0.0600 - val_acc: 0.9922\n",
            "\n",
            "Epoch 00019: saving model to /content/model.19-0.06.hdf5\n",
            "Epoch 20/20\n",
            "1154/1154 [==============================] - 2s 2ms/step - loss: 0.0039 - acc: 0.9983 - val_loss: 0.0339 - val_acc: 0.9922\n",
            "\n",
            "Epoch 00020: saving model to /content/model.20-0.03.hdf5\n",
            "142/142 [==============================] - 0s 788us/step\n",
            "test loss, test acc: [4.697345596612659e-05, 1.0]\n",
            "fold: 9\n",
            "Train on 1154 samples, validate on 129 samples\n",
            "Epoch 1/20\n",
            "1154/1154 [==============================] - 6s 5ms/step - loss: 0.0883 - acc: 0.9887 - val_loss: 0.0761 - val_acc: 0.9922\n",
            "\n",
            "Epoch 00001: saving model to /content/model.01-0.08.hdf5\n",
            "Epoch 2/20\n",
            "1154/1154 [==============================] - 2s 2ms/step - loss: 0.0077 - acc: 0.9965 - val_loss: 0.0738 - val_acc: 0.9922\n",
            "\n",
            "Epoch 00002: saving model to /content/model.02-0.07.hdf5\n",
            "Epoch 3/20\n",
            "1154/1154 [==============================] - 2s 2ms/step - loss: 0.0113 - acc: 0.9965 - val_loss: 0.0211 - val_acc: 0.9922\n",
            "\n",
            "Epoch 00003: saving model to /content/model.03-0.02.hdf5\n",
            "Epoch 4/20\n",
            "1154/1154 [==============================] - 2s 2ms/step - loss: 0.0107 - acc: 0.9957 - val_loss: 0.0591 - val_acc: 0.9922\n",
            "\n",
            "Epoch 00004: saving model to /content/model.04-0.06.hdf5\n",
            "Epoch 5/20\n",
            "1154/1154 [==============================] - 2s 2ms/step - loss: 0.0110 - acc: 0.9965 - val_loss: 0.0063 - val_acc: 1.0000\n",
            "\n",
            "Epoch 00005: saving model to /content/model.05-0.01.hdf5\n",
            "Epoch 6/20\n",
            "1154/1154 [==============================] - 2s 2ms/step - loss: 0.0019 - acc: 1.0000 - val_loss: 0.0169 - val_acc: 0.9922\n",
            "\n",
            "Epoch 00006: saving model to /content/model.06-0.02.hdf5\n",
            "Epoch 7/20\n",
            "1154/1154 [==============================] - 2s 2ms/step - loss: 0.0012 - acc: 1.0000 - val_loss: 0.0097 - val_acc: 0.9922\n",
            "\n",
            "Epoch 00007: saving model to /content/model.07-0.01.hdf5\n",
            "Epoch 8/20\n",
            "1154/1154 [==============================] - 2s 2ms/step - loss: 0.0030 - acc: 0.9991 - val_loss: 0.0124 - val_acc: 0.9922\n",
            "\n",
            "Epoch 00008: saving model to /content/model.08-0.01.hdf5\n",
            "Epoch 9/20\n",
            "1154/1154 [==============================] - 2s 2ms/step - loss: 0.0015 - acc: 0.9991 - val_loss: 0.0180 - val_acc: 0.9922\n",
            "\n",
            "Epoch 00009: saving model to /content/model.09-0.02.hdf5\n",
            "Epoch 10/20\n",
            "1154/1154 [==============================] - 2s 2ms/step - loss: 0.0038 - acc: 0.9983 - val_loss: 0.0269 - val_acc: 0.9922\n",
            "\n",
            "Epoch 00010: saving model to /content/model.10-0.03.hdf5\n",
            "Epoch 11/20\n",
            "1154/1154 [==============================] - 2s 2ms/step - loss: 5.0257e-04 - acc: 1.0000 - val_loss: 0.0304 - val_acc: 0.9922\n",
            "\n",
            "Epoch 00011: saving model to /content/model.11-0.03.hdf5\n",
            "Epoch 12/20\n",
            "1154/1154 [==============================] - 2s 2ms/step - loss: 9.2160e-04 - acc: 1.0000 - val_loss: 0.0305 - val_acc: 0.9922\n",
            "\n",
            "Epoch 00012: saving model to /content/model.12-0.03.hdf5\n",
            "Epoch 13/20\n",
            "1154/1154 [==============================] - 2s 2ms/step - loss: 2.8071e-04 - acc: 1.0000 - val_loss: 0.0308 - val_acc: 0.9922\n",
            "\n",
            "Epoch 00013: saving model to /content/model.13-0.03.hdf5\n",
            "Epoch 14/20\n",
            "1154/1154 [==============================] - 2s 2ms/step - loss: 0.0014 - acc: 1.0000 - val_loss: 0.0479 - val_acc: 0.9922\n",
            "\n",
            "Epoch 00014: saving model to /content/model.14-0.05.hdf5\n",
            "Epoch 15/20\n",
            "1154/1154 [==============================] - 2s 2ms/step - loss: 0.0044 - acc: 0.9991 - val_loss: 0.0193 - val_acc: 0.9922\n",
            "\n",
            "Epoch 00015: saving model to /content/model.15-0.02.hdf5\n",
            "Epoch 16/20\n",
            "1154/1154 [==============================] - 2s 2ms/step - loss: 0.0018 - acc: 1.0000 - val_loss: 0.0232 - val_acc: 0.9922\n",
            "\n",
            "Epoch 00016: saving model to /content/model.16-0.02.hdf5\n",
            "Epoch 17/20\n",
            "1154/1154 [==============================] - 2s 2ms/step - loss: 0.0029 - acc: 0.9983 - val_loss: 0.0402 - val_acc: 0.9922\n",
            "\n",
            "Epoch 00017: saving model to /content/model.17-0.04.hdf5\n",
            "Epoch 18/20\n",
            "1154/1154 [==============================] - 2s 2ms/step - loss: 4.8793e-04 - acc: 1.0000 - val_loss: 0.0347 - val_acc: 0.9922\n",
            "\n",
            "Epoch 00018: saving model to /content/model.18-0.03.hdf5\n",
            "Epoch 19/20\n",
            "1154/1154 [==============================] - 2s 2ms/step - loss: 0.0054 - acc: 0.9983 - val_loss: 0.0259 - val_acc: 0.9922\n",
            "\n",
            "Epoch 00019: saving model to /content/model.19-0.03.hdf5\n",
            "Epoch 20/20\n",
            "1154/1154 [==============================] - 2s 2ms/step - loss: 0.0048 - acc: 0.9974 - val_loss: 0.0190 - val_acc: 0.9922\n",
            "\n",
            "Epoch 00020: saving model to /content/model.20-0.02.hdf5\n",
            "142/142 [==============================] - 0s 783us/step\n",
            "test loss, test acc: [0.00015287494110428608, 1.0]\n",
            "fold: 10\n",
            "Train on 1154 samples, validate on 129 samples\n",
            "Epoch 1/20\n",
            "1154/1154 [==============================] - 5s 5ms/step - loss: 0.1154 - acc: 0.9853 - val_loss: 0.0544 - val_acc: 0.9690\n",
            "\n",
            "Epoch 00001: saving model to /content/model.01-0.05.hdf5\n",
            "Epoch 2/20\n",
            "1154/1154 [==============================] - 2s 2ms/step - loss: 0.0029 - acc: 0.9991 - val_loss: 0.0261 - val_acc: 0.9845\n",
            "\n",
            "Epoch 00002: saving model to /content/model.02-0.03.hdf5\n",
            "Epoch 3/20\n",
            "1154/1154 [==============================] - 2s 2ms/step - loss: 0.0119 - acc: 0.9965 - val_loss: 0.0153 - val_acc: 0.9922\n",
            "\n",
            "Epoch 00003: saving model to /content/model.03-0.02.hdf5\n",
            "Epoch 4/20\n",
            "1154/1154 [==============================] - 2s 2ms/step - loss: 0.0046 - acc: 0.9991 - val_loss: 0.0530 - val_acc: 0.9845\n",
            "\n",
            "Epoch 00004: saving model to /content/model.04-0.05.hdf5\n",
            "Epoch 5/20\n",
            "1154/1154 [==============================] - 2s 2ms/step - loss: 0.0015 - acc: 0.9991 - val_loss: 0.0332 - val_acc: 0.9767\n",
            "\n",
            "Epoch 00005: saving model to /content/model.05-0.03.hdf5\n",
            "Epoch 6/20\n",
            "1154/1154 [==============================] - 2s 2ms/step - loss: 5.1356e-04 - acc: 1.0000 - val_loss: 0.0235 - val_acc: 0.9845\n",
            "\n",
            "Epoch 00006: saving model to /content/model.06-0.02.hdf5\n",
            "Epoch 7/20\n",
            "1154/1154 [==============================] - 2s 2ms/step - loss: 0.0015 - acc: 1.0000 - val_loss: 0.0406 - val_acc: 0.9767\n",
            "\n",
            "Epoch 00007: saving model to /content/model.07-0.04.hdf5\n",
            "Epoch 8/20\n",
            "1154/1154 [==============================] - 2s 2ms/step - loss: 0.0025 - acc: 0.9991 - val_loss: 0.0355 - val_acc: 0.9922\n",
            "\n",
            "Epoch 00008: saving model to /content/model.08-0.04.hdf5\n",
            "Epoch 9/20\n",
            "1154/1154 [==============================] - 2s 2ms/step - loss: 4.9912e-04 - acc: 1.0000 - val_loss: 0.0234 - val_acc: 0.9922\n",
            "\n",
            "Epoch 00009: saving model to /content/model.09-0.02.hdf5\n",
            "Epoch 10/20\n",
            "1154/1154 [==============================] - 2s 2ms/step - loss: 3.1309e-04 - acc: 1.0000 - val_loss: 0.0275 - val_acc: 0.9845\n",
            "\n",
            "Epoch 00010: saving model to /content/model.10-0.03.hdf5\n",
            "Epoch 11/20\n",
            "1154/1154 [==============================] - 2s 2ms/step - loss: 0.0013 - acc: 1.0000 - val_loss: 0.0364 - val_acc: 0.9845\n",
            "\n",
            "Epoch 00011: saving model to /content/model.11-0.04.hdf5\n",
            "Epoch 12/20\n",
            "1154/1154 [==============================] - 2s 2ms/step - loss: 0.0010 - acc: 1.0000 - val_loss: 0.0269 - val_acc: 0.9922\n",
            "\n",
            "Epoch 00012: saving model to /content/model.12-0.03.hdf5\n",
            "Epoch 13/20\n",
            "1154/1154 [==============================] - 2s 2ms/step - loss: 2.3680e-04 - acc: 1.0000 - val_loss: 0.0330 - val_acc: 0.9922\n",
            "\n",
            "Epoch 00013: saving model to /content/model.13-0.03.hdf5\n",
            "Epoch 14/20\n",
            "1154/1154 [==============================] - 2s 2ms/step - loss: 8.3922e-04 - acc: 1.0000 - val_loss: 0.0292 - val_acc: 0.9922\n",
            "\n",
            "Epoch 00014: saving model to /content/model.14-0.03.hdf5\n",
            "Epoch 15/20\n",
            "1154/1154 [==============================] - 2s 2ms/step - loss: 0.0011 - acc: 1.0000 - val_loss: 0.0500 - val_acc: 0.9922\n",
            "\n",
            "Epoch 00015: saving model to /content/model.15-0.05.hdf5\n",
            "Epoch 16/20\n",
            "1154/1154 [==============================] - 2s 2ms/step - loss: 0.0040 - acc: 0.9991 - val_loss: 0.0195 - val_acc: 0.9922\n",
            "\n",
            "Epoch 00016: saving model to /content/model.16-0.02.hdf5\n",
            "Epoch 17/20\n",
            "1154/1154 [==============================] - 2s 2ms/step - loss: 5.3367e-04 - acc: 1.0000 - val_loss: 0.0258 - val_acc: 0.9922\n",
            "\n",
            "Epoch 00017: saving model to /content/model.17-0.03.hdf5\n",
            "Epoch 18/20\n",
            "1154/1154 [==============================] - 2s 2ms/step - loss: 2.5867e-04 - acc: 1.0000 - val_loss: 0.0292 - val_acc: 0.9922\n",
            "\n",
            "Epoch 00018: saving model to /content/model.18-0.03.hdf5\n",
            "Epoch 19/20\n",
            "1154/1154 [==============================] - 2s 2ms/step - loss: 0.0052 - acc: 0.9974 - val_loss: 0.0211 - val_acc: 0.9922\n",
            "\n",
            "Epoch 00019: saving model to /content/model.19-0.02.hdf5\n",
            "Epoch 20/20\n",
            "1154/1154 [==============================] - 3s 3ms/step - loss: 3.6158e-04 - acc: 1.0000 - val_loss: 0.0221 - val_acc: 0.9922\n",
            "\n",
            "Epoch 00020: saving model to /content/model.20-0.02.hdf5\n",
            "142/142 [==============================] - 0s 2ms/step\n",
            "test loss, test acc: [0.0002195670729936834, 1.0]\n",
            "[(0.9720279574394226, array([[49,  2,  0],\n",
            "       [ 0, 48,  0],\n",
            "       [ 2,  0, 42]])), (0.9930070042610168, array([[39,  0,  1],\n",
            "       [ 0, 55,  0],\n",
            "       [ 0,  0, 48]])), (1.0, array([[48,  0,  0],\n",
            "       [ 0, 39,  0],\n",
            "       [ 0,  0, 56]])), (0.9930070042610168, array([[38,  0,  0],\n",
            "       [ 0, 42,  0],\n",
            "       [ 1,  0, 62]])), (1.0, array([[60,  0,  0],\n",
            "       [ 0, 48,  0],\n",
            "       [ 0,  0, 35]])), (1.0, array([[42,  0,  0],\n",
            "       [ 0, 59,  0],\n",
            "       [ 0,  0, 41]])), (1.0, array([[52,  0,  0],\n",
            "       [ 0, 47,  0],\n",
            "       [ 0,  0, 43]])), (1.0, array([[45,  0,  0],\n",
            "       [ 0, 45,  0],\n",
            "       [ 0,  0, 52]])), (1.0, array([[47,  0,  0],\n",
            "       [ 0, 46,  0],\n",
            "       [ 0,  0, 49]])), (1.0, array([[52,  0,  0],\n",
            "       [ 0, 46,  0],\n",
            "       [ 0,  0, 44]]))]\n"
          ],
          "name": "stdout"
        }
      ]
    },
    {
      "cell_type": "code",
      "metadata": {
        "id": "P6ZButbAIto6",
        "colab_type": "code",
        "colab": {
          "base_uri": "https://localhost:8080/",
          "height": 34
        },
        "outputId": "f429114c-882b-4dd4-cac2-48868f7d5602"
      },
      "source": [
        "y"
      ],
      "execution_count": null,
      "outputs": [
        {
          "output_type": "execute_result",
          "data": {
            "text/plain": [
              "array([1., 1., 1., ..., 1., 1., 1.])"
            ]
          },
          "metadata": {
            "tags": []
          },
          "execution_count": 14
        }
      ]
    },
    {
      "cell_type": "code",
      "metadata": {
        "id": "a56zthyUbVVa",
        "colab_type": "code",
        "colab": {}
      },
      "source": [
        "y_test[:50]"
      ],
      "execution_count": null,
      "outputs": []
    },
    {
      "cell_type": "code",
      "metadata": {
        "id": "UMryDrN0Sm-3",
        "colab_type": "code",
        "colab": {}
      },
      "source": [
        "Total=np.zeros((3,3))\n",
        "for i in range(10):\n",
        "  Total=Total+scores[i][1]\n",
        "\n"
      ],
      "execution_count": null,
      "outputs": []
    },
    {
      "cell_type": "code",
      "metadata": {
        "id": "oAHSPDjIZFcj",
        "colab_type": "code",
        "colab": {
          "base_uri": "https://localhost:8080/",
          "height": 51
        },
        "outputId": "32585c23-6455-4776-8d5c-620e52dbd26b"
      },
      "source": [
        "Total"
      ],
      "execution_count": null,
      "outputs": [
        {
          "output_type": "execute_result",
          "data": {
            "text/plain": [
              "array([[1209.,   20.],\n",
              "       [  13., 1298.]])"
            ]
          },
          "metadata": {
            "tags": []
          },
          "execution_count": 36
        }
      ]
    },
    {
      "cell_type": "code",
      "metadata": {
        "id": "utMKFZVXHbk3",
        "colab_type": "code",
        "colab": {}
      },
      "source": [
        "c=[]\n",
        "for i in range(10):\n",
        "  cmn = (scores[i][1].astype('float') / scores[i][1].sum(axis=1)[:, np.newaxis])*100\n",
        "  c.append(cmn)"
      ],
      "execution_count": null,
      "outputs": []
    },
    {
      "cell_type": "code",
      "metadata": {
        "id": "70KmtS5uIIWb",
        "colab_type": "code",
        "colab": {}
      },
      "source": [
        "arr=[]\n",
        "for i in range(10):\n",
        "  ar=[scores[i][0]*100, c[i][0][0], c[i][1][1], c[i][2][2]]\n",
        "  arr.append(ar)\n",
        "r=pd.DataFrame(arr)\n",
        "#r.to_csv('/content/drive/My Drive/covid-19/Results_accuracy.csv')"
      ],
      "execution_count": null,
      "outputs": []
    },
    {
      "cell_type": "code",
      "metadata": {
        "id": "JWk2IfSOZKQX",
        "colab_type": "code",
        "colab": {}
      },
      "source": [
        "r"
      ],
      "execution_count": null,
      "outputs": []
    },
    {
      "cell_type": "code",
      "metadata": {
        "id": "8YpWWUlgJtpS",
        "colab_type": "code",
        "colab": {}
      },
      "source": [
        "r.to_csv('/content/drive/My Drive/covid-19/Results/Results_Experiment9.csv')"
      ],
      "execution_count": null,
      "outputs": []
    },
    {
      "cell_type": "code",
      "metadata": {
        "id": "0Azyzz5ZtCEB",
        "colab_type": "code",
        "colab": {}
      },
      "source": [
        "Total=Total.astype(int)"
      ],
      "execution_count": null,
      "outputs": []
    },
    {
      "cell_type": "code",
      "metadata": {
        "id": "GSybKyWcvI09",
        "colab_type": "code",
        "colab": {
          "base_uri": "https://localhost:8080/",
          "height": 68
        },
        "outputId": "bdd9f262-8d21-4162-aadd-0d2206bd533c"
      },
      "source": [
        "Total"
      ],
      "execution_count": null,
      "outputs": [
        {
          "output_type": "execute_result",
          "data": {
            "text/plain": [
              "array([[1544,    1,   38],\n",
              "       [   1,  474,    0],\n",
              "       [  57,    0, 3892]])"
            ]
          },
          "metadata": {
            "tags": []
          },
          "execution_count": 26
        }
      ]
    },
    {
      "cell_type": "code",
      "metadata": {
        "id": "BilepD9IT9vx",
        "colab_type": "code",
        "colab": {
          "base_uri": "https://localhost:8080/",
          "height": 660
        },
        "outputId": "87197ed8-82b3-4555-f11c-f5f57f7a5076"
      },
      "source": [
        "from sklearn.metrics import confusion_matrix\n",
        "import seaborn as sns\n",
        "import matplotlib.pyplot as plt\n",
        "\n",
        "#cm = confusion_matrix(y_test, y_pred)\n",
        "# Normalise\n",
        "#cmn = (Total.astype('float') / Total.sum(axis=1)[:, np.newaxis])*100\n",
        "fig, ax = plt.subplots(figsize=(10,10))\n",
        "sns.set(font_scale=1.2)\n",
        "sns.heatmap(Total, annot=True, fmt='d',  xticklabels=['Normal','COVID-19','Non-COVID19'], yticklabels=['Normal','COVID-19','Non-COVID19'],cmap=\"Purples\")\n",
        "plt.ylabel('Actual')\n",
        "plt.xlabel('Predicted')\n",
        "plt.show(block=False)"
      ],
      "execution_count": null,
      "outputs": [
        {
          "output_type": "stream",
          "text": [
            "/usr/local/lib/python3.6/dist-packages/statsmodels/tools/_testing.py:19: FutureWarning: pandas.util.testing is deprecated. Use the functions in the public API at pandas.testing instead.\n",
            "  import pandas.util.testing as tm\n"
          ],
          "name": "stderr"
        },
        {
          "output_type": "display_data",
          "data": {
            "image/png": "[encoded data removed]",
            "text/plain": [
              "<Figure size 720x720 with 2 Axes>"
            ]
          },
          "metadata": {
            "tags": [],
            "needs_background": "light"
          }
        }
      ]
    },
    {
      "cell_type": "code",
      "metadata": {
        "id": "4kjnie0pTQ70",
        "colab_type": "code",
        "colab": {
          "base_uri": "https://localhost:8080/",
          "height": 660
        },
        "outputId": "1d3ca480-5d99-4da3-8c88-ab823fe5f0df"
      },
      "source": [
        "from sklearn.metrics import confusion_matrix\n",
        "import seaborn as sns\n",
        "import matplotlib.pyplot as plt\n",
        "\n",
        "#cm = confusion_matrix(y_test, y_pred)\n",
        "# Normalise\n",
        "#cmn = (Total.astype('float') / Total.sum(axis=1)[:, np.newaxis])*100\n",
        "Total=Total.astype(int)\n",
        "fig, ax = plt.subplots(figsize=(10,10))\n",
        "sns.set(font_scale=1.2)\n",
        "sns.heatmap(Total, annot=True, fmt='d', xticklabels=['COVID-19','Non-COVID19'], yticklabels=['COVID-19','Non-COVID19'],cmap=\"Purples\")\n",
        "plt.ylabel('Actual')\n",
        "plt.xlabel('Predicted')\n",
        "plt.show(block=False)"
      ],
      "execution_count": null,
      "outputs": [
        {
          "output_type": "stream",
          "text": [
            "/usr/local/lib/python3.6/dist-packages/statsmodels/tools/_testing.py:19: FutureWarning: pandas.util.testing is deprecated. Use the functions in the public API at pandas.testing instead.\n",
            "  import pandas.util.testing as tm\n"
          ],
          "name": "stderr"
        },
        {
          "output_type": "display_data",
          "data": {
            "image/png": "[encoded data removed]",
            "text/plain": [
              "<Figure size 720x720 with 2 Axes>"
            ]
          },
          "metadata": {
            "tags": [],
            "needs_background": "light"
          }
        }
      ]
    },
    {
      "cell_type": "code",
      "metadata": {
        "id": "4c6-u1y7aiuF",
        "colab_type": "code",
        "colab": {
          "base_uri": "https://localhost:8080/",
          "height": 34
        },
        "outputId": "f60a6b5f-d62c-4444-8d61-cbda0d630802"
      },
      "source": [
        "S=[]\n",
        "for i in range(10):\n",
        "  S.append(scores[i][0])\n",
        "np.mean(S)"
      ],
      "execution_count": null,
      "outputs": [
        {
          "output_type": "execute_result",
          "data": {
            "text/plain": [
              "0.987007874250412"
            ]
          },
          "metadata": {
            "tags": []
          },
          "execution_count": 41
        }
      ]
    },
    {
      "cell_type": "code",
      "metadata": {
        "id": "6CxflK2hUn2y",
        "colab_type": "code",
        "colab": {
          "base_uri": "https://localhost:8080/",
          "height": 394
        },
        "outputId": "b8dc4ced-36fe-4825-b448-237a99276925"
      },
      "source": [
        "\n",
        "#CT\n",
        "\n",
        "import cv2\n",
        "import matplotlib.image as mpimg\n",
        "import matplotlib.pyplot as plt\n",
        "plt.rcParams[\"axes.grid\"] = False\n",
        "import os\n",
        "import glob\n",
        "import pandas as pd\n",
        "import csv\n",
        "import re\n",
        "import numpy as np\n",
        "\n",
        "i=47\n",
        "covid_images=glob.glob('/content/drive/My Drive/covid-19/Small_CT_COVID/CT_COVID/*')\n",
        "from keras.preprocessing import image\n",
        "img = image.load_img(covid_images[i], target_size=(160, 160))\n",
        "img_data = image.img_to_array(img)\n",
        "image = cv2.cvtColor(img_data/255, cv2.COLOR_BGR2RGB)\n",
        "pixels = np.array(image)\n",
        "plt.imshow(pixels)\n",
        "#print(clinical_notes[i])\n",
        "\n",
        "print(han_model.show_doc_attention(X)[i])\n",
        "\n",
        "\n",
        "han_model.show_sent_attention(X[i])\n"
      ],
      "execution_count": null,
      "outputs": [
        {
          "output_type": "stream",
          "text": [
            "[0.18218623 0.18249725 0.21166317 0.21183835 0.21181501]\n"
          ],
          "name": "stdout"
        },
        {
          "output_type": "execute_result",
          "data": {
            "text/plain": [
              "array([[0.21316704, 0.23227346, 0.22628002, 0.22145697, 0.10682246],\n",
              "       [0.44652846, 0.07509867, 0.06845059, 0.18469457, 0.22522765],\n",
              "       [0.04299782, 0.31969625, 0.0538361 , 0.19877349, 0.38469627],\n",
              "       [0.09803428, 0.15967624, 0.2345217 , 0.28903618, 0.2187316 ],\n",
              "       [0.10545254, 0.10046406, 0.04128351, 0.23107983, 0.5217201 ]],\n",
              "      dtype=float32)"
            ]
          },
          "metadata": {
            "tags": []
          },
          "execution_count": 32
        },
        {
          "output_type": "display_data",
          "data": {
            "image/png": "[encoded data removed]",
            "text/plain": [
              "<Figure size 432x288 with 1 Axes>"
            ]
          },
          "metadata": {
            "tags": []
          }
        }
      ]
    },
    {
      "cell_type": "code",
      "metadata": {
        "id": "vFiinExtjaE5",
        "colab_type": "code",
        "colab": {
          "base_uri": "https://localhost:8080/",
          "height": 34
        },
        "outputId": "ed73a0aa-f64f-4304-beab-fa41ba6af729"
      },
      "source": [
        "pixels.shape"
      ],
      "execution_count": null,
      "outputs": [
        {
          "output_type": "execute_result",
          "data": {
            "text/plain": [
              "(160, 160, 3)"
            ]
          },
          "metadata": {
            "tags": []
          },
          "execution_count": 31
        }
      ]
    },
    {
      "cell_type": "code",
      "metadata": {
        "id": "kR9_jm84jltF",
        "colab_type": "code",
        "colab": {}
      },
      "source": [
        "plt.imshow(image)"
      ],
      "execution_count": null,
      "outputs": []
    },
    {
      "cell_type": "code",
      "metadata": {
        "id": "zg9MUtF92nbQ",
        "colab_type": "code",
        "colab": {}
      },
      "source": [
        "import cv2\n",
        "import matplotlib.image as mpimg\n",
        "import matplotlib.pyplot as plt\n",
        "import os\n",
        "import glob\n",
        "import pandas as pd\n",
        "import csv\n",
        "import re\n",
        "import numpy as np\n",
        "\n",
        "i=21\n",
        "\n",
        "from keras.preprocessing import image\n",
        "img = image.load_img(covid_images[i], target_size=(160, 160))\n",
        "img_data = image.img_to_array(img)\n",
        "image = cv2.cvtColor(img_data/255, cv2.COLOR_BGR2RGB)\n",
        "pixels = np.array(image)\n",
        "plt.imshow(pixels)\n",
        "print(clinical_notes[i])\n",
        "\n",
        "print(han_model.show_doc_attention(X)[i])\n",
        "\n",
        "\n",
        "han_model.show_sent_attention(X[i])\n"
      ],
      "execution_count": null,
      "outputs": []
    },
    {
      "cell_type": "code",
      "metadata": {
        "id": "LX07PeQXqVWt",
        "colab_type": "code",
        "colab": {
          "base_uri": "https://localhost:8080/",
          "height": 136
        },
        "outputId": "8925b20a-c523-4261-a30f-9b65aa817de7"
      },
      "source": [
        "i=3\n",
        "print(han_model.show_doc_attention(X)[i])\n",
        "\n",
        "\n",
        "han_model.show_sent_attention(X[i])\n"
      ],
      "execution_count": null,
      "outputs": [
        {
          "output_type": "stream",
          "text": [
            "[0.12412814 0.15687802 0.17190565 0.20399903 0.3430892 ]\n"
          ],
          "name": "stdout"
        },
        {
          "output_type": "execute_result",
          "data": {
            "text/plain": [
              "array([[0.28294957, 0.19730839, 0.14642595, 0.03359462, 0.3397214 ],\n",
              "       [0.17413156, 0.18957134, 0.22321975, 0.21051176, 0.20256561],\n",
              "       [0.2165556 , 0.20641288, 0.22331265, 0.16989093, 0.18382797],\n",
              "       [0.06869707, 0.25130707, 0.2451338 , 0.2561176 , 0.17874444],\n",
              "       [0.07842354, 0.2774744 , 0.18690032, 0.24246614, 0.2147356 ]],\n",
              "      dtype=float32)"
            ]
          },
          "metadata": {
            "tags": []
          },
          "execution_count": 32
        }
      ]
    },
    {
      "cell_type": "code",
      "metadata": {
        "id": "6jqbAwYNlNri",
        "colab_type": "code",
        "colab": {}
      },
      "source": [
        "XX=X.tolist()\n",
        "covid=X_Covid.tolist()\n",
        "\n",
        "V=[]\n",
        "for i in range(len(XX)):\n",
        "  if XX[i] in covid:\n",
        "     V.append(i)"
      ],
      "execution_count": null,
      "outputs": []
    },
    {
      "cell_type": "code",
      "metadata": {
        "id": "f16RlHpROTpO",
        "colab_type": "code",
        "colab": {}
      },
      "source": [
        "han_model.show_doc_attention(X)"
      ],
      "execution_count": null,
      "outputs": []
    },
    {
      "cell_type": "code",
      "metadata": {
        "id": "TL7ulBSOvJty",
        "colab_type": "code",
        "colab": {
          "base_uri": "https://localhost:8080/",
          "height": 405
        },
        "outputId": "2880377d-38c3-43cf-bf85-5b70fb82627e"
      },
      "source": [
        "import cv2\n",
        "import matplotlib.image as mpimg\n",
        "import matplotlib.pyplot as plt\n",
        "import os\n",
        "import glob\n",
        "import pandas as pd\n",
        "import csv\n",
        "import re\n",
        "import numpy as np\n",
        "\n",
        "\n",
        "\n",
        "i=222\n",
        "\n",
        "covid_idx=covid.index(XX[V[i]])\n",
        "\n",
        "\n",
        "from keras.preprocessing import image\n",
        "img = image.load_img(covid_images[covid_idx], target_size=(160, 160))\n",
        "img_data = image.img_to_array(img)\n",
        "image = cv2.cvtColor(img_data/255, cv2.COLOR_BGR2RGB)\n",
        "pixels = np.array(image)\n",
        "plt.imshow(pixels)\n",
        "print(clinical_notes[covid_idx])\n",
        "\n",
        "print(han_model.show_doc_attention(X)[V[i]])\n",
        "\n",
        "\n",
        "han_model.show_sent_attention(X[V[i]])\n"
      ],
      "execution_count": null,
      "outputs": [
        {
          "output_type": "stream",
          "text": [
            "infiltrate in the upper lobe of the left lung\n",
            "[0.26108485 0.23411644 0.18224147 0.10874871 0.2138086 ]\n"
          ],
          "name": "stdout"
        },
        {
          "output_type": "execute_result",
          "data": {
            "text/plain": [
              "array([[0.36558443, 0.15982786, 0.1546132 , 0.10242865, 0.21754587],\n",
              "       [0.15159784, 0.13794655, 0.34067246, 0.11303342, 0.25674972],\n",
              "       [0.26253834, 0.25021803, 0.33918512, 0.07320052, 0.07485804],\n",
              "       [0.1320959 , 0.3871461 , 0.3228216 , 0.08302367, 0.0749127 ],\n",
              "       [0.12433012, 0.28509155, 0.3447492 , 0.11116814, 0.13466103]],\n",
              "      dtype=float32)"
            ]
          },
          "metadata": {
            "tags": []
          },
          "execution_count": 101
        },
        {
          "output_type": "display_data",
          "data": {
            "image/png": "[encoded data removed]",
            "text/plain": [
              "<Figure size 432x288 with 1 Axes>"
            ]
          },
          "metadata": {
            "tags": [],
            "needs_background": "light"
          }
        }
      ]
    },
    {
      "cell_type": "code",
      "metadata": {
        "id": "oRJZOwWcTEP4",
        "colab_type": "code",
        "colab": {
          "base_uri": "https://localhost:8080/",
          "height": 34
        },
        "outputId": "1e9a464b-00c5-4466-f9c4-96244c8aaa82"
      },
      "source": [
        "covid_images[83]"
      ],
      "execution_count": null,
      "outputs": [
        {
          "output_type": "execute_result",
          "data": {
            "text/plain": [
              "'/content/covid-chestxray-dataset/images/covid-19-pneumonia-30-L.jpg'"
            ]
          },
          "metadata": {
            "tags": []
          },
          "execution_count": 27
        }
      ]
    },
    {
      "cell_type": "code",
      "metadata": {
        "id": "DPCYReKlnQpw",
        "colab_type": "code",
        "colab": {
          "base_uri": "https://localhost:8080/",
          "height": 232
        },
        "outputId": "8f644494-d5f2-4c07-aebc-95115f623a1b"
      },
      "source": [
        "import cv2\n",
        "import matplotlib.image as mpimg\n",
        "import matplotlib.pyplot as plt\n",
        "import os\n",
        "import glob\n",
        "import pandas as pd\n",
        "import csv\n",
        "import re\n",
        "import numpy as np\n",
        "\n",
        "i=270\n",
        "\n",
        "from keras.preprocessing import image\n",
        "img = image.load_img(covid_images[i], target_size=(160, 160))\n",
        "img_data = image.img_to_array(img)\n",
        "image = cv2.cvtColor(img_data/255, cv2.COLOR_BGR2RGB)\n",
        "pixels = np.array(image)\n",
        "plt.imshow(pixels)\n",
        "print(clinical_notes[i])\n",
        "\n",
        "print(han_model.show_doc_attention(X)[i])\n",
        "\n",
        "\n",
        "han_model.show_sent_attention(X[i])\n"
      ],
      "execution_count": null,
      "outputs": [
        {
          "output_type": "error",
          "ename": "IndexError",
          "evalue": "ignored",
          "traceback": [
            "\u001b[0;31m---------------------------------------------------------------------------\u001b[0m",
            "\u001b[0;31mIndexError\u001b[0m                                Traceback (most recent call last)",
            "\u001b[0;32m<ipython-input-129-9a1a34ed63bd>\u001b[0m in \u001b[0;36m<module>\u001b[0;34m()\u001b[0m\n\u001b[1;32m     12\u001b[0m \u001b[0;34m\u001b[0m\u001b[0m\n\u001b[1;32m     13\u001b[0m \u001b[0;32mfrom\u001b[0m \u001b[0mkeras\u001b[0m\u001b[0;34m.\u001b[0m\u001b[0mpreprocessing\u001b[0m \u001b[0;32mimport\u001b[0m \u001b[0mimage\u001b[0m\u001b[0;34m\u001b[0m\u001b[0;34m\u001b[0m\u001b[0m\n\u001b[0;32m---> 14\u001b[0;31m \u001b[0mimg\u001b[0m \u001b[0;34m=\u001b[0m \u001b[0mimage\u001b[0m\u001b[0;34m.\u001b[0m\u001b[0mload_img\u001b[0m\u001b[0;34m(\u001b[0m\u001b[0mcovid_images\u001b[0m\u001b[0;34m[\u001b[0m\u001b[0mi\u001b[0m\u001b[0;34m]\u001b[0m\u001b[0;34m,\u001b[0m \u001b[0mtarget_size\u001b[0m\u001b[0;34m=\u001b[0m\u001b[0;34m(\u001b[0m\u001b[0;36m160\u001b[0m\u001b[0;34m,\u001b[0m \u001b[0;36m160\u001b[0m\u001b[0;34m)\u001b[0m\u001b[0;34m)\u001b[0m\u001b[0;34m\u001b[0m\u001b[0;34m\u001b[0m\u001b[0m\n\u001b[0m\u001b[1;32m     15\u001b[0m \u001b[0mimg_data\u001b[0m \u001b[0;34m=\u001b[0m \u001b[0mimage\u001b[0m\u001b[0;34m.\u001b[0m\u001b[0mimg_to_array\u001b[0m\u001b[0;34m(\u001b[0m\u001b[0mimg\u001b[0m\u001b[0;34m)\u001b[0m\u001b[0;34m\u001b[0m\u001b[0;34m\u001b[0m\u001b[0m\n\u001b[1;32m     16\u001b[0m \u001b[0mimage\u001b[0m \u001b[0;34m=\u001b[0m \u001b[0mcv2\u001b[0m\u001b[0;34m.\u001b[0m\u001b[0mcvtColor\u001b[0m\u001b[0;34m(\u001b[0m\u001b[0mimg_data\u001b[0m\u001b[0;34m/\u001b[0m\u001b[0;36m255\u001b[0m\u001b[0;34m,\u001b[0m \u001b[0mcv2\u001b[0m\u001b[0;34m.\u001b[0m\u001b[0mCOLOR_BGR2RGB\u001b[0m\u001b[0;34m)\u001b[0m\u001b[0;34m\u001b[0m\u001b[0;34m\u001b[0m\u001b[0m\n",
            "\u001b[0;31mIndexError\u001b[0m: list index out of range"
          ]
        }
      ]
    },
    {
      "cell_type": "code",
      "metadata": {
        "id": "aDmkqe43NXrG",
        "colab_type": "code",
        "colab": {
          "base_uri": "https://localhost:8080/",
          "height": 232
        },
        "outputId": "367f4e87-59f0-4ab1-9aff-93a431da74d0"
      },
      "source": [
        " import cv2\n",
        "import matplotlib.image as mpimg\n",
        "import matplotlib.pyplot as plt\n",
        "import os\n",
        "import glob\n",
        "import pandas as pd\n",
        "import csv\n",
        "import re\n",
        "import numpy as np\n",
        "\n",
        "i=116\n",
        "\n",
        "from keras.preprocessing import image\n",
        "img = image.load_img(covid_images[i], target_size=(160, 160))\n",
        "img_data = image.img_to_array(img)\n",
        "image = cv2.cvtColor(img_data/255, cv2.COLOR_BGR2RGB)\n",
        "pixels = np.array(image)\n",
        "plt.imshow(pixels)\n",
        "print(clinical_notes[i])\n",
        "\n",
        "print(han_model.show_doc_attention(X)[i])\n",
        "\n",
        "\n",
        "han_model.show_sent_attention(X[i])\n",
        "\n"
      ],
      "execution_count": null,
      "outputs": [
        {
          "output_type": "error",
          "ename": "NameError",
          "evalue": "ignored",
          "traceback": [
            "\u001b[0;31m---------------------------------------------------------------------------\u001b[0m",
            "\u001b[0;31mNameError\u001b[0m                                 Traceback (most recent call last)",
            "\u001b[0;32m<ipython-input-16-a86cc03ab391>\u001b[0m in \u001b[0;36m<module>\u001b[0;34m()\u001b[0m\n\u001b[1;32m     12\u001b[0m \u001b[0;34m\u001b[0m\u001b[0m\n\u001b[1;32m     13\u001b[0m \u001b[0;32mfrom\u001b[0m \u001b[0mkeras\u001b[0m\u001b[0;34m.\u001b[0m\u001b[0mpreprocessing\u001b[0m \u001b[0;32mimport\u001b[0m \u001b[0mimage\u001b[0m\u001b[0;34m\u001b[0m\u001b[0;34m\u001b[0m\u001b[0m\n\u001b[0;32m---> 14\u001b[0;31m \u001b[0mimg\u001b[0m \u001b[0;34m=\u001b[0m \u001b[0mimage\u001b[0m\u001b[0;34m.\u001b[0m\u001b[0mload_img\u001b[0m\u001b[0;34m(\u001b[0m\u001b[0mcovid_images\u001b[0m\u001b[0;34m[\u001b[0m\u001b[0mi\u001b[0m\u001b[0;34m]\u001b[0m\u001b[0;34m,\u001b[0m \u001b[0mtarget_size\u001b[0m\u001b[0;34m=\u001b[0m\u001b[0;34m(\u001b[0m\u001b[0;36m160\u001b[0m\u001b[0;34m,\u001b[0m \u001b[0;36m160\u001b[0m\u001b[0;34m)\u001b[0m\u001b[0;34m)\u001b[0m\u001b[0;34m\u001b[0m\u001b[0;34m\u001b[0m\u001b[0m\n\u001b[0m\u001b[1;32m     15\u001b[0m \u001b[0mimg_data\u001b[0m \u001b[0;34m=\u001b[0m \u001b[0mimage\u001b[0m\u001b[0;34m.\u001b[0m\u001b[0mimg_to_array\u001b[0m\u001b[0;34m(\u001b[0m\u001b[0mimg\u001b[0m\u001b[0;34m)\u001b[0m\u001b[0;34m\u001b[0m\u001b[0;34m\u001b[0m\u001b[0m\n\u001b[1;32m     16\u001b[0m \u001b[0mimage\u001b[0m \u001b[0;34m=\u001b[0m \u001b[0mcv2\u001b[0m\u001b[0;34m.\u001b[0m\u001b[0mcvtColor\u001b[0m\u001b[0;34m(\u001b[0m\u001b[0mimg_data\u001b[0m\u001b[0;34m/\u001b[0m\u001b[0;36m255\u001b[0m\u001b[0;34m,\u001b[0m \u001b[0mcv2\u001b[0m\u001b[0;34m.\u001b[0m\u001b[0mCOLOR_BGR2RGB\u001b[0m\u001b[0;34m)\u001b[0m\u001b[0;34m\u001b[0m\u001b[0;34m\u001b[0m\u001b[0m\n",
            "\u001b[0;31mNameError\u001b[0m: name 'covid_images' is not defined"
          ]
        }
      ]
    },
    {
      "cell_type": "code",
      "metadata": {
        "id": "2Htn3CCg977z",
        "colab_type": "code",
        "colab": {
          "base_uri": "https://localhost:8080/",
          "height": 431
        },
        "outputId": "1904a022-337d-4bf1-c79a-87c082262c1a"
      },
      "source": [
        "import cv2\n",
        "import matplotlib.image as mpimg\n",
        "import matplotlib.pyplot as plt\n",
        "import os\n",
        "import glob\n",
        "import pandas as pd\n",
        "import csv\n",
        "import re\n",
        "import numpy as np\n",
        "plt.rcParams[\"axes.grid\"] = False\n",
        "i=42\n",
        "\n",
        "from keras.preprocessing import image\n",
        "img = image.load_img(covidCT_images[i], target_size=(160, 160))\n",
        "img_data = image.img_to_array(img)\n",
        "image = cv2.cvtColor(img_data/255, cv2.COLOR_BGR2RGB)\n",
        "pixels = np.array(image)\n",
        "plt.imshow(pixels)\n",
        "print(clinicalCT_notes[i])\n",
        "\n",
        "print(han_model.show_doc_attention(X)[i])\n",
        "\n",
        "\n",
        "han_model.show_sent_attention(X[i])\n",
        "\n"
      ],
      "execution_count": null,
      "outputs": [
        {
          "output_type": "stream",
          "text": [
            "An 83-year-old female patient, presented with fever (38C), dry cough and asthenia for four days. She denied dyspnoea, chest pain, and gastrointestinal symptoms. She lived with her daughter. Laboratory studies revealed elevated serum ferritin (401 ng/mL; normal range 12 ng/mL - 300 ng/mL), slightly increased C-reactive protein (CRP, 7.58 mg/L; normal range <5.0 mg/L). The patient was hospitalised for further care. Later, her 59-years-old daughter presented with fever (38.6C), dry cough, myalgia, headache. The patient was a tobacco cigarette smoker. Axial (a,b), sagittal (c,d) and coronal (e,f) non-contrast chest CT demonstrated multifocal bilateral patchy ground-glass opacities with a predominantly lower and peripheral distribution. It is also evident associated thickness of interlobular septa in the affected areas (crazy-paving pattern) and diffuse bronchial wall thickening.\n",
            "[0.14757505 0.14786775 0.15276098 0.24411634 0.30767986]\n"
          ],
          "name": "stdout"
        },
        {
          "output_type": "execute_result",
          "data": {
            "text/plain": [
              "array([[0.14007694, 0.2064261 , 0.21115996, 0.23627508, 0.20606188],\n",
              "       [0.11969745, 0.1335538 , 0.306168  , 0.11992481, 0.32065597],\n",
              "       [0.12508957, 0.10818984, 0.06680246, 0.06054018, 0.63937795],\n",
              "       [0.17919418, 0.2752325 , 0.22020696, 0.1815564 , 0.14380999],\n",
              "       [0.26349047, 0.23098631, 0.2044752 , 0.16195478, 0.13909324]],\n",
              "      dtype=float32)"
            ]
          },
          "metadata": {
            "tags": []
          },
          "execution_count": 65
        },
        {
          "output_type": "display_data",
          "data": {
            "image/png": "[encoded data removed]",
            "text/plain": [
              "<Figure size 432x288 with 1 Axes>"
            ]
          },
          "metadata": {
            "tags": []
          }
        }
      ]
    },
    {
      "cell_type": "code",
      "metadata": {
        "id": "NjtWRdLvefHX",
        "colab_type": "code",
        "colab": {
          "base_uri": "https://localhost:8080/",
          "height": 136
        },
        "outputId": "a38c1df6-e577-4cff-9712-fe7585f37b71"
      },
      "source": [
        "i=205\n",
        "print(han_model.show_doc_attention(X)[i]-0.2)\n",
        "\n",
        "\n",
        "\n",
        "han_model.show_sent_attention(X[i])-0.2\n"
      ],
      "execution_count": null,
      "outputs": [
        {
          "output_type": "stream",
          "text": [
            "[-0.06868944 -0.02436359  0.01119852  0.03230321  0.0495512 ]\n"
          ],
          "name": "stdout"
        },
        {
          "output_type": "execute_result",
          "data": {
            "text/plain": [
              "array([[ 0.04158856,  0.02281861,  0.02359091, -0.01470505, -0.0732931 ],\n",
              "       [ 0.01100476,  0.08882825,  0.06213538, -0.05672164, -0.10524673],\n",
              "       [-0.02603929,  0.09998997,  0.08144434, -0.02396499, -0.13143006],\n",
              "       [-0.06021397,  0.0481115 ,  0.03765868,  0.00636593, -0.03192212],\n",
              "       [-0.02411015,  0.03229879,  0.02408706,  0.0346421 , -0.06691779]],\n",
              "      dtype=float32)"
            ]
          },
          "metadata": {
            "tags": []
          },
          "execution_count": 126
        }
      ]
    },
    {
      "cell_type": "code",
      "metadata": {
        "id": "vRj0Ukscef8Q",
        "colab_type": "code",
        "colab": {
          "base_uri": "https://localhost:8080/",
          "height": 136
        },
        "outputId": "52e6631c-921e-4b1b-bced-70e15a919be5"
      },
      "source": [
        "i=33\n",
        "print(han_model.show_doc_attention(X)[i]-0.2)\n",
        "\n",
        "\n",
        "han_model.show_sent_attention(X[i])-0.2"
      ],
      "execution_count": null,
      "outputs": [
        {
          "output_type": "stream",
          "text": [
            "[-0.04190131 -0.03217404 -0.01343821 -0.00126293  0.08877651]\n"
          ],
          "name": "stdout"
        },
        {
          "output_type": "execute_result",
          "data": {
            "text/plain": [
              "array([[-0.04361811,  0.01239799,  0.03140676,  0.02267076, -0.0228575 ],\n",
              "       [-0.04506117,  0.01946414,  0.03938583,  0.032199  , -0.04598774],\n",
              "       [ 0.06838425,  0.03586242, -0.04765527,  0.03340316, -0.08999459],\n",
              "       [ 0.02676488,  0.05820747, -0.05363521, -0.01917672, -0.01216047],\n",
              "       [ 0.01119146, -0.00910339,  0.01404627, -0.00623339, -0.00990102]],\n",
              "      dtype=float32)"
            ]
          },
          "metadata": {
            "tags": []
          },
          "execution_count": 103
        }
      ]
    },
    {
      "cell_type": "code",
      "metadata": {
        "id": "ybPHpCQ7qXRj",
        "colab_type": "code",
        "colab": {}
      },
      "source": [
        "idx_covid=[]\n",
        "idx_normal=[]\n",
        "idx_other=[]\n",
        "for i in range(len(y)):\n",
        "  if y[i]==1:\n",
        "    idx_covid.append(i)\n",
        "  if y[i]==0:\n",
        "    idx_normal.append(i)\n",
        "  if y[i]==2:\n",
        "    idx_other.append(i)"
      ],
      "execution_count": null,
      "outputs": []
    },
    {
      "cell_type": "code",
      "metadata": {
        "id": "c0chN-u0-HzN",
        "colab_type": "code",
        "colab": {
          "base_uri": "https://localhost:8080/",
          "height": 34
        },
        "outputId": "b3b60a36-ed02-40ca-b874-ab704e7618db"
      },
      "source": [
        "len(idx_other)"
      ],
      "execution_count": null,
      "outputs": [
        {
          "output_type": "execute_result",
          "data": {
            "text/plain": [
              "3949"
            ]
          },
          "metadata": {
            "tags": []
          },
          "execution_count": 35
        }
      ]
    },
    {
      "cell_type": "code",
      "metadata": {
        "id": "BlJ7w8K3mM1V",
        "colab_type": "code",
        "colab": {}
      },
      "source": [
        "RR=np.array(han_model.show_doc_attention(X)[idx_normal])\n",
        "sss=pd.DataFrame(RR)\n",
        "ssss=sss.to_csv('/content/Normal_Attention.csv')"
      ],
      "execution_count": null,
      "outputs": []
    },
    {
      "cell_type": "code",
      "metadata": {
        "id": "4gLX8fw-taGA",
        "colab_type": "code",
        "colab": {}
      },
      "source": [
        "matrix = np.zeros((25,len(idx_covid)))"
      ],
      "execution_count": null,
      "outputs": []
    },
    {
      "cell_type": "code",
      "metadata": {
        "id": "ZscSP5Xyta_f",
        "colab_type": "code",
        "colab": {
          "base_uri": "https://localhost:8080/",
          "height": 102
        },
        "outputId": "5f94320d-5628-4a22-80f1-c16d3ea90a86"
      },
      "source": [
        "matrix[0]"
      ],
      "execution_count": null,
      "outputs": [
        {
          "output_type": "execute_result",
          "data": {
            "text/plain": [
              "array([0.35030818, 0.2272777 , 0.1776665 , 0.13179113, 0.11295651,\n",
              "       0.21837516, 0.24368912, 0.20603444, 0.19155568, 0.14034562,\n",
              "       0.16370626, 0.2583918 , 0.28873149, 0.23810871, 0.05106175,\n",
              "       0.17982416, 0.35398251, 0.28734529, 0.12894481, 0.04990323,\n",
              "       0.14957215, 0.23650919, 0.26222861, 0.25853676, 0.09315332])"
            ]
          },
          "metadata": {
            "tags": []
          },
          "execution_count": 28
        }
      ]
    },
    {
      "cell_type": "code",
      "metadata": {
        "id": "1QI2lpwwsu1o",
        "colab_type": "code",
        "colab": {}
      },
      "source": [
        "matrix_other = np.zeros((len(idx_other),25))\n",
        "j=0\n",
        "for i in idx_other:\n",
        "  matrix_other[j]=han_model.show_sent_attention(X[i]).flatten() \n",
        "  j=j+1\n"
      ],
      "execution_count": null,
      "outputs": []
    },
    {
      "cell_type": "code",
      "metadata": {
        "id": "cva5ZB0yXqZC",
        "colab_type": "code",
        "colab": {}
      },
      "source": [
        "matrix_normal = np.zeros((len(idx_normal),25))\n",
        "j=0\n",
        "for i in idx_normal:\n",
        "  matrix_normal[j]=han_model.show_sent_attention(X[i]).flatten() \n",
        "  j=j+1"
      ],
      "execution_count": null,
      "outputs": []
    },
    {
      "cell_type": "code",
      "metadata": {
        "id": "Wdv9IutbXz-6",
        "colab_type": "code",
        "colab": {}
      },
      "source": [
        "matrix_covid = np.zeros((len(idx_covid),25))\n",
        "j=0\n",
        "for i in idx_covid:\n",
        "  matrix_covid[j]=han_model.show_sent_attention(X[i]).flatten() \n",
        "  j=j+1"
      ],
      "execution_count": null,
      "outputs": []
    },
    {
      "cell_type": "code",
      "metadata": {
        "id": "jjo4YFgT3-d6",
        "colab_type": "code",
        "colab": {}
      },
      "source": [
        "import os\n",
        "os.remove('/content/drive/My Drive/covid-19/x_attention_other.csv')"
      ],
      "execution_count": null,
      "outputs": []
    },
    {
      "cell_type": "code",
      "metadata": {
        "id": "sJcNbmUJz6OA",
        "colab_type": "code",
        "colab": {}
      },
      "source": [
        "\n",
        "sss=pd.DataFrame(X_Normalized_covid)\n",
        "ssss=sss.to_csv('/content/drive/My Drive/covid-19/Normalized_covid.csv')"
      ],
      "execution_count": null,
      "outputs": []
    },
    {
      "cell_type": "code",
      "metadata": {
        "id": "Akii4DAkw00h",
        "colab_type": "code",
        "colab": {
          "base_uri": "https://localhost:8080/",
          "height": 34
        },
        "outputId": "be546cf2-c53a-431d-aab7-4194527297c2"
      },
      "source": [
        "han_model.show_doc_attention(X)[0][0]"
      ],
      "execution_count": null,
      "outputs": [
        {
          "output_type": "execute_result",
          "data": {
            "text/plain": [
              "0.2620392"
            ]
          },
          "metadata": {
            "tags": []
          },
          "execution_count": 16
        }
      ]
    },
    {
      "cell_type": "code",
      "metadata": {
        "id": "H7r20raa0--a",
        "colab_type": "code",
        "colab": {}
      },
      "source": [
        "matrix_other_normalized = np.zeros((len(idx_other),25))\n",
        "j=0\n",
        "for i in idx_other:\n",
        "  matrix_other_normalized[j]=han_model.show_sent_attention(X[i]).flatten() \n",
        "  j=j+1"
      ],
      "execution_count": null,
      "outputs": []
    },
    {
      "cell_type": "code",
      "metadata": {
        "id": "jJc6fXJywXPr",
        "colab_type": "code",
        "colab": {}
      },
      "source": [
        "X_Normalized_covid=np.zeros((len(idx_covid),25))\n",
        "k=0\n",
        "for i in idx_covid:\n",
        "  print(k)\n",
        "  Normalized = np.zeros((5,5))\n",
        "  for j in range(5):\n",
        "    Normalized[j]=han_model.show_doc_attention(X)[i][j]*han_model.show_sent_attention(X[i])[j]\n",
        "  X_Normalized_covid[k]=Normalized.flatten()\n",
        "  k=k+1\n"
      ],
      "execution_count": null,
      "outputs": []
    },
    {
      "cell_type": "code",
      "metadata": {
        "id": "9HKmDNQSuxH-",
        "colab_type": "code",
        "colab": {
          "base_uri": "https://localhost:8080/",
          "height": 102
        },
        "outputId": "098531d5-102d-45ff-ea93-1481da992d4d"
      },
      "source": [
        "X_Normalized_covid.mean(0)"
      ],
      "execution_count": null,
      "outputs": [
        {
          "output_type": "execute_result",
          "data": {
            "text/plain": [
              "array([0.03498912, 0.03547586, 0.05051572, 0.04629258, 0.04861051,\n",
              "       0.02799503, 0.03906649, 0.04818273, 0.04690221, 0.04266117,\n",
              "       0.01869841, 0.04663861, 0.06059483, 0.04921148, 0.02129448,\n",
              "       0.01566351, 0.05029449, 0.0670843 , 0.04020189, 0.01815441,\n",
              "       0.01780874, 0.04708062, 0.07421265, 0.03439628, 0.01797387])"
            ]
          },
          "metadata": {
            "tags": []
          },
          "execution_count": 28
        }
      ]
    },
    {
      "cell_type": "code",
      "metadata": {
        "id": "iBoDm1SKFta-",
        "colab_type": "code",
        "colab": {
          "base_uri": "https://localhost:8080/",
          "height": 102
        },
        "outputId": "6f297f26-22ac-408d-cc28-6cd6bc631d57"
      },
      "source": [
        "#covid\n",
        "matrix_covid.mean(0)"
      ],
      "execution_count": null,
      "outputs": [
        {
          "output_type": "execute_result",
          "data": {
            "text/plain": [
              "array([0.18576824, 0.18614597, 0.21793585, 0.20675864, 0.2033913 ,\n",
              "       0.18205092, 0.19434827, 0.20874746, 0.21588758, 0.19896576,\n",
              "       0.13791658, 0.22214361, 0.26576702, 0.23328777, 0.14088502,\n",
              "       0.1263001 , 0.23481118, 0.30363263, 0.20547065, 0.12978545,\n",
              "       0.15788765, 0.23794223, 0.28201333, 0.19472006, 0.12743674])"
            ]
          },
          "metadata": {
            "tags": []
          },
          "execution_count": 56
        }
      ]
    },
    {
      "cell_type": "code",
      "metadata": {
        "id": "OGfK-Cr1vxEh",
        "colab_type": "code",
        "colab": {}
      },
      "source": [
        "cov.sort()"
      ],
      "execution_count": null,
      "outputs": []
    },
    {
      "cell_type": "code",
      "metadata": {
        "id": "Ox9_QIFWF194",
        "colab_type": "code",
        "colab": {
          "base_uri": "https://localhost:8080/",
          "height": 102
        },
        "outputId": "f2df4aa7-c4c7-4aa9-e7b4-26415fefc8b0"
      },
      "source": [
        "matrix_normal.mean(0)"
      ],
      "execution_count": null,
      "outputs": [
        {
          "output_type": "execute_result",
          "data": {
            "text/plain": [
              "array([0.15792396, 0.16605077, 0.34839324, 0.17863172, 0.14900031,\n",
              "       0.21339194, 0.18442245, 0.25416746, 0.17301684, 0.17500131,\n",
              "       0.22970844, 0.19255848, 0.20774845, 0.18665656, 0.18332807,\n",
              "       0.19805346, 0.19748152, 0.27109764, 0.16533065, 0.16803672,\n",
              "       0.16355878, 0.20371217, 0.29084763, 0.16118737, 0.18069407])"
            ]
          },
          "metadata": {
            "tags": []
          },
          "execution_count": 43
        }
      ]
    },
    {
      "cell_type": "code",
      "metadata": {
        "id": "lReaOM-gGH5_",
        "colab_type": "code",
        "colab": {
          "base_uri": "https://localhost:8080/",
          "height": 102
        },
        "outputId": "12cccd93-a06a-4ec1-b96b-d06eb7cdf524"
      },
      "source": [
        "matrix_other.mean(0)"
      ],
      "execution_count": null,
      "outputs": [
        {
          "output_type": "execute_result",
          "data": {
            "text/plain": [
              "array([0.26844312, 0.1746437 , 0.18144503, 0.165632  , 0.20983615,\n",
              "       0.22803596, 0.17844591, 0.18845267, 0.19128033, 0.21378513,\n",
              "       0.19724791, 0.18828107, 0.21207274, 0.20509358, 0.1973047 ,\n",
              "       0.19169968, 0.20097188, 0.2243877 , 0.19607421, 0.18686653,\n",
              "       0.16968473, 0.1941751 , 0.2599686 , 0.17966077, 0.19651081])"
            ]
          },
          "metadata": {
            "tags": []
          },
          "execution_count": 44
        }
      ]
    },
    {
      "cell_type": "code",
      "metadata": {
        "id": "otvahQPy3aB1",
        "colab_type": "code",
        "colab": {
          "base_uri": "https://localhost:8080/",
          "height": 102
        },
        "outputId": "b1a622ea-1e31-4e5f-e464-e5c1640bdfbb"
      },
      "source": [
        "matrix_normal.mean(0)"
      ],
      "execution_count": null,
      "outputs": [
        {
          "output_type": "execute_result",
          "data": {
            "text/plain": [
              "array([0.14731021, 0.17767102, 0.30667831, 0.20150514, 0.16683532,\n",
              "       0.15023014, 0.18399816, 0.29273921, 0.19943339, 0.1735991 ,\n",
              "       0.17551003, 0.18614284, 0.23503831, 0.19525646, 0.20805237,\n",
              "       0.16710031, 0.20181101, 0.28731063, 0.18003896, 0.1637391 ,\n",
              "       0.15592408, 0.21974316, 0.25753511, 0.2063521 , 0.16044555])"
            ]
          },
          "metadata": {
            "tags": []
          },
          "execution_count": 35
        }
      ]
    },
    {
      "cell_type": "code",
      "metadata": {
        "id": "hEbH5PE--rz2",
        "colab_type": "code",
        "colab": {
          "base_uri": "https://localhost:8080/",
          "height": 51
        },
        "outputId": "0a35be25-fd8f-4e1a-bb57-8c99b2442f13"
      },
      "source": [
        "han_model.show_doc_attention(X)[idx_normal].mean(0)"
      ],
      "execution_count": null,
      "outputs": [
        {
          "output_type": "execute_result",
          "data": {
            "text/plain": [
              "array([0.39365327, 0.20395377, 0.10314895, 0.12329375, 0.1759502 ],\n",
              "      dtype=float32)"
            ]
          },
          "metadata": {
            "tags": []
          },
          "execution_count": 37
        }
      ]
    },
    {
      "cell_type": "code",
      "metadata": {
        "id": "W7YhTGh3GhFF",
        "colab_type": "code",
        "colab": {
          "base_uri": "https://localhost:8080/",
          "height": 51
        },
        "outputId": "069e9755-891f-4302-9272-83b0e241e248"
      },
      "source": [
        "han_model.show_doc_attention(X)[idx_other].mean(0)"
      ],
      "execution_count": null,
      "outputs": [
        {
          "output_type": "execute_result",
          "data": {
            "text/plain": [
              "array([0.27022064, 0.1649256 , 0.14666411, 0.17071202, 0.24747722],\n",
              "      dtype=float32)"
            ]
          },
          "metadata": {
            "tags": []
          },
          "execution_count": 38
        }
      ]
    },
    {
      "cell_type": "code",
      "metadata": {
        "id": "N0ziZ87WGpyn",
        "colab_type": "code",
        "colab": {
          "base_uri": "https://localhost:8080/",
          "height": 51
        },
        "outputId": "3aa212d6-eddd-4124-8077-7cdb13909c2a"
      },
      "source": [
        "han_model.show_doc_attention(X)[idx_covid].mean(0)"
      ],
      "execution_count": null,
      "outputs": [
        {
          "output_type": "execute_result",
          "data": {
            "text/plain": [
              "array([0.1861875 , 0.19780914, 0.20887007, 0.21576579, 0.19136748],\n",
              "      dtype=float32)"
            ]
          },
          "metadata": {
            "tags": []
          },
          "execution_count": 39
        }
      ]
    },
    {
      "cell_type": "code",
      "metadata": {
        "id": "01VJH5k0i-XS",
        "colab_type": "code",
        "colab": {
          "base_uri": "https://localhost:8080/",
          "height": 153
        },
        "outputId": "1219175d-c6f1-479b-c912-be1baf6eccb5"
      },
      "source": [
        "data"
      ],
      "execution_count": null,
      "outputs": [
        {
          "output_type": "execute_result",
          "data": {
            "text/plain": [
              "array([[0.18144824, 0.17756657, 0.18227655, 0.16758707, 0.29112157],\n",
              "       [0.21508864, 0.18932164, 0.19043843, 0.2061054 , 0.19904594],\n",
              "       [0.19212873, 0.20833932, 0.21110877, 0.20919982, 0.17922337],\n",
              "       ...,\n",
              "       [0.23360208, 0.18830398, 0.24227662, 0.18902774, 0.1467896 ],\n",
              "       [0.1888832 , 0.17855033, 0.18897781, 0.22230282, 0.22128583],\n",
              "       [0.19610523, 0.23777902, 0.21744741, 0.18778607, 0.1608823 ]],\n",
              "      dtype=float32)"
            ]
          },
          "metadata": {
            "tags": []
          },
          "execution_count": 70
        }
      ]
    },
    {
      "cell_type": "code",
      "metadata": {
        "id": "1n3yewdd1KwI",
        "colab_type": "code",
        "colab": {}
      },
      "source": [
        "data1=han_model.show_doc_attention(X)[idx_covid]\n",
        "sss=pd.DataFrame(data1)\n",
        "sss.to_csv('/content/covid.csv')"
      ],
      "execution_count": null,
      "outputs": []
    },
    {
      "cell_type": "code",
      "metadata": {
        "id": "cY0XAZu3cVhc",
        "colab_type": "code",
        "colab": {
          "base_uri": "https://localhost:8080/",
          "height": 153
        },
        "outputId": "58619863-0e88-4a75-dd93-2bd4f8840d78"
      },
      "source": [
        "data"
      ],
      "execution_count": null,
      "outputs": [
        {
          "output_type": "execute_result",
          "data": {
            "text/plain": [
              "array([[0.18923743, 0.21339749, 0.21674305, 0.20799921, 0.17262292],\n",
              "       [0.23257355, 0.20938489, 0.20501235, 0.18722829, 0.16580091],\n",
              "       [0.11669628, 0.21444817, 0.22586699, 0.23792364, 0.20506486],\n",
              "       ...,\n",
              "       [0.16444102, 0.1505334 , 0.21573311, 0.24104348, 0.22824903],\n",
              "       [0.21700712, 0.20087267, 0.20206873, 0.1922565 , 0.18779501],\n",
              "       [0.21867803, 0.19404303, 0.19218506, 0.20097008, 0.19412382]],\n",
              "      dtype=float32)"
            ]
          },
          "metadata": {
            "tags": []
          },
          "execution_count": 42
        }
      ]
    },
    {
      "cell_type": "code",
      "metadata": {
        "id": "KEwfwfbd_QzY",
        "colab_type": "code",
        "colab": {
          "base_uri": "https://localhost:8080/",
          "height": 306
        },
        "outputId": "deb6a2cd-8324-4c21-e6cd-1482273943cd"
      },
      "source": [
        "import seaborn as sns\n",
        "#dataa=pd.read_csv('/content/covid.csv')\n",
        "dataa=data1\n",
        "ax = sns.boxplot(data=dataa,showfliers = False)\n",
        "ax.set(xlabel='Image blocks (y)', ylabel='Attention score')\n",
        "#plt.plot(x, data)\n",
        "#plt.show()\n",
        "\n"
      ],
      "execution_count": null,
      "outputs": [
        {
          "output_type": "execute_result",
          "data": {
            "text/plain": [
              "[Text(0, 0.5, 'Attention score'), Text(0.5, 0, 'Image blocks (y)')]"
            ]
          },
          "metadata": {
            "tags": []
          },
          "execution_count": 45
        },
        {
          "output_type": "display_data",
          "data": {
            "image/png": "[encoded data removed]",
            "text/plain": [
              "<Figure size 432x288 with 1 Axes>"
            ]
          },
          "metadata": {
            "tags": []
          }
        }
      ]
    },
    {
      "cell_type": "code",
      "metadata": {
        "id": "H4C_0mFJ89qz",
        "colab_type": "code",
        "colab": {
          "base_uri": "https://localhost:8080/",
          "height": 299
        },
        "outputId": "ab52f7a2-04a9-4b98-b353-8e63f2eba1fe"
      },
      "source": [
        "dataa=pd.read_csv('/content/normal.csv')\n",
        "\n",
        "ax = sns.boxplot(data=dataa,showfliers = False)\n",
        "ax.set(xlabel='Image blocks (y)', ylabel='Attention score')"
      ],
      "execution_count": null,
      "outputs": [
        {
          "output_type": "execute_result",
          "data": {
            "text/plain": [
              "[Text(0, 0.5, 'Attention score'), Text(0.5, 0, 'Image blocks (y)')]"
            ]
          },
          "metadata": {
            "tags": []
          },
          "execution_count": 38
        },
        {
          "output_type": "display_data",
          "data": {
            "image/png": "[encoded data removed]",
            "text/plain": [
              "<Figure size 432x288 with 1 Axes>"
            ]
          },
          "metadata": {
            "tags": [],
            "needs_background": "light"
          }
        }
      ]
    },
    {
      "cell_type": "code",
      "metadata": {
        "id": "qNZ3_wx_9CS2",
        "colab_type": "code",
        "colab": {
          "base_uri": "https://localhost:8080/",
          "height": 296
        },
        "outputId": "4376abe3-b8a2-457b-c70b-4a2d612b2fbc"
      },
      "source": [
        "dataa=pd.read_csv('/content/covid.csv')\n",
        "ax = sns.boxplot(data=dataa,showfliers = False)\n",
        "ax.set(xlabel='Image blocks (y)', ylabel='Attention score')"
      ],
      "execution_count": null,
      "outputs": [
        {
          "output_type": "execute_result",
          "data": {
            "text/plain": [
              "[Text(0, 0.5, 'Attention score'), Text(0.5, 0, 'Image blocks (y)')]"
            ]
          },
          "metadata": {
            "tags": []
          },
          "execution_count": 33
        },
        {
          "output_type": "display_data",
          "data": {
            "image/png": "[encoded data removed]",
            "text/plain": [
              "<Figure size 432x288 with 1 Axes>"
            ]
          },
          "metadata": {
            "tags": [],
            "needs_background": "light"
          }
        }
      ]
    },
    {
      "cell_type": "code",
      "metadata": {
        "id": "-_uaYzvPSML1",
        "colab_type": "code",
        "colab": {
          "base_uri": "https://localhost:8080/",
          "height": 265
        },
        "outputId": "d293c97e-8473-4e24-f75b-bc4289f3f47d"
      },
      "source": [
        "import seaborn as sns\n",
        "ax = sns.boxplot(data=han_model.show_doc_attention(X)[idx_other])"
      ],
      "execution_count": null,
      "outputs": [
        {
          "output_type": "display_data",
          "data": {
            "image/png": "[encoded data removed]",
            "text/plain": [
              "<Figure size 432x288 with 1 Axes>"
            ]
          },
          "metadata": {
            "tags": [],
            "needs_background": "light"
          }
        }
      ]
    },
    {
      "cell_type": "code",
      "metadata": {
        "id": "neJZwJZB_dqS",
        "colab_type": "code",
        "colab": {
          "base_uri": "https://localhost:8080/",
          "height": 268
        },
        "outputId": "067c3ee3-480f-4439-ebc8-dbeff29c0e98"
      },
      "source": [
        "import seaborn as sns\n",
        "ax = sns.boxplot(data=han_model.show_doc_attention(X)[idx_normal],showfliers = False)"
      ],
      "execution_count": null,
      "outputs": [
        {
          "output_type": "display_data",
          "data": {
            "image/png": "[encoded data removed]",
            "text/plain": [
              "<Figure size 432x288 with 1 Axes>"
            ]
          },
          "metadata": {
            "tags": [],
            "needs_background": "light"
          }
        }
      ]
    },
    {
      "cell_type": "code",
      "metadata": {
        "id": "NIWCiej8_j6T",
        "colab_type": "code",
        "colab": {
          "base_uri": "https://localhost:8080/",
          "height": 265
        },
        "outputId": "d15a477e-cb82-48a0-d482-ff88c91cc1e3"
      },
      "source": [
        "import seaborn as sns\n",
        "ax = sns.boxplot(data=han_model.show_doc_attention(X)[idx_other],showfliers = False)"
      ],
      "execution_count": null,
      "outputs": [
        {
          "output_type": "display_data",
          "data": {
            "image/png": "[encoded data removed]",
            "text/plain": [
              "<Figure size 432x288 with 1 Axes>"
            ]
          },
          "metadata": {
            "tags": [],
            "needs_background": "light"
          }
        }
      ]
    },
    {
      "cell_type": "code",
      "metadata": {
        "id": "73XOq1jtZFvG",
        "colab_type": "code",
        "colab": {
          "base_uri": "https://localhost:8080/",
          "height": 265
        },
        "outputId": "35d017d4-6aaa-4565-e42d-94648b783b19"
      },
      "source": [
        "ax = sns.boxplot(data=han_model.show_doc_attention(X)[idx_covid],showfliers = False)"
      ],
      "execution_count": null,
      "outputs": [
        {
          "output_type": "display_data",
          "data": {
            "image/png": "[encoded data removed]",
            "text/plain": [
              "<Figure size 432x288 with 1 Axes>"
            ]
          },
          "metadata": {
            "tags": [],
            "needs_background": "light"
          }
        }
      ]
    },
    {
      "cell_type": "code",
      "metadata": {
        "id": "RBrKsDnCcw7b",
        "colab_type": "code",
        "colab": {
          "base_uri": "https://localhost:8080/",
          "height": 1000
        },
        "outputId": "337c3f38-3e60-4761-9f88-5de0be5798dc"
      },
      "source": [
        "han_model.show_doc_attention(X)[idx_normal[100:200]]"
      ],
      "execution_count": null,
      "outputs": [
        {
          "output_type": "execute_result",
          "data": {
            "text/plain": [
              "array([[0.22038168, 0.1729764 , 0.18281019, 0.18898444, 0.23484734],\n",
              "       [0.21872947, 0.18624206, 0.1801194 , 0.19587807, 0.21903098],\n",
              "       [0.21587893, 0.1974981 , 0.19333073, 0.19872025, 0.19457196],\n",
              "       [0.36803153, 0.23937248, 0.17022641, 0.10984316, 0.11252651],\n",
              "       [0.21667929, 0.19894995, 0.19359511, 0.19761865, 0.19315696],\n",
              "       [0.23413953, 0.20036711, 0.18984088, 0.19014782, 0.18550467],\n",
              "       [0.34798995, 0.21679085, 0.1301936 , 0.17101169, 0.13401389],\n",
              "       [0.2425905 , 0.22116919, 0.2035743 , 0.11593889, 0.21672703],\n",
              "       [0.22370563, 0.20465937, 0.18005623, 0.2013567 , 0.19022208],\n",
              "       [0.19400758, 0.17928529, 0.17573756, 0.19650607, 0.2544634 ],\n",
              "       [0.25519848, 0.15366828, 0.11662031, 0.22664344, 0.24786945],\n",
              "       [0.24247767, 0.20419626, 0.18591385, 0.18234406, 0.18506819],\n",
              "       [0.21047963, 0.16484992, 0.20774548, 0.21091016, 0.20601484],\n",
              "       [0.2034567 , 0.19498761, 0.1932055 , 0.20264545, 0.20570478],\n",
              "       [0.23338354, 0.18976447, 0.17071837, 0.21090758, 0.19522604],\n",
              "       [0.30044115, 0.2123581 , 0.10915355, 0.17231008, 0.20573708],\n",
              "       [0.21634166, 0.17465295, 0.19345285, 0.20302132, 0.21253125],\n",
              "       [0.21326701, 0.19460744, 0.20013624, 0.19267438, 0.199315  ],\n",
              "       [0.23278472, 0.20135434, 0.18838653, 0.18078905, 0.19668536],\n",
              "       [0.16143858, 0.23218878, 0.16635981, 0.21664701, 0.22336575],\n",
              "       [0.3547051 , 0.27598453, 0.16243543, 0.09780645, 0.10906857],\n",
              "       [0.2094441 , 0.18210946, 0.19524916, 0.2022029 , 0.21099442],\n",
              "       [0.23787439, 0.20727307, 0.14751521, 0.20032817, 0.20700923],\n",
              "       [0.22038174, 0.19229159, 0.17773762, 0.19739246, 0.21219654],\n",
              "       [0.33452162, 0.25319818, 0.11535545, 0.14551559, 0.15140918],\n",
              "       [0.22853547, 0.11127822, 0.21326938, 0.23576422, 0.21115276],\n",
              "       [0.22430052, 0.18219563, 0.19817705, 0.20283316, 0.19249365],\n",
              "       [0.22589552, 0.20147051, 0.15211496, 0.19035806, 0.23016089],\n",
              "       [0.23459141, 0.19288626, 0.19176127, 0.19684659, 0.18391447],\n",
              "       [0.25917757, 0.21092834, 0.10536338, 0.20111734, 0.22341341],\n",
              "       [0.24238549, 0.19801018, 0.19548225, 0.18125595, 0.18286619],\n",
              "       [0.2559235 , 0.231549  , 0.22229421, 0.206861  , 0.08337218],\n",
              "       [0.17588677, 0.18138966, 0.18066801, 0.17896846, 0.28308707],\n",
              "       [0.3012436 , 0.25802958, 0.19945821, 0.11566865, 0.12559989],\n",
              "       [0.24211973, 0.20466998, 0.18597737, 0.17462765, 0.1926053 ],\n",
              "       [0.29723984, 0.25270733, 0.21464589, 0.10628142, 0.12912546],\n",
              "       [0.2617207 , 0.20274264, 0.13051113, 0.21364048, 0.19138496],\n",
              "       [0.24197948, 0.19513606, 0.14289895, 0.2212941 , 0.19869138],\n",
              "       [0.16637397, 0.17802976, 0.18396924, 0.2241107 , 0.24751632],\n",
              "       [0.2539011 , 0.21336941, 0.17915782, 0.15237783, 0.20119382],\n",
              "       [0.33437434, 0.19289072, 0.19602403, 0.16788429, 0.10882673],\n",
              "       [0.21727102, 0.18361445, 0.17686208, 0.20536269, 0.21688978],\n",
              "       [0.24397974, 0.170614  , 0.12372941, 0.22133441, 0.24034245],\n",
              "       [0.30546612, 0.2446911 , 0.24516362, 0.10574116, 0.098938  ],\n",
              "       [0.20266035, 0.15895073, 0.17268413, 0.19137646, 0.27432835],\n",
              "       [0.33026576, 0.29035667, 0.14639877, 0.12545046, 0.10752828],\n",
              "       [0.22977543, 0.20357667, 0.15429938, 0.19201526, 0.22033335],\n",
              "       [0.2424156 , 0.16378315, 0.17576674, 0.18292509, 0.23510934],\n",
              "       [0.20810196, 0.17024663, 0.17181174, 0.16575581, 0.28408387],\n",
              "       [0.23817594, 0.20305088, 0.16467616, 0.2009341 , 0.1931629 ],\n",
              "       [0.3579091 , 0.22435601, 0.1205418 , 0.17320251, 0.12399055],\n",
              "       [0.2209234 , 0.18778662, 0.18764533, 0.1951316 , 0.20851313],\n",
              "       [0.21982083, 0.1976204 , 0.19398206, 0.18978797, 0.19878875],\n",
              "       [0.2339106 , 0.19667989, 0.18909858, 0.19363861, 0.18667229],\n",
              "       [0.22042859, 0.18962191, 0.17161012, 0.16945094, 0.24888851],\n",
              "       [0.23842984, 0.13262552, 0.23918459, 0.18798196, 0.20177804],\n",
              "       [0.40929878, 0.19153622, 0.12475477, 0.13430654, 0.14010377],\n",
              "       [0.20501998, 0.18740228, 0.18417642, 0.23134243, 0.19205885],\n",
              "       [0.30606228, 0.2445061 , 0.2202176 , 0.14603187, 0.08318209],\n",
              "       [0.33777028, 0.27635083, 0.12337635, 0.10307576, 0.15942676],\n",
              "       [0.36003622, 0.22240426, 0.10211798, 0.10697307, 0.20846844],\n",
              "       [0.21538287, 0.19531868, 0.17805123, 0.20255686, 0.20869035],\n",
              "       [0.22826429, 0.19448048, 0.1384797 , 0.207402  , 0.23137352],\n",
              "       [0.2693692 , 0.263442  , 0.23834899, 0.10353709, 0.1253027 ],\n",
              "       [0.21218796, 0.18822934, 0.18561924, 0.20270716, 0.21125625],\n",
              "       [0.22468129, 0.19855307, 0.19325282, 0.17981341, 0.20369938],\n",
              "       [0.28285995, 0.21190043, 0.10901952, 0.16020897, 0.23601109],\n",
              "       [0.24471183, 0.20529507, 0.17726092, 0.18296398, 0.18976815],\n",
              "       [0.37496412, 0.2880638 , 0.11382566, 0.1075732 , 0.11557331],\n",
              "       [0.24425046, 0.15430534, 0.16258094, 0.17849445, 0.2603688 ],\n",
              "       [0.22879209, 0.20110103, 0.18517783, 0.19687307, 0.188056  ],\n",
              "       [0.2274772 , 0.21074076, 0.18561721, 0.16496444, 0.21120042],\n",
              "       [0.16708529, 0.20876458, 0.19647333, 0.2147296 , 0.21294719],\n",
              "       [0.25628614, 0.118432  , 0.15913343, 0.22050932, 0.24563906],\n",
              "       [0.22437859, 0.1839972 , 0.19911078, 0.20305644, 0.18945704],\n",
              "       [0.22970147, 0.1877692 , 0.18124612, 0.20471658, 0.19656661],\n",
              "       [0.38510436, 0.2668567 , 0.116953  , 0.11132848, 0.11975744],\n",
              "       [0.25371787, 0.18495083, 0.14252228, 0.20899205, 0.20981705],\n",
              "       [0.24527898, 0.21392387, 0.20642279, 0.16259305, 0.17178132],\n",
              "       [0.2284539 , 0.19563949, 0.19593303, 0.19671217, 0.18326138],\n",
              "       [0.24449039, 0.21020173, 0.18710747, 0.1841428 , 0.17405754],\n",
              "       [0.24489412, 0.1780969 , 0.17982301, 0.19098811, 0.20619783],\n",
              "       [0.18807949, 0.19647102, 0.19359747, 0.20631023, 0.21554181],\n",
              "       [0.2558404 , 0.20407403, 0.10500453, 0.19746688, 0.23761421],\n",
              "       [0.2831709 , 0.2671497 , 0.22270553, 0.11168294, 0.11529088],\n",
              "       [0.30458125, 0.20468594, 0.17638907, 0.14858316, 0.16576058],\n",
              "       [0.2265408 , 0.17204073, 0.15430263, 0.22007702, 0.2270388 ],\n",
              "       [0.32395563, 0.21733728, 0.17844924, 0.11446925, 0.16578865],\n",
              "       [0.24170573, 0.19881716, 0.14390633, 0.21393363, 0.20163713],\n",
              "       [0.25914472, 0.20487729, 0.19776715, 0.15429229, 0.18391846],\n",
              "       [0.25361565, 0.21304522, 0.18447311, 0.14952186, 0.19934414],\n",
              "       [0.19242597, 0.19058727, 0.22004963, 0.19714354, 0.19979365],\n",
              "       [0.1753056 , 0.20807053, 0.17735441, 0.22284614, 0.21642329],\n",
              "       [0.19944297, 0.18796594, 0.2057921 , 0.19768918, 0.20910981],\n",
              "       [0.22342037, 0.20396782, 0.19186002, 0.19433956, 0.18641227],\n",
              "       [0.2254062 , 0.19879846, 0.19258104, 0.19187099, 0.19134323],\n",
              "       [0.25778422, 0.21684837, 0.17200781, 0.2000967 , 0.15326281],\n",
              "       [0.26011243, 0.19591393, 0.14528495, 0.15746666, 0.24122211],\n",
              "       [0.31233963, 0.2574352 , 0.11508255, 0.19950922, 0.11563335],\n",
              "       [0.27200565, 0.21364975, 0.16249429, 0.12205291, 0.22979745]],\n",
              "      dtype=float32)"
            ]
          },
          "metadata": {
            "tags": []
          },
          "execution_count": 98
        }
      ]
    },
    {
      "cell_type": "code",
      "metadata": {
        "id": "kZxfJmEvqhvv",
        "colab_type": "code",
        "colab": {
          "base_uri": "https://localhost:8080/",
          "height": 1000
        },
        "outputId": "0f54864f-23ae-4ca8-8107-ba08190b44f8"
      },
      "source": [
        "han_model.show_doc_attention(X)[idx_covid[100:200]]"
      ],
      "execution_count": null,
      "outputs": [
        {
          "output_type": "execute_result",
          "data": {
            "text/plain": [
              "array([[0.19306141, 0.17872655, 0.20928225, 0.2071317 , 0.2117981 ],\n",
              "       [0.207595  , 0.19576974, 0.19819589, 0.20078002, 0.1976593 ],\n",
              "       [0.19723241, 0.1964193 , 0.19656706, 0.2064424 , 0.20333882],\n",
              "       [0.24080534, 0.22969897, 0.17601909, 0.17805472, 0.17542188],\n",
              "       [0.2029692 , 0.19982778, 0.19951521, 0.19870582, 0.19898197],\n",
              "       [0.18824716, 0.20292869, 0.20666169, 0.20515947, 0.19700293],\n",
              "       [0.1962275 , 0.20100982, 0.21050617, 0.18631548, 0.20594098],\n",
              "       [0.20566657, 0.19096307, 0.20308661, 0.20320304, 0.19708078],\n",
              "       [0.20284311, 0.20879629, 0.19568229, 0.19653575, 0.19614257],\n",
              "       [0.19626255, 0.19726361, 0.19952728, 0.2051601 , 0.20178653],\n",
              "       [0.19993682, 0.20953114, 0.18831983, 0.20715527, 0.19505696],\n",
              "       [0.20709403, 0.19162866, 0.19038782, 0.19600739, 0.21488208],\n",
              "       [0.20350796, 0.20355979, 0.19516088, 0.18832722, 0.20944417],\n",
              "       [0.20671217, 0.20507191, 0.20038901, 0.1942459 , 0.19358099],\n",
              "       [0.20113374, 0.20001799, 0.2016266 , 0.19828445, 0.19893722],\n",
              "       [0.20394759, 0.2034613 , 0.20621225, 0.20247418, 0.18390466],\n",
              "       [0.20611608, 0.19407247, 0.19857849, 0.20138507, 0.19984785],\n",
              "       [0.21333957, 0.18539624, 0.20460624, 0.20569678, 0.19096121],\n",
              "       [0.2239039 , 0.19110951, 0.19359176, 0.20282118, 0.18857358],\n",
              "       [0.23951219, 0.19314548, 0.18349889, 0.19393043, 0.18991295],\n",
              "       [0.21142805, 0.1641993 , 0.16329612, 0.21600203, 0.24507453],\n",
              "       [0.19170174, 0.20101376, 0.21033634, 0.2104912 , 0.18645696],\n",
              "       [0.19750428, 0.21025363, 0.21246128, 0.2094685 , 0.17031232],\n",
              "       [0.21215664, 0.21174316, 0.17880964, 0.21010506, 0.18718562],\n",
              "       [0.18969549, 0.20411474, 0.20347378, 0.2039653 , 0.19875057],\n",
              "       [0.20557746, 0.19925058, 0.20235038, 0.20010982, 0.19271177],\n",
              "       [0.22075798, 0.20857082, 0.17343338, 0.20318446, 0.19405334],\n",
              "       [0.19878562, 0.19843113, 0.19538589, 0.19636743, 0.21102993],\n",
              "       [0.24648622, 0.2100111 , 0.18238857, 0.18360575, 0.17750841],\n",
              "       [0.21975829, 0.1974475 , 0.1834884 , 0.20341255, 0.19589323],\n",
              "       [0.21279295, 0.1968045 , 0.20242569, 0.19406916, 0.19390775],\n",
              "       [0.20272455, 0.20265014, 0.19714144, 0.19683023, 0.20065363],\n",
              "       [0.20760031, 0.20476493, 0.20017023, 0.19528805, 0.19217648],\n",
              "       [0.20888887, 0.20847362, 0.19650716, 0.19123954, 0.1948908 ],\n",
              "       [0.17023554, 0.18634039, 0.21176518, 0.2136428 , 0.21801607],\n",
              "       [0.20301194, 0.20650405, 0.20582174, 0.19578294, 0.1888793 ],\n",
              "       [0.20458232, 0.18222338, 0.19785002, 0.20168377, 0.21366057],\n",
              "       [0.21987462, 0.23478508, 0.21595958, 0.15799214, 0.17138855],\n",
              "       [0.20234892, 0.2083442 , 0.1978375 , 0.22386225, 0.16760711],\n",
              "       [0.22775842, 0.17807443, 0.15662685, 0.19591108, 0.24162929],\n",
              "       [0.20026441, 0.19388324, 0.19618587, 0.20150773, 0.20815872],\n",
              "       [0.18754226, 0.20615524, 0.19591801, 0.1959346 , 0.21444988],\n",
              "       [0.21473132, 0.20098835, 0.19775511, 0.2025335 , 0.1839917 ],\n",
              "       [0.19364163, 0.19432715, 0.19733012, 0.20832513, 0.20637597],\n",
              "       [0.20056759, 0.19352517, 0.19662534, 0.199303  , 0.2099789 ],\n",
              "       [0.1985833 , 0.19605796, 0.21325354, 0.19665259, 0.19545254],\n",
              "       [0.1932972 , 0.20418866, 0.1972465 , 0.2094577 , 0.19580996],\n",
              "       [0.19783516, 0.19627944, 0.20330568, 0.19971026, 0.20286942],\n",
              "       [0.20647952, 0.19681254, 0.19905175, 0.19938074, 0.19827545],\n",
              "       [0.1995192 , 0.20218882, 0.20022066, 0.19978663, 0.19828461],\n",
              "       [0.20003894, 0.21233574, 0.20078726, 0.2013791 , 0.18545897],\n",
              "       [0.19517614, 0.1942829 , 0.18991673, 0.20419063, 0.2164336 ],\n",
              "       [0.20130762, 0.18676995, 0.20141596, 0.20409013, 0.2064163 ],\n",
              "       [0.19508012, 0.21227728, 0.20903544, 0.20150535, 0.18210176],\n",
              "       [0.20175917, 0.22173914, 0.19519562, 0.19432183, 0.18698429],\n",
              "       [0.2163642 , 0.21097535, 0.18904026, 0.19853885, 0.18508136],\n",
              "       [0.20815586, 0.18894947, 0.19099319, 0.20827599, 0.2036255 ],\n",
              "       [0.20841308, 0.20681046, 0.20415717, 0.20226732, 0.17835201],\n",
              "       [0.21538912, 0.1844881 , 0.18483   , 0.19544323, 0.21984959],\n",
              "       [0.22904634, 0.19117117, 0.194078  , 0.20887268, 0.17683186],\n",
              "       [0.21151178, 0.19662331, 0.19812995, 0.19279045, 0.20094442],\n",
              "       [0.20394477, 0.20508637, 0.20428173, 0.19346216, 0.19322497],\n",
              "       [0.21466506, 0.20487376, 0.19347452, 0.19641046, 0.1905762 ],\n",
              "       [0.24200127, 0.21750048, 0.18007395, 0.14460409, 0.21582021],\n",
              "       [0.21791284, 0.21193494, 0.19196743, 0.18646742, 0.19171736],\n",
              "       [0.22073069, 0.20134701, 0.19345312, 0.19163784, 0.19283125],\n",
              "       [0.2220905 , 0.2008598 , 0.21041238, 0.20362343, 0.16301388],\n",
              "       [0.23056607, 0.20382012, 0.19459234, 0.18492371, 0.18609767],\n",
              "       [0.21117103, 0.20573959, 0.19844492, 0.1946936 , 0.18995085],\n",
              "       [0.2074265 , 0.205036  , 0.20361781, 0.18699509, 0.19692464],\n",
              "       [0.20542969, 0.2080191 , 0.20093259, 0.19307335, 0.19254524],\n",
              "       [0.20854495, 0.20990008, 0.18428649, 0.19356672, 0.20370176],\n",
              "       [0.17133418, 0.20036735, 0.21125118, 0.20998618, 0.2070611 ],\n",
              "       [0.22431943, 0.22979482, 0.18889233, 0.18231064, 0.17468281],\n",
              "       [0.19372047, 0.19807203, 0.1975633 , 0.20148498, 0.20915921],\n",
              "       [0.20728701, 0.19835882, 0.1998826 , 0.20041002, 0.19406156],\n",
              "       [0.21581231, 0.21542403, 0.16573063, 0.20018609, 0.20284696],\n",
              "       [0.20997357, 0.19535293, 0.1941616 , 0.20265071, 0.1978612 ],\n",
              "       [0.19778575, 0.20473056, 0.2072925 , 0.18834822, 0.20184305],\n",
              "       [0.19466126, 0.18853357, 0.18175636, 0.21231787, 0.22273095],\n",
              "       [0.19904505, 0.19959754, 0.19627152, 0.20104004, 0.20404585],\n",
              "       [0.19108929, 0.18551731, 0.19143234, 0.21377881, 0.21818219],\n",
              "       [0.21416324, 0.21002464, 0.18584055, 0.19116315, 0.19880839],\n",
              "       [0.20251815, 0.20155543, 0.19708318, 0.19283737, 0.20600595],\n",
              "       [0.19601199, 0.19883801, 0.2000126 , 0.20191485, 0.20322248],\n",
              "       [0.1934172 , 0.19893071, 0.19630148, 0.20161131, 0.20973933],\n",
              "       [0.21853918, 0.20454004, 0.22338465, 0.21811232, 0.13542378],\n",
              "       [0.2288368 , 0.19583628, 0.19199465, 0.19352305, 0.18980916],\n",
              "       [0.19470616, 0.19479892, 0.20049249, 0.20343968, 0.2065628 ],\n",
              "       [0.1904157 , 0.19242798, 0.20420817, 0.19860691, 0.21434115],\n",
              "       [0.18270314, 0.2221911 , 0.2091316 , 0.19050361, 0.19547053],\n",
              "       [0.17675884, 0.19059965, 0.21184713, 0.22684938, 0.19394496],\n",
              "       [0.21159768, 0.19191067, 0.2042686 , 0.20494775, 0.18727529],\n",
              "       [0.1890954 , 0.19830546, 0.19435169, 0.2081655 , 0.21008193],\n",
              "       [0.20226118, 0.20138945, 0.19377993, 0.20243064, 0.20013878],\n",
              "       [0.18733886, 0.1991713 , 0.20024976, 0.19814731, 0.21509273],\n",
              "       [0.26273853, 0.19866161, 0.17997977, 0.1856447 , 0.17297545],\n",
              "       [0.2002882 , 0.19986826, 0.19821608, 0.19231695, 0.20931055],\n",
              "       [0.20181148, 0.20034927, 0.20027432, 0.19404127, 0.20352365],\n",
              "       [0.2010091 , 0.19818503, 0.19329286, 0.20045063, 0.20706236]],\n",
              "      dtype=float32)"
            ]
          },
          "metadata": {
            "tags": []
          },
          "execution_count": 85
        }
      ]
    },
    {
      "cell_type": "code",
      "metadata": {
        "id": "hyrI8KqR-dF-",
        "colab_type": "code",
        "colab": {
          "base_uri": "https://localhost:8080/",
          "height": 1000
        },
        "outputId": "e5c199f8-a777-4a14-f21a-ef581943cd67"
      },
      "source": [
        "han_model.show_doc_attention(X)[idx_other[100:200]]"
      ],
      "execution_count": null,
      "outputs": [
        {
          "output_type": "execute_result",
          "data": {
            "text/plain": [
              "array([[0.18111031, 0.18691827, 0.20569396, 0.21191646, 0.21436095],\n",
              "       [0.19925559, 0.19907413, 0.19952187, 0.20044105, 0.20170742],\n",
              "       [0.13323802, 0.15887672, 0.2108426 , 0.24994965, 0.24709305],\n",
              "       [0.20021214, 0.20030206, 0.19992563, 0.20003484, 0.19952534],\n",
              "       [0.1794639 , 0.18710846, 0.21067247, 0.20956527, 0.21318999],\n",
              "       [0.2014915 , 0.20103209, 0.1959048 , 0.20046625, 0.2011054 ],\n",
              "       [0.2002675 , 0.19931981, 0.19742471, 0.19656163, 0.20642634],\n",
              "       [0.21334067, 0.21070336, 0.20852233, 0.19930719, 0.1681264 ],\n",
              "       [0.18068376, 0.18566728, 0.20723075, 0.2102539 , 0.21616434],\n",
              "       [0.20405911, 0.20113994, 0.19652832, 0.19621314, 0.20205945],\n",
              "       [0.19979243, 0.20103112, 0.19687873, 0.20025982, 0.2020379 ],\n",
              "       [0.1910041 , 0.18921596, 0.2021191 , 0.20673493, 0.21092595],\n",
              "       [0.20201236, 0.19514534, 0.20095623, 0.20155509, 0.20033093],\n",
              "       [0.17060748, 0.20820984, 0.20695983, 0.20630278, 0.20792013],\n",
              "       [0.19182986, 0.19838655, 0.20395793, 0.20150763, 0.20431797],\n",
              "       [0.20245911, 0.19903524, 0.19613871, 0.20101261, 0.20135434],\n",
              "       [0.17391428, 0.12180998, 0.18343438, 0.23818454, 0.28265688],\n",
              "       [0.20379043, 0.19761875, 0.1975268 , 0.19885132, 0.20221274],\n",
              "       [0.20037906, 0.19835928, 0.19766335, 0.201229  , 0.20236927],\n",
              "       [0.19656642, 0.20151356, 0.19801174, 0.20041211, 0.20349611],\n",
              "       [0.20260268, 0.19829051, 0.19753593, 0.19746064, 0.2041102 ],\n",
              "       [0.20469515, 0.19996834, 0.19674675, 0.19715758, 0.20143215],\n",
              "       [0.18204688, 0.20091143, 0.20579427, 0.20647922, 0.20476823],\n",
              "       [0.20393558, 0.20113556, 0.19675164, 0.19611174, 0.20206545],\n",
              "       [0.16816582, 0.18159999, 0.20371215, 0.21951954, 0.22700243],\n",
              "       [0.20287302, 0.20020722, 0.19982341, 0.1960468 , 0.20104952],\n",
              "       [0.20470025, 0.19784111, 0.19752516, 0.19878176, 0.20115183],\n",
              "       [0.20317748, 0.20093773, 0.19948883, 0.19615424, 0.20024174],\n",
              "       [0.16880055, 0.17485623, 0.21780403, 0.21967058, 0.21886855],\n",
              "       [0.19741371, 0.19445926, 0.19970627, 0.20331465, 0.20510618],\n",
              "       [0.14998405, 0.1905417 , 0.2154334 , 0.21926785, 0.22477299],\n",
              "       [0.1689761 , 0.16119641, 0.22107197, 0.22159234, 0.22716317],\n",
              "       [0.20086601, 0.19578524, 0.2027545 , 0.20309135, 0.19750288],\n",
              "       [0.19940425, 0.19851726, 0.20055273, 0.20090938, 0.20061627],\n",
              "       [0.20109113, 0.19809793, 0.1977318 , 0.20118076, 0.2018984 ],\n",
              "       [0.18964386, 0.2059195 , 0.19870143, 0.20235425, 0.20338096],\n",
              "       [0.17677051, 0.18632486, 0.19185013, 0.20487908, 0.24017543],\n",
              "       [0.20320846, 0.20014589, 0.19579567, 0.19928963, 0.20156035],\n",
              "       [0.20019451, 0.19881384, 0.20028582, 0.2005143 , 0.20019151],\n",
              "       [0.20316444, 0.20140877, 0.19699265, 0.19692732, 0.20150675],\n",
              "       [0.14056525, 0.15842293, 0.18246566, 0.23962948, 0.27891672],\n",
              "       [0.16893224, 0.20616   , 0.20222355, 0.2113558 , 0.21132839],\n",
              "       [0.19324867, 0.2005091 , 0.19958545, 0.20211272, 0.20454404],\n",
              "       [0.19828428, 0.19874369, 0.20037033, 0.20143662, 0.2011651 ],\n",
              "       [0.18456683, 0.19980118, 0.19973242, 0.20590654, 0.20999306],\n",
              "       [0.18279633, 0.194363  , 0.20910925, 0.20642136, 0.20731007],\n",
              "       [0.18211362, 0.20427659, 0.20435631, 0.20487861, 0.2043749 ],\n",
              "       [0.19930516, 0.2017885 , 0.20059249, 0.19785063, 0.20046322],\n",
              "       [0.20188875, 0.20222707, 0.19654009, 0.19729856, 0.20204549],\n",
              "       [0.14472315, 0.20270562, 0.21079382, 0.21966465, 0.22211276],\n",
              "       [0.1987344 , 0.20033744, 0.20003119, 0.20054652, 0.20035046],\n",
              "       [0.20380779, 0.19825153, 0.2017649 , 0.19847354, 0.19770226],\n",
              "       [0.16713518, 0.20752652, 0.20386209, 0.21040823, 0.21106797],\n",
              "       [0.20456655, 0.19795305, 0.19833456, 0.1971327 , 0.20201316],\n",
              "       [0.20454504, 0.19909866, 0.19785286, 0.19655922, 0.20194425],\n",
              "       [0.1947221 , 0.19767845, 0.19702302, 0.20467228, 0.20590414],\n",
              "       [0.19024323, 0.20476703, 0.20077462, 0.19912814, 0.205087  ],\n",
              "       [0.19461356, 0.19871347, 0.20476137, 0.20327468, 0.198637  ],\n",
              "       [0.20036578, 0.19686535, 0.19709072, 0.20028372, 0.2053944 ],\n",
              "       [0.20302154, 0.20211756, 0.19842   , 0.2005812 , 0.19585973],\n",
              "       [0.20057645, 0.1994362 , 0.19986717, 0.19948006, 0.20064008],\n",
              "       [0.15435311, 0.17606995, 0.2204308 , 0.22283527, 0.22631094],\n",
              "       [0.20348735, 0.20841101, 0.20710932, 0.18925913, 0.19173323],\n",
              "       [0.19767079, 0.20339692, 0.19925198, 0.1976205 , 0.20205985],\n",
              "       [0.20305763, 0.2011484 , 0.19823433, 0.19706884, 0.20049074],\n",
              "       [0.18065363, 0.1947969 , 0.20502155, 0.20972718, 0.20980072],\n",
              "       [0.20027764, 0.19982561, 0.20041028, 0.19913813, 0.20034832],\n",
              "       [0.19952102, 0.19916557, 0.20056793, 0.20040873, 0.2003367 ],\n",
              "       [0.20428634, 0.20204504, 0.19727497, 0.1966461 , 0.19974759],\n",
              "       [0.1982004 , 0.19915013, 0.19963352, 0.19996643, 0.20304945],\n",
              "       [0.158544  , 0.21145308, 0.21608627, 0.21298067, 0.20093605],\n",
              "       [0.20052436, 0.19932614, 0.20005585, 0.19991519, 0.20017843],\n",
              "       [0.19599469, 0.19365814, 0.20164253, 0.20342414, 0.20528048],\n",
              "       [0.18885139, 0.20070277, 0.20046966, 0.20431966, 0.20565657],\n",
              "       [0.15760583, 0.20162772, 0.20720723, 0.21138062, 0.22217862],\n",
              "       [0.20064907, 0.19730836, 0.19850732, 0.19841647, 0.20511876],\n",
              "       [0.20045882, 0.19951306, 0.1997949 , 0.19970523, 0.20052801],\n",
              "       [0.20047624, 0.20171848, 0.19797234, 0.19999316, 0.1998398 ],\n",
              "       [0.20291162, 0.19912557, 0.1981597 , 0.1972114 , 0.2025917 ],\n",
              "       [0.14618887, 0.21073326, 0.21319196, 0.2146045 , 0.21528134],\n",
              "       [0.2008609 , 0.200151  , 0.1985021 , 0.19885345, 0.20163251],\n",
              "       [0.2050708 , 0.19784157, 0.19713098, 0.1971102 , 0.20284642],\n",
              "       [0.20415007, 0.19972426, 0.19681682, 0.196377  , 0.20293185],\n",
              "       [0.20145164, 0.19821715, 0.19850609, 0.19728567, 0.20453942],\n",
              "       [0.19994181, 0.19984327, 0.19947109, 0.20054078, 0.20020306],\n",
              "       [0.14958923, 0.20751908, 0.21118553, 0.21567532, 0.21603078],\n",
              "       [0.14264554, 0.16195148, 0.18366626, 0.23495221, 0.27678445],\n",
              "       [0.1982955 , 0.19723345, 0.20206425, 0.20011628, 0.2022905 ],\n",
              "       [0.20512165, 0.1992193 , 0.20199405, 0.1976466 , 0.19601844],\n",
              "       [0.20226696, 0.2021505 , 0.1998249 , 0.19546013, 0.2002975 ],\n",
              "       [0.20160846, 0.20119338, 0.20084243, 0.19723071, 0.19912507],\n",
              "       [0.20089015, 0.19910717, 0.19950283, 0.2004957 , 0.20000415],\n",
              "       [0.20180589, 0.19741052, 0.199373  , 0.20000447, 0.2014062 ],\n",
              "       [0.171967  , 0.20273182, 0.20223857, 0.21142463, 0.21163811],\n",
              "       [0.13318993, 0.18663359, 0.2266563 , 0.2302435 , 0.22327666],\n",
              "       [0.11794525, 0.15055235, 0.24527168, 0.22837925, 0.2578515 ],\n",
              "       [0.19724886, 0.2038486 , 0.22167177, 0.19601528, 0.18121547],\n",
              "       [0.20089906, 0.19382222, 0.19578171, 0.20391868, 0.20557831],\n",
              "       [0.20291458, 0.1988529 , 0.19718006, 0.19878414, 0.20226833],\n",
              "       [0.20208384, 0.20078562, 0.20060177, 0.19633928, 0.20018947]],\n",
              "      dtype=float32)"
            ]
          },
          "metadata": {
            "tags": []
          },
          "execution_count": 86
        }
      ]
    },
    {
      "cell_type": "code",
      "metadata": {
        "id": "_N_3vci49w_0",
        "colab_type": "code",
        "colab": {
          "base_uri": "https://localhost:8080/",
          "height": 34
        },
        "outputId": "3d0a6a44-be3f-4054-a1e1-9e71ea339091"
      },
      "source": [
        "y[252]"
      ],
      "execution_count": null,
      "outputs": [
        {
          "output_type": "execute_result",
          "data": {
            "text/plain": [
              "2.0"
            ]
          },
          "metadata": {
            "tags": []
          },
          "execution_count": 75
        }
      ]
    },
    {
      "cell_type": "code",
      "metadata": {
        "id": "WAHS9G7GjtAO",
        "colab_type": "code",
        "colab": {
          "base_uri": "https://localhost:8080/",
          "height": 51
        },
        "outputId": "a2abf9b0-41bd-4c89-b11d-a27ca14f7150"
      },
      "source": [
        "han_model.show_doc_attention(X)[251]"
      ],
      "execution_count": null,
      "outputs": [
        {
          "output_type": "execute_result",
          "data": {
            "text/plain": [
              "array([0.38159552, 0.1516148 , 0.13712184, 0.15263233, 0.1770356 ],\n",
              "      dtype=float32)"
            ]
          },
          "metadata": {
            "tags": []
          },
          "execution_count": 72
        }
      ]
    },
    {
      "cell_type": "code",
      "metadata": {
        "id": "F5FfbjS0jhT5",
        "colab_type": "code",
        "colab": {}
      },
      "source": [
        "han_model.show_doc_attention(X)[:100]"
      ],
      "execution_count": null,
      "outputs": []
    },
    {
      "cell_type": "code",
      "metadata": {
        "id": "WK5D8oYjsblb",
        "colab_type": "code",
        "colab": {}
      },
      "source": [
        "han_model.show_doc_attention(X)[100:200]"
      ],
      "execution_count": null,
      "outputs": []
    },
    {
      "cell_type": "code",
      "metadata": {
        "id": "VtcpIW2lYsw9",
        "colab_type": "code",
        "colab": {}
      },
      "source": [
        "han_model.show_doc_attention(X)[100:200]"
      ],
      "execution_count": null,
      "outputs": []
    },
    {
      "cell_type": "code",
      "metadata": {
        "id": "Gy9CR24iHQc2",
        "colab_type": "code",
        "colab": {}
      },
      "source": [
        "han_model.show_doc_attention(X)[100:200]"
      ],
      "execution_count": null,
      "outputs": []
    },
    {
      "cell_type": "code",
      "metadata": {
        "id": "wdWSjqH0SDZU",
        "colab_type": "code",
        "colab": {
          "base_uri": "https://localhost:8080/",
          "height": 119
        },
        "outputId": "a0c1c6bc-3046-4cc2-d643-63b333bb0dc3"
      },
      "source": [
        "han_model.show_sent_attention(X[22])"
      ],
      "execution_count": null,
      "outputs": [
        {
          "output_type": "execute_result",
          "data": {
            "text/plain": [
              "array([[0.22671922, 0.22102475, 0.18052931, 0.1742922 , 0.19743453],\n",
              "       [0.22217196, 0.21961848, 0.20876569, 0.17546579, 0.17397809],\n",
              "       [0.263857  , 0.24270648, 0.16342317, 0.17624784, 0.15376551],\n",
              "       [0.1697304 , 0.2576597 , 0.25585315, 0.1634866 , 0.15327018],\n",
              "       [0.19259313, 0.22037369, 0.22592969, 0.2314083 , 0.12969513]],\n",
              "      dtype=float32)"
            ]
          },
          "metadata": {
            "tags": []
          },
          "execution_count": 23
        }
      ]
    },
    {
      "cell_type": "code",
      "metadata": {
        "id": "JeMh8jzZn43A",
        "colab_type": "code",
        "colab": {
          "base_uri": "https://localhost:8080/",
          "height": 119
        },
        "outputId": "74f6dc23-f613-40f5-d00a-1f6a2fb82ef7"
      },
      "source": [
        "han_model.show_sent_attention(X[0])"
      ],
      "execution_count": null,
      "outputs": [
        {
          "output_type": "execute_result",
          "data": {
            "text/plain": [
              "array([[0.19996507, 0.20004058, 0.19998987, 0.19992207, 0.20008244],\n",
              "       [0.19989641, 0.19998701, 0.2000439 , 0.20004785, 0.20002483],\n",
              "       [0.20032011, 0.20046207, 0.20014559, 0.19986065, 0.19921155],\n",
              "       [0.20003411, 0.20003866, 0.19998474, 0.20003162, 0.1999108 ],\n",
              "       [0.19993763, 0.20037465, 0.19944866, 0.19966958, 0.20056944]],\n",
              "      dtype=float32)"
            ]
          },
          "metadata": {
            "tags": []
          },
          "execution_count": 26
        }
      ]
    },
    {
      "cell_type": "code",
      "metadata": {
        "id": "l_aGMQLWXLeb",
        "colab_type": "code",
        "colab": {
          "base_uri": "https://localhost:8080/",
          "height": 119
        },
        "outputId": "ed3c09ef-b5ad-4df9-cb4e-b2a816363c0d"
      },
      "source": [
        "han_model.show_sent_attention(X[400])"
      ],
      "execution_count": null,
      "outputs": [
        {
          "output_type": "execute_result",
          "data": {
            "text/plain": [
              "array([[0.20039181, 0.19980629, 0.20000638, 0.19972816, 0.20006737],\n",
              "       [0.20024051, 0.20014122, 0.19990778, 0.19983546, 0.19987495],\n",
              "       [0.20025869, 0.2000512 , 0.1995135 , 0.20010358, 0.20007306],\n",
              "       [0.2000919 , 0.20009413, 0.19955987, 0.20017876, 0.20007536],\n",
              "       [0.20017466, 0.19974378, 0.19949602, 0.20019299, 0.20039256]],\n",
              "      dtype=float32)"
            ]
          },
          "metadata": {
            "tags": []
          },
          "execution_count": 36
        }
      ]
    },
    {
      "cell_type": "code",
      "metadata": {
        "id": "0qGrs4KWRNmm",
        "colab_type": "code",
        "colab": {}
      },
      "source": [
        "han_model.show_doc_attention(X)[220:350]"
      ],
      "execution_count": null,
      "outputs": []
    },
    {
      "cell_type": "code",
      "metadata": {
        "id": "Jqi6_F0XS24v",
        "colab_type": "code",
        "colab": {
          "base_uri": "https://localhost:8080/",
          "height": 119
        },
        "outputId": "d0cca99e-fba1-45ed-ef78-bd1b61e78417"
      },
      "source": [
        "han_model.show_sent_attention(X[228])"
      ],
      "execution_count": null,
      "outputs": [
        {
          "output_type": "execute_result",
          "data": {
            "text/plain": [
              "array([[0.20490858, 0.25000927, 0.1883186 , 0.20485328, 0.15191041],\n",
              "       [0.20933281, 0.19900873, 0.19605993, 0.1946521 , 0.20094645],\n",
              "       [0.20750545, 0.19758527, 0.19869854, 0.19829787, 0.19791284],\n",
              "       [0.20236361, 0.20070419, 0.20228364, 0.19863056, 0.19601806],\n",
              "       [0.20754743, 0.19774608, 0.19905332, 0.19813552, 0.19751754]],\n",
              "      dtype=float32)"
            ]
          },
          "metadata": {
            "tags": []
          },
          "execution_count": 40
        }
      ]
    },
    {
      "cell_type": "code",
      "metadata": {
        "id": "gw_lwQHGw2Wl",
        "colab_type": "code",
        "colab": {}
      },
      "source": [
        "han_model.show_doc_attention(X)[:60]"
      ],
      "execution_count": null,
      "outputs": []
    },
    {
      "cell_type": "code",
      "metadata": {
        "id": "TqdqKYHPnNRx",
        "colab_type": "code",
        "colab": {}
      },
      "source": [
        "other=glob.glob('/content/drive/My Drive/covid-19/Data/Other_PNEUMONIA/*')"
      ],
      "execution_count": null,
      "outputs": []
    },
    {
      "cell_type": "code",
      "metadata": {
        "id": "5C-I-FrwpS_p",
        "colab_type": "code",
        "colab": {}
      },
      "source": [
        "other[60:120]"
      ],
      "execution_count": null,
      "outputs": []
    },
    {
      "cell_type": "code",
      "metadata": {
        "id": "9l9Y2gboxDqp",
        "colab_type": "code",
        "colab": {
          "base_uri": "https://localhost:8080/",
          "height": 1000
        },
        "outputId": "06c9962d-e7e0-4d41-ab59-d7a66eaf3443"
      },
      "source": [
        "han_model.show_doc_attention(X)[60:120]"
      ],
      "execution_count": null,
      "outputs": [
        {
          "output_type": "execute_result",
          "data": {
            "text/plain": [
              "array([[0.1912328 , 0.200677  , 0.20338175, 0.20302919, 0.20167927],\n",
              "       [0.19270578, 0.20068125, 0.20172518, 0.20303757, 0.20185015],\n",
              "       [0.18441351, 0.20683458, 0.2075378 , 0.20447727, 0.19673684],\n",
              "       [0.18886983, 0.20205033, 0.20322694, 0.2031718 , 0.20268106],\n",
              "       [0.17500964, 0.2070742 , 0.20704772, 0.20713358, 0.20373495],\n",
              "       [0.18694623, 0.19841732, 0.20476288, 0.20539287, 0.20448062],\n",
              "       [0.13673104, 0.21550944, 0.21988349, 0.21615514, 0.2117209 ],\n",
              "       [0.19507146, 0.20029908, 0.20198521, 0.20356569, 0.1990786 ],\n",
              "       [0.21475032, 0.13902825, 0.15107064, 0.25214013, 0.24301073],\n",
              "       [0.18751484, 0.19943437, 0.20371684, 0.20490286, 0.20443106],\n",
              "       [0.09491085, 0.22192517, 0.22651646, 0.22770506, 0.22894245],\n",
              "       [0.19764048, 0.1995407 , 0.20064195, 0.20070462, 0.20147221],\n",
              "       [0.20071977, 0.20393322, 0.20422047, 0.2043721 , 0.18675442],\n",
              "       [0.19610967, 0.19995528, 0.20011553, 0.20174116, 0.20207834],\n",
              "       [0.1960513 , 0.2007713 , 0.20139557, 0.20094995, 0.20083188],\n",
              "       [0.1425224 , 0.13657859, 0.18990397, 0.2731733 , 0.25782174],\n",
              "       [0.19331165, 0.19994383, 0.2023929 , 0.20360829, 0.20074336],\n",
              "       [0.19667742, 0.19769342, 0.20333345, 0.20318069, 0.199115  ],\n",
              "       [0.19601022, 0.17545827, 0.26882946, 0.18179794, 0.17790416],\n",
              "       [0.16925089, 0.1386003 , 0.16256104, 0.26525885, 0.264329  ],\n",
              "       [0.1921808 , 0.20130251, 0.20604727, 0.20658161, 0.19388787],\n",
              "       [0.20035623, 0.16911079, 0.21266875, 0.2112624 , 0.20660178],\n",
              "       [0.19288372, 0.20149942, 0.20119765, 0.2025633 , 0.20185596],\n",
              "       [0.19915089, 0.19870651, 0.20109567, 0.20057282, 0.20047402],\n",
              "       [0.19277608, 0.20048499, 0.20525773, 0.20617615, 0.19530505],\n",
              "       [0.15530378, 0.11228695, 0.14608668, 0.2625263 , 0.3237963 ],\n",
              "       [0.19422981, 0.21377012, 0.21486817, 0.20488524, 0.17224662],\n",
              "       [0.20151454, 0.20582694, 0.19579309, 0.1955262 , 0.20133924],\n",
              "       [0.13671142, 0.12690093, 0.244919  , 0.24576643, 0.2457022 ],\n",
              "       [0.18013497, 0.21145698, 0.21315345, 0.21200426, 0.18325031],\n",
              "       [0.14987351, 0.21191409, 0.21257615, 0.21295151, 0.21268481],\n",
              "       [0.10388244, 0.22184503, 0.22714074, 0.22680074, 0.22033109],\n",
              "       [0.18631576, 0.19988894, 0.20359093, 0.20524092, 0.2049634 ],\n",
              "       [0.19727792, 0.21314134, 0.21615124, 0.21627507, 0.15715447],\n",
              "       [0.13934128, 0.2147869 , 0.21757084, 0.21727286, 0.21102811],\n",
              "       [0.1593449 , 0.14063194, 0.2325188 , 0.23440021, 0.2331041 ],\n",
              "       [0.18774779, 0.20083171, 0.20456634, 0.20399414, 0.20285997],\n",
              "       [0.16898474, 0.20550205, 0.20879498, 0.20823362, 0.20848468],\n",
              "       [0.11811182, 0.2141415 , 0.22782461, 0.22321692, 0.2167052 ],\n",
              "       [0.19190036, 0.20020108, 0.20235002, 0.20245105, 0.20309745],\n",
              "       [0.19736932, 0.20119862, 0.20305058, 0.20311224, 0.19526918],\n",
              "       [0.21742003, 0.17906173, 0.21289419, 0.2150478 , 0.17557627],\n",
              "       [0.18192315, 0.20419525, 0.20448652, 0.20486149, 0.20453358],\n",
              "       [0.18195236, 0.2049546 , 0.23394382, 0.1929729 , 0.18617639],\n",
              "       [0.18584877, 0.2014575 , 0.2045364 , 0.20508388, 0.2030735 ],\n",
              "       [0.13393049, 0.22357497, 0.22564492, 0.20062105, 0.21622857],\n",
              "       [0.1500652 , 0.20670702, 0.21501932, 0.21488458, 0.21332389],\n",
              "       [0.15869845, 0.20986563, 0.21141347, 0.21176556, 0.20825687],\n",
              "       [0.19644304, 0.20033477, 0.20281208, 0.20589486, 0.1945153 ],\n",
              "       [0.19691314, 0.20039445, 0.2006138 , 0.20099276, 0.2010858 ],\n",
              "       [0.10648498, 0.22058463, 0.22440314, 0.22447704, 0.22405021],\n",
              "       [0.2023027 , 0.20512453, 0.20793703, 0.20659304, 0.17804277],\n",
              "       [0.2019889 , 0.20503633, 0.20575826, 0.19750139, 0.18971512],\n",
              "       [0.16519864, 0.21393587, 0.21411376, 0.19596559, 0.2107861 ],\n",
              "       [0.26085547, 0.22465624, 0.19907402, 0.18433714, 0.13107708],\n",
              "       [0.19885993, 0.23341976, 0.23466274, 0.23312043, 0.09993713],\n",
              "       [0.19765867, 0.19913124, 0.20109014, 0.20166473, 0.20045522],\n",
              "       [0.08658268, 0.21223488, 0.23424247, 0.23462112, 0.23231877],\n",
              "       [0.16247518, 0.20580588, 0.21265723, 0.21252918, 0.20653245],\n",
              "       [0.18482672, 0.21991554, 0.18547967, 0.20794374, 0.20183425]],\n",
              "      dtype=float32)"
            ]
          },
          "metadata": {
            "tags": []
          },
          "execution_count": 23
        }
      ]
    },
    {
      "cell_type": "code",
      "metadata": {
        "id": "BHtXKd-CQyAj",
        "colab_type": "code",
        "colab": {
          "base_uri": "https://localhost:8080/",
          "height": 51
        },
        "outputId": "847d2138-06df-4f33-a4da-9fb0f9183d3e"
      },
      "source": [
        "han_model.show_doc_attention(X)[300]"
      ],
      "execution_count": null,
      "outputs": [
        {
          "output_type": "execute_result",
          "data": {
            "text/plain": [
              "array([0.19546658, 0.1993735 , 0.20069934, 0.20110063, 0.20335996],\n",
              "      dtype=float32)"
            ]
          },
          "metadata": {
            "tags": []
          },
          "execution_count": 23
        }
      ]
    },
    {
      "cell_type": "code",
      "metadata": {
        "id": "b1skhmq8panJ",
        "colab_type": "code",
        "colab": {
          "base_uri": "https://localhost:8080/",
          "height": 51
        },
        "outputId": "49b3720e-7546-4c30-bf17-845441266eef"
      },
      "source": [
        "i=4\n",
        "han_model.show_doc_attention(X)[60]"
      ],
      "execution_count": null,
      "outputs": [
        {
          "output_type": "execute_result",
          "data": {
            "text/plain": [
              "array([5.1263025e-05, 3.1594768e-01, 3.1748146e-01, 3.1718004e-01,\n",
              "       4.9339600e-02], dtype=float32)"
            ]
          },
          "metadata": {
            "tags": []
          },
          "execution_count": 23
        }
      ]
    },
    {
      "cell_type": "code",
      "metadata": {
        "id": "l_UNnDsszH3A",
        "colab_type": "code",
        "colab": {
          "base_uri": "https://localhost:8080/",
          "height": 187
        },
        "outputId": "97aa10b1-3273-4afe-8729-fb3646c1a41a"
      },
      "source": [
        "han_model.show_sent_attention(X[1])"
      ],
      "execution_count": null,
      "outputs": [
        {
          "output_type": "execute_result",
          "data": {
            "text/plain": [
              "array([[1.8732545e-01, 2.2130275e-01, 1.8816940e-01, 1.9843240e-01,\n",
              "        2.0476998e-01],\n",
              "       [6.3351780e-01, 2.5077413e-03, 2.9649681e-03, 3.1604317e-01,\n",
              "        4.4966340e-02],\n",
              "       [1.8603969e-01, 1.2068981e-01, 1.5741871e-01, 2.6278898e-01,\n",
              "        2.7306283e-01],\n",
              "       [1.8213709e-01, 1.8805042e-01, 2.0016478e-01, 2.1380097e-01,\n",
              "        2.1584681e-01],\n",
              "       [1.5596100e-04, 2.1518217e-01, 2.6811618e-01, 2.5215867e-01,\n",
              "        2.6438695e-01]], dtype=float32)"
            ]
          },
          "metadata": {
            "tags": []
          },
          "execution_count": 26
        }
      ]
    },
    {
      "cell_type": "code",
      "metadata": {
        "id": "LUDp_hEn5RIF",
        "colab_type": "code",
        "colab": {
          "base_uri": "https://localhost:8080/",
          "height": 187
        },
        "outputId": "16135400-7a29-4b33-abe7-1284d0c25dbc"
      },
      "source": [
        "han_model.show_sent_attention(X[60])"
      ],
      "execution_count": null,
      "outputs": [
        {
          "output_type": "execute_result",
          "data": {
            "text/plain": [
              "array([[1.3276035e-04, 1.3010004e-01, 4.2679149e-01, 4.2108628e-01,\n",
              "        2.1889472e-02],\n",
              "       [1.8503028e-01, 1.8836533e-01, 2.5152132e-01, 1.8731861e-01,\n",
              "        1.8776448e-01],\n",
              "       [2.0038022e-01, 2.0677912e-01, 1.9559473e-01, 2.0130496e-01,\n",
              "        1.9594097e-01],\n",
              "       [1.9944249e-01, 1.9974162e-01, 1.9792911e-01, 2.0426387e-01,\n",
              "        1.9862288e-01],\n",
              "       [1.4875509e-02, 1.7498419e-02, 2.5120895e-02, 9.2540073e-01,\n",
              "        1.7104393e-02]], dtype=float32)"
            ]
          },
          "metadata": {
            "tags": []
          },
          "execution_count": 24
        }
      ]
    },
    {
      "cell_type": "code",
      "metadata": {
        "id": "aQkKPg5vxSLw",
        "colab_type": "code",
        "colab": {
          "base_uri": "https://localhost:8080/",
          "height": 187
        },
        "outputId": "6b0e6e6b-f437-41a1-8e3f-580fc8c75a21"
      },
      "source": [
        "han_model.show_sent_attention(X[4060])"
      ],
      "execution_count": null,
      "outputs": [
        {
          "output_type": "execute_result",
          "data": {
            "text/plain": [
              "array([[1.6679110e-08, 1.3240302e-07, 3.2133042e-07, 1.1498729e-06,\n",
              "        9.9999833e-01],\n",
              "       [1.0072936e-01, 2.3704620e-01, 2.3666897e-01, 2.4660285e-01,\n",
              "        1.7895268e-01],\n",
              "       [1.7936675e-01, 1.9353874e-01, 1.7486002e-01, 2.7697140e-01,\n",
              "        1.7526303e-01],\n",
              "       [1.6982470e-01, 2.1882670e-01, 2.1065281e-01, 1.7017408e-01,\n",
              "        2.3052169e-01],\n",
              "       [2.1076393e-01, 2.1801412e-01, 2.1291022e-01, 1.6473277e-01,\n",
              "        1.9357891e-01]], dtype=float32)"
            ]
          },
          "metadata": {
            "tags": []
          },
          "execution_count": 27
        }
      ]
    },
    {
      "cell_type": "markdown",
      "metadata": {
        "id": "6saDDlewRTGJ",
        "colab_type": "text"
      },
      "source": [
        ""
      ]
    },
    {
      "cell_type": "code",
      "metadata": {
        "id": "Lp7icld-8bdB",
        "colab_type": "code",
        "colab": {
          "base_uri": "https://localhost:8080/",
          "height": 187
        },
        "outputId": "3c68e07d-1129-45a4-e80d-e3911cc42647"
      },
      "source": [
        "han_model.show_sent_attention(X[1])"
      ],
      "execution_count": null,
      "outputs": [
        {
          "output_type": "execute_result",
          "data": {
            "text/plain": [
              "array([[2.80046891e-07, 3.58445525e-01, 3.93431576e-04, 7.69727444e-03,\n",
              "        6.33463442e-01],\n",
              "       [5.89893870e-02, 2.01547728e-03, 6.99306111e-05, 9.37482059e-01,\n",
              "        1.44324021e-03],\n",
              "       [3.53453517e-01, 2.95582682e-01, 7.57000148e-02, 1.27285987e-01,\n",
              "        1.47977844e-01],\n",
              "       [3.71908844e-01, 3.15995455e-01, 1.62069485e-01, 1.10882215e-01,\n",
              "        3.91440280e-02],\n",
              "       [1.46343973e-06, 2.11270317e-01, 7.76944757e-01, 1.17028086e-02,\n",
              "        8.06778989e-05]], dtype=float32)"
            ]
          },
          "metadata": {
            "tags": []
          },
          "execution_count": 28
        }
      ]
    },
    {
      "cell_type": "code",
      "metadata": {
        "id": "06qA1pUANt64",
        "colab_type": "code",
        "colab": {
          "base_uri": "https://localhost:8080/",
          "height": 51
        },
        "outputId": "808b62c7-0ce6-48e3-e0c1-8007c2db17dc"
      },
      "source": [
        "han_model.show_doc_attention(X)[4001]"
      ],
      "execution_count": null,
      "outputs": [
        {
          "output_type": "execute_result",
          "data": {
            "text/plain": [
              "array([0.19098364, 0.20401792, 0.20256501, 0.20146257, 0.20097081],\n",
              "      dtype=float32)"
            ]
          },
          "metadata": {
            "tags": []
          },
          "execution_count": 31
        }
      ]
    },
    {
      "cell_type": "code",
      "metadata": {
        "id": "hykz7bQ9uAE4",
        "colab_type": "code",
        "colab": {
          "base_uri": "https://localhost:8080/",
          "height": 119
        },
        "outputId": "67dc8e40-1acc-4ca3-fd0a-040b9a39566f"
      },
      "source": [
        "han_model.show_sent_attention(X[11])"
      ],
      "execution_count": null,
      "outputs": [
        {
          "output_type": "execute_result",
          "data": {
            "text/plain": [
              "array([[0.16106708, 0.19647828, 0.22401085, 0.22396322, 0.19448058],\n",
              "       [0.12305079, 0.19086027, 0.23207222, 0.23205452, 0.22196212],\n",
              "       [0.11228648, 0.28715718, 0.29568696, 0.28638157, 0.01848787],\n",
              "       [0.17740926, 0.21311954, 0.21313752, 0.21276528, 0.1835684 ],\n",
              "       [0.19915052, 0.20043884, 0.20104888, 0.20103662, 0.19832511]],\n",
              "      dtype=float32)"
            ]
          },
          "metadata": {
            "tags": []
          },
          "execution_count": 50
        }
      ]
    },
    {
      "cell_type": "code",
      "metadata": {
        "id": "wCoZggn4vO_x",
        "colab_type": "code",
        "colab": {
          "base_uri": "https://localhost:8080/",
          "height": 119
        },
        "outputId": "063a8ee7-e203-47da-a715-c071ca91c4df"
      },
      "source": [
        "han_model.show_sent_attention(X[1000])"
      ],
      "execution_count": null,
      "outputs": [
        {
          "output_type": "execute_result",
          "data": {
            "text/plain": [
              "array([[0.19231054, 0.19227937, 0.19374578, 0.18341278, 0.2382516 ],\n",
              "       [0.21479703, 0.20989461, 0.21479581, 0.20989642, 0.15061614],\n",
              "       [0.29324615, 0.20204361, 0.16263634, 0.19740145, 0.14467242],\n",
              "       [0.22524582, 0.22751951, 0.23138773, 0.15086317, 0.16498376],\n",
              "       [0.11993418, 0.19305432, 0.1790927 , 0.2880675 , 0.21985126]],\n",
              "      dtype=float32)"
            ]
          },
          "metadata": {
            "tags": []
          },
          "execution_count": 46
        }
      ]
    },
    {
      "cell_type": "code",
      "metadata": {
        "id": "h_qLICDevX0W",
        "colab_type": "code",
        "colab": {
          "base_uri": "https://localhost:8080/",
          "height": 51
        },
        "outputId": "f9584d5e-b418-4269-e185-e939e0f0f704"
      },
      "source": [
        "han_model.show_doc_attention(X)[400]"
      ],
      "execution_count": null,
      "outputs": [
        {
          "output_type": "execute_result",
          "data": {
            "text/plain": [
              "array([0.16137157, 0.16159365, 0.16186038, 0.16475147, 0.3504229 ],\n",
              "      dtype=float32)"
            ]
          },
          "metadata": {
            "tags": []
          },
          "execution_count": 36
        }
      ]
    },
    {
      "cell_type": "code",
      "metadata": {
        "id": "KoyVq1eHxURT",
        "colab_type": "code",
        "colab": {
          "base_uri": "https://localhost:8080/",
          "height": 153
        },
        "outputId": "89b2def0-53d2-4a67-9fc1-c40cb18cff01"
      },
      "source": [
        "han_model.show_doc_attention(X)"
      ],
      "execution_count": null,
      "outputs": [
        {
          "output_type": "execute_result",
          "data": {
            "text/plain": [
              "array([[0.09141438, 0.19066343, 0.25984475, 0.2820307 , 0.17604677],\n",
              "       [0.06142208, 0.16576308, 0.21384227, 0.25322416, 0.30574843],\n",
              "       [0.10012753, 0.17877363, 0.20527153, 0.23266776, 0.2831596 ],\n",
              "       ...,\n",
              "       [0.19999845, 0.20000122, 0.20000131, 0.20000122, 0.19999778],\n",
              "       [0.19998857, 0.20000374, 0.20000498, 0.20000479, 0.19999792],\n",
              "       [0.19990593, 0.20003818, 0.20003751, 0.20003618, 0.1999822 ]],\n",
              "      dtype=float32)"
            ]
          },
          "metadata": {
            "tags": []
          },
          "execution_count": 18
        }
      ]
    },
    {
      "cell_type": "code",
      "metadata": {
        "id": "WGkChdLkzC69",
        "colab_type": "code",
        "colab": {
          "base_uri": "https://localhost:8080/",
          "height": 51
        },
        "outputId": "80815594-cb1c-40af-b557-afec6fb61d14"
      },
      "source": [
        "han_model.show_doc_attention(X)[150]"
      ],
      "execution_count": null,
      "outputs": [
        {
          "output_type": "execute_result",
          "data": {
            "text/plain": [
              "array([0.05099296, 0.15654662, 0.20654659, 0.2526172 , 0.3332967 ],\n",
              "      dtype=float32)"
            ]
          },
          "metadata": {
            "tags": []
          },
          "execution_count": 24
        }
      ]
    },
    {
      "cell_type": "code",
      "metadata": {
        "id": "MMWAmKAtzQ9U",
        "colab_type": "code",
        "colab": {
          "base_uri": "https://localhost:8080/",
          "height": 51
        },
        "outputId": "0deffbe5-b478-412b-9100-1400d090bb3c"
      },
      "source": [
        "han_model.show_sent_attention(X[150])[0]"
      ],
      "execution_count": null,
      "outputs": [
        {
          "output_type": "execute_result",
          "data": {
            "text/plain": [
              "array([0.199266  , 0.1987258 , 0.19862136, 0.20111799, 0.20226884],\n",
              "      dtype=float32)"
            ]
          },
          "metadata": {
            "tags": []
          },
          "execution_count": 30
        }
      ]
    },
    {
      "cell_type": "code",
      "metadata": {
        "id": "TmNix0im0pV1",
        "colab_type": "code",
        "colab": {
          "base_uri": "https://localhost:8080/",
          "height": 51
        },
        "outputId": "ee972136-8a20-484e-9aea-a311ad17de9d"
      },
      "source": [
        "han_model.show_doc_attention(X)[180]"
      ],
      "execution_count": null,
      "outputs": [
        {
          "output_type": "execute_result",
          "data": {
            "text/plain": [
              "array([0.19995825, 0.20001413, 0.20001213, 0.20001003, 0.20000546],\n",
              "      dtype=float32)"
            ]
          },
          "metadata": {
            "tags": []
          },
          "execution_count": 36
        }
      ]
    },
    {
      "cell_type": "code",
      "metadata": {
        "id": "rbsc64TS05qd",
        "colab_type": "code",
        "colab": {
          "base_uri": "https://localhost:8080/",
          "height": 51
        },
        "outputId": "3b4635b3-9d0e-4f7b-b05f-74dc5696c5a3"
      },
      "source": [
        "han_model.show_sent_attention(X[180])[3]"
      ],
      "execution_count": null,
      "outputs": [
        {
          "output_type": "execute_result",
          "data": {
            "text/plain": [
              "array([0.19989976, 0.19988094, 0.20001566, 0.19986698, 0.20033662],\n",
              "      dtype=float32)"
            ]
          },
          "metadata": {
            "tags": []
          },
          "execution_count": 40
        }
      ]
    },
    {
      "cell_type": "code",
      "metadata": {
        "id": "VUyvnYF-1F5X",
        "colab_type": "code",
        "colab": {
          "base_uri": "https://localhost:8080/",
          "height": 153
        },
        "outputId": "095510d7-9502-431c-d5d0-cc62ec0f966b"
      },
      "source": [
        "han_model.show_doc_attention(X)"
      ],
      "execution_count": null,
      "outputs": [
        {
          "output_type": "execute_result",
          "data": {
            "text/plain": [
              "array([[0.20036823, 0.19907893, 0.19884194, 0.1990876 , 0.20262334],\n",
              "       [0.20141855, 0.19923264, 0.19817975, 0.19834322, 0.20282589],\n",
              "       [0.1995034 , 0.19784959, 0.20491762, 0.19953524, 0.19819409],\n",
              "       ...,\n",
              "       [0.20099276, 0.20020917, 0.19958699, 0.19956817, 0.19964291],\n",
              "       [0.20436761, 0.20467845, 0.20567563, 0.20253834, 0.18274002],\n",
              "       [0.20012704, 0.20004699, 0.19995241, 0.1999238 , 0.19994986]],\n",
              "      dtype=float32)"
            ]
          },
          "metadata": {
            "tags": []
          },
          "execution_count": 14
        }
      ]
    },
    {
      "cell_type": "code",
      "metadata": {
        "id": "AEjaRvXC8mVB",
        "colab_type": "code",
        "colab": {
          "base_uri": "https://localhost:8080/",
          "height": 51
        },
        "outputId": "eac3dbb8-3c70-4eb0-e7d2-87ff14847b43"
      },
      "source": [
        "han_model.show_sent_attention(X[200])[4]"
      ],
      "execution_count": null,
      "outputs": [
        {
          "output_type": "execute_result",
          "data": {
            "text/plain": [
              "array([0.19842142, 0.1996546 , 0.20039743, 0.20181829, 0.19970828],\n",
              "      dtype=float32)"
            ]
          },
          "metadata": {
            "tags": []
          },
          "execution_count": 27
        }
      ]
    },
    {
      "cell_type": "code",
      "metadata": {
        "id": "jNFM0j518ws4",
        "colab_type": "code",
        "colab": {
          "base_uri": "https://localhost:8080/",
          "height": 153
        },
        "outputId": "94446cfe-a8cc-4a07-af38-5989ecc79be7"
      },
      "source": [
        "han_model.show_doc_attention(X)"
      ],
      "execution_count": null,
      "outputs": [
        {
          "output_type": "execute_result",
          "data": {
            "text/plain": [
              "array([[0.07767974, 0.13420686, 0.20989142, 0.3272733 , 0.25094867],\n",
              "       [0.09020305, 0.13488059, 0.18120432, 0.2424521 , 0.35125992],\n",
              "       [0.10999661, 0.14767817, 0.19573103, 0.23991796, 0.30667624],\n",
              "       ...,\n",
              "       [0.05317561, 0.21312591, 0.24406372, 0.24467653, 0.2449581 ],\n",
              "       [0.19491968, 0.20552972, 0.20585643, 0.19839336, 0.19530079],\n",
              "       [0.05666084, 0.23479119, 0.2359149 , 0.23606399, 0.2365691 ]],\n",
              "      dtype=float32)"
            ]
          },
          "metadata": {
            "tags": []
          },
          "execution_count": 14
        }
      ]
    },
    {
      "cell_type": "code",
      "metadata": {
        "id": "842CTKx1B18u",
        "colab_type": "code",
        "colab": {
          "base_uri": "https://localhost:8080/",
          "height": 51
        },
        "outputId": "4e512ecd-8d75-4657-86c9-ef70ebdb74f5"
      },
      "source": [
        "han_model.show_sent_attention(X[100])[2]"
      ],
      "execution_count": null,
      "outputs": [
        {
          "output_type": "execute_result",
          "data": {
            "text/plain": [
              "array([0.2313405 , 0.19536518, 0.19402367, 0.19220074, 0.18706995],\n",
              "      dtype=float32)"
            ]
          },
          "metadata": {
            "tags": []
          },
          "execution_count": 17
        }
      ]
    },
    {
      "cell_type": "code",
      "metadata": {
        "id": "HJJuyY3-B-xI",
        "colab_type": "code",
        "colab": {
          "base_uri": "https://localhost:8080/",
          "height": 51
        },
        "outputId": "ad1af263-e765-44d1-ce5b-6b63998ba8bc"
      },
      "source": [
        "han_model.show_sent_attention(X[400])[0]"
      ],
      "execution_count": null,
      "outputs": [
        {
          "output_type": "execute_result",
          "data": {
            "text/plain": [
              "array([0.18740879, 0.19181795, 0.19677995, 0.19786058, 0.22613275],\n",
              "      dtype=float32)"
            ]
          },
          "metadata": {
            "tags": []
          },
          "execution_count": 22
        }
      ]
    },
    {
      "cell_type": "code",
      "metadata": {
        "id": "C2ubCL5vCL7o",
        "colab_type": "code",
        "colab": {
          "base_uri": "https://localhost:8080/",
          "height": 51
        },
        "outputId": "bc5d49db-50c1-4344-fd7b-328d04049e10"
      },
      "source": [
        "han_model.show_sent_attention(X[1000])[4]"
      ],
      "execution_count": null,
      "outputs": [
        {
          "output_type": "execute_result",
          "data": {
            "text/plain": [
              "array([0.20045365, 0.20135483, 0.1998962 , 0.20154522, 0.19675006],\n",
              "      dtype=float32)"
            ]
          },
          "metadata": {
            "tags": []
          },
          "execution_count": 28
        }
      ]
    },
    {
      "cell_type": "code",
      "metadata": {
        "id": "PAC7IlVQCXa-",
        "colab_type": "code",
        "colab": {
          "base_uri": "https://localhost:8080/",
          "height": 51
        },
        "outputId": "b11c3820-3444-4847-ed84-0b9c772aaf3c"
      },
      "source": [
        "han_model.show_sent_attention(X[10])[4]"
      ],
      "execution_count": null,
      "outputs": [
        {
          "output_type": "execute_result",
          "data": {
            "text/plain": [
              "array([0.1768509 , 0.18768159, 0.1927734 , 0.20407759, 0.23861653],\n",
              "      dtype=float32)"
            ]
          },
          "metadata": {
            "tags": []
          },
          "execution_count": 33
        }
      ]
    },
    {
      "cell_type": "code",
      "metadata": {
        "id": "UD3KUfu4CrAp",
        "colab_type": "code",
        "colab": {
          "base_uri": "https://localhost:8080/",
          "height": 51
        },
        "outputId": "584be781-61b2-4c8d-dad2-c3091e38b90a"
      },
      "source": [
        "han_model.show_doc_attention(X)[10]"
      ],
      "execution_count": null,
      "outputs": [
        {
          "output_type": "execute_result",
          "data": {
            "text/plain": [
              "array([0.12127797, 0.1700883 , 0.19541831, 0.22705698, 0.28615838],\n",
              "      dtype=float32)"
            ]
          },
          "metadata": {
            "tags": []
          },
          "execution_count": 34
        }
      ]
    },
    {
      "cell_type": "code",
      "metadata": {
        "id": "PZ8yn5YnC55P",
        "colab_type": "code",
        "colab": {
          "base_uri": "https://localhost:8080/",
          "height": 51
        },
        "outputId": "61ca137e-b054-45fa-bf17-eadc3f788fb4"
      },
      "source": [
        "han_model.show_doc_attention(X)[11]"
      ],
      "execution_count": null,
      "outputs": [
        {
          "output_type": "execute_result",
          "data": {
            "text/plain": [
              "array([0.09462649, 0.13449182, 0.17857158, 0.24237533, 0.34993476],\n",
              "      dtype=float32)"
            ]
          },
          "metadata": {
            "tags": []
          },
          "execution_count": 35
        }
      ]
    },
    {
      "cell_type": "code",
      "metadata": {
        "id": "RhSSYONLDEM7",
        "colab_type": "code",
        "colab": {
          "base_uri": "https://localhost:8080/",
          "height": 119
        },
        "outputId": "c8691fab-233e-4e6a-8b12-073ea8ec102e"
      },
      "source": [
        "han_model.show_sent_attention(X[11])"
      ],
      "execution_count": null,
      "outputs": [
        {
          "output_type": "execute_result",
          "data": {
            "text/plain": [
              "array([[0.1939801 , 0.1903263 , 0.19394656, 0.19907221, 0.22267483],\n",
              "       [0.20352012, 0.19701649, 0.18903762, 0.19885886, 0.21156693],\n",
              "       [0.20626576, 0.19497739, 0.19606608, 0.19542404, 0.2072668 ],\n",
              "       [0.20269275, 0.20055498, 0.2000762 , 0.1963881 , 0.20028804],\n",
              "       [0.20879544, 0.19805233, 0.20999697, 0.19816367, 0.18499146]],\n",
              "      dtype=float32)"
            ]
          },
          "metadata": {
            "tags": []
          },
          "execution_count": 36
        }
      ]
    },
    {
      "cell_type": "code",
      "metadata": {
        "id": "eQpAJLuQDRx5",
        "colab_type": "code",
        "colab": {
          "base_uri": "https://localhost:8080/",
          "height": 51
        },
        "outputId": "e8ac7f10-43f8-4483-bf4c-51ac43441300"
      },
      "source": [
        "han_model.show_doc_attention(X)[200]"
      ],
      "execution_count": null,
      "outputs": [
        {
          "output_type": "execute_result",
          "data": {
            "text/plain": [
              "array([0.19785133, 0.20019275, 0.20039088, 0.20068592, 0.20087913],\n",
              "      dtype=float32)"
            ]
          },
          "metadata": {
            "tags": []
          },
          "execution_count": 37
        }
      ]
    },
    {
      "cell_type": "code",
      "metadata": {
        "id": "RiqKy_mrDgti",
        "colab_type": "code",
        "colab": {
          "base_uri": "https://localhost:8080/",
          "height": 119
        },
        "outputId": "0d87d09d-ee69-403c-d849-45dd5905c696"
      },
      "source": [
        "han_model.show_sent_attention(X[200])"
      ],
      "execution_count": null,
      "outputs": [
        {
          "output_type": "execute_result",
          "data": {
            "text/plain": [
              "array([[0.19587961, 0.20460373, 0.2064879 , 0.20014872, 0.19288003],\n",
              "       [0.1933336 , 0.20389952, 0.20640351, 0.20817752, 0.18818586],\n",
              "       [0.17403302, 0.20669541, 0.20828377, 0.20828664, 0.20270112],\n",
              "       [0.19237176, 0.20170791, 0.20265   , 0.20265   , 0.2006204 ],\n",
              "       [0.18981634, 0.2015388 , 0.201539  , 0.201539  , 0.20556687]],\n",
              "      dtype=float32)"
            ]
          },
          "metadata": {
            "tags": []
          },
          "execution_count": 38
        }
      ]
    },
    {
      "cell_type": "code",
      "metadata": {
        "id": "tKzJFmCSDmUg",
        "colab_type": "code",
        "colab": {
          "base_uri": "https://localhost:8080/",
          "height": 119
        },
        "outputId": "8d3c51c4-65b0-4807-d584-eff29c530051"
      },
      "source": [
        "han_model.show_sent_attention(X[201])"
      ],
      "execution_count": null,
      "outputs": [
        {
          "output_type": "execute_result",
          "data": {
            "text/plain": [
              "array([[0.16919856, 0.16307494, 0.16245964, 0.32337508, 0.18189187],\n",
              "       [0.20315692, 0.20578651, 0.20684949, 0.19184746, 0.19235954],\n",
              "       [0.18888772, 0.20521343, 0.20543957, 0.20464818, 0.19581112],\n",
              "       [0.19489442, 0.20211619, 0.1989577 , 0.20215103, 0.20188066],\n",
              "       [0.19069958, 0.19813477, 0.20647596, 0.20087565, 0.20381397]],\n",
              "      dtype=float32)"
            ]
          },
          "metadata": {
            "tags": []
          },
          "execution_count": 39
        }
      ]
    },
    {
      "cell_type": "code",
      "metadata": {
        "id": "jWdHYMIQD60u",
        "colab_type": "code",
        "colab": {
          "base_uri": "https://localhost:8080/",
          "height": 51
        },
        "outputId": "ebeb3af9-1bfe-40e1-e02d-c6b8c6cb99ca"
      },
      "source": [
        "han_model.show_doc_attention(X)[202]"
      ],
      "execution_count": null,
      "outputs": [
        {
          "output_type": "execute_result",
          "data": {
            "text/plain": [
              "array([0.00138039, 0.24574167, 0.251066  , 0.2509426 , 0.2508693 ],\n",
              "      dtype=float32)"
            ]
          },
          "metadata": {
            "tags": []
          },
          "execution_count": 41
        }
      ]
    },
    {
      "cell_type": "code",
      "metadata": {
        "id": "LHuVYdIhEhmI",
        "colab_type": "code",
        "colab": {
          "base_uri": "https://localhost:8080/",
          "height": 119
        },
        "outputId": "b9231375-bfb5-4920-f0c7-fae60d111b14"
      },
      "source": [
        "han_model.show_sent_attention(X[202])"
      ],
      "execution_count": null,
      "outputs": [
        {
          "output_type": "execute_result",
          "data": {
            "text/plain": [
              "array([[0.19544347, 0.21337357, 0.19846793, 0.18667498, 0.20604013],\n",
              "       [0.17745209, 0.17998174, 0.17992751, 0.18144053, 0.28119808],\n",
              "       [0.20433065, 0.20456415, 0.20469537, 0.20013748, 0.18627234],\n",
              "       [0.20163643, 0.1965396 , 0.20083126, 0.20069993, 0.2002928 ],\n",
              "       [0.20024274, 0.20071124, 0.20113844, 0.19889922, 0.19900836]],\n",
              "      dtype=float32)"
            ]
          },
          "metadata": {
            "tags": []
          },
          "execution_count": 42
        }
      ]
    },
    {
      "cell_type": "code",
      "metadata": {
        "id": "NWwqLQjyEtF7",
        "colab_type": "code",
        "colab": {
          "base_uri": "https://localhost:8080/",
          "height": 51
        },
        "outputId": "f2892668-e71a-407a-de8c-acb0dbcea595"
      },
      "source": [
        "han_model.show_doc_attention(X)[123]"
      ],
      "execution_count": null,
      "outputs": [
        {
          "output_type": "execute_result",
          "data": {
            "text/plain": [
              "array([0.08556817, 0.15157774, 0.20472355, 0.25850078, 0.2996297 ],\n",
              "      dtype=float32)"
            ]
          },
          "metadata": {
            "tags": []
          },
          "execution_count": 59
        }
      ]
    },
    {
      "cell_type": "code",
      "metadata": {
        "id": "5ErLA4uQE_By",
        "colab_type": "code",
        "colab": {
          "base_uri": "https://localhost:8080/",
          "height": 119
        },
        "outputId": "33cd42a1-9757-40a6-edce-f6508964e917"
      },
      "source": [
        "han_model.show_sent_attention(X[123])"
      ],
      "execution_count": null,
      "outputs": [
        {
          "output_type": "execute_result",
          "data": {
            "text/plain": [
              "array([[0.16243753, 0.22864674, 0.2272573 , 0.19430304, 0.18735541],\n",
              "       [0.2263875 , 0.1704175 , 0.19623351, 0.20074768, 0.20621385],\n",
              "       [0.16842061, 0.12468806, 0.23945089, 0.22224517, 0.24519524],\n",
              "       [0.21281515, 0.18418689, 0.20152663, 0.20073582, 0.2007355 ],\n",
              "       [0.22607288, 0.19882856, 0.17089407, 0.18878832, 0.21541612]],\n",
              "      dtype=float32)"
            ]
          },
          "metadata": {
            "tags": []
          },
          "execution_count": 60
        }
      ]
    },
    {
      "cell_type": "code",
      "metadata": {
        "id": "QQcTveyLONiw",
        "colab_type": "code",
        "colab": {
          "base_uri": "https://localhost:8080/",
          "height": 34
        },
        "outputId": "365aa662-1798-43d8-e4ed-d85102a89f1d"
      },
      "source": [
        "len(X)"
      ],
      "execution_count": null,
      "outputs": [
        {
          "output_type": "execute_result",
          "data": {
            "text/plain": [
              "4111"
            ]
          },
          "metadata": {
            "tags": []
          },
          "execution_count": 61
        }
      ]
    },
    {
      "cell_type": "code",
      "metadata": {
        "id": "vCm1oMRbNwsX",
        "colab_type": "code",
        "colab": {}
      },
      "source": [
        "\n",
        "sent_att=np.empty((4176,5,5),dtype=None)\n",
        "for i in range(len(X)):\n",
        "  sent_att[i]=han_model.show_sent_attention(X[i])"
      ],
      "execution_count": null,
      "outputs": []
    },
    {
      "cell_type": "code",
      "metadata": {
        "id": "BPLukGarFDkY",
        "colab_type": "code",
        "colab": {}
      },
      "source": [
        "np.savez('/content/drive/My Drive/covid-19/final_doc_sent_att_epochs=10_batch_size=20_fold5.npz',doc=han_model.show_doc_attention(X), sent=sent_att)"
      ],
      "execution_count": null,
      "outputs": []
    },
    {
      "cell_type": "code",
      "metadata": {
        "id": "FKECCZ8IUYH3",
        "colab_type": "code",
        "colab": {
          "base_uri": "https://localhost:8080/",
          "height": 102
        },
        "outputId": "5b5d4403-1db9-434a-b182-d0f9c3762495"
      },
      "source": [
        "sent_att[2]"
      ],
      "execution_count": null,
      "outputs": [
        {
          "output_type": "execute_result",
          "data": {
            "text/plain": [
              "array([[0.15256384, 0.21673942, 0.21577665, 0.21458189, 0.20033818],\n",
              "       [0.15234029, 0.22388138, 0.22293834, 0.22144061, 0.1793994 ],\n",
              "       [0.13854288, 0.21612467, 0.21557465, 0.21704732, 0.21271048],\n",
              "       [0.10894048, 0.21617006, 0.21466686, 0.21853516, 0.24168745],\n",
              "       [0.20770878, 0.19884345, 0.19161786, 0.1988814 , 0.20294853]])"
            ]
          },
          "metadata": {
            "tags": []
          },
          "execution_count": 66
        }
      ]
    },
    {
      "cell_type": "code",
      "metadata": {
        "id": "jqvmcVbPUqMM",
        "colab_type": "code",
        "colab": {}
      },
      "source": [
        "doc=han_model.show_doc_attention(X)"
      ],
      "execution_count": null,
      "outputs": []
    },
    {
      "cell_type": "code",
      "metadata": {
        "id": "psrczlNzUzrK",
        "colab_type": "code",
        "colab": {
          "base_uri": "https://localhost:8080/",
          "height": 51
        },
        "outputId": "2f9eb4fb-272a-49d8-f7ca-bcc23249aa2b"
      },
      "source": [
        "doc[3]"
      ],
      "execution_count": null,
      "outputs": [
        {
          "output_type": "execute_result",
          "data": {
            "text/plain": [
              "array([0.11107066, 0.17820878, 0.21547902, 0.22652638, 0.2687152 ],\n",
              "      dtype=float32)"
            ]
          },
          "metadata": {
            "tags": []
          },
          "execution_count": 73
        }
      ]
    },
    {
      "cell_type": "markdown",
      "metadata": {
        "id": "hDnxXKT1vLTL",
        "colab_type": "text"
      },
      "source": [
        "Compare HAN with ordinary Model"
      ]
    },
    {
      "cell_type": "code",
      "metadata": {
        "id": "fdqtDxiqU64A",
        "colab_type": "code",
        "colab": {}
      },
      "source": [
        "from keras import models\n",
        "from keras import layers\n",
        "from keras.applications import VGG16\n",
        "from keras import optimizers\n",
        "from keras.layers.core import Flatten, Dense, Dropout, Lambda\n",
        "conv_base = VGG16(weights='imagenet',\n",
        " include_top=False,\n",
        " input_shape=(160, 160, 3))\n",
        "conv_base.trainable = False\n",
        "model = models.Sequential()\n",
        "model.add(conv_base)\n",
        "model.add(layers.Flatten())\n",
        "model.add(layers.Dense(256, activation='relu'))\n",
        "model.add(layers.Dense(1, activation='sigmoid'))\n",
        "model.compile(loss='binary_crossentropy',\n",
        " \n",
        " optimizer=optimizers.Adam(lr=LEARNING_RATE),\n",
        " metrics=['acc'])"
      ],
      "execution_count": null,
      "outputs": []
    },
    {
      "cell_type": "code",
      "metadata": {
        "id": "2Lot86govW9H",
        "colab_type": "code",
        "colab": {
          "base_uri": "https://localhost:8080/",
          "height": 1000
        },
        "outputId": "d89f67e3-423f-421c-8730-ca490b4ec372"
      },
      "source": [
        "#####K-fold Cross Validation#####\n",
        "from sklearn.model_selection import StratifiedKFold\n",
        "TEST_SPLIT=0.1\n",
        "\n",
        "#X_train, X_test, y_train, y_test= train_test_split(X, y, test_size=TEST_SPLIT, random_state=0, stratify=y)\n",
        "\n",
        "kFold = StratifiedKFold(n_splits=10)\n",
        "scores = []\n",
        "idx = 0\n",
        "for train, test in kFold.split(X, y):\n",
        "  idx = idx+1\n",
        "  print(\"fold:\", idx)\n",
        "  X_tr=X[train]\n",
        "  y_tr=y[train]\n",
        "  X_test=X[test]\n",
        "  y_test=y[test]\n",
        "  X_train, X_val, y_train, y_val= train_test_split(X_tr, y_tr, test_size=TEST_SPLIT, random_state=0, stratify=y_tr)\n",
        "  del X_tr\n",
        "  y_train=to_categorical(y_train, num_classes=3)\n",
        "  y_val=to_categorical(y_val, num_classes=3)\n",
        "  y_test=to_categorical(y_test, num_classes=3)\n",
        "\n",
        "  R=han_model.train_model(checkpoint_path, np.array(X_train), np.array(y_train), np.array(X_val), np.array(y_val), np.array(X_test), np.array(y_test), epochs=10,batch_size=20)\n",
        "  scores.append(R)\n",
        "  del X_train\n",
        "  del X_test\n",
        "print(scores)\n",
        "#print(scores.mean())"
      ],
      "execution_count": null,
      "outputs": [
        {
          "output_type": "stream",
          "text": [
            "fold: 1\n",
            "Train on 4698 samples, validate on 522 samples\n",
            "Epoch 1/10\n",
            "4698/4698 [==============================] - 8s 2ms/step - loss: 0.3642 - acc: 0.8557 - val_loss: 0.1478 - val_acc: 0.9464\n",
            "\n",
            "Epoch 00001: val_loss improved from inf to 0.14781, saving model to /content/model.01-0.15.hdf5\n",
            "Epoch 2/10\n",
            "4698/4698 [==============================] - 7s 1ms/step - loss: 0.1580 - acc: 0.9425 - val_loss: 0.1103 - val_acc: 0.9540\n",
            "\n",
            "Epoch 00002: val_loss improved from 0.14781 to 0.11025, saving model to /content/model.02-0.11.hdf5\n",
            "Epoch 3/10\n",
            "4698/4698 [==============================] - 7s 1ms/step - loss: 0.1383 - acc: 0.9506 - val_loss: 0.0901 - val_acc: 0.9674\n",
            "\n",
            "Epoch 00003: val_loss improved from 0.11025 to 0.09008, saving model to /content/model.03-0.09.hdf5\n",
            "Epoch 4/10\n",
            "4698/4698 [==============================] - 7s 1ms/step - loss: 0.1207 - acc: 0.9566 - val_loss: 0.0902 - val_acc: 0.9655\n",
            "\n",
            "Epoch 00004: val_loss did not improve from 0.09008\n",
            "Epoch 5/10\n",
            "4698/4698 [==============================] - 7s 1ms/step - loss: 0.1173 - acc: 0.9593 - val_loss: 0.0822 - val_acc: 0.9655\n",
            "\n",
            "Epoch 00005: val_loss improved from 0.09008 to 0.08216, saving model to /content/model.05-0.08.hdf5\n",
            "Epoch 6/10\n",
            "4698/4698 [==============================] - 7s 1ms/step - loss: 0.1069 - acc: 0.9632 - val_loss: 0.0873 - val_acc: 0.9636\n",
            "\n",
            "Epoch 00006: val_loss did not improve from 0.08216\n",
            "Epoch 7/10\n",
            "4698/4698 [==============================] - 7s 1ms/step - loss: 0.1042 - acc: 0.9619 - val_loss: 0.0813 - val_acc: 0.9655\n",
            "\n",
            "Epoch 00007: val_loss improved from 0.08216 to 0.08130, saving model to /content/model.07-0.08.hdf5\n",
            "Epoch 8/10\n",
            "4698/4698 [==============================] - 7s 1ms/step - loss: 0.1032 - acc: 0.9615 - val_loss: 0.0845 - val_acc: 0.9674\n",
            "\n",
            "Epoch 00008: val_loss did not improve from 0.08130\n",
            "Epoch 9/10\n",
            "4698/4698 [==============================] - 7s 1ms/step - loss: 0.0951 - acc: 0.9662 - val_loss: 0.0794 - val_acc: 0.9693\n",
            "\n",
            "Epoch 00009: val_loss improved from 0.08130 to 0.07935, saving model to /content/model.09-0.08.hdf5\n",
            "Epoch 10/10\n",
            "4698/4698 [==============================] - 7s 1ms/step - loss: 0.0888 - acc: 0.9689 - val_loss: 0.0840 - val_acc: 0.9674\n",
            "\n",
            "Epoch 00010: val_loss did not improve from 0.07935\n",
            "581/581 [==============================] - 0s 476us/step\n"
          ],
          "name": "stdout"
        },
        {
          "output_type": "error",
          "ename": "ValueError",
          "evalue": "ignored",
          "traceback": [
            "\u001b[0;31m---------------------------------------------------------------------------\u001b[0m",
            "\u001b[0;31mValueError\u001b[0m                                Traceback (most recent call last)",
            "\u001b[0;32m<ipython-input-26-a1649a527ac3>\u001b[0m in \u001b[0;36m<module>\u001b[0;34m()\u001b[0m\n\u001b[1;32m     20\u001b[0m   \u001b[0my_test\u001b[0m\u001b[0;34m=\u001b[0m\u001b[0mto_categorical\u001b[0m\u001b[0;34m(\u001b[0m\u001b[0my_test\u001b[0m\u001b[0;34m,\u001b[0m \u001b[0mnum_classes\u001b[0m\u001b[0;34m=\u001b[0m\u001b[0;36m3\u001b[0m\u001b[0;34m)\u001b[0m\u001b[0;34m\u001b[0m\u001b[0;34m\u001b[0m\u001b[0m\n\u001b[1;32m     21\u001b[0m \u001b[0;34m\u001b[0m\u001b[0m\n\u001b[0;32m---> 22\u001b[0;31m   \u001b[0mR\u001b[0m\u001b[0;34m=\u001b[0m\u001b[0mhan_model\u001b[0m\u001b[0;34m.\u001b[0m\u001b[0mtrain_model\u001b[0m\u001b[0;34m(\u001b[0m\u001b[0mcheckpoint_path\u001b[0m\u001b[0;34m,\u001b[0m \u001b[0mnp\u001b[0m\u001b[0;34m.\u001b[0m\u001b[0marray\u001b[0m\u001b[0;34m(\u001b[0m\u001b[0mX_train\u001b[0m\u001b[0;34m)\u001b[0m\u001b[0;34m,\u001b[0m \u001b[0mnp\u001b[0m\u001b[0;34m.\u001b[0m\u001b[0marray\u001b[0m\u001b[0;34m(\u001b[0m\u001b[0my_train\u001b[0m\u001b[0;34m)\u001b[0m\u001b[0;34m,\u001b[0m \u001b[0mnp\u001b[0m\u001b[0;34m.\u001b[0m\u001b[0marray\u001b[0m\u001b[0;34m(\u001b[0m\u001b[0mX_val\u001b[0m\u001b[0;34m)\u001b[0m\u001b[0;34m,\u001b[0m \u001b[0mnp\u001b[0m\u001b[0;34m.\u001b[0m\u001b[0marray\u001b[0m\u001b[0;34m(\u001b[0m\u001b[0my_val\u001b[0m\u001b[0;34m)\u001b[0m\u001b[0;34m,\u001b[0m \u001b[0mnp\u001b[0m\u001b[0;34m.\u001b[0m\u001b[0marray\u001b[0m\u001b[0;34m(\u001b[0m\u001b[0mX_test\u001b[0m\u001b[0;34m)\u001b[0m\u001b[0;34m,\u001b[0m \u001b[0mnp\u001b[0m\u001b[0;34m.\u001b[0m\u001b[0marray\u001b[0m\u001b[0;34m(\u001b[0m\u001b[0my_test\u001b[0m\u001b[0;34m)\u001b[0m\u001b[0;34m,\u001b[0m \u001b[0mepochs\u001b[0m\u001b[0;34m=\u001b[0m\u001b[0;36m10\u001b[0m\u001b[0;34m,\u001b[0m\u001b[0mbatch_size\u001b[0m\u001b[0;34m=\u001b[0m\u001b[0;36m20\u001b[0m\u001b[0;34m)\u001b[0m\u001b[0;34m\u001b[0m\u001b[0;34m\u001b[0m\u001b[0m\n\u001b[0m\u001b[1;32m     23\u001b[0m   \u001b[0mscores\u001b[0m\u001b[0;34m.\u001b[0m\u001b[0mappend\u001b[0m\u001b[0;34m(\u001b[0m\u001b[0mR\u001b[0m\u001b[0;34m)\u001b[0m\u001b[0;34m\u001b[0m\u001b[0;34m\u001b[0m\u001b[0m\n\u001b[1;32m     24\u001b[0m   \u001b[0;32mdel\u001b[0m \u001b[0mX_train\u001b[0m\u001b[0;34m\u001b[0m\u001b[0;34m\u001b[0m\u001b[0m\n",
            "\u001b[0;32m/content/interpretable-han-for-document-classification-with-keras/han/covid_multiclass.py\u001b[0m in \u001b[0;36mtrain_model\u001b[0;34m(self, checkpoint_path, X_train, y_train, X_val, y_val, X_test, y_test, optimizer, loss, metric, monitor, batch_size, epochs)\u001b[0m\n\u001b[1;32m    202\u001b[0m         \u001b[0;31m#print('Accuracy: %f' % accuracy)\u001b[0m\u001b[0;34m\u001b[0m\u001b[0;34m\u001b[0m\u001b[0;34m\u001b[0m\u001b[0m\n\u001b[1;32m    203\u001b[0m         \u001b[0;31m# precision tp / (tp + fp)\u001b[0m\u001b[0;34m\u001b[0m\u001b[0;34m\u001b[0m\u001b[0;34m\u001b[0m\u001b[0m\n\u001b[0;32m--> 204\u001b[0;31m         \u001b[0mprecision\u001b[0m \u001b[0;34m=\u001b[0m \u001b[0mprecision_score\u001b[0m\u001b[0;34m(\u001b[0m\u001b[0my_test\u001b[0m\u001b[0;34m[\u001b[0m\u001b[0;34m:\u001b[0m\u001b[0;34m,\u001b[0m\u001b[0;36m1\u001b[0m\u001b[0;34m]\u001b[0m\u001b[0;34m,\u001b[0m \u001b[0myhat_classes\u001b[0m\u001b[0;34m)\u001b[0m\u001b[0;34m\u001b[0m\u001b[0;34m\u001b[0m\u001b[0m\n\u001b[0m\u001b[1;32m    205\u001b[0m         \u001b[0mprint\u001b[0m\u001b[0;34m(\u001b[0m\u001b[0;34m'Precision: %f'\u001b[0m \u001b[0;34m%\u001b[0m \u001b[0mprecision\u001b[0m\u001b[0;34m)\u001b[0m\u001b[0;34m\u001b[0m\u001b[0;34m\u001b[0m\u001b[0m\n\u001b[1;32m    206\u001b[0m         \u001b[0;31m# recall: tp / (tp + fn)\u001b[0m\u001b[0;34m\u001b[0m\u001b[0;34m\u001b[0m\u001b[0;34m\u001b[0m\u001b[0m\n",
            "\u001b[0;32m/usr/local/lib/python3.6/dist-packages/sklearn/metrics/_classification.py\u001b[0m in \u001b[0;36mprecision_score\u001b[0;34m(y_true, y_pred, labels, pos_label, average, sample_weight, zero_division)\u001b[0m\n\u001b[1;32m   1670\u001b[0m                                                  \u001b[0mwarn_for\u001b[0m\u001b[0;34m=\u001b[0m\u001b[0;34m(\u001b[0m\u001b[0;34m'precision'\u001b[0m\u001b[0;34m,\u001b[0m\u001b[0;34m)\u001b[0m\u001b[0;34m,\u001b[0m\u001b[0;34m\u001b[0m\u001b[0;34m\u001b[0m\u001b[0m\n\u001b[1;32m   1671\u001b[0m                                                  \u001b[0msample_weight\u001b[0m\u001b[0;34m=\u001b[0m\u001b[0msample_weight\u001b[0m\u001b[0;34m,\u001b[0m\u001b[0;34m\u001b[0m\u001b[0;34m\u001b[0m\u001b[0m\n\u001b[0;32m-> 1672\u001b[0;31m                                                  zero_division=zero_division)\n\u001b[0m\u001b[1;32m   1673\u001b[0m     \u001b[0;32mreturn\u001b[0m \u001b[0mp\u001b[0m\u001b[0;34m\u001b[0m\u001b[0;34m\u001b[0m\u001b[0m\n\u001b[1;32m   1674\u001b[0m \u001b[0;34m\u001b[0m\u001b[0m\n",
            "\u001b[0;32m/usr/local/lib/python3.6/dist-packages/sklearn/metrics/_classification.py\u001b[0m in \u001b[0;36mprecision_recall_fscore_support\u001b[0;34m(y_true, y_pred, beta, labels, pos_label, average, warn_for, sample_weight, zero_division)\u001b[0m\n\u001b[1;32m   1482\u001b[0m         \u001b[0;32mraise\u001b[0m \u001b[0mValueError\u001b[0m\u001b[0;34m(\u001b[0m\u001b[0;34m\"beta should be >=0 in the F-beta score\"\u001b[0m\u001b[0;34m)\u001b[0m\u001b[0;34m\u001b[0m\u001b[0;34m\u001b[0m\u001b[0m\n\u001b[1;32m   1483\u001b[0m     labels = _check_set_wise_labels(y_true, y_pred, average, labels,\n\u001b[0;32m-> 1484\u001b[0;31m                                     pos_label)\n\u001b[0m\u001b[1;32m   1485\u001b[0m \u001b[0;34m\u001b[0m\u001b[0m\n\u001b[1;32m   1486\u001b[0m     \u001b[0;31m# Calculate tp_sum, pred_sum, true_sum ###\u001b[0m\u001b[0;34m\u001b[0m\u001b[0;34m\u001b[0m\u001b[0;34m\u001b[0m\u001b[0m\n",
            "\u001b[0;32m/usr/local/lib/python3.6/dist-packages/sklearn/metrics/_classification.py\u001b[0m in \u001b[0;36m_check_set_wise_labels\u001b[0;34m(y_true, y_pred, average, labels, pos_label)\u001b[0m\n\u001b[1;32m   1314\u001b[0m             raise ValueError(\"Target is %s but average='binary'. Please \"\n\u001b[1;32m   1315\u001b[0m                              \u001b[0;34m\"choose another average setting, one of %r.\"\u001b[0m\u001b[0;34m\u001b[0m\u001b[0;34m\u001b[0m\u001b[0m\n\u001b[0;32m-> 1316\u001b[0;31m                              % (y_type, average_options))\n\u001b[0m\u001b[1;32m   1317\u001b[0m     \u001b[0;32melif\u001b[0m \u001b[0mpos_label\u001b[0m \u001b[0;32mnot\u001b[0m \u001b[0;32min\u001b[0m \u001b[0;34m(\u001b[0m\u001b[0;32mNone\u001b[0m\u001b[0;34m,\u001b[0m \u001b[0;36m1\u001b[0m\u001b[0;34m)\u001b[0m\u001b[0;34m:\u001b[0m\u001b[0;34m\u001b[0m\u001b[0;34m\u001b[0m\u001b[0m\n\u001b[1;32m   1318\u001b[0m         warnings.warn(\"Note that pos_label (set to %r) is ignored when \"\n",
            "\u001b[0;31mValueError\u001b[0m: Target is multiclass but average='binary'. Please choose another average setting, one of [None, 'micro', 'macro', 'weighted']."
          ]
        }
      ]
    },
    {
      "cell_type": "code",
      "metadata": {
        "id": "TwQd3Qf4THsW",
        "colab_type": "code",
        "colab": {
          "base_uri": "https://localhost:8080/",
          "height": 139
        },
        "outputId": "e4e781ee-9ab8-4819-ba68-b4078cc341bf"
      },
      "source": [
        "from keras.preprocessing.image import ImageDataGenerator, array_to_img, img_to_array, load_img\n",
        "import os\n",
        "import glob\n",
        "import pandas as pd\n",
        "import csv\n",
        "import re\n",
        "import numpy as np\n",
        "\n",
        "\n",
        "datagen = ImageDataGenerator(rescale=1./255,\n",
        "        rotation_range=50,\n",
        " featurewise_center = True,\n",
        " featurewise_std_normalization = True,\n",
        " width_shift_range=0.2,\n",
        " height_shift_range=0.2,\n",
        " shear_range=0.25,\n",
        " zoom_range=0.1,\n",
        " zca_whitening = True,\n",
        " channel_shift_range = 20,\n",
        " horizontal_flip = True ,\n",
        " vertical_flip = True ,\n",
        " validation_split = 0.2,\n",
        " fill_mode='constant')\n",
        "\n",
        "Covid=glob.glob('/content/drive/My Drive/covid-19/Data/covid/*')\n",
        "\n",
        "for f in Covid:\n",
        "\n",
        "  img = load_img(f)  # this is a PIL image\n",
        "  x = img_to_array(img)  # this is a Numpy array with shape (3, 150, 150)\n",
        "  x = x.reshape((1,) + x.shape)  # this is a Numpy array with shape (1, 3, 150, 150)\n",
        "\n",
        "# the .flow() command below generates batches of randomly transformed images\n",
        "# and saves the results to the `preview/` directory\n",
        "  i = 0\n",
        "  for batch in datagen.flow(x, batch_size=1,\n",
        "                          save_to_dir='/content/drive/My Drive/covid-19/Data/covid/', save_prefix='aug', save_format='jpeg'):\n",
        "    i += 1\n",
        "    #print(batch)\n",
        "\n",
        "    if i > 64:\n",
        "        break  # otherwise the generator would loop indefinitely\n",
        "\n"
      ],
      "execution_count": null,
      "outputs": [
        {
          "output_type": "stream",
          "text": [
            "/usr/local/lib/python3.6/dist-packages/keras_preprocessing/image/image_data_generator.py:341: UserWarning: This ImageDataGenerator specifies `zca_whitening` which overrides setting of`featurewise_std_normalization`.\n",
            "  warnings.warn('This ImageDataGenerator specifies '\n",
            "/usr/local/lib/python3.6/dist-packages/keras_preprocessing/image/image_data_generator.py:716: UserWarning: This ImageDataGenerator specifies `featurewise_center`, but it hasn't been fit on any training data. Fit it first by calling `.fit(numpy_data)`.\n",
            "  warnings.warn('This ImageDataGenerator specifies '\n",
            "/usr/local/lib/python3.6/dist-packages/keras_preprocessing/image/image_data_generator.py:735: UserWarning: This ImageDataGenerator specifies `zca_whitening`, but it hasn't been fit on any training data. Fit it first by calling `.fit(numpy_data)`.\n",
            "  warnings.warn('This ImageDataGenerator specifies '\n"
          ],
          "name": "stderr"
        }
      ]
    },
    {
      "cell_type": "code",
      "metadata": {
        "id": "L_4aFiiuf2Ik",
        "colab_type": "code",
        "colab": {}
      },
      "source": [
        "import os\n",
        "import glob\n",
        "import pandas as pd\n",
        "import csv\n",
        "import re\n",
        "import numpy as np\n",
        "\n",
        "Covid=glob.glob('/content/drive/My Drive/covid-19/Data/covid/*')"
      ],
      "execution_count": null,
      "outputs": []
    },
    {
      "cell_type": "code",
      "metadata": {
        "id": "KHhncSuym_HD",
        "colab_type": "code",
        "colab": {
          "base_uri": "https://localhost:8080/",
          "height": 34
        },
        "outputId": "47b69d70-0a8f-4230-a767-f87c794daaa9"
      },
      "source": [
        "len(Covid)"
      ],
      "execution_count": null,
      "outputs": [
        {
          "output_type": "execute_result",
          "data": {
            "text/plain": [
              "6839"
            ]
          },
          "metadata": {
            "tags": []
          },
          "execution_count": 48
        }
      ]
    },
    {
      "cell_type": "code",
      "metadata": {
        "id": "GPE2-W_-nWQI",
        "colab_type": "code",
        "colab": {}
      },
      "source": [
        "import pandas\n",
        "from keras.models import Sequential\n",
        "from keras.layers import Dense\n",
        "from keras.wrappers.scikit_learn import KerasClassifier\n",
        "from keras.utils import np_utils\n",
        "from sklearn.model_selection import cross_val_score\n",
        "from sklearn.model_selection import KFold\n",
        "from sklearn.preprocessing import LabelEncoder\n",
        "from sklearn.pipeline import Pipeline\n",
        "Y=[0,1,2]\n",
        "encoder = LabelEncoder()\n",
        "encoder.fit(Y)\n",
        "encoded_Y = encoder.transform(Y)\n",
        "# convert integers to dummy variables (i.e. one hot encoded)\n",
        "dummy_y = np_utils.to_categorical(encoded_Y)"
      ],
      "execution_count": null,
      "outputs": []
    },
    {
      "cell_type": "code",
      "metadata": {
        "id": "rgEWNjVGkbtX",
        "colab_type": "code",
        "colab": {
          "base_uri": "https://localhost:8080/",
          "height": 68
        },
        "outputId": "9054d9ff-a9a3-440d-ab0b-d4d6a69be448"
      },
      "source": [
        "dummy_y"
      ],
      "execution_count": null,
      "outputs": [
        {
          "output_type": "execute_result",
          "data": {
            "text/plain": [
              "array([[1., 0., 0.],\n",
              "       [0., 1., 0.],\n",
              "       [0., 0., 1.]], dtype=float32)"
            ]
          },
          "metadata": {
            "tags": []
          },
          "execution_count": 53
        }
      ]
    },
    {
      "cell_type": "code",
      "metadata": {
        "id": "ENY7SdPekiYY",
        "colab_type": "code",
        "colab": {}
      },
      "source": [
        "import random\n",
        "X = [4, 8, 15, 16, 23, 42]\n",
        "x = list(enumerate(X))\n",
        "random.shuffle(x)\n",
        "indices, l = zip(*x)"
      ],
      "execution_count": null,
      "outputs": []
    },
    {
      "cell_type": "code",
      "metadata": {
        "id": "N38KH2BdZ8aZ",
        "colab_type": "code",
        "colab": {
          "base_uri": "https://localhost:8080/",
          "height": 34
        },
        "outputId": "7db0bf4d-d8f4-448a-d0d2-a45efcc54014"
      },
      "source": [
        "x"
      ],
      "execution_count": null,
      "outputs": [
        {
          "output_type": "execute_result",
          "data": {
            "text/plain": [
              "[(3, 16), (1, 8), (2, 15), (5, 42), (4, 23), (0, 4)]"
            ]
          },
          "metadata": {
            "tags": []
          },
          "execution_count": 16
        }
      ]
    },
    {
      "cell_type": "code",
      "metadata": {
        "id": "zNSTDq0VZ9Zk",
        "colab_type": "code",
        "colab": {
          "base_uri": "https://localhost:8080/",
          "height": 34
        },
        "outputId": "115f6e65-7c3c-40a0-abab-d32b8fc69cb0"
      },
      "source": [
        "x[1][0]"
      ],
      "execution_count": null,
      "outputs": [
        {
          "output_type": "execute_result",
          "data": {
            "text/plain": [
              "16"
            ]
          },
          "metadata": {
            "tags": []
          },
          "execution_count": 13
        }
      ]
    },
    {
      "cell_type": "code",
      "metadata": {
        "id": "q8qBNG1LZ_TA",
        "colab_type": "code",
        "colab": {
          "base_uri": "https://localhost:8080/",
          "height": 34
        },
        "outputId": "dea64e35-3e3f-4f2d-d382-e2dda936952a"
      },
      "source": [
        "for i in range(len(x)):\n",
        "  for j in range(3):\n",
        "    print(x[])"
      ],
      "execution_count": null,
      "outputs": [
        {
          "output_type": "execute_result",
          "data": {
            "text/plain": [
              "(15, 16, 4, 23, 42, 8)"
            ]
          },
          "metadata": {
            "tags": []
          },
          "execution_count": 11
        }
      ]
    },
    {
      "cell_type": "code",
      "metadata": {
        "id": "JMuHacTnju-3",
        "colab_type": "code",
        "colab": {
          "base_uri": "https://localhost:8080/",
          "height": 34
        },
        "outputId": "54017ce6-0085-4ecd-8d09-4a2f085f0077"
      },
      "source": [
        "indices"
      ],
      "execution_count": null,
      "outputs": [
        {
          "output_type": "execute_result",
          "data": {
            "text/plain": [
              "(2, 3, 0, 4, 5, 1)"
            ]
          },
          "metadata": {
            "tags": []
          },
          "execution_count": 12
        }
      ]
    },
    {
      "cell_type": "code",
      "metadata": {
        "id": "BgBTCRqgjxQh",
        "colab_type": "code",
        "colab": {
          "base_uri": "https://localhost:8080/",
          "height": 68
        },
        "outputId": "80522940-620f-4d68-8898-41ae50207423"
      },
      "source": [
        "####Classification reports\n",
        "import numpy as np\n",
        "from sklearn.metrics import confusion_matrix\n",
        "\n",
        "y_true = [1, -1,  0,  0,  1, -1,  1,  0, -1,  0,  1, -1,  1,  0,  0, -1,  0]\n",
        "y_prediction = [-1, -1,  1,  0,  0,  0,  0, -1,  1, -1,  1,  1,  0,  0,  1,  1, -1]\n",
        "cnf_matrix = confusion_matrix(y_true, y_prediction)\n",
        "print(cnf_matrix)\n",
        "#[[1 1 3]\n",
        "# [3 2 2]\n",
        "# [1 3 1]]\n",
        "\n",
        "FP = cnf_matrix.sum(axis=0) - np.diag(cnf_matrix)  \n",
        "FN = cnf_matrix.sum(axis=1) - np.diag(cnf_matrix)\n",
        "TP = np.diag(cnf_matrix)\n",
        "TN = cnf_matrix.sum() - (FP + FN + TP)\n",
        "\n",
        "FP = FP.astype(float)\n",
        "FN = FN.astype(float)\n",
        "TP = TP.astype(float)\n",
        "TN = TN.astype(float)\n",
        "\n",
        "# Sensitivity, hit rate, recall, or true positive rate\n",
        "TPR = TP/(TP+FN)\n",
        "# Specificity or true negative rate\n",
        "TNR = TN/(TN+FP) \n",
        "# Precision or positive predictive value\n",
        "PPV = TP/(TP+FP)\n",
        "# Negative predictive value\n",
        "NPV = TN/(TN+FN)\n",
        "# Fall out or false positive rate\n",
        "FPR = FP/(FP+TN)\n",
        "# False negative rate\n",
        "FNR = FN/(TP+FN)\n",
        "# False discovery rate\n",
        "FDR = FP/(TP+FP)\n",
        "# Overall accuracy\n",
        "ACC = (TP+TN)/(TP+FP+FN+TN)\n",
        "F1=(2* np.multiply(TPR,PPV))/(TPR+PPV)"
      ],
      "execution_count": null,
      "outputs": [
        {
          "output_type": "stream",
          "text": [
            "[[1 1 3]\n",
            " [3 2 2]\n",
            " [1 3 1]]\n"
          ],
          "name": "stdout"
        }
      ]
    },
    {
      "cell_type": "code",
      "metadata": {
        "id": "2y3z5G_-vXj0",
        "colab_type": "code",
        "colab": {}
      },
      "source": [
        "from operator import truediv\n",
        "import numpy as np\n",
        "\n",
        "TP = np.diag(cnf_matrix)\n",
        "prec = list(map(truediv, TP, np.sum(cnf_matrix, axis=0)))\n",
        "rec = list(map(truediv, TP, np.sum(cnf_matrix, axis=1)))\n",
        "print ('Precision: {}\\nRecall: {}'.format(prec, rec))"
      ],
      "execution_count": null,
      "outputs": []
    },
    {
      "cell_type": "code",
      "metadata": {
        "id": "Lok4bb_M7Ugy",
        "colab_type": "code",
        "colab": {}
      },
      "source": [
        "import numpy as np\n",
        "import pandas as pd\n",
        "EX2=pd.read_csv('/content/drive/My Drive/covid-19/Results/Experimen7.csv')"
      ],
      "execution_count": null,
      "outputs": []
    },
    {
      "cell_type": "code",
      "metadata": {
        "id": "7UrVqUOhg4HN",
        "colab_type": "code",
        "colab": {}
      },
      "source": [
        "acc=np.array(EX2['0'])\n",
        "acc = [[i] for i in acc]"
      ],
      "execution_count": null,
      "outputs": []
    },
    {
      "cell_type": "code",
      "metadata": {
        "id": "gCzh3u8p_Azu",
        "colab_type": "code",
        "colab": {
          "base_uri": "https://localhost:8080/",
          "height": 102
        },
        "outputId": "7d00e37a-e133-420c-ed22-033d71bef5d0"
      },
      "source": [
        "np.array(EX2['1'])"
      ],
      "execution_count": null,
      "outputs": [
        {
          "output_type": "execute_result",
          "data": {
            "text/plain": [
              "array(['[[115   4]\\n [  6 121]]', '[[124   4]\\n [  0 118]]',\n",
              "       '[[117   0]\\n [  1 128]]', '[[131   2]\\n [  0 113]]',\n",
              "       '[[105   0]\\n [  1 140]]', '[[120   0]\\n [  0 126]]',\n",
              "       '[[130   0]\\n [  0 116]]', '[[120   0]\\n [  0 126]]',\n",
              "       '[[127   0]\\n [  0 118]]', '[[130   0]\\n [  0 115]]'], dtype=object)"
            ]
          },
          "metadata": {
            "tags": []
          },
          "execution_count": 130
        }
      ]
    },
    {
      "cell_type": "code",
      "metadata": {
        "id": "LY9X23iOajf0",
        "colab_type": "code",
        "colab": {}
      },
      "source": [
        "cm2=[[[147 ,  0  , 6], [  0, 162  , 0],[  8  , 0 ,152]],\n",
        "       [[142 ,  0  , 7],[  0 ,161  , 0],[  3 ,  0 ,162]],\n",
        "       [[164  , 0 ,  4], [  0, 162  , 0],[  6 ,  0 ,139]],\n",
        "       [[141 ,  0  , 4],[  0 ,173 ,  0],[  0 ,  0 ,157]],\n",
        "       [[168 ,  0 ,  2],[  0 ,170 ,  0], [  1  , 0 ,134]],\n",
        "       [[149  , 0 ,  1],[  0 ,161  , 0], [  0 ,  0, 164]],\n",
        "       [[162 ,  0  , 1], [  0 ,145  , 0], [  0 ,  0, 167]],\n",
        "       [[164 ,  0  , 3],[  0, 146 ,  0],[  0 ,  0 ,162]],\n",
        "       [[155 ,  0  , 1],[  0 ,142  , 0], [  2 ,  0 ,175]],\n",
        "       [[162,   0,   0], [  0 ,161 ,  0],[  1 ,  0 ,150]]]"
      ],
      "execution_count": null,
      "outputs": []
    },
    {
      "cell_type": "code",
      "metadata": {
        "id": "BeNJhIp_cFy9",
        "colab_type": "code",
        "colab": {}
      },
      "source": [
        "cm3=[[[120 , 11], [  7 ,116]],[[121 ,  3], [  1 ,129]],\n",
        "       [[113  , 2], [  2 ,137]], [[127  , 0], [  0 ,127]],\n",
        "       [[110  , 2],[  2 ,140]], [[121  , 1],[  0 ,132]],\n",
        "       [[119 ,  0], [  1 ,134]], [[123 ,  1],[  0 ,130]],\n",
        "       [[120 ,  0], [  0 ,134]], [[135 ,  0],[  0 ,119]]]"
      ],
      "execution_count": null,
      "outputs": []
    },
    {
      "cell_type": "code",
      "metadata": {
        "id": "RqWGY8ZseVw2",
        "colab_type": "code",
        "colab": {}
      },
      "source": [
        "cm4=[[[111 , 12], [  2 ,124]], [[119  , 6], [  2 ,121]],\n",
        "       [[116 ,  3], [  0 ,129]], [[123 ,  1], [  0 ,124]],\n",
        "       [[113  , 0], [  1, 134]], [[123  , 0], [  0 ,125]],\n",
        "       [[127  , 0], [  2, 119]], [[117  , 0], [  0 ,131]],\n",
        "       [[125  , 0], [  0 ,123]], [[133  , 0], [  0 ,115]]]"
      ],
      "execution_count": null,
      "outputs": []
    },
    {
      "cell_type": "code",
      "metadata": {
        "id": "g71bVaQRf-gs",
        "colab_type": "code",
        "colab": {}
      },
      "source": [
        "cm5=[[[115 ,  4],[  6, 121]], [[124 ,  4], [  0, 118]],\n",
        "       [[117 ,  0], [  1, 128]], [[131  , 2], [  0 ,113]],\n",
        "       [[105 ,  0], [  1 ,140]], [[120 ,  0], [  0 ,126]],\n",
        "       [[130 ,  0], [  0 ,116]], [[120  , 0], [  0 ,126]],\n",
        "       [[127 ,  0], [  0 ,118]], [[130  , 0], [  0 ,115]]]"
      ],
      "execution_count": null,
      "outputs": []
    },
    {
      "cell_type": "code",
      "metadata": {
        "id": "G8V47h1vhpVY",
        "colab_type": "code",
        "colab": {}
      },
      "source": [
        "cm7=[[[35 , 9], [ 7 ,24]], [[40 , 2], [ 2 ,31]],\n",
        "       [[36 , 2], [ 1 ,36]], [[36 , 1], [ 1 ,37]],\n",
        "       [[42 , 0],[ 1 ,32]], [[40 , 0], [ 2 ,33]],\n",
        "       [[41 , 0], [ 0 ,33]], [[40 , 0], [ 0 ,34]],\n",
        "       [[33 , 0], [ 0, 41]],[[40 , 0], [ 0 ,34]]]"
      ],
      "execution_count": null,
      "outputs": []
    },
    {
      "cell_type": "code",
      "metadata": {
        "id": "nz6Ef_mUttD_",
        "colab_type": "code",
        "colab": {}
      },
      "source": [
        "cm1=[[[130 ,  1  ,12], [  0 , 36  , 0], [ 11 ,  0 ,411]],\n",
        "       [[167 ,  0 ,  9], [  0 , 42 ,  0], [  8 ,  0 ,375]],\n",
        "       [[150  , 0  , 5], [  0 , 47 ,  0], [  6 ,  0, 393]],\n",
        "       [[149 ,  0 ,  6], [  1 , 51  , 0], [  3 ,  0, 391]],\n",
        "       [[149  , 0 ,  1], [  0 , 48 ,  0], [ 11  , 0 ,392]],\n",
        "       [[145 ,  0  , 2], [  0 , 47  , 0], [  6,   0 ,401]],\n",
        "       [[159 ,  0  , 0], [  0 , 54  , 0], [  3  , 0, 385]],\n",
        "       [[157 ,  0  , 1], [  0 , 50  , 0], [  4 ,  0 ,388]],\n",
        "       [[169 ,  0 ,  2], [  0 , 51 ,  0], [  4 ,  0 ,374]],\n",
        "       [[169 ,  0 ,  0], [  0 , 48  , 0], [  1 ,  0 ,382]]]"
      ],
      "execution_count": null,
      "outputs": []
    },
    {
      "cell_type": "code",
      "metadata": {
        "id": "lX2GOtvAvVAS",
        "colab_type": "code",
        "colab": {}
      },
      "source": [
        "cm6=[[[136 ,  0  , 3] ,[  0 , 17 ,  0] ,[  9 ,  0 ,127]],\n",
        "       [[133 ,  0  , 2] ,[  1 , 21  , 0] ,[  1 ,  0 ,134]],\n",
        "       [[145 ,  0  , 0] ,[  0 , 23  , 0] ,[  1 ,  0 ,123]],\n",
        "       [[129 ,  0  , 1] ,[  0 , 19  , 0] ,[ 12  , 1, 130]],\n",
        "       [[136 ,  0  , 1] ,[  1 , 31  , 0] ,[  0 ,  0 ,123]],\n",
        "       [[117  , 0  , 0] ,[  0 , 22  , 0] ,[  5  , 0 ,147]],\n",
        "       [[125  , 0  , 0] ,[  0 , 22  , 0] ,[  0  , 0 ,144]],\n",
        "       [[143  , 0  , 0] ,[  0 , 22  , 0] ,[  2 ,  0 ,124]],\n",
        "       [[139  , 0  , 0] ,[  0 , 22  , 0] ,[  0 ,  0, 130]],\n",
        "       [[140  , 0 ,  1], [  0 , 18  , 0], [  0 ,  0, 132]]]"
      ],
      "execution_count": null,
      "outputs": []
    },
    {
      "cell_type": "code",
      "metadata": {
        "id": "6n4QQQypw0MS",
        "colab_type": "code",
        "colab": {}
      },
      "source": [
        "cm8=[[[25 , 0 , 0], [ 1 ,19 , 0],[ 4 , 0 ,17]],\n",
        "       [[20 , 0 , 1], [ 0, 26 , 0], [ 0,  0 ,19]],\n",
        "       [[22 , 0 , 2], [ 0 ,16 , 0], [ 0 , 0, 26]],\n",
        "       [[25 , 0  ,0], [ 0, 21 , 0] ,[ 0 , 0 ,20]],\n",
        "       [[24 , 0 , 0], [ 0 ,23 , 0] ,[ 0  ,0 ,19]],\n",
        "       [[17 , 0 , 0], [ 0 ,23 , 0], [ 0 , 0, 26]],\n",
        "       [[24 , 0 , 0],[ 1 ,14  ,0] ,[ 0 , 0 ,27]],\n",
        "       [[17 , 0 , 0], [ 0, 24 , 0] ,[ 0  ,0 ,24]],\n",
        "       [[23 , 0  ,0], [ 0 ,25 , 0],[ 0 , 0 ,17]],\n",
        "       [[19 , 0  ,0], [ 0, 26 , 0], [ 0 , 0 ,20]]]"
      ],
      "execution_count": null,
      "outputs": []
    },
    {
      "cell_type": "code",
      "metadata": {
        "id": "b3CuEcle2vLJ",
        "colab_type": "code",
        "colab": {}
      },
      "source": [
        "cm9=[[[129,   0  , 5],[  0 ,143 ,  0],[ 10  , 1,116]],\n",
        "       [[116  , 0  , 1], [  0 ,149 ,  0],[  3  , 0, 135]],\n",
        "       [[130 ,  0  , 1], [  0 ,127  , 0], [  0  , 0 ,146]],\n",
        "       [[129 ,  0 ,  1], [  0, 144 ,  0], [  1  , 0 ,129]],\n",
        "       [[135 ,  0 ,  0], [  0 ,147 ,  0], [  2 , 0 ,120]],\n",
        "       [[136 ,  0 ,  1],[  0 ,121 ,  0], [  0 ,  0, 145]],\n",
        "       [[136  , 0  , 1], [  0 ,129  , 0], [  0  , 0 ,137]],\n",
        "       [[155  , 0  , 0],[  0 ,114  , 0], [  2  , 0 ,132]],\n",
        "       [[120  , 0 ,  0],[  0 ,146  , 0],[  1 , 0 ,136]],\n",
        "       [[148  , 0  , 1], [  0 ,125  , 0], [  0 ,  0 ,129]]]"
      ],
      "execution_count": null,
      "outputs": []
    },
    {
      "cell_type": "code",
      "metadata": {
        "id": "BppOUzpx4EkI",
        "colab_type": "code",
        "colab": {}
      },
      "source": [
        "cm10=[[[49  ,2 , 0],[ 0 ,48 , 0],[ 2 , 0 ,42]],\n",
        "       [[39 , 0,  1], [ 0 ,55 , 0], [ 0 , 0 ,48]],\n",
        "       [[48 , 0 , 0], [ 0 ,39,  0],[ 0  ,0 ,56]],\n",
        "       [[38 , 0 , 0], [ 0, 42,  0], [ 1 , 0 ,62]],\n",
        "       [[60 , 0 , 0], [ 0, 48 , 0],[ 0 , 0 ,35]],\n",
        "       [[42  ,0 , 0],[ 0 ,59  ,0],[ 0 , 0 ,41]],\n",
        "       [[52 , 0 , 0], [ 0 ,47 , 0], [ 0 , 0, 43]],\n",
        "       [[45 , 0 , 0],[ 0, 45 , 0], [ 0 , 0, 52]],\n",
        "       [[47 , 0  ,0],[ 0 ,46 , 0],[ 0 , 0 ,49]],\n",
        "       [[52 , 0  ,0],[ 0 ,46 , 0], [ 0 , 0 ,44]]]"
      ],
      "execution_count": null,
      "outputs": []
    },
    {
      "cell_type": "code",
      "metadata": {
        "id": "7OTcR7rIa4X4",
        "colab_type": "code",
        "colab": {}
      },
      "source": [
        "Sensitivity=[]\n",
        "Specifity=[]\n",
        "Precision=[]\n",
        "F1score=[]\n",
        "Accuracy=[]\n",
        "for i in range(10):\n",
        "  cnf_matrix=np.array(cm7[i])\n",
        "  FP = cnf_matrix.sum(axis=0) - np.diag(cnf_matrix)  \n",
        "  FN = cnf_matrix.sum(axis=1) - np.diag(cnf_matrix)\n",
        "  TP = np.diag(cnf_matrix)\n",
        "  TN = cnf_matrix.sum() - (FP + FN + TP)\n",
        "\n",
        "  FP = FP.astype(float)\n",
        "  FN = FN.astype(float)\n",
        "  TP = TP.astype(float)\n",
        "  TN = TN.astype(float)\n",
        "\n",
        "  # Sensitivity, hit rate, recall, or true positive rate\n",
        "  TPR = TP/(TP+FN)\n",
        "  # Specificity or true negative rate\n",
        "  TNR = TN/(TN+FP) \n",
        "  # Precision or positive predictive value\n",
        "  PPV = TP/(TP+FP)\n",
        "  # Overall accuracy\n",
        "  #ACC = (TP+TN)/(TP+FP+FN+TN)\n",
        "  F1=(2* np.multiply(TPR,PPV))/(TPR+PPV)\n",
        "\n",
        "  Sensitivity.append(TPR)\n",
        "  Specifity.append(TNR)\n",
        "  Precision.append(PPV)\n",
        "  F1score.append(F1) \n",
        "  #Accuracy.append(ACC)\n",
        "\n"
      ],
      "execution_count": null,
      "outputs": []
    },
    {
      "cell_type": "code",
      "metadata": {
        "id": "wqn0BPq1JNNn",
        "colab_type": "code",
        "colab": {
          "base_uri": "https://localhost:8080/",
          "height": 34
        },
        "outputId": "5adced59-fad4-4940-ae54-0f1fef9c1695"
      },
      "source": [
        "FP"
      ],
      "execution_count": null,
      "outputs": [
        {
          "output_type": "execute_result",
          "data": {
            "text/plain": [
              "array([0., 0.])"
            ]
          },
          "metadata": {
            "tags": []
          },
          "execution_count": 160
        }
      ]
    },
    {
      "cell_type": "code",
      "metadata": {
        "id": "h8WwAVVSidQI",
        "colab_type": "code",
        "colab": {}
      },
      "source": [
        "COVID_Metrics=[]\n",
        "Normal_Metrics=[]\n",
        "#Other_Metrics=[]\n",
        "for i in range(10):\n",
        "  Normal_Metrics.append([Sensitivity[i][0],Specifity[i][0], Precision[i][0],F1score[i][0]])\n",
        "  COVID_Metrics.append([Sensitivity[i][1],Specifity[i][1], Precision[i][1],F1score[i][1]])\n",
        "  #Other_Metrics.append([Sensitivity[i][2],Specifity[i][2], Precision[i][2],F1score[i][2]])"
      ],
      "execution_count": null,
      "outputs": []
    },
    {
      "cell_type": "code",
      "metadata": {
        "id": "SnDNZ9lvgu0G",
        "colab_type": "code",
        "colab": {}
      },
      "source": [
        "d = {'COVID_Metrics': COVID_Metrics, 'Normal_Metrics': Normal_Metrics, 'Other_Metrics':Other_Metrics}"
      ],
      "execution_count": null,
      "outputs": []
    },
    {
      "cell_type": "code",
      "metadata": {
        "id": "XNzQNTgVnUwP",
        "colab_type": "code",
        "colab": {}
      },
      "source": [
        "#Total=np.concatenate((acc, COVID_Metrics,Normal_Metrics, Other_Metrics),axis=1)\n",
        "Total=np.concatenate((acc, COVID_Metrics,Normal_Metrics),axis=1)"
      ],
      "execution_count": null,
      "outputs": []
    },
    {
      "cell_type": "code",
      "metadata": {
        "id": "YmFgf9glkvYL",
        "colab_type": "code",
        "colab": {}
      },
      "source": [
        "df = pd.DataFrame(data=d)"
      ],
      "execution_count": null,
      "outputs": []
    },
    {
      "cell_type": "code",
      "metadata": {
        "id": "snC2k-yFni71",
        "colab_type": "code",
        "colab": {}
      },
      "source": [
        "df2 = pd.DataFrame(data=Total)"
      ],
      "execution_count": null,
      "outputs": []
    },
    {
      "cell_type": "code",
      "metadata": {
        "id": "16k7kKM6k_DK",
        "colab_type": "code",
        "colab": {
          "base_uri": "https://localhost:8080/",
          "height": 359
        },
        "outputId": "00f56b02-b4c7-4ac0-eec2-291a739e10d8"
      },
      "source": [
        "df2"
      ],
      "execution_count": null,
      "outputs": [
        {
          "output_type": "execute_result",
          "data": {
            "text/html": [
              "<div>\n",
              "<style scoped>\n",
              "    .dataframe tbody tr th:only-of-type {\n",
              "        vertical-align: middle;\n",
              "    }\n",
              "\n",
              "    .dataframe tbody tr th {\n",
              "        vertical-align: top;\n",
              "    }\n",
              "\n",
              "    .dataframe thead th {\n",
              "        text-align: right;\n",
              "    }\n",
              "</style>\n",
              "<table border=\"1\" class=\"dataframe\">\n",
              "  <thead>\n",
              "    <tr style=\"text-align: right;\">\n",
              "      <th></th>\n",
              "      <th>0</th>\n",
              "      <th>1</th>\n",
              "      <th>2</th>\n",
              "      <th>3</th>\n",
              "      <th>4</th>\n",
              "      <th>5</th>\n",
              "      <th>6</th>\n",
              "      <th>7</th>\n",
              "      <th>8</th>\n",
              "    </tr>\n",
              "  </thead>\n",
              "  <tbody>\n",
              "    <tr>\n",
              "      <th>0</th>\n",
              "      <td>0.786667</td>\n",
              "      <td>1.0</td>\n",
              "      <td>0.978947</td>\n",
              "      <td>0.96</td>\n",
              "      <td>0.979592</td>\n",
              "      <td>0.960784</td>\n",
              "      <td>0.978261</td>\n",
              "      <td>0.960784</td>\n",
              "      <td>0.960784</td>\n",
              "    </tr>\n",
              "    <tr>\n",
              "      <th>1</th>\n",
              "      <td>0.946667</td>\n",
              "      <td>1.0</td>\n",
              "      <td>1.000000</td>\n",
              "      <td>1.00</td>\n",
              "      <td>1.000000</td>\n",
              "      <td>0.975000</td>\n",
              "      <td>1.000000</td>\n",
              "      <td>1.000000</td>\n",
              "      <td>0.987342</td>\n",
              "    </tr>\n",
              "    <tr>\n",
              "      <th>2</th>\n",
              "      <td>0.960000</td>\n",
              "      <td>1.0</td>\n",
              "      <td>1.000000</td>\n",
              "      <td>1.00</td>\n",
              "      <td>1.000000</td>\n",
              "      <td>1.000000</td>\n",
              "      <td>1.000000</td>\n",
              "      <td>1.000000</td>\n",
              "      <td>1.000000</td>\n",
              "    </tr>\n",
              "    <tr>\n",
              "      <th>3</th>\n",
              "      <td>0.973333</td>\n",
              "      <td>1.0</td>\n",
              "      <td>1.000000</td>\n",
              "      <td>1.00</td>\n",
              "      <td>1.000000</td>\n",
              "      <td>1.000000</td>\n",
              "      <td>0.990476</td>\n",
              "      <td>0.974359</td>\n",
              "      <td>0.987013</td>\n",
              "    </tr>\n",
              "    <tr>\n",
              "      <th>4</th>\n",
              "      <td>0.986667</td>\n",
              "      <td>1.0</td>\n",
              "      <td>1.000000</td>\n",
              "      <td>1.00</td>\n",
              "      <td>1.000000</td>\n",
              "      <td>1.000000</td>\n",
              "      <td>1.000000</td>\n",
              "      <td>1.000000</td>\n",
              "      <td>1.000000</td>\n",
              "    </tr>\n",
              "    <tr>\n",
              "      <th>5</th>\n",
              "      <td>0.973333</td>\n",
              "      <td>1.0</td>\n",
              "      <td>1.000000</td>\n",
              "      <td>1.00</td>\n",
              "      <td>1.000000</td>\n",
              "      <td>1.000000</td>\n",
              "      <td>1.000000</td>\n",
              "      <td>1.000000</td>\n",
              "      <td>1.000000</td>\n",
              "    </tr>\n",
              "    <tr>\n",
              "      <th>6</th>\n",
              "      <td>1.000000</td>\n",
              "      <td>1.0</td>\n",
              "      <td>1.000000</td>\n",
              "      <td>1.00</td>\n",
              "      <td>1.000000</td>\n",
              "      <td>1.000000</td>\n",
              "      <td>1.000000</td>\n",
              "      <td>1.000000</td>\n",
              "      <td>1.000000</td>\n",
              "    </tr>\n",
              "    <tr>\n",
              "      <th>7</th>\n",
              "      <td>1.000000</td>\n",
              "      <td>1.0</td>\n",
              "      <td>1.000000</td>\n",
              "      <td>1.00</td>\n",
              "      <td>1.000000</td>\n",
              "      <td>1.000000</td>\n",
              "      <td>1.000000</td>\n",
              "      <td>1.000000</td>\n",
              "      <td>1.000000</td>\n",
              "    </tr>\n",
              "    <tr>\n",
              "      <th>8</th>\n",
              "      <td>1.000000</td>\n",
              "      <td>1.0</td>\n",
              "      <td>1.000000</td>\n",
              "      <td>1.00</td>\n",
              "      <td>1.000000</td>\n",
              "      <td>1.000000</td>\n",
              "      <td>1.000000</td>\n",
              "      <td>1.000000</td>\n",
              "      <td>1.000000</td>\n",
              "    </tr>\n",
              "    <tr>\n",
              "      <th>9</th>\n",
              "      <td>1.000000</td>\n",
              "      <td>1.0</td>\n",
              "      <td>1.000000</td>\n",
              "      <td>1.00</td>\n",
              "      <td>1.000000</td>\n",
              "      <td>1.000000</td>\n",
              "      <td>1.000000</td>\n",
              "      <td>1.000000</td>\n",
              "      <td>1.000000</td>\n",
              "    </tr>\n",
              "  </tbody>\n",
              "</table>\n",
              "</div>"
            ],
            "text/plain": [
              "          0    1         2     3  ...         5         6         7         8\n",
              "0  0.786667  1.0  0.978947  0.96  ...  0.960784  0.978261  0.960784  0.960784\n",
              "1  0.946667  1.0  1.000000  1.00  ...  0.975000  1.000000  1.000000  0.987342\n",
              "2  0.960000  1.0  1.000000  1.00  ...  1.000000  1.000000  1.000000  1.000000\n",
              "3  0.973333  1.0  1.000000  1.00  ...  1.000000  0.990476  0.974359  0.987013\n",
              "4  0.986667  1.0  1.000000  1.00  ...  1.000000  1.000000  1.000000  1.000000\n",
              "5  0.973333  1.0  1.000000  1.00  ...  1.000000  1.000000  1.000000  1.000000\n",
              "6  1.000000  1.0  1.000000  1.00  ...  1.000000  1.000000  1.000000  1.000000\n",
              "7  1.000000  1.0  1.000000  1.00  ...  1.000000  1.000000  1.000000  1.000000\n",
              "8  1.000000  1.0  1.000000  1.00  ...  1.000000  1.000000  1.000000  1.000000\n",
              "9  1.000000  1.0  1.000000  1.00  ...  1.000000  1.000000  1.000000  1.000000\n",
              "\n",
              "[10 rows x 9 columns]"
            ]
          },
          "metadata": {
            "tags": []
          },
          "execution_count": 107
        }
      ]
    },
    {
      "cell_type": "code",
      "metadata": {
        "id": "Ra9GJZ7foPkb",
        "colab_type": "code",
        "colab": {}
      },
      "source": [
        "df2.to_csv('/content/drive/My Drive/covid-19/Results/Metrics_Experimen 2-4.csv')"
      ],
      "execution_count": null,
      "outputs": []
    },
    {
      "cell_type": "code",
      "metadata": {
        "id": "iG_zVHUd-aZb",
        "colab_type": "code",
        "colab": {}
      },
      "source": [
        "cm=np.array(EX['1'])"
      ],
      "execution_count": null,
      "outputs": []
    },
    {
      "cell_type": "code",
      "metadata": {
        "id": "Bh4k2EU0COdH",
        "colab_type": "code",
        "colab": {}
      },
      "source": [
        "def converter(instr):\n",
        "    return np.fromstring(instr[1:-1],sep=' ')\n",
        "df1=pd.read_csv('/content/drive/My Drive/covid-19/Results/Experimen2_Balanced_Augmented.csv',converters={'Vec':converter})"
      ],
      "execution_count": null,
      "outputs": []
    }
  ]
}